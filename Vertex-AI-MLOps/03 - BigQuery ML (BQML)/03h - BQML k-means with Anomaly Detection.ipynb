{
 "cells": [
  {
   "cell_type": "markdown",
   "id": "556e80c5-acdd-4834-a3ec-b8dbf79bd6ef",
   "metadata": {},
   "source": [
    "# 03g - BigQuery ML (BQML) - k-means with Anomaly Detection\n",
    "\n",
    "In this notebook, BigQuery ML (BQML) is used to do K-means clustering while using hyperparameter tuning to find an optimal value for the number of clusters.\n",
    "\n",
    "**K-Means Clustering**\n",
    "\n",
    "K-means clustering is a statistical technique to partition `n` observations into `k` clusters.  Each obsevation will belong, be assigned, to a cluster that has the nearest mean.\n",
    "\n",
    "Reference:\n",
    "- [k-means clustering](https://en.wikipedia.org/wiki/K-means_clustering)\n",
    "- [Unsupervised Learning](https://en.wikipedia.org/wiki/Unsupervised_learning)\n",
    "\n",
    "**BigQuery ML (BQML)**\n",
    "\n",
    "BigQuery has a number of machine learning algorithms callable directly from SQL.  This gives the convenience of using the common language of `SQL` with statments like `CREATE MODEL …`.  The library of available models is constantly growing and covers supervised, unsupervised, and time series methods as well as functions for evaluation - even anomaly detection from results, explainability and hyperparameter tuning.  A great starting point for seeing the scope of available methods is the [user journey for models](https://cloud.google.com/bigquery-ml/docs/reference/standard-sql/bigqueryml-syntax-e2e-journey).\n",
    "\n",
    "**Hyperparameter Tuning**\n",
    "\n",
    "When training a machine learning model it is helpful to find the optimal values for hyperparameters, parameters set before training begins.  These are not learned parameters like the coefficents of a model.  Rather than manually iterating these parameters we want to sequently test and focus in on optimal values.  The focusing part of the iterations is done in BQML by utilizing the [Vertex AI Vizier](https://cloud.google.com/vertex-ai/docs/vizier/overview) service by default.\n",
    "\n",
    "Each `MODEL_TYPE` in BQML has parameters than can be tuned as [listed here](https://cloud.google.com/bigquery-ml/docs/reference/standard-sql/bigqueryml-hyperparameter-tuning#hyperparameters_and_objectives). \n",
    "\n",
    "**Prerequisites:**\n",
    "- [01 - BigQuery - Table Data Source](../01%20-%20Data%20Sources/01%20-%20BigQuery%20-%20Table%20Data%20Source.ipynb)\n",
    "\n",
    "**Resources:**\n",
    "-  [BigQuery ML (BQML) Overview](https://cloud.google.com/bigquery-ml/docs/introduction)\n",
    "-  [Overview of BQML methods and workflows](https://cloud.google.com/bigquery-ml/docs/reference/standard-sql/bigqueryml-syntax-e2e-journey)\n",
    "- [BigQuery](https://cloud.google.com/bigquery)\n",
    "    - [Documentation:](https://cloud.google.com/bigquery/docs/query-overview)\n",
    "    - [API:](https://cloud.google.com/bigquery/docs/reference/libraries-overview)\n",
    "        - [Clients](https://cloud.google.com/bigquery/docs/reference/libraries)\n",
    "            - [Python SDK:](https://github.com/googleapis/python-bigquery)\n",
    "            - [Python Library Reference:](https://cloud.google.com/python/docs/reference/bigquery/latest)\n",
    "- [Vertex AI](https://cloud.google.com/vertex-ai)\n",
    "    - [Documentation:](https://cloud.google.com/vertex-ai/docs/start/introduction-unified-platform)\n",
    "    - [API:](https://cloud.google.com/vertex-ai/docs/reference)\n",
    "        - [Clients:](https://cloud.google.com/vertex-ai/docs/start/client-libraries)\n",
    "            - [Python SDK:](https://github.com/googleapis/python-aiplatform)\n",
    "            - [Python Library Reference:](https://cloud.google.com/python/docs/reference/aiplatform/latest)\n",
    "\n",
    "**Conceptual Flow & Workflow**\n"
   ]
  },
  {
   "cell_type": "markdown",
   "id": "c13767f2-ed00-48e7-9d92-0f7fe0ad7bde",
   "metadata": {},
   "source": [
    "---\n",
    "## Setup"
   ]
  },
  {
   "cell_type": "markdown",
   "id": "a7c3fc4b-40be-4430-97da-119f948d6a16",
   "metadata": {},
   "source": [
    "inputs:"
   ]
  },
  {
   "cell_type": "code",
   "execution_count": 68,
   "id": "80d62176-d739-4750-8581-2f5dfdb8ee66",
   "metadata": {},
   "outputs": [
    {
     "data": {
      "text/plain": [
       "'statmike-mlops-349915'"
      ]
     },
     "execution_count": 68,
     "metadata": {},
     "output_type": "execute_result"
    }
   ],
   "source": [
    "project = !gcloud config get-value project\n",
    "PROJECT_ID = project[0]\n",
    "PROJECT_ID"
   ]
  },
  {
   "cell_type": "code",
   "execution_count": 69,
   "id": "29698a53-91b3-4ab6-8123-69191c7f9a13",
   "metadata": {},
   "outputs": [],
   "source": [
    "REGION = 'us-central1'\n",
    "EXPERIMENT = 'kmeans'\n",
    "SERIES = '03'\n",
    "\n",
    "# source data\n",
    "BQ_PROJECT = PROJECT_ID\n",
    "BQ_DATASET = 'fraud'\n",
    "BQ_TABLE = 'fraud_prepped'\n",
    "\n",
    "# Resources for serving BigQuery Model Exports\n",
    "TF_DEPLOY_IMAGE = 'us-docker.pkg.dev/vertex-ai/prediction/tf2-cpu.2-3:latest'\n",
    "XGB_DEPLOY_IMAGE = 'us-docker.pkg.dev/vertex-ai/prediction/xgboost-cpu.0-82:latest'\n",
    "\n",
    "# Resources for serving BigQuery Model Exports\n",
    "DEPLOY_COMPUTE = 'n1-standard-4'\n",
    "\n",
    "# Model Training\n",
    "VAR_TARGET = 'Class'\n",
    "VAR_OMIT = 'transaction_id' # add more variables to the string with space delimiters"
   ]
  },
  {
   "cell_type": "markdown",
   "id": "b11470a1-9e71-4f93-affd-e253ec453d48",
   "metadata": {},
   "source": [
    "packages:"
   ]
  },
  {
   "cell_type": "code",
   "execution_count": 70,
   "id": "32ae4cdc-8100-4242-9adc-89c0649f5f47",
   "metadata": {},
   "outputs": [],
   "source": [
    "from google.cloud import bigquery\n",
    "from google.cloud import aiplatform\n",
    "from datetime import datetime\n",
    "import matplotlib.pyplot as plt\n",
    "from sklearn import metrics\n",
    "\n",
    "from google.api import httpbody_pb2\n",
    "import json"
   ]
  },
  {
   "cell_type": "markdown",
   "id": "aa23d36b-0abb-4864-835e-cbe8f099ef12",
   "metadata": {},
   "source": [
    "clients:"
   ]
  },
  {
   "cell_type": "code",
   "execution_count": 71,
   "id": "cc94b10c-a433-43c5-ba7d-0750f05d2239",
   "metadata": {},
   "outputs": [],
   "source": [
    "bq = bigquery.Client()\n",
    "aiplatform.init(project=PROJECT_ID, location=REGION)"
   ]
  },
  {
   "cell_type": "markdown",
   "id": "8047ffcb-f335-4613-8627-ff3ff06b5cc5",
   "metadata": {},
   "source": [
    "parameters:"
   ]
  },
  {
   "cell_type": "code",
   "execution_count": 5,
   "id": "2a9d5c98-9254-458b-80c5-f53e58c54ab4",
   "metadata": {},
   "outputs": [],
   "source": [
    "TIMESTAMP = datetime.now().strftime(\"%Y%m%d%H%M%S\")\n",
    "BUCKET = PROJECT_ID\n",
    "URI = f\"gs://{BUCKET}/{SERIES}/{EXPERIMENT}\"\n",
    "RUN_NAME = f'run-{TIMESTAMP}'\n",
    "\n",
    "BQ_MODEL = f'{SERIES}_{EXPERIMENT}_{TIMESTAMP}'"
   ]
  },
  {
   "cell_type": "markdown",
   "id": "4dd712cf-0dc1-4d3c-adb9-75c0571a1178",
   "metadata": {},
   "source": [
    "environment:"
   ]
  },
  {
   "cell_type": "code",
   "execution_count": 72,
   "id": "e64896ac-b1fd-4f03-bc7f-2825f309e512",
   "metadata": {},
   "outputs": [],
   "source": [
    "DIR = f\"temp/{EXPERIMENT}\"\n",
    "\n",
    "!rm -rf {DIR}\n",
    "!mkdir -p {DIR}"
   ]
  },
  {
   "cell_type": "markdown",
   "id": "d84d58e6-ffc1-4f1e-a8c7-3e43f7c5e7b6",
   "metadata": {},
   "source": [
    "---\n",
    "## Review Data\n",
    "\n",
    "The data source here was prepared in [01 - BigQuery - Table Data Source](../01%20-%20Data%20Sources/01%20-%20BigQuery%20-%20Table%20Data%20Source.ipynb).  In this notebook we will use prepared BigQuery table to build a model with BigQuery ML (BQML).\n",
    "\n",
    "This is a table of 284,807 credit card transactions classified as fradulant or normal in the column `Class`.  In order protect confidentiality, the original features have been transformed using [principle component analysis (PCA)](https://en.wikipedia.org/wiki/Principal_component_analysis) into 28 features named `V1, V2, ... V28` (float).  Two descriptive features are provided without transformation by PCA:\n",
    "- `Time` (integer) is the seconds elapsed between the transaction and the earliest transaction in the table\n",
    "- `Amount` (float) is the value of the transaction\n",
    "\n",
    "The data preparation included added splits for machine learning with a column named `splits` with 80% for training (`TRAIN`), 10% for validation (`VALIDATE`) and 10% for testing (`TEST`).  Additionally, a unique identifier was added to each transaction, `transaction_id`.  "
   ]
  },
  {
   "cell_type": "markdown",
   "id": "04db367a-b901-4539-8ef3-e4b0de5e0c4f",
   "metadata": {},
   "source": [
    "Review the number of records for each level of Class (VAR_TARGET) for each of the data splits:"
   ]
  },
  {
   "cell_type": "code",
   "execution_count": 31,
   "id": "c4725d9d-b287-4fa2-a4e5-e71bdd80ada6",
   "metadata": {},
   "outputs": [
    {
     "data": {
      "text/html": [
       "<div>\n",
       "<style scoped>\n",
       "    .dataframe tbody tr th:only-of-type {\n",
       "        vertical-align: middle;\n",
       "    }\n",
       "\n",
       "    .dataframe tbody tr th {\n",
       "        vertical-align: top;\n",
       "    }\n",
       "\n",
       "    .dataframe thead th {\n",
       "        text-align: right;\n",
       "    }\n",
       "</style>\n",
       "<table border=\"1\" class=\"dataframe\">\n",
       "  <thead>\n",
       "    <tr style=\"text-align: right;\">\n",
       "      <th></th>\n",
       "      <th>splits</th>\n",
       "      <th>Class</th>\n",
       "      <th>n</th>\n",
       "    </tr>\n",
       "  </thead>\n",
       "  <tbody>\n",
       "    <tr>\n",
       "      <th>0</th>\n",
       "      <td>TEST</td>\n",
       "      <td>0</td>\n",
       "      <td>28455</td>\n",
       "    </tr>\n",
       "    <tr>\n",
       "      <th>1</th>\n",
       "      <td>TEST</td>\n",
       "      <td>1</td>\n",
       "      <td>47</td>\n",
       "    </tr>\n",
       "    <tr>\n",
       "      <th>2</th>\n",
       "      <td>TRAIN</td>\n",
       "      <td>0</td>\n",
       "      <td>227664</td>\n",
       "    </tr>\n",
       "    <tr>\n",
       "      <th>3</th>\n",
       "      <td>TRAIN</td>\n",
       "      <td>1</td>\n",
       "      <td>397</td>\n",
       "    </tr>\n",
       "    <tr>\n",
       "      <th>4</th>\n",
       "      <td>VALIDATE</td>\n",
       "      <td>0</td>\n",
       "      <td>28196</td>\n",
       "    </tr>\n",
       "    <tr>\n",
       "      <th>5</th>\n",
       "      <td>VALIDATE</td>\n",
       "      <td>1</td>\n",
       "      <td>48</td>\n",
       "    </tr>\n",
       "  </tbody>\n",
       "</table>\n",
       "</div>"
      ],
      "text/plain": [
       "     splits  Class       n\n",
       "0      TEST      0   28455\n",
       "1      TEST      1      47\n",
       "2     TRAIN      0  227664\n",
       "3     TRAIN      1     397\n",
       "4  VALIDATE      0   28196\n",
       "5  VALIDATE      1      48"
      ]
     },
     "execution_count": 31,
     "metadata": {},
     "output_type": "execute_result"
    }
   ],
   "source": [
    "query = f\"\"\"\n",
    "SELECT splits, {VAR_TARGET}, count(*) as n\n",
    "FROM `{BQ_PROJECT}.{BQ_DATASET}.{BQ_TABLE}`\n",
    "GROUP BY splits, {VAR_TARGET}\n",
    "\"\"\"\n",
    "bq.query(query = query).to_dataframe()"
   ]
  },
  {
   "cell_type": "markdown",
   "id": "8d5bcea2-eb5b-4533-924c-064ae6110b85",
   "metadata": {},
   "source": [
    "Further review the balance of the target variable (VAR_TARGET) for each split as a percentage of the split:"
   ]
  },
  {
   "cell_type": "code",
   "execution_count": 32,
   "id": "a991b197-1c67-459c-a8e1-dc094d00565c",
   "metadata": {},
   "outputs": [
    {
     "data": {
      "text/html": [
       "<div>\n",
       "<style scoped>\n",
       "    .dataframe tbody tr th:only-of-type {\n",
       "        vertical-align: middle;\n",
       "    }\n",
       "\n",
       "    .dataframe tbody tr th {\n",
       "        vertical-align: top;\n",
       "    }\n",
       "\n",
       "    .dataframe thead th {\n",
       "        text-align: right;\n",
       "    }\n",
       "</style>\n",
       "<table border=\"1\" class=\"dataframe\">\n",
       "  <thead>\n",
       "    <tr style=\"text-align: right;\">\n",
       "      <th></th>\n",
       "      <th>splits</th>\n",
       "      <th>Class</th>\n",
       "      <th>n</th>\n",
       "      <th>total</th>\n",
       "      <th>n_pct_class</th>\n",
       "      <th>n_pct_split</th>\n",
       "      <th>class_pct_total</th>\n",
       "    </tr>\n",
       "  </thead>\n",
       "  <tbody>\n",
       "    <tr>\n",
       "      <th>0</th>\n",
       "      <td>TRAIN</td>\n",
       "      <td>0</td>\n",
       "      <td>227664</td>\n",
       "      <td>284807</td>\n",
       "      <td>0.800746</td>\n",
       "      <td>0.998259</td>\n",
       "      <td>0.998273</td>\n",
       "    </tr>\n",
       "    <tr>\n",
       "      <th>1</th>\n",
       "      <td>TRAIN</td>\n",
       "      <td>1</td>\n",
       "      <td>397</td>\n",
       "      <td>284807</td>\n",
       "      <td>0.806911</td>\n",
       "      <td>0.001741</td>\n",
       "      <td>0.001727</td>\n",
       "    </tr>\n",
       "    <tr>\n",
       "      <th>2</th>\n",
       "      <td>TEST</td>\n",
       "      <td>0</td>\n",
       "      <td>28455</td>\n",
       "      <td>284807</td>\n",
       "      <td>0.100083</td>\n",
       "      <td>0.998351</td>\n",
       "      <td>0.998273</td>\n",
       "    </tr>\n",
       "    <tr>\n",
       "      <th>3</th>\n",
       "      <td>TEST</td>\n",
       "      <td>1</td>\n",
       "      <td>47</td>\n",
       "      <td>284807</td>\n",
       "      <td>0.095528</td>\n",
       "      <td>0.001649</td>\n",
       "      <td>0.001727</td>\n",
       "    </tr>\n",
       "    <tr>\n",
       "      <th>4</th>\n",
       "      <td>VALIDATE</td>\n",
       "      <td>0</td>\n",
       "      <td>28196</td>\n",
       "      <td>284807</td>\n",
       "      <td>0.099172</td>\n",
       "      <td>0.998301</td>\n",
       "      <td>0.998273</td>\n",
       "    </tr>\n",
       "    <tr>\n",
       "      <th>5</th>\n",
       "      <td>VALIDATE</td>\n",
       "      <td>1</td>\n",
       "      <td>48</td>\n",
       "      <td>284807</td>\n",
       "      <td>0.097561</td>\n",
       "      <td>0.001699</td>\n",
       "      <td>0.001727</td>\n",
       "    </tr>\n",
       "  </tbody>\n",
       "</table>\n",
       "</div>"
      ],
      "text/plain": [
       "     splits  Class       n   total  n_pct_class  n_pct_split  class_pct_total\n",
       "0     TRAIN      0  227664  284807     0.800746     0.998259         0.998273\n",
       "1     TRAIN      1     397  284807     0.806911     0.001741         0.001727\n",
       "2      TEST      0   28455  284807     0.100083     0.998351         0.998273\n",
       "3      TEST      1      47  284807     0.095528     0.001649         0.001727\n",
       "4  VALIDATE      0   28196  284807     0.099172     0.998301         0.998273\n",
       "5  VALIDATE      1      48  284807     0.097561     0.001699         0.001727"
      ]
     },
     "execution_count": 32,
     "metadata": {},
     "output_type": "execute_result"
    }
   ],
   "source": [
    "query = f\"\"\"\n",
    "WITH\n",
    "    COUNTS as (SELECT splits, {VAR_TARGET}, count(*) as n FROM `{BQ_PROJECT}.{BQ_DATASET}.{BQ_TABLE}` GROUP BY splits, {VAR_TARGET})\n",
    "    \n",
    "SELECT *,\n",
    "    SUM(n) OVER() as total,\n",
    "    SAFE_DIVIDE(n, SUM(n) OVER(PARTITION BY {VAR_TARGET})) as n_pct_class,\n",
    "    SAFE_DIVIDE(n, SUM(n) OVER(PARTITION BY splits)) as n_pct_split,\n",
    "    SAFE_DIVIDE(SUM(n) OVER(PARTITION BY {VAR_TARGET}), SUM(n) OVER()) as class_pct_total\n",
    "FROM COUNTS\n",
    "\"\"\"\n",
    "review = bq.query(query = query).to_dataframe()\n",
    "review"
   ]
  },
  {
   "cell_type": "markdown",
   "id": "3a4be107-afac-4e38-859a-025f3298a0f6",
   "metadata": {},
   "source": [
    "Retrive the rate of fraud, `Class = 1`, for the training data split.  This will be used later as the expected contamination rate for the records in the test split when doing anomaly detection."
   ]
  },
  {
   "cell_type": "code",
   "execution_count": 33,
   "id": "576e1728-23e7-48ca-982c-8c40a43652cc",
   "metadata": {},
   "outputs": [
    {
     "data": {
      "text/plain": [
       "0.0017407623399002899"
      ]
     },
     "execution_count": 33,
     "metadata": {},
     "output_type": "execute_result"
    }
   ],
   "source": [
    "TRAIN_FRAUD_PCT = review.loc[(review[f'{VAR_TARGET}'] == 1) & (review['splits'] == 'TRAIN'), 'n_pct_split'].values[0]\n",
    "TRAIN_FRAUD_PCT"
   ]
  },
  {
   "cell_type": "markdown",
   "id": "565c54bd-dfb3-40f7-ac64-22b252c098a4",
   "metadata": {},
   "source": [
    "---\n",
    "## This Run"
   ]
  },
  {
   "cell_type": "code",
   "execution_count": 6,
   "id": "6258d0fd-c65b-4b59-a63d-77d3c92da907",
   "metadata": {},
   "outputs": [
    {
     "name": "stdout",
     "output_type": "stream",
     "text": [
      "This run with create BQML model: statmike-mlops-349915.fraud.03_kmeans_20221005000845\n",
      "The Timestamp Is: 20221005000845\n"
     ]
    }
   ],
   "source": [
    "print(f'This run with create BQML model: {BQ_PROJECT}.{BQ_DATASET}.{BQ_MODEL}')\n",
    "print(f'The Timestamp Is: {TIMESTAMP}')"
   ]
  },
  {
   "cell_type": "markdown",
   "id": "674fe9f0-dbba-4878-b87c-1b9eff6e5544",
   "metadata": {},
   "source": [
    "---\n",
    "## Train Model\n",
    "\n",
    "Use BigQuery ML to train multiclass logistic regression model:\n",
    "- [K-Means](https://cloud.google.com/bigquery-ml/docs/reference/standard-sql/bigqueryml-syntax-create-kmeans) with BigQuery ML (BQML)\n",
    "- This uses the `splits` column that notebook `01` created\n",
    "- `data_split_method = CUSTOM` uses the column in `data_split_col` to assign `TRAIN`, `EVAL`, and `TEST` data splits.\n",
    "    - the `CASE` statement maps the validation data to `EVAL` as expected by hyperparameter tuning (rather than `VALIDATE`)\n",
    "    - note that this is different behavior for `data_split_col` with hyperparameter tuning than without hyperparameter tuning\n",
    "    - hyperparameter suggestions are based on the metric calculated with the evaluation data at each intermediate step"
   ]
  },
  {
   "cell_type": "code",
   "execution_count": 19,
   "id": "5d964acc-457e-42c4-97fb-f6f166ba3628",
   "metadata": {},
   "outputs": [
    {
     "data": {
      "text/plain": [
       "<google.cloud.bigquery.table._EmptyRowIterator at 0x7f2427583d50>"
      ]
     },
     "execution_count": 19,
     "metadata": {},
     "output_type": "execute_result"
    }
   ],
   "source": [
    "query = f\"\"\"\n",
    "CREATE OR REPLACE MODEL `{BQ_PROJECT}.{BQ_DATASET}.{BQ_MODEL}`\n",
    "OPTIONS (\n",
    "        model_type = 'KMEANS',\n",
    "        num_clusters = HPARAM_RANGE(2, 100),\n",
    "        kmeans_init_method = 'KMEANS++',\n",
    "        distance_type = 'EUCLIDEAN', \n",
    "        standardize_features = TRUE,\n",
    "        early_stop = FALSE,\n",
    "        hparam_tuning_algorithm = 'VIZIER_DEFAULT',\n",
    "        hparam_tuning_objectives = ['davies_bouldin_index'],\n",
    "        num_trials = 20,\n",
    "        max_parallel_trials = 2\n",
    "    ) AS\n",
    "SELECT * EXCEPT({','.join(VAR_OMIT.split())}, splits, {VAR_TARGET})\n",
    "FROM `{BQ_PROJECT}.{BQ_DATASET}.{BQ_TABLE}`\n",
    "WHERE splits = 'TRAIN'\n",
    "\"\"\"\n",
    "job = bq.query(query = query)\n",
    "job.result()"
   ]
  },
  {
   "cell_type": "code",
   "execution_count": 64,
   "id": "fae3357d-0002-440f-97be-8a8ef1be48e2",
   "metadata": {},
   "outputs": [
    {
     "data": {
      "text/plain": [
       "3725.359"
      ]
     },
     "execution_count": 64,
     "metadata": {},
     "output_type": "execute_result"
    }
   ],
   "source": [
    "(job.ended-job.started).total_seconds()"
   ]
  },
  {
   "cell_type": "markdown",
   "id": "f93f523b-aa28-4618-af32-ae37987a428d",
   "metadata": {},
   "source": [
    "Add labels to the model in BigQuery:"
   ]
  },
  {
   "cell_type": "code",
   "execution_count": 65,
   "id": "46aac3cf-c40a-4f95-ae39-fc96452694e1",
   "metadata": {},
   "outputs": [],
   "source": [
    "model = bq.get_model(f'{BQ_PROJECT}.{BQ_DATASET}.{BQ_MODEL}')\n",
    "model.labels = {'series' : f'{SERIES}', 'experiment' : f'{EXPERIMENT}'}\n",
    "model = bq.update_model(model, ['labels'])"
   ]
  },
  {
   "cell_type": "markdown",
   "id": "c12fd5ec-8f1b-4bcc-9052-26cf48e165b6",
   "metadata": {},
   "source": [
    "Review the Model Inputs, the feature information, with [ML.FEATURE_INFO](https://cloud.google.com/bigquery-ml/docs/reference/standard-sql/bigqueryml-syntax-feature):"
   ]
  },
  {
   "cell_type": "code",
   "execution_count": 21,
   "id": "f0b30354-bab8-47d2-8648-158e3621cccc",
   "metadata": {},
   "outputs": [
    {
     "data": {
      "text/html": [
       "<div>\n",
       "<style scoped>\n",
       "    .dataframe tbody tr th:only-of-type {\n",
       "        vertical-align: middle;\n",
       "    }\n",
       "\n",
       "    .dataframe tbody tr th {\n",
       "        vertical-align: top;\n",
       "    }\n",
       "\n",
       "    .dataframe thead th {\n",
       "        text-align: right;\n",
       "    }\n",
       "</style>\n",
       "<table border=\"1\" class=\"dataframe\">\n",
       "  <thead>\n",
       "    <tr style=\"text-align: right;\">\n",
       "      <th></th>\n",
       "      <th>input</th>\n",
       "      <th>min</th>\n",
       "      <th>max</th>\n",
       "      <th>mean</th>\n",
       "      <th>median</th>\n",
       "      <th>stddev</th>\n",
       "      <th>category_count</th>\n",
       "      <th>null_count</th>\n",
       "      <th>dimension</th>\n",
       "    </tr>\n",
       "  </thead>\n",
       "  <tbody>\n",
       "    <tr>\n",
       "      <th>0</th>\n",
       "      <td>Time</td>\n",
       "      <td>0.000000</td>\n",
       "      <td>172792.000000</td>\n",
       "      <td>9.481386e+04</td>\n",
       "      <td>85945.000000</td>\n",
       "      <td>47488.145955</td>\n",
       "      <td>NaN</td>\n",
       "      <td>0</td>\n",
       "      <td>NaN</td>\n",
       "    </tr>\n",
       "    <tr>\n",
       "      <th>1</th>\n",
       "      <td>V1</td>\n",
       "      <td>-56.407510</td>\n",
       "      <td>2.454930</td>\n",
       "      <td>1.265369e-15</td>\n",
       "      <td>-0.036327</td>\n",
       "      <td>1.958696</td>\n",
       "      <td>NaN</td>\n",
       "      <td>0</td>\n",
       "      <td>NaN</td>\n",
       "    </tr>\n",
       "    <tr>\n",
       "      <th>2</th>\n",
       "      <td>V2</td>\n",
       "      <td>-72.715728</td>\n",
       "      <td>22.057729</td>\n",
       "      <td>1.953067e-15</td>\n",
       "      <td>0.052912</td>\n",
       "      <td>1.651309</td>\n",
       "      <td>NaN</td>\n",
       "      <td>0</td>\n",
       "      <td>NaN</td>\n",
       "    </tr>\n",
       "    <tr>\n",
       "      <th>3</th>\n",
       "      <td>V3</td>\n",
       "      <td>-48.325589</td>\n",
       "      <td>9.382558</td>\n",
       "      <td>-1.608274e-15</td>\n",
       "      <td>0.204649</td>\n",
       "      <td>1.516255</td>\n",
       "      <td>NaN</td>\n",
       "      <td>0</td>\n",
       "      <td>NaN</td>\n",
       "    </tr>\n",
       "    <tr>\n",
       "      <th>4</th>\n",
       "      <td>V4</td>\n",
       "      <td>-5.683171</td>\n",
       "      <td>16.875344</td>\n",
       "      <td>1.511935e-15</td>\n",
       "      <td>-0.004035</td>\n",
       "      <td>1.415869</td>\n",
       "      <td>NaN</td>\n",
       "      <td>0</td>\n",
       "      <td>NaN</td>\n",
       "    </tr>\n",
       "    <tr>\n",
       "      <th>5</th>\n",
       "      <td>V5</td>\n",
       "      <td>-113.743307</td>\n",
       "      <td>34.801666</td>\n",
       "      <td>3.191722e-16</td>\n",
       "      <td>-0.056772</td>\n",
       "      <td>1.380247</td>\n",
       "      <td>NaN</td>\n",
       "      <td>0</td>\n",
       "      <td>NaN</td>\n",
       "    </tr>\n",
       "    <tr>\n",
       "      <th>6</th>\n",
       "      <td>V6</td>\n",
       "      <td>-26.160506</td>\n",
       "      <td>73.301626</td>\n",
       "      <td>1.478562e-15</td>\n",
       "      <td>-0.272171</td>\n",
       "      <td>1.332271</td>\n",
       "      <td>NaN</td>\n",
       "      <td>0</td>\n",
       "      <td>NaN</td>\n",
       "    </tr>\n",
       "    <tr>\n",
       "      <th>7</th>\n",
       "      <td>V7</td>\n",
       "      <td>-43.557242</td>\n",
       "      <td>120.589494</td>\n",
       "      <td>-2.495469e-16</td>\n",
       "      <td>0.032110</td>\n",
       "      <td>1.237094</td>\n",
       "      <td>NaN</td>\n",
       "      <td>0</td>\n",
       "      <td>NaN</td>\n",
       "    </tr>\n",
       "    <tr>\n",
       "      <th>8</th>\n",
       "      <td>V8</td>\n",
       "      <td>-73.216718</td>\n",
       "      <td>20.007208</td>\n",
       "      <td>1.789982e-17</td>\n",
       "      <td>0.025596</td>\n",
       "      <td>1.194353</td>\n",
       "      <td>NaN</td>\n",
       "      <td>0</td>\n",
       "      <td>NaN</td>\n",
       "    </tr>\n",
       "    <tr>\n",
       "      <th>9</th>\n",
       "      <td>V9</td>\n",
       "      <td>-13.434066</td>\n",
       "      <td>15.594995</td>\n",
       "      <td>-1.991638e-15</td>\n",
       "      <td>-0.036182</td>\n",
       "      <td>1.098632</td>\n",
       "      <td>NaN</td>\n",
       "      <td>0</td>\n",
       "      <td>NaN</td>\n",
       "    </tr>\n",
       "    <tr>\n",
       "      <th>10</th>\n",
       "      <td>V10</td>\n",
       "      <td>-24.588262</td>\n",
       "      <td>23.745136</td>\n",
       "      <td>2.018339e-15</td>\n",
       "      <td>-0.103059</td>\n",
       "      <td>1.088850</td>\n",
       "      <td>NaN</td>\n",
       "      <td>0</td>\n",
       "      <td>NaN</td>\n",
       "    </tr>\n",
       "    <tr>\n",
       "      <th>11</th>\n",
       "      <td>V11</td>\n",
       "      <td>-4.797473</td>\n",
       "      <td>12.018913</td>\n",
       "      <td>1.802113e-15</td>\n",
       "      <td>-0.041098</td>\n",
       "      <td>1.020713</td>\n",
       "      <td>NaN</td>\n",
       "      <td>0</td>\n",
       "      <td>NaN</td>\n",
       "    </tr>\n",
       "    <tr>\n",
       "      <th>12</th>\n",
       "      <td>V12</td>\n",
       "      <td>-18.683715</td>\n",
       "      <td>7.848392</td>\n",
       "      <td>-5.593265e-16</td>\n",
       "      <td>0.143043</td>\n",
       "      <td>0.999201</td>\n",
       "      <td>NaN</td>\n",
       "      <td>0</td>\n",
       "      <td>NaN</td>\n",
       "    </tr>\n",
       "    <tr>\n",
       "      <th>13</th>\n",
       "      <td>V13</td>\n",
       "      <td>-5.791881</td>\n",
       "      <td>7.126883</td>\n",
       "      <td>1.150343e-15</td>\n",
       "      <td>-0.008166</td>\n",
       "      <td>0.995274</td>\n",
       "      <td>NaN</td>\n",
       "      <td>0</td>\n",
       "      <td>NaN</td>\n",
       "    </tr>\n",
       "    <tr>\n",
       "      <th>14</th>\n",
       "      <td>V14</td>\n",
       "      <td>-19.214325</td>\n",
       "      <td>10.526766</td>\n",
       "      <td>1.033423e-15</td>\n",
       "      <td>0.049516</td>\n",
       "      <td>0.958596</td>\n",
       "      <td>NaN</td>\n",
       "      <td>0</td>\n",
       "      <td>NaN</td>\n",
       "    </tr>\n",
       "    <tr>\n",
       "      <th>15</th>\n",
       "      <td>V15</td>\n",
       "      <td>-4.498945</td>\n",
       "      <td>8.877742</td>\n",
       "      <td>4.814631e-15</td>\n",
       "      <td>0.031136</td>\n",
       "      <td>0.915316</td>\n",
       "      <td>NaN</td>\n",
       "      <td>0</td>\n",
       "      <td>NaN</td>\n",
       "    </tr>\n",
       "    <tr>\n",
       "      <th>16</th>\n",
       "      <td>V16</td>\n",
       "      <td>-14.129855</td>\n",
       "      <td>17.315112</td>\n",
       "      <td>1.651633e-15</td>\n",
       "      <td>0.067390</td>\n",
       "      <td>0.876253</td>\n",
       "      <td>NaN</td>\n",
       "      <td>0</td>\n",
       "      <td>NaN</td>\n",
       "    </tr>\n",
       "    <tr>\n",
       "      <th>17</th>\n",
       "      <td>V17</td>\n",
       "      <td>-25.162799</td>\n",
       "      <td>9.253526</td>\n",
       "      <td>-4.061133e-16</td>\n",
       "      <td>-0.081533</td>\n",
       "      <td>0.849337</td>\n",
       "      <td>NaN</td>\n",
       "      <td>0</td>\n",
       "      <td>NaN</td>\n",
       "    </tr>\n",
       "    <tr>\n",
       "      <th>18</th>\n",
       "      <td>V18</td>\n",
       "      <td>-9.498746</td>\n",
       "      <td>5.041069</td>\n",
       "      <td>5.819946e-16</td>\n",
       "      <td>-0.023404</td>\n",
       "      <td>0.838176</td>\n",
       "      <td>NaN</td>\n",
       "      <td>0</td>\n",
       "      <td>NaN</td>\n",
       "    </tr>\n",
       "    <tr>\n",
       "      <th>19</th>\n",
       "      <td>V19</td>\n",
       "      <td>-7.213527</td>\n",
       "      <td>5.591971</td>\n",
       "      <td>9.457724e-16</td>\n",
       "      <td>0.006474</td>\n",
       "      <td>0.814041</td>\n",
       "      <td>NaN</td>\n",
       "      <td>0</td>\n",
       "      <td>NaN</td>\n",
       "    </tr>\n",
       "    <tr>\n",
       "      <th>20</th>\n",
       "      <td>V20</td>\n",
       "      <td>-54.497720</td>\n",
       "      <td>39.420904</td>\n",
       "      <td>7.302178e-16</td>\n",
       "      <td>-0.062258</td>\n",
       "      <td>0.770925</td>\n",
       "      <td>NaN</td>\n",
       "      <td>0</td>\n",
       "      <td>NaN</td>\n",
       "    </tr>\n",
       "    <tr>\n",
       "      <th>21</th>\n",
       "      <td>V21</td>\n",
       "      <td>-34.830382</td>\n",
       "      <td>27.202839</td>\n",
       "      <td>2.537737e-16</td>\n",
       "      <td>-0.037382</td>\n",
       "      <td>0.734524</td>\n",
       "      <td>NaN</td>\n",
       "      <td>0</td>\n",
       "      <td>NaN</td>\n",
       "    </tr>\n",
       "    <tr>\n",
       "      <th>22</th>\n",
       "      <td>V22</td>\n",
       "      <td>-10.933144</td>\n",
       "      <td>10.503090</td>\n",
       "      <td>2.301516e-16</td>\n",
       "      <td>0.001360</td>\n",
       "      <td>0.725702</td>\n",
       "      <td>NaN</td>\n",
       "      <td>0</td>\n",
       "      <td>NaN</td>\n",
       "    </tr>\n",
       "    <tr>\n",
       "      <th>23</th>\n",
       "      <td>V23</td>\n",
       "      <td>-44.807735</td>\n",
       "      <td>22.528412</td>\n",
       "      <td>2.486245e-16</td>\n",
       "      <td>-0.011892</td>\n",
       "      <td>0.624460</td>\n",
       "      <td>NaN</td>\n",
       "      <td>0</td>\n",
       "      <td>NaN</td>\n",
       "    </tr>\n",
       "    <tr>\n",
       "      <th>24</th>\n",
       "      <td>V24</td>\n",
       "      <td>-2.836627</td>\n",
       "      <td>4.584549</td>\n",
       "      <td>4.449658e-15</td>\n",
       "      <td>0.042278</td>\n",
       "      <td>0.605647</td>\n",
       "      <td>NaN</td>\n",
       "      <td>0</td>\n",
       "      <td>NaN</td>\n",
       "    </tr>\n",
       "    <tr>\n",
       "      <th>25</th>\n",
       "      <td>V25</td>\n",
       "      <td>-10.295397</td>\n",
       "      <td>7.519589</td>\n",
       "      <td>7.295380e-16</td>\n",
       "      <td>0.015096</td>\n",
       "      <td>0.521278</td>\n",
       "      <td>NaN</td>\n",
       "      <td>0</td>\n",
       "      <td>NaN</td>\n",
       "    </tr>\n",
       "    <tr>\n",
       "      <th>26</th>\n",
       "      <td>V26</td>\n",
       "      <td>-2.604551</td>\n",
       "      <td>3.517346</td>\n",
       "      <td>1.695003e-15</td>\n",
       "      <td>-0.052820</td>\n",
       "      <td>0.482227</td>\n",
       "      <td>NaN</td>\n",
       "      <td>0</td>\n",
       "      <td>NaN</td>\n",
       "    </tr>\n",
       "    <tr>\n",
       "      <th>27</th>\n",
       "      <td>V27</td>\n",
       "      <td>-22.565679</td>\n",
       "      <td>31.612198</td>\n",
       "      <td>-3.813683e-16</td>\n",
       "      <td>0.002896</td>\n",
       "      <td>0.403632</td>\n",
       "      <td>NaN</td>\n",
       "      <td>0</td>\n",
       "      <td>NaN</td>\n",
       "    </tr>\n",
       "    <tr>\n",
       "      <th>28</th>\n",
       "      <td>V28</td>\n",
       "      <td>-15.430084</td>\n",
       "      <td>33.847808</td>\n",
       "      <td>-1.200468e-16</td>\n",
       "      <td>0.011836</td>\n",
       "      <td>0.330083</td>\n",
       "      <td>NaN</td>\n",
       "      <td>0</td>\n",
       "      <td>NaN</td>\n",
       "    </tr>\n",
       "    <tr>\n",
       "      <th>29</th>\n",
       "      <td>Amount</td>\n",
       "      <td>0.000000</td>\n",
       "      <td>25691.160000</td>\n",
       "      <td>8.834962e+01</td>\n",
       "      <td>20.970000</td>\n",
       "      <td>250.120109</td>\n",
       "      <td>NaN</td>\n",
       "      <td>0</td>\n",
       "      <td>NaN</td>\n",
       "    </tr>\n",
       "    <tr>\n",
       "      <th>30</th>\n",
       "      <td>custom_splits</td>\n",
       "      <td>NaN</td>\n",
       "      <td>NaN</td>\n",
       "      <td>NaN</td>\n",
       "      <td>NaN</td>\n",
       "      <td>NaN</td>\n",
       "      <td>3.0</td>\n",
       "      <td>0</td>\n",
       "      <td>NaN</td>\n",
       "    </tr>\n",
       "  </tbody>\n",
       "</table>\n",
       "</div>"
      ],
      "text/plain": [
       "            input         min            max          mean        median  \\\n",
       "0            Time    0.000000  172792.000000  9.481386e+04  85945.000000   \n",
       "1              V1  -56.407510       2.454930  1.265369e-15     -0.036327   \n",
       "2              V2  -72.715728      22.057729  1.953067e-15      0.052912   \n",
       "3              V3  -48.325589       9.382558 -1.608274e-15      0.204649   \n",
       "4              V4   -5.683171      16.875344  1.511935e-15     -0.004035   \n",
       "5              V5 -113.743307      34.801666  3.191722e-16     -0.056772   \n",
       "6              V6  -26.160506      73.301626  1.478562e-15     -0.272171   \n",
       "7              V7  -43.557242     120.589494 -2.495469e-16      0.032110   \n",
       "8              V8  -73.216718      20.007208  1.789982e-17      0.025596   \n",
       "9              V9  -13.434066      15.594995 -1.991638e-15     -0.036182   \n",
       "10            V10  -24.588262      23.745136  2.018339e-15     -0.103059   \n",
       "11            V11   -4.797473      12.018913  1.802113e-15     -0.041098   \n",
       "12            V12  -18.683715       7.848392 -5.593265e-16      0.143043   \n",
       "13            V13   -5.791881       7.126883  1.150343e-15     -0.008166   \n",
       "14            V14  -19.214325      10.526766  1.033423e-15      0.049516   \n",
       "15            V15   -4.498945       8.877742  4.814631e-15      0.031136   \n",
       "16            V16  -14.129855      17.315112  1.651633e-15      0.067390   \n",
       "17            V17  -25.162799       9.253526 -4.061133e-16     -0.081533   \n",
       "18            V18   -9.498746       5.041069  5.819946e-16     -0.023404   \n",
       "19            V19   -7.213527       5.591971  9.457724e-16      0.006474   \n",
       "20            V20  -54.497720      39.420904  7.302178e-16     -0.062258   \n",
       "21            V21  -34.830382      27.202839  2.537737e-16     -0.037382   \n",
       "22            V22  -10.933144      10.503090  2.301516e-16      0.001360   \n",
       "23            V23  -44.807735      22.528412  2.486245e-16     -0.011892   \n",
       "24            V24   -2.836627       4.584549  4.449658e-15      0.042278   \n",
       "25            V25  -10.295397       7.519589  7.295380e-16      0.015096   \n",
       "26            V26   -2.604551       3.517346  1.695003e-15     -0.052820   \n",
       "27            V27  -22.565679      31.612198 -3.813683e-16      0.002896   \n",
       "28            V28  -15.430084      33.847808 -1.200468e-16      0.011836   \n",
       "29         Amount    0.000000   25691.160000  8.834962e+01     20.970000   \n",
       "30  custom_splits         NaN            NaN           NaN           NaN   \n",
       "\n",
       "          stddev  category_count  null_count  dimension  \n",
       "0   47488.145955             NaN           0        NaN  \n",
       "1       1.958696             NaN           0        NaN  \n",
       "2       1.651309             NaN           0        NaN  \n",
       "3       1.516255             NaN           0        NaN  \n",
       "4       1.415869             NaN           0        NaN  \n",
       "5       1.380247             NaN           0        NaN  \n",
       "6       1.332271             NaN           0        NaN  \n",
       "7       1.237094             NaN           0        NaN  \n",
       "8       1.194353             NaN           0        NaN  \n",
       "9       1.098632             NaN           0        NaN  \n",
       "10      1.088850             NaN           0        NaN  \n",
       "11      1.020713             NaN           0        NaN  \n",
       "12      0.999201             NaN           0        NaN  \n",
       "13      0.995274             NaN           0        NaN  \n",
       "14      0.958596             NaN           0        NaN  \n",
       "15      0.915316             NaN           0        NaN  \n",
       "16      0.876253             NaN           0        NaN  \n",
       "17      0.849337             NaN           0        NaN  \n",
       "18      0.838176             NaN           0        NaN  \n",
       "19      0.814041             NaN           0        NaN  \n",
       "20      0.770925             NaN           0        NaN  \n",
       "21      0.734524             NaN           0        NaN  \n",
       "22      0.725702             NaN           0        NaN  \n",
       "23      0.624460             NaN           0        NaN  \n",
       "24      0.605647             NaN           0        NaN  \n",
       "25      0.521278             NaN           0        NaN  \n",
       "26      0.482227             NaN           0        NaN  \n",
       "27      0.403632             NaN           0        NaN  \n",
       "28      0.330083             NaN           0        NaN  \n",
       "29    250.120109             NaN           0        NaN  \n",
       "30           NaN             3.0           0        NaN  "
      ]
     },
     "execution_count": 21,
     "metadata": {},
     "output_type": "execute_result"
    }
   ],
   "source": [
    "feature_info = bq.query(\n",
    "    query = f\"\"\"\n",
    "        SELECT *\n",
    "        FROM ML.FEATURE_INFO(MODEL `{BQ_PROJECT}.{BQ_DATASET}.{BQ_MODEL}`)\n",
    "        \"\"\"\n",
    ").to_dataframe()\n",
    "feature_info"
   ]
  },
  {
   "cell_type": "markdown",
   "id": "a04bba5b-00f7-4c6b-acdc-50de5ae9ab37",
   "metadata": {},
   "source": [
    "Retrieve the trial info for the hyperparameter tuning trials with [ML.TRIAL_INFO](https://cloud.google.com/bigquery-ml/docs/reference/standard-sql/bigqueryml-syntax-trial-info):"
   ]
  },
  {
   "cell_type": "code",
   "execution_count": 22,
   "id": "1991ecb6-bda6-49ff-bc00-118ef4dc8ff7",
   "metadata": {},
   "outputs": [
    {
     "data": {
      "text/html": [
       "<div>\n",
       "<style scoped>\n",
       "    .dataframe tbody tr th:only-of-type {\n",
       "        vertical-align: middle;\n",
       "    }\n",
       "\n",
       "    .dataframe tbody tr th {\n",
       "        vertical-align: top;\n",
       "    }\n",
       "\n",
       "    .dataframe thead th {\n",
       "        text-align: right;\n",
       "    }\n",
       "</style>\n",
       "<table border=\"1\" class=\"dataframe\">\n",
       "  <thead>\n",
       "    <tr style=\"text-align: right;\">\n",
       "      <th></th>\n",
       "      <th>trial_id</th>\n",
       "      <th>hyperparameters</th>\n",
       "      <th>hparam_tuning_evaluation_metrics</th>\n",
       "      <th>training_loss</th>\n",
       "      <th>eval_loss</th>\n",
       "      <th>status</th>\n",
       "      <th>error_message</th>\n",
       "      <th>is_optimal</th>\n",
       "    </tr>\n",
       "  </thead>\n",
       "  <tbody>\n",
       "    <tr>\n",
       "      <th>0</th>\n",
       "      <td>1</td>\n",
       "      <td>{'num_clusters': 51}</td>\n",
       "      <td>{'davies_bouldin_index': 1.8537163907415874}</td>\n",
       "      <td>15.009085</td>\n",
       "      <td>NaN</td>\n",
       "      <td>SUCCEEDED</td>\n",
       "      <td>None</td>\n",
       "      <td>False</td>\n",
       "    </tr>\n",
       "    <tr>\n",
       "      <th>1</th>\n",
       "      <td>2</td>\n",
       "      <td>{'num_clusters': 73}</td>\n",
       "      <td>{'davies_bouldin_index': 2.082179750734141}</td>\n",
       "      <td>13.896301</td>\n",
       "      <td>NaN</td>\n",
       "      <td>SUCCEEDED</td>\n",
       "      <td>None</td>\n",
       "      <td>False</td>\n",
       "    </tr>\n",
       "    <tr>\n",
       "      <th>2</th>\n",
       "      <td>3</td>\n",
       "      <td>{'num_clusters': 27}</td>\n",
       "      <td>{'davies_bouldin_index': 2.247807526819555}</td>\n",
       "      <td>18.409255</td>\n",
       "      <td>NaN</td>\n",
       "      <td>SUCCEEDED</td>\n",
       "      <td>None</td>\n",
       "      <td>False</td>\n",
       "    </tr>\n",
       "    <tr>\n",
       "      <th>3</th>\n",
       "      <td>4</td>\n",
       "      <td>{'num_clusters': 44}</td>\n",
       "      <td>{'davies_bouldin_index': 1.8148688451118147}</td>\n",
       "      <td>15.821209</td>\n",
       "      <td>NaN</td>\n",
       "      <td>SUCCEEDED</td>\n",
       "      <td>None</td>\n",
       "      <td>True</td>\n",
       "    </tr>\n",
       "    <tr>\n",
       "      <th>4</th>\n",
       "      <td>5</td>\n",
       "      <td>{'num_clusters': 100}</td>\n",
       "      <td>{'davies_bouldin_index': 2.1268906398614535}</td>\n",
       "      <td>12.697958</td>\n",
       "      <td>NaN</td>\n",
       "      <td>SUCCEEDED</td>\n",
       "      <td>None</td>\n",
       "      <td>False</td>\n",
       "    </tr>\n",
       "    <tr>\n",
       "      <th>5</th>\n",
       "      <td>6</td>\n",
       "      <td>{'num_clusters': 47}</td>\n",
       "      <td>{'davies_bouldin_index': 2.147572198995448}</td>\n",
       "      <td>16.196316</td>\n",
       "      <td>NaN</td>\n",
       "      <td>SUCCEEDED</td>\n",
       "      <td>None</td>\n",
       "      <td>False</td>\n",
       "    </tr>\n",
       "    <tr>\n",
       "      <th>6</th>\n",
       "      <td>7</td>\n",
       "      <td>{'num_clusters': 61}</td>\n",
       "      <td>{'davies_bouldin_index': 2.0466808052250327}</td>\n",
       "      <td>14.473987</td>\n",
       "      <td>NaN</td>\n",
       "      <td>SUCCEEDED</td>\n",
       "      <td>None</td>\n",
       "      <td>False</td>\n",
       "    </tr>\n",
       "    <tr>\n",
       "      <th>7</th>\n",
       "      <td>8</td>\n",
       "      <td>{'num_clusters': 38}</td>\n",
       "      <td>{'davies_bouldin_index': 1.9749450498547934}</td>\n",
       "      <td>16.654206</td>\n",
       "      <td>NaN</td>\n",
       "      <td>SUCCEEDED</td>\n",
       "      <td>None</td>\n",
       "      <td>False</td>\n",
       "    </tr>\n",
       "    <tr>\n",
       "      <th>8</th>\n",
       "      <td>9</td>\n",
       "      <td>{'num_clusters': 2}</td>\n",
       "      <td>{'davies_bouldin_index': 5.167350476826834}</td>\n",
       "      <td>29.452045</td>\n",
       "      <td>NaN</td>\n",
       "      <td>SUCCEEDED</td>\n",
       "      <td>None</td>\n",
       "      <td>False</td>\n",
       "    </tr>\n",
       "    <tr>\n",
       "      <th>9</th>\n",
       "      <td>10</td>\n",
       "      <td>{'num_clusters': 87}</td>\n",
       "      <td>{'davies_bouldin_index': 2.072795598671615}</td>\n",
       "      <td>13.276475</td>\n",
       "      <td>NaN</td>\n",
       "      <td>SUCCEEDED</td>\n",
       "      <td>None</td>\n",
       "      <td>False</td>\n",
       "    </tr>\n",
       "    <tr>\n",
       "      <th>10</th>\n",
       "      <td>11</td>\n",
       "      <td>{'num_clusters': 16}</td>\n",
       "      <td>{'davies_bouldin_index': 2.2047457444180276}</td>\n",
       "      <td>21.397238</td>\n",
       "      <td>NaN</td>\n",
       "      <td>SUCCEEDED</td>\n",
       "      <td>None</td>\n",
       "      <td>False</td>\n",
       "    </tr>\n",
       "    <tr>\n",
       "      <th>11</th>\n",
       "      <td>12</td>\n",
       "      <td>{'num_clusters': 56}</td>\n",
       "      <td>{'davies_bouldin_index': 1.9363238896649553}</td>\n",
       "      <td>14.896370</td>\n",
       "      <td>NaN</td>\n",
       "      <td>SUCCEEDED</td>\n",
       "      <td>None</td>\n",
       "      <td>False</td>\n",
       "    </tr>\n",
       "    <tr>\n",
       "      <th>12</th>\n",
       "      <td>13</td>\n",
       "      <td>{'num_clusters': 81}</td>\n",
       "      <td>{'davies_bouldin_index': 2.142285310215904}</td>\n",
       "      <td>13.664637</td>\n",
       "      <td>NaN</td>\n",
       "      <td>SUCCEEDED</td>\n",
       "      <td>None</td>\n",
       "      <td>False</td>\n",
       "    </tr>\n",
       "    <tr>\n",
       "      <th>13</th>\n",
       "      <td>14</td>\n",
       "      <td>{'num_clusters': 94}</td>\n",
       "      <td>{'davies_bouldin_index': 2.1256506170071194}</td>\n",
       "      <td>12.813307</td>\n",
       "      <td>NaN</td>\n",
       "      <td>SUCCEEDED</td>\n",
       "      <td>None</td>\n",
       "      <td>False</td>\n",
       "    </tr>\n",
       "    <tr>\n",
       "      <th>14</th>\n",
       "      <td>15</td>\n",
       "      <td>{'num_clusters': 42}</td>\n",
       "      <td>{'davies_bouldin_index': 2.0090282163793383}</td>\n",
       "      <td>15.994921</td>\n",
       "      <td>NaN</td>\n",
       "      <td>SUCCEEDED</td>\n",
       "      <td>None</td>\n",
       "      <td>False</td>\n",
       "    </tr>\n",
       "    <tr>\n",
       "      <th>15</th>\n",
       "      <td>16</td>\n",
       "      <td>{'num_clusters': 68}</td>\n",
       "      <td>{'davies_bouldin_index': 2.0321927307246397}</td>\n",
       "      <td>14.134917</td>\n",
       "      <td>NaN</td>\n",
       "      <td>SUCCEEDED</td>\n",
       "      <td>None</td>\n",
       "      <td>False</td>\n",
       "    </tr>\n",
       "    <tr>\n",
       "      <th>16</th>\n",
       "      <td>17</td>\n",
       "      <td>{'num_clusters': 32}</td>\n",
       "      <td>{'davies_bouldin_index': 2.2363159858244894}</td>\n",
       "      <td>17.484766</td>\n",
       "      <td>NaN</td>\n",
       "      <td>SUCCEEDED</td>\n",
       "      <td>None</td>\n",
       "      <td>False</td>\n",
       "    </tr>\n",
       "    <tr>\n",
       "      <th>17</th>\n",
       "      <td>18</td>\n",
       "      <td>{'num_clusters': 10}</td>\n",
       "      <td>{'davies_bouldin_index': 2.028261994020449}</td>\n",
       "      <td>24.867703</td>\n",
       "      <td>NaN</td>\n",
       "      <td>SUCCEEDED</td>\n",
       "      <td>None</td>\n",
       "      <td>False</td>\n",
       "    </tr>\n",
       "    <tr>\n",
       "      <th>18</th>\n",
       "      <td>19</td>\n",
       "      <td>{'num_clusters': 52}</td>\n",
       "      <td>{'davies_bouldin_index': 2.0880048698112827}</td>\n",
       "      <td>14.943963</td>\n",
       "      <td>NaN</td>\n",
       "      <td>SUCCEEDED</td>\n",
       "      <td>None</td>\n",
       "      <td>False</td>\n",
       "    </tr>\n",
       "    <tr>\n",
       "      <th>19</th>\n",
       "      <td>20</td>\n",
       "      <td>{'num_clusters': 21}</td>\n",
       "      <td>{'davies_bouldin_index': 2.021820894497279}</td>\n",
       "      <td>20.107351</td>\n",
       "      <td>NaN</td>\n",
       "      <td>SUCCEEDED</td>\n",
       "      <td>None</td>\n",
       "      <td>False</td>\n",
       "    </tr>\n",
       "  </tbody>\n",
       "</table>\n",
       "</div>"
      ],
      "text/plain": [
       "    trial_id        hyperparameters  \\\n",
       "0          1   {'num_clusters': 51}   \n",
       "1          2   {'num_clusters': 73}   \n",
       "2          3   {'num_clusters': 27}   \n",
       "3          4   {'num_clusters': 44}   \n",
       "4          5  {'num_clusters': 100}   \n",
       "5          6   {'num_clusters': 47}   \n",
       "6          7   {'num_clusters': 61}   \n",
       "7          8   {'num_clusters': 38}   \n",
       "8          9    {'num_clusters': 2}   \n",
       "9         10   {'num_clusters': 87}   \n",
       "10        11   {'num_clusters': 16}   \n",
       "11        12   {'num_clusters': 56}   \n",
       "12        13   {'num_clusters': 81}   \n",
       "13        14   {'num_clusters': 94}   \n",
       "14        15   {'num_clusters': 42}   \n",
       "15        16   {'num_clusters': 68}   \n",
       "16        17   {'num_clusters': 32}   \n",
       "17        18   {'num_clusters': 10}   \n",
       "18        19   {'num_clusters': 52}   \n",
       "19        20   {'num_clusters': 21}   \n",
       "\n",
       "                hparam_tuning_evaluation_metrics  training_loss  eval_loss  \\\n",
       "0   {'davies_bouldin_index': 1.8537163907415874}      15.009085        NaN   \n",
       "1    {'davies_bouldin_index': 2.082179750734141}      13.896301        NaN   \n",
       "2    {'davies_bouldin_index': 2.247807526819555}      18.409255        NaN   \n",
       "3   {'davies_bouldin_index': 1.8148688451118147}      15.821209        NaN   \n",
       "4   {'davies_bouldin_index': 2.1268906398614535}      12.697958        NaN   \n",
       "5    {'davies_bouldin_index': 2.147572198995448}      16.196316        NaN   \n",
       "6   {'davies_bouldin_index': 2.0466808052250327}      14.473987        NaN   \n",
       "7   {'davies_bouldin_index': 1.9749450498547934}      16.654206        NaN   \n",
       "8    {'davies_bouldin_index': 5.167350476826834}      29.452045        NaN   \n",
       "9    {'davies_bouldin_index': 2.072795598671615}      13.276475        NaN   \n",
       "10  {'davies_bouldin_index': 2.2047457444180276}      21.397238        NaN   \n",
       "11  {'davies_bouldin_index': 1.9363238896649553}      14.896370        NaN   \n",
       "12   {'davies_bouldin_index': 2.142285310215904}      13.664637        NaN   \n",
       "13  {'davies_bouldin_index': 2.1256506170071194}      12.813307        NaN   \n",
       "14  {'davies_bouldin_index': 2.0090282163793383}      15.994921        NaN   \n",
       "15  {'davies_bouldin_index': 2.0321927307246397}      14.134917        NaN   \n",
       "16  {'davies_bouldin_index': 2.2363159858244894}      17.484766        NaN   \n",
       "17   {'davies_bouldin_index': 2.028261994020449}      24.867703        NaN   \n",
       "18  {'davies_bouldin_index': 2.0880048698112827}      14.943963        NaN   \n",
       "19   {'davies_bouldin_index': 2.021820894497279}      20.107351        NaN   \n",
       "\n",
       "       status error_message  is_optimal  \n",
       "0   SUCCEEDED          None       False  \n",
       "1   SUCCEEDED          None       False  \n",
       "2   SUCCEEDED          None       False  \n",
       "3   SUCCEEDED          None        True  \n",
       "4   SUCCEEDED          None       False  \n",
       "5   SUCCEEDED          None       False  \n",
       "6   SUCCEEDED          None       False  \n",
       "7   SUCCEEDED          None       False  \n",
       "8   SUCCEEDED          None       False  \n",
       "9   SUCCEEDED          None       False  \n",
       "10  SUCCEEDED          None       False  \n",
       "11  SUCCEEDED          None       False  \n",
       "12  SUCCEEDED          None       False  \n",
       "13  SUCCEEDED          None       False  \n",
       "14  SUCCEEDED          None       False  \n",
       "15  SUCCEEDED          None       False  \n",
       "16  SUCCEEDED          None       False  \n",
       "17  SUCCEEDED          None       False  \n",
       "18  SUCCEEDED          None       False  \n",
       "19  SUCCEEDED          None       False  "
      ]
     },
     "execution_count": 22,
     "metadata": {},
     "output_type": "execute_result"
    }
   ],
   "source": [
    "trials = bq.query(\n",
    "    query = f\"\"\"\n",
    "        SELECT *\n",
    "        FROM ML.TRIAL_INFO(MODEL `{BQ_PROJECT}.{BQ_DATASET}.{BQ_MODEL}`)\n",
    "        \"\"\"\n",
    ").to_dataframe()\n",
    "trials"
   ]
  },
  {
   "cell_type": "markdown",
   "id": "176d1454-d829-4d73-8efc-df0cb6f52da1",
   "metadata": {},
   "source": [
    "### Check out this model in BigQuery Console:\n",
    "- Make sure project selected is the one from this notebook\n",
    "- Under Explore, expand this project and dataset\n",
    "- Expand Models and select the model create here"
   ]
  },
  {
   "cell_type": "code",
   "execution_count": 66,
   "id": "b4758d8e-7eba-414a-8d09-cff4450c5118",
   "metadata": {},
   "outputs": [
    {
     "name": "stdout",
     "output_type": "stream",
     "text": [
      "BigQuery Console for Project:\n",
      "https://console.cloud.google.com/bigquery?project=statmike-mlops-349915\n"
     ]
    }
   ],
   "source": [
    "print(f'BigQuery Console for Project:\\nhttps://console.cloud.google.com/bigquery?project={PROJECT_ID}')"
   ]
  },
  {
   "cell_type": "code",
   "execution_count": 67,
   "id": "cadaf9b6-db28-4616-9665-2d61a6f73704",
   "metadata": {},
   "outputs": [
    {
     "name": "stdout",
     "output_type": "stream",
     "text": [
      "Direct link to the model in BigQuery:\n",
      "https://console.cloud.google.com/bigquery?project=statmike-mlops-349915&ws=!1m5!1m4!5m3!1sstatmike-mlops-349915!2sfraud!3s03_kmeans_20221005000845\n"
     ]
    }
   ],
   "source": [
    "print(f'Direct link to the model in BigQuery:\\nhttps://console.cloud.google.com/bigquery?project={PROJECT_ID}&ws=!1m5!1m4!5m3!1s{PROJECT_ID}!2s{BQ_DATASET}!3s{BQ_MODEL}')"
   ]
  },
  {
   "cell_type": "markdown",
   "id": "269e7e47-113f-47c2-9b11-d10c4d7aa240",
   "metadata": {
    "tags": []
   },
   "source": [
    "---\n",
    "## Evaluate Model"
   ]
  },
  {
   "cell_type": "markdown",
   "id": "0109630c-e71c-4ecb-afa8-268766ca8cb3",
   "metadata": {},
   "source": [
    "Review the evaluation statistics on the trials with [ML.EVALUATE](https://cloud.google.com/bigquery-ml/docs/reference/standard-sql/bigqueryml-syntax-evaluate):"
   ]
  },
  {
   "cell_type": "code",
   "execution_count": 24,
   "id": "402f81e7-5ef2-4a6b-902f-b64a713dd6b2",
   "metadata": {},
   "outputs": [
    {
     "data": {
      "text/html": [
       "<div>\n",
       "<style scoped>\n",
       "    .dataframe tbody tr th:only-of-type {\n",
       "        vertical-align: middle;\n",
       "    }\n",
       "\n",
       "    .dataframe tbody tr th {\n",
       "        vertical-align: top;\n",
       "    }\n",
       "\n",
       "    .dataframe thead th {\n",
       "        text-align: right;\n",
       "    }\n",
       "</style>\n",
       "<table border=\"1\" class=\"dataframe\">\n",
       "  <thead>\n",
       "    <tr style=\"text-align: right;\">\n",
       "      <th></th>\n",
       "      <th>trial_id</th>\n",
       "      <th>davies_bouldin_index</th>\n",
       "      <th>mean_squared_distance</th>\n",
       "    </tr>\n",
       "  </thead>\n",
       "  <tbody>\n",
       "    <tr>\n",
       "      <th>0</th>\n",
       "      <td>1</td>\n",
       "      <td>1.853716</td>\n",
       "      <td>15.009085</td>\n",
       "    </tr>\n",
       "    <tr>\n",
       "      <th>1</th>\n",
       "      <td>2</td>\n",
       "      <td>2.082180</td>\n",
       "      <td>13.896301</td>\n",
       "    </tr>\n",
       "    <tr>\n",
       "      <th>2</th>\n",
       "      <td>3</td>\n",
       "      <td>2.247808</td>\n",
       "      <td>18.409255</td>\n",
       "    </tr>\n",
       "    <tr>\n",
       "      <th>3</th>\n",
       "      <td>4</td>\n",
       "      <td>1.814869</td>\n",
       "      <td>15.821209</td>\n",
       "    </tr>\n",
       "    <tr>\n",
       "      <th>4</th>\n",
       "      <td>5</td>\n",
       "      <td>2.126891</td>\n",
       "      <td>12.697958</td>\n",
       "    </tr>\n",
       "    <tr>\n",
       "      <th>5</th>\n",
       "      <td>6</td>\n",
       "      <td>2.147572</td>\n",
       "      <td>16.196316</td>\n",
       "    </tr>\n",
       "    <tr>\n",
       "      <th>6</th>\n",
       "      <td>7</td>\n",
       "      <td>2.046681</td>\n",
       "      <td>14.473987</td>\n",
       "    </tr>\n",
       "    <tr>\n",
       "      <th>7</th>\n",
       "      <td>8</td>\n",
       "      <td>1.974945</td>\n",
       "      <td>16.654206</td>\n",
       "    </tr>\n",
       "    <tr>\n",
       "      <th>8</th>\n",
       "      <td>9</td>\n",
       "      <td>5.167350</td>\n",
       "      <td>29.452045</td>\n",
       "    </tr>\n",
       "    <tr>\n",
       "      <th>9</th>\n",
       "      <td>10</td>\n",
       "      <td>2.072796</td>\n",
       "      <td>13.276475</td>\n",
       "    </tr>\n",
       "    <tr>\n",
       "      <th>10</th>\n",
       "      <td>11</td>\n",
       "      <td>2.204746</td>\n",
       "      <td>21.397238</td>\n",
       "    </tr>\n",
       "    <tr>\n",
       "      <th>11</th>\n",
       "      <td>12</td>\n",
       "      <td>1.936324</td>\n",
       "      <td>14.896370</td>\n",
       "    </tr>\n",
       "    <tr>\n",
       "      <th>12</th>\n",
       "      <td>13</td>\n",
       "      <td>2.142285</td>\n",
       "      <td>13.664637</td>\n",
       "    </tr>\n",
       "    <tr>\n",
       "      <th>13</th>\n",
       "      <td>14</td>\n",
       "      <td>2.125651</td>\n",
       "      <td>12.813307</td>\n",
       "    </tr>\n",
       "    <tr>\n",
       "      <th>14</th>\n",
       "      <td>15</td>\n",
       "      <td>2.009028</td>\n",
       "      <td>15.994921</td>\n",
       "    </tr>\n",
       "    <tr>\n",
       "      <th>15</th>\n",
       "      <td>16</td>\n",
       "      <td>2.032193</td>\n",
       "      <td>14.134917</td>\n",
       "    </tr>\n",
       "    <tr>\n",
       "      <th>16</th>\n",
       "      <td>17</td>\n",
       "      <td>2.236316</td>\n",
       "      <td>17.484766</td>\n",
       "    </tr>\n",
       "    <tr>\n",
       "      <th>17</th>\n",
       "      <td>18</td>\n",
       "      <td>2.028262</td>\n",
       "      <td>24.867703</td>\n",
       "    </tr>\n",
       "    <tr>\n",
       "      <th>18</th>\n",
       "      <td>19</td>\n",
       "      <td>2.088005</td>\n",
       "      <td>14.943963</td>\n",
       "    </tr>\n",
       "    <tr>\n",
       "      <th>19</th>\n",
       "      <td>20</td>\n",
       "      <td>2.021821</td>\n",
       "      <td>20.107351</td>\n",
       "    </tr>\n",
       "  </tbody>\n",
       "</table>\n",
       "</div>"
      ],
      "text/plain": [
       "    trial_id  davies_bouldin_index  mean_squared_distance\n",
       "0          1              1.853716              15.009085\n",
       "1          2              2.082180              13.896301\n",
       "2          3              2.247808              18.409255\n",
       "3          4              1.814869              15.821209\n",
       "4          5              2.126891              12.697958\n",
       "5          6              2.147572              16.196316\n",
       "6          7              2.046681              14.473987\n",
       "7          8              1.974945              16.654206\n",
       "8          9              5.167350              29.452045\n",
       "9         10              2.072796              13.276475\n",
       "10        11              2.204746              21.397238\n",
       "11        12              1.936324              14.896370\n",
       "12        13              2.142285              13.664637\n",
       "13        14              2.125651              12.813307\n",
       "14        15              2.009028              15.994921\n",
       "15        16              2.032193              14.134917\n",
       "16        17              2.236316              17.484766\n",
       "17        18              2.028262              24.867703\n",
       "18        19              2.088005              14.943963\n",
       "19        20              2.021821              20.107351"
      ]
     },
     "execution_count": 24,
     "metadata": {},
     "output_type": "execute_result"
    }
   ],
   "source": [
    "eval = bq.query(\n",
    "    query = f\"\"\"\n",
    "        SELECT *\n",
    "        FROM ML.EVALUATE(MODEL `{BQ_PROJECT}.{BQ_DATASET}.{BQ_MODEL}`)\n",
    "        \"\"\"\n",
    ").to_dataframe()\n",
    "eval"
   ]
  },
  {
   "cell_type": "markdown",
   "id": "9504acd1-c636-48f3-9aa0-bd7b157bdd2e",
   "metadata": {},
   "source": [
    "Review the centroid assignment across trials with [ML.CENTROIDS](https://cloud.google.com/bigquery-ml/docs/reference/standard-sql/bigqueryml-syntax-centroids):"
   ]
  },
  {
   "cell_type": "code",
   "execution_count": 23,
   "id": "928a8e88-d6ab-4bcc-a139-581738473ff2",
   "metadata": {},
   "outputs": [
    {
     "data": {
      "text/html": [
       "<div>\n",
       "<style scoped>\n",
       "    .dataframe tbody tr th:only-of-type {\n",
       "        vertical-align: middle;\n",
       "    }\n",
       "\n",
       "    .dataframe tbody tr th {\n",
       "        vertical-align: top;\n",
       "    }\n",
       "\n",
       "    .dataframe thead th {\n",
       "        text-align: right;\n",
       "    }\n",
       "</style>\n",
       "<table border=\"1\" class=\"dataframe\">\n",
       "  <thead>\n",
       "    <tr style=\"text-align: right;\">\n",
       "      <th></th>\n",
       "      <th>trial_id</th>\n",
       "      <th>centroid_id</th>\n",
       "      <th>feature</th>\n",
       "      <th>numerical_value</th>\n",
       "      <th>categorical_value</th>\n",
       "    </tr>\n",
       "  </thead>\n",
       "  <tbody>\n",
       "    <tr>\n",
       "      <th>0</th>\n",
       "      <td>1</td>\n",
       "      <td>1</td>\n",
       "      <td>Time</td>\n",
       "      <td>82923.502850</td>\n",
       "      <td>[]</td>\n",
       "    </tr>\n",
       "    <tr>\n",
       "      <th>1</th>\n",
       "      <td>1</td>\n",
       "      <td>1</td>\n",
       "      <td>V1</td>\n",
       "      <td>-0.043026</td>\n",
       "      <td>[]</td>\n",
       "    </tr>\n",
       "    <tr>\n",
       "      <th>2</th>\n",
       "      <td>1</td>\n",
       "      <td>1</td>\n",
       "      <td>V2</td>\n",
       "      <td>-1.330900</td>\n",
       "      <td>[]</td>\n",
       "    </tr>\n",
       "    <tr>\n",
       "      <th>3</th>\n",
       "      <td>1</td>\n",
       "      <td>1</td>\n",
       "      <td>V3</td>\n",
       "      <td>1.504919</td>\n",
       "      <td>[]</td>\n",
       "    </tr>\n",
       "    <tr>\n",
       "      <th>4</th>\n",
       "      <td>1</td>\n",
       "      <td>1</td>\n",
       "      <td>V4</td>\n",
       "      <td>-0.930439</td>\n",
       "      <td>[]</td>\n",
       "    </tr>\n",
       "    <tr>\n",
       "      <th>...</th>\n",
       "      <td>...</td>\n",
       "      <td>...</td>\n",
       "      <td>...</td>\n",
       "      <td>...</td>\n",
       "      <td>...</td>\n",
       "    </tr>\n",
       "    <tr>\n",
       "      <th>30175</th>\n",
       "      <td>20</td>\n",
       "      <td>50</td>\n",
       "      <td>V25</td>\n",
       "      <td>0.057676</td>\n",
       "      <td>[]</td>\n",
       "    </tr>\n",
       "    <tr>\n",
       "      <th>30176</th>\n",
       "      <td>20</td>\n",
       "      <td>50</td>\n",
       "      <td>V26</td>\n",
       "      <td>-0.393779</td>\n",
       "      <td>[]</td>\n",
       "    </tr>\n",
       "    <tr>\n",
       "      <th>30177</th>\n",
       "      <td>20</td>\n",
       "      <td>50</td>\n",
       "      <td>V27</td>\n",
       "      <td>0.045353</td>\n",
       "      <td>[]</td>\n",
       "    </tr>\n",
       "    <tr>\n",
       "      <th>30178</th>\n",
       "      <td>20</td>\n",
       "      <td>50</td>\n",
       "      <td>V28</td>\n",
       "      <td>0.007703</td>\n",
       "      <td>[]</td>\n",
       "    </tr>\n",
       "    <tr>\n",
       "      <th>30179</th>\n",
       "      <td>20</td>\n",
       "      <td>50</td>\n",
       "      <td>Amount</td>\n",
       "      <td>134.676673</td>\n",
       "      <td>[]</td>\n",
       "    </tr>\n",
       "  </tbody>\n",
       "</table>\n",
       "<p>30180 rows × 5 columns</p>\n",
       "</div>"
      ],
      "text/plain": [
       "       trial_id  centroid_id feature  numerical_value categorical_value\n",
       "0             1            1    Time     82923.502850                []\n",
       "1             1            1      V1        -0.043026                []\n",
       "2             1            1      V2        -1.330900                []\n",
       "3             1            1      V3         1.504919                []\n",
       "4             1            1      V4        -0.930439                []\n",
       "...         ...          ...     ...              ...               ...\n",
       "30175        20           50     V25         0.057676                []\n",
       "30176        20           50     V26        -0.393779                []\n",
       "30177        20           50     V27         0.045353                []\n",
       "30178        20           50     V28         0.007703                []\n",
       "30179        20           50  Amount       134.676673                []\n",
       "\n",
       "[30180 rows x 5 columns]"
      ]
     },
     "execution_count": 23,
     "metadata": {},
     "output_type": "execute_result"
    }
   ],
   "source": [
    "centroids = bq.query(\n",
    "    query = f\"\"\"\n",
    "        SELECT *\n",
    "        FROM ML.CENTROIDS(MODEL `{BQ_PROJECT}.{BQ_DATASET}.{BQ_MODEL}`)\n",
    "        \"\"\"\n",
    ").to_dataframe()\n",
    "centroids"
   ]
  },
  {
   "cell_type": "markdown",
   "id": "f88cada5-3240-4aee-8db0-2ab77b40e429",
   "metadata": {},
   "source": [
    "---\n",
    "## Predictions With BigQuery ML (BQML)"
   ]
  },
  {
   "cell_type": "markdown",
   "id": "a66aa9e5-0089-40a6-b129-9b5605647e46",
   "metadata": {},
   "source": [
    "Create a pandas dataframe with retrieved predictions for the test data in the table using [ML.PREDICT](https://cloud.google.com/bigquery-ml/docs/reference/standard-sql/bigqueryml-syntax-predict):"
   ]
  },
  {
   "cell_type": "code",
   "execution_count": 25,
   "id": "6663af2d-9323-42ce-a180-d60e6201e1df",
   "metadata": {},
   "outputs": [],
   "source": [
    "query = f\"\"\"\n",
    "SELECT *\n",
    "FROM ML.PREDICT (MODEL `{BQ_PROJECT}.{BQ_DATASET}.{BQ_MODEL}`,(\n",
    "    SELECT *\n",
    "    FROM `{BQ_PROJECT}.{BQ_DATASET}.{BQ_TABLE}`\n",
    "    WHERE splits = 'TEST')\n",
    "  )\n",
    "\"\"\"\n",
    "pred = bq.query(query = query).to_dataframe()"
   ]
  },
  {
   "cell_type": "markdown",
   "id": "3646d414-ea4b-4c32-ae53-3f4d1707ca31",
   "metadata": {},
   "source": [
    "Review the columns from the prediction for the test data.  Note the query added columns indicating the tuning trail the result is from, the nearest centroid, and a list of nearest centroids with distances."
   ]
  },
  {
   "cell_type": "code",
   "execution_count": 26,
   "id": "81a4a6ea-e676-4869-99ef-646631b3b912",
   "metadata": {},
   "outputs": [
    {
     "data": {
      "text/html": [
       "<div>\n",
       "<style scoped>\n",
       "    .dataframe tbody tr th:only-of-type {\n",
       "        vertical-align: middle;\n",
       "    }\n",
       "\n",
       "    .dataframe tbody tr th {\n",
       "        vertical-align: top;\n",
       "    }\n",
       "\n",
       "    .dataframe thead th {\n",
       "        text-align: right;\n",
       "    }\n",
       "</style>\n",
       "<table border=\"1\" class=\"dataframe\">\n",
       "  <thead>\n",
       "    <tr style=\"text-align: right;\">\n",
       "      <th></th>\n",
       "      <th>trial_id</th>\n",
       "      <th>CENTROID_ID</th>\n",
       "      <th>NEAREST_CENTROIDS_DISTANCE</th>\n",
       "      <th>Time</th>\n",
       "      <th>V1</th>\n",
       "      <th>V2</th>\n",
       "      <th>V3</th>\n",
       "      <th>V4</th>\n",
       "      <th>V5</th>\n",
       "      <th>V6</th>\n",
       "      <th>...</th>\n",
       "      <th>V23</th>\n",
       "      <th>V24</th>\n",
       "      <th>V25</th>\n",
       "      <th>V26</th>\n",
       "      <th>V27</th>\n",
       "      <th>V28</th>\n",
       "      <th>Amount</th>\n",
       "      <th>Class</th>\n",
       "      <th>transaction_id</th>\n",
       "      <th>splits</th>\n",
       "    </tr>\n",
       "  </thead>\n",
       "  <tbody>\n",
       "    <tr>\n",
       "      <th>0</th>\n",
       "      <td>4</td>\n",
       "      <td>28</td>\n",
       "      <td>[{'CENTROID_ID': 28, 'DISTANCE': 5.32727615253...</td>\n",
       "      <td>129696</td>\n",
       "      <td>-7.003655</td>\n",
       "      <td>5.782324</td>\n",
       "      <td>-4.047928</td>\n",
       "      <td>-0.907098</td>\n",
       "      <td>-2.371303</td>\n",
       "      <td>5.087696</td>\n",
       "      <td>...</td>\n",
       "      <td>1.815899</td>\n",
       "      <td>-0.497809</td>\n",
       "      <td>-0.436098</td>\n",
       "      <td>-0.350631</td>\n",
       "      <td>0.131706</td>\n",
       "      <td>0.178682</td>\n",
       "      <td>115.57</td>\n",
       "      <td>0</td>\n",
       "      <td>03fb4783-afc0-4695-8c91-42cf59c0c2db</td>\n",
       "      <td>TEST</td>\n",
       "    </tr>\n",
       "    <tr>\n",
       "      <th>1</th>\n",
       "      <td>4</td>\n",
       "      <td>13</td>\n",
       "      <td>[{'CENTROID_ID': 13, 'DISTANCE': 7.85734484692...</td>\n",
       "      <td>34775</td>\n",
       "      <td>-3.745690</td>\n",
       "      <td>-3.655540</td>\n",
       "      <td>0.413711</td>\n",
       "      <td>-0.720040</td>\n",
       "      <td>-3.098011</td>\n",
       "      <td>2.326982</td>\n",
       "      <td>...</td>\n",
       "      <td>2.096100</td>\n",
       "      <td>-0.221673</td>\n",
       "      <td>0.102361</td>\n",
       "      <td>-0.270125</td>\n",
       "      <td>1.051964</td>\n",
       "      <td>-0.365181</td>\n",
       "      <td>834.60</td>\n",
       "      <td>0</td>\n",
       "      <td>954a9005-9ed8-4f9b-97e0-3d5852a26459</td>\n",
       "      <td>TEST</td>\n",
       "    </tr>\n",
       "    <tr>\n",
       "      <th>2</th>\n",
       "      <td>4</td>\n",
       "      <td>26</td>\n",
       "      <td>[{'CENTROID_ID': 26, 'DISTANCE': 5.12321041338...</td>\n",
       "      <td>53599</td>\n",
       "      <td>-3.877906</td>\n",
       "      <td>-1.486951</td>\n",
       "      <td>-0.173597</td>\n",
       "      <td>0.821427</td>\n",
       "      <td>0.188081</td>\n",
       "      <td>-0.524974</td>\n",
       "      <td>...</td>\n",
       "      <td>-1.099299</td>\n",
       "      <td>-0.173682</td>\n",
       "      <td>-0.726403</td>\n",
       "      <td>-0.544870</td>\n",
       "      <td>0.009952</td>\n",
       "      <td>-0.674926</td>\n",
       "      <td>78.50</td>\n",
       "      <td>0</td>\n",
       "      <td>78fe3c5c-d95b-4e00-abdb-47d90987e21b</td>\n",
       "      <td>TEST</td>\n",
       "    </tr>\n",
       "    <tr>\n",
       "      <th>3</th>\n",
       "      <td>4</td>\n",
       "      <td>26</td>\n",
       "      <td>[{'CENTROID_ID': 26, 'DISTANCE': 4.57605292913...</td>\n",
       "      <td>117752</td>\n",
       "      <td>-3.069788</td>\n",
       "      <td>-2.079515</td>\n",
       "      <td>-0.277868</td>\n",
       "      <td>-0.201597</td>\n",
       "      <td>1.731640</td>\n",
       "      <td>-1.843513</td>\n",
       "      <td>...</td>\n",
       "      <td>-1.730224</td>\n",
       "      <td>0.298772</td>\n",
       "      <td>-0.480319</td>\n",
       "      <td>0.136882</td>\n",
       "      <td>0.572501</td>\n",
       "      <td>-0.296932</td>\n",
       "      <td>402.00</td>\n",
       "      <td>0</td>\n",
       "      <td>408e63b4-1134-4248-a2ee-91f0c049f5d8</td>\n",
       "      <td>TEST</td>\n",
       "    </tr>\n",
       "    <tr>\n",
       "      <th>4</th>\n",
       "      <td>4</td>\n",
       "      <td>40</td>\n",
       "      <td>[{'CENTROID_ID': 40, 'DISTANCE': 4.74882539921...</td>\n",
       "      <td>50771</td>\n",
       "      <td>-0.817828</td>\n",
       "      <td>1.621705</td>\n",
       "      <td>0.911472</td>\n",
       "      <td>1.305673</td>\n",
       "      <td>-0.402086</td>\n",
       "      <td>1.031816</td>\n",
       "      <td>...</td>\n",
       "      <td>0.194226</td>\n",
       "      <td>0.138621</td>\n",
       "      <td>0.768231</td>\n",
       "      <td>-0.580148</td>\n",
       "      <td>0.027377</td>\n",
       "      <td>0.213998</td>\n",
       "      <td>28.45</td>\n",
       "      <td>0</td>\n",
       "      <td>5a0ead29-8567-453d-a695-ca5f7de5e8cf</td>\n",
       "      <td>TEST</td>\n",
       "    </tr>\n",
       "  </tbody>\n",
       "</table>\n",
       "<p>5 rows × 36 columns</p>\n",
       "</div>"
      ],
      "text/plain": [
       "   trial_id  CENTROID_ID                         NEAREST_CENTROIDS_DISTANCE  \\\n",
       "0         4           28  [{'CENTROID_ID': 28, 'DISTANCE': 5.32727615253...   \n",
       "1         4           13  [{'CENTROID_ID': 13, 'DISTANCE': 7.85734484692...   \n",
       "2         4           26  [{'CENTROID_ID': 26, 'DISTANCE': 5.12321041338...   \n",
       "3         4           26  [{'CENTROID_ID': 26, 'DISTANCE': 4.57605292913...   \n",
       "4         4           40  [{'CENTROID_ID': 40, 'DISTANCE': 4.74882539921...   \n",
       "\n",
       "     Time        V1        V2        V3        V4        V5        V6  ...  \\\n",
       "0  129696 -7.003655  5.782324 -4.047928 -0.907098 -2.371303  5.087696  ...   \n",
       "1   34775 -3.745690 -3.655540  0.413711 -0.720040 -3.098011  2.326982  ...   \n",
       "2   53599 -3.877906 -1.486951 -0.173597  0.821427  0.188081 -0.524974  ...   \n",
       "3  117752 -3.069788 -2.079515 -0.277868 -0.201597  1.731640 -1.843513  ...   \n",
       "4   50771 -0.817828  1.621705  0.911472  1.305673 -0.402086  1.031816  ...   \n",
       "\n",
       "        V23       V24       V25       V26       V27       V28  Amount  Class  \\\n",
       "0  1.815899 -0.497809 -0.436098 -0.350631  0.131706  0.178682  115.57      0   \n",
       "1  2.096100 -0.221673  0.102361 -0.270125  1.051964 -0.365181  834.60      0   \n",
       "2 -1.099299 -0.173682 -0.726403 -0.544870  0.009952 -0.674926   78.50      0   \n",
       "3 -1.730224  0.298772 -0.480319  0.136882  0.572501 -0.296932  402.00      0   \n",
       "4  0.194226  0.138621  0.768231 -0.580148  0.027377  0.213998   28.45      0   \n",
       "\n",
       "                         transaction_id  splits  \n",
       "0  03fb4783-afc0-4695-8c91-42cf59c0c2db    TEST  \n",
       "1  954a9005-9ed8-4f9b-97e0-3d5852a26459    TEST  \n",
       "2  78fe3c5c-d95b-4e00-abdb-47d90987e21b    TEST  \n",
       "3  408e63b4-1134-4248-a2ee-91f0c049f5d8    TEST  \n",
       "4  5a0ead29-8567-453d-a695-ca5f7de5e8cf    TEST  \n",
       "\n",
       "[5 rows x 36 columns]"
      ]
     },
     "execution_count": 26,
     "metadata": {},
     "output_type": "execute_result"
    }
   ],
   "source": [
    "pred.head()"
   ]
  },
  {
   "cell_type": "markdown",
   "id": "78ceca92-d925-469c-b6ba-54b0a51bf927",
   "metadata": {},
   "source": [
    "---\n",
    "## Anomalies\n",
    "Use the [ML.DETECT_ANOMALIES](https://cloud.google.com/bigquery-ml/docs/reference/standard-sql/bigqueryml-syntax-detect-anomalies) function to retrieve rows that appear as anomalies with the input [contamination](https://cloud.google.com/bigquery-ml/docs/reference/standard-sql/bigqueryml-syntax-detect-anomalies#contamination) value set to the rate of fraud in the training data (calculated above)."
   ]
  },
  {
   "cell_type": "code",
   "execution_count": 39,
   "id": "eeb534e0-e606-49b3-ab7d-f9d9627e3c2f",
   "metadata": {},
   "outputs": [],
   "source": [
    "query = f\"\"\"\n",
    "WITH ANOMALIES AS (\n",
    "        SELECT *\n",
    "        FROM ML.DETECT_ANOMALIES (\n",
    "            MODEL `{BQ_PROJECT}.{BQ_DATASET}.{BQ_MODEL}`,\n",
    "            STRUCT ({TRAIN_FRAUD_PCT} AS contamination),\n",
    "            (SELECT *\n",
    "            FROM `{BQ_PROJECT}.{BQ_DATASET}.{BQ_TABLE}`\n",
    "            WHERE splits = 'TEST')\n",
    "          )\n",
    ")\n",
    "SELECT *\n",
    "FROM ANOMALIES\n",
    "WHERE is_anomaly = TRUE\n",
    "\"\"\"\n",
    "anomalies = bq.query(query = query).to_dataframe()"
   ]
  },
  {
   "cell_type": "code",
   "execution_count": 40,
   "id": "6eb8f008-0cf7-4b0d-b96d-e45583f42a84",
   "metadata": {},
   "outputs": [
    {
     "data": {
      "text/html": [
       "<div>\n",
       "<style scoped>\n",
       "    .dataframe tbody tr th:only-of-type {\n",
       "        vertical-align: middle;\n",
       "    }\n",
       "\n",
       "    .dataframe tbody tr th {\n",
       "        vertical-align: top;\n",
       "    }\n",
       "\n",
       "    .dataframe thead th {\n",
       "        text-align: right;\n",
       "    }\n",
       "</style>\n",
       "<table border=\"1\" class=\"dataframe\">\n",
       "  <thead>\n",
       "    <tr style=\"text-align: right;\">\n",
       "      <th></th>\n",
       "      <th>trial_id</th>\n",
       "      <th>is_anomaly</th>\n",
       "      <th>normalized_distance</th>\n",
       "      <th>CENTROID_ID</th>\n",
       "      <th>Time</th>\n",
       "      <th>V1</th>\n",
       "      <th>V2</th>\n",
       "      <th>V3</th>\n",
       "      <th>V4</th>\n",
       "      <th>V5</th>\n",
       "      <th>...</th>\n",
       "      <th>V23</th>\n",
       "      <th>V24</th>\n",
       "      <th>V25</th>\n",
       "      <th>V26</th>\n",
       "      <th>V27</th>\n",
       "      <th>V28</th>\n",
       "      <th>Amount</th>\n",
       "      <th>Class</th>\n",
       "      <th>transaction_id</th>\n",
       "      <th>splits</th>\n",
       "    </tr>\n",
       "  </thead>\n",
       "  <tbody>\n",
       "    <tr>\n",
       "      <th>0</th>\n",
       "      <td>4</td>\n",
       "      <td>True</td>\n",
       "      <td>1.535927</td>\n",
       "      <td>29</td>\n",
       "      <td>112667</td>\n",
       "      <td>-7.513786</td>\n",
       "      <td>6.946716</td>\n",
       "      <td>-3.298214</td>\n",
       "      <td>-2.481280</td>\n",
       "      <td>-0.653650</td>\n",
       "      <td>...</td>\n",
       "      <td>0.168463</td>\n",
       "      <td>-0.117938</td>\n",
       "      <td>0.893543</td>\n",
       "      <td>-0.201793</td>\n",
       "      <td>3.209682</td>\n",
       "      <td>1.301864</td>\n",
       "      <td>2.28</td>\n",
       "      <td>0</td>\n",
       "      <td>9da50f21-442d-4e06-8fe8-055b80ec7579</td>\n",
       "      <td>TEST</td>\n",
       "    </tr>\n",
       "    <tr>\n",
       "      <th>1</th>\n",
       "      <td>4</td>\n",
       "      <td>True</td>\n",
       "      <td>1.573242</td>\n",
       "      <td>4</td>\n",
       "      <td>32123</td>\n",
       "      <td>-13.583083</td>\n",
       "      <td>7.935390</td>\n",
       "      <td>-13.444564</td>\n",
       "      <td>2.276531</td>\n",
       "      <td>-8.383619</td>\n",
       "      <td>...</td>\n",
       "      <td>-0.452369</td>\n",
       "      <td>0.094435</td>\n",
       "      <td>0.725669</td>\n",
       "      <td>-0.354562</td>\n",
       "      <td>-0.202309</td>\n",
       "      <td>-0.343580</td>\n",
       "      <td>89.99</td>\n",
       "      <td>0</td>\n",
       "      <td>e0d1346b-dfe3-4015-9375-e04e5bd565e3</td>\n",
       "      <td>TEST</td>\n",
       "    </tr>\n",
       "    <tr>\n",
       "      <th>2</th>\n",
       "      <td>4</td>\n",
       "      <td>True</td>\n",
       "      <td>1.385922</td>\n",
       "      <td>12</td>\n",
       "      <td>153596</td>\n",
       "      <td>-7.033477</td>\n",
       "      <td>5.952184</td>\n",
       "      <td>-2.895960</td>\n",
       "      <td>-1.514279</td>\n",
       "      <td>-0.171011</td>\n",
       "      <td>...</td>\n",
       "      <td>2.710875</td>\n",
       "      <td>-0.100811</td>\n",
       "      <td>-0.322985</td>\n",
       "      <td>-0.145283</td>\n",
       "      <td>1.039777</td>\n",
       "      <td>0.223787</td>\n",
       "      <td>4.49</td>\n",
       "      <td>0</td>\n",
       "      <td>6a6bae2e-94ff-4d2c-ad70-6ddaef99707e</td>\n",
       "      <td>TEST</td>\n",
       "    </tr>\n",
       "    <tr>\n",
       "      <th>3</th>\n",
       "      <td>4</td>\n",
       "      <td>True</td>\n",
       "      <td>1.545333</td>\n",
       "      <td>9</td>\n",
       "      <td>125222</td>\n",
       "      <td>-19.333089</td>\n",
       "      <td>3.713236</td>\n",
       "      <td>-12.205038</td>\n",
       "      <td>-1.533892</td>\n",
       "      <td>-13.543613</td>\n",
       "      <td>...</td>\n",
       "      <td>-3.110976</td>\n",
       "      <td>0.129530</td>\n",
       "      <td>1.329527</td>\n",
       "      <td>-0.116802</td>\n",
       "      <td>-0.175445</td>\n",
       "      <td>-0.434179</td>\n",
       "      <td>152.65</td>\n",
       "      <td>0</td>\n",
       "      <td>9e1bd47d-190f-403f-8b09-cfc3d3f195d3</td>\n",
       "      <td>TEST</td>\n",
       "    </tr>\n",
       "    <tr>\n",
       "      <th>4</th>\n",
       "      <td>4</td>\n",
       "      <td>True</td>\n",
       "      <td>1.645502</td>\n",
       "      <td>41</td>\n",
       "      <td>53074</td>\n",
       "      <td>-16.275504</td>\n",
       "      <td>-3.698915</td>\n",
       "      <td>-4.448039</td>\n",
       "      <td>3.735965</td>\n",
       "      <td>0.773763</td>\n",
       "      <td>...</td>\n",
       "      <td>6.974607</td>\n",
       "      <td>-1.134420</td>\n",
       "      <td>1.921704</td>\n",
       "      <td>0.404958</td>\n",
       "      <td>3.097449</td>\n",
       "      <td>-2.884362</td>\n",
       "      <td>1.18</td>\n",
       "      <td>0</td>\n",
       "      <td>741c729e-75c0-48e1-b92e-247b0ce52297</td>\n",
       "      <td>TEST</td>\n",
       "    </tr>\n",
       "    <tr>\n",
       "      <th>...</th>\n",
       "      <td>...</td>\n",
       "      <td>...</td>\n",
       "      <td>...</td>\n",
       "      <td>...</td>\n",
       "      <td>...</td>\n",
       "      <td>...</td>\n",
       "      <td>...</td>\n",
       "      <td>...</td>\n",
       "      <td>...</td>\n",
       "      <td>...</td>\n",
       "      <td>...</td>\n",
       "      <td>...</td>\n",
       "      <td>...</td>\n",
       "      <td>...</td>\n",
       "      <td>...</td>\n",
       "      <td>...</td>\n",
       "      <td>...</td>\n",
       "      <td>...</td>\n",
       "      <td>...</td>\n",
       "      <td>...</td>\n",
       "      <td>...</td>\n",
       "    </tr>\n",
       "    <tr>\n",
       "      <th>70</th>\n",
       "      <td>4</td>\n",
       "      <td>True</td>\n",
       "      <td>1.447641</td>\n",
       "      <td>38</td>\n",
       "      <td>12393</td>\n",
       "      <td>-4.064005</td>\n",
       "      <td>3.100935</td>\n",
       "      <td>-1.188498</td>\n",
       "      <td>3.264633</td>\n",
       "      <td>-1.903562</td>\n",
       "      <td>...</td>\n",
       "      <td>0.193731</td>\n",
       "      <td>0.479496</td>\n",
       "      <td>-0.506603</td>\n",
       "      <td>-0.409863</td>\n",
       "      <td>-3.036271</td>\n",
       "      <td>-0.630605</td>\n",
       "      <td>179.66</td>\n",
       "      <td>1</td>\n",
       "      <td>55fa3610-a199-4a39-aed8-1f2380e8e6cf</td>\n",
       "      <td>TEST</td>\n",
       "    </tr>\n",
       "    <tr>\n",
       "      <th>71</th>\n",
       "      <td>4</td>\n",
       "      <td>True</td>\n",
       "      <td>1.475456</td>\n",
       "      <td>29</td>\n",
       "      <td>75401</td>\n",
       "      <td>-10.555595</td>\n",
       "      <td>6.888853</td>\n",
       "      <td>-2.701817</td>\n",
       "      <td>-0.661302</td>\n",
       "      <td>-4.855926</td>\n",
       "      <td>...</td>\n",
       "      <td>0.205457</td>\n",
       "      <td>-0.056248</td>\n",
       "      <td>1.943027</td>\n",
       "      <td>-0.024124</td>\n",
       "      <td>2.105530</td>\n",
       "      <td>1.000375</td>\n",
       "      <td>50.00</td>\n",
       "      <td>0</td>\n",
       "      <td>f68221f3-5f3e-4df5-9237-ad8078d8a901</td>\n",
       "      <td>TEST</td>\n",
       "    </tr>\n",
       "    <tr>\n",
       "      <th>72</th>\n",
       "      <td>4</td>\n",
       "      <td>True</td>\n",
       "      <td>1.478329</td>\n",
       "      <td>19</td>\n",
       "      <td>49208</td>\n",
       "      <td>-13.382360</td>\n",
       "      <td>2.702602</td>\n",
       "      <td>-4.756703</td>\n",
       "      <td>0.437122</td>\n",
       "      <td>-2.819559</td>\n",
       "      <td>...</td>\n",
       "      <td>-1.181800</td>\n",
       "      <td>0.092452</td>\n",
       "      <td>1.642686</td>\n",
       "      <td>-0.259793</td>\n",
       "      <td>0.910701</td>\n",
       "      <td>4.927820</td>\n",
       "      <td>144.00</td>\n",
       "      <td>0</td>\n",
       "      <td>1ba0e685-35b1-4b61-97d0-2401bf8609d6</td>\n",
       "      <td>TEST</td>\n",
       "    </tr>\n",
       "    <tr>\n",
       "      <th>73</th>\n",
       "      <td>4</td>\n",
       "      <td>True</td>\n",
       "      <td>1.780462</td>\n",
       "      <td>4</td>\n",
       "      <td>164784</td>\n",
       "      <td>-4.260671</td>\n",
       "      <td>2.633197</td>\n",
       "      <td>-0.445911</td>\n",
       "      <td>-5.251492</td>\n",
       "      <td>3.314013</td>\n",
       "      <td>...</td>\n",
       "      <td>0.788828</td>\n",
       "      <td>0.520637</td>\n",
       "      <td>-1.191794</td>\n",
       "      <td>-1.498320</td>\n",
       "      <td>-4.419915</td>\n",
       "      <td>-3.263085</td>\n",
       "      <td>6.15</td>\n",
       "      <td>0</td>\n",
       "      <td>78da11f6-ddf2-4866-a928-fc9b1e5725dd</td>\n",
       "      <td>TEST</td>\n",
       "    </tr>\n",
       "    <tr>\n",
       "      <th>74</th>\n",
       "      <td>4</td>\n",
       "      <td>True</td>\n",
       "      <td>1.467318</td>\n",
       "      <td>4</td>\n",
       "      <td>129332</td>\n",
       "      <td>1.992930</td>\n",
       "      <td>2.566775</td>\n",
       "      <td>-4.956322</td>\n",
       "      <td>4.682041</td>\n",
       "      <td>3.029403</td>\n",
       "      <td>...</td>\n",
       "      <td>-0.217659</td>\n",
       "      <td>-1.433529</td>\n",
       "      <td>0.483440</td>\n",
       "      <td>0.191647</td>\n",
       "      <td>0.015142</td>\n",
       "      <td>0.108296</td>\n",
       "      <td>0.77</td>\n",
       "      <td>0</td>\n",
       "      <td>926854db-14f5-4ca1-a7ad-fe1db35a82f8</td>\n",
       "      <td>TEST</td>\n",
       "    </tr>\n",
       "  </tbody>\n",
       "</table>\n",
       "<p>75 rows × 37 columns</p>\n",
       "</div>"
      ],
      "text/plain": [
       "    trial_id  is_anomaly  normalized_distance  CENTROID_ID    Time         V1  \\\n",
       "0          4        True             1.535927           29  112667  -7.513786   \n",
       "1          4        True             1.573242            4   32123 -13.583083   \n",
       "2          4        True             1.385922           12  153596  -7.033477   \n",
       "3          4        True             1.545333            9  125222 -19.333089   \n",
       "4          4        True             1.645502           41   53074 -16.275504   \n",
       "..       ...         ...                  ...          ...     ...        ...   \n",
       "70         4        True             1.447641           38   12393  -4.064005   \n",
       "71         4        True             1.475456           29   75401 -10.555595   \n",
       "72         4        True             1.478329           19   49208 -13.382360   \n",
       "73         4        True             1.780462            4  164784  -4.260671   \n",
       "74         4        True             1.467318            4  129332   1.992930   \n",
       "\n",
       "          V2         V3        V4         V5  ...       V23       V24  \\\n",
       "0   6.946716  -3.298214 -2.481280  -0.653650  ...  0.168463 -0.117938   \n",
       "1   7.935390 -13.444564  2.276531  -8.383619  ... -0.452369  0.094435   \n",
       "2   5.952184  -2.895960 -1.514279  -0.171011  ...  2.710875 -0.100811   \n",
       "3   3.713236 -12.205038 -1.533892 -13.543613  ... -3.110976  0.129530   \n",
       "4  -3.698915  -4.448039  3.735965   0.773763  ...  6.974607 -1.134420   \n",
       "..       ...        ...       ...        ...  ...       ...       ...   \n",
       "70  3.100935  -1.188498  3.264633  -1.903562  ...  0.193731  0.479496   \n",
       "71  6.888853  -2.701817 -0.661302  -4.855926  ...  0.205457 -0.056248   \n",
       "72  2.702602  -4.756703  0.437122  -2.819559  ... -1.181800  0.092452   \n",
       "73  2.633197  -0.445911 -5.251492   3.314013  ...  0.788828  0.520637   \n",
       "74  2.566775  -4.956322  4.682041   3.029403  ... -0.217659 -1.433529   \n",
       "\n",
       "         V25       V26       V27       V28  Amount  Class  \\\n",
       "0   0.893543 -0.201793  3.209682  1.301864    2.28      0   \n",
       "1   0.725669 -0.354562 -0.202309 -0.343580   89.99      0   \n",
       "2  -0.322985 -0.145283  1.039777  0.223787    4.49      0   \n",
       "3   1.329527 -0.116802 -0.175445 -0.434179  152.65      0   \n",
       "4   1.921704  0.404958  3.097449 -2.884362    1.18      0   \n",
       "..       ...       ...       ...       ...     ...    ...   \n",
       "70 -0.506603 -0.409863 -3.036271 -0.630605  179.66      1   \n",
       "71  1.943027 -0.024124  2.105530  1.000375   50.00      0   \n",
       "72  1.642686 -0.259793  0.910701  4.927820  144.00      0   \n",
       "73 -1.191794 -1.498320 -4.419915 -3.263085    6.15      0   \n",
       "74  0.483440  0.191647  0.015142  0.108296    0.77      0   \n",
       "\n",
       "                          transaction_id  splits  \n",
       "0   9da50f21-442d-4e06-8fe8-055b80ec7579    TEST  \n",
       "1   e0d1346b-dfe3-4015-9375-e04e5bd565e3    TEST  \n",
       "2   6a6bae2e-94ff-4d2c-ad70-6ddaef99707e    TEST  \n",
       "3   9e1bd47d-190f-403f-8b09-cfc3d3f195d3    TEST  \n",
       "4   741c729e-75c0-48e1-b92e-247b0ce52297    TEST  \n",
       "..                                   ...     ...  \n",
       "70  55fa3610-a199-4a39-aed8-1f2380e8e6cf    TEST  \n",
       "71  f68221f3-5f3e-4df5-9237-ad8078d8a901    TEST  \n",
       "72  1ba0e685-35b1-4b61-97d0-2401bf8609d6    TEST  \n",
       "73  78da11f6-ddf2-4866-a928-fc9b1e5725dd    TEST  \n",
       "74  926854db-14f5-4ca1-a7ad-fe1db35a82f8    TEST  \n",
       "\n",
       "[75 rows x 37 columns]"
      ]
     },
     "execution_count": 40,
     "metadata": {},
     "output_type": "execute_result"
    }
   ],
   "source": [
    "anomalies"
   ]
  },
  {
   "cell_type": "markdown",
   "id": "99e1d90f-6a5f-40a1-ae84-c3700f8b4a2f",
   "metadata": {},
   "source": [
    "Use anomaly detection information to create confusion matrix with know classification:"
   ]
  },
  {
   "cell_type": "code",
   "execution_count": 41,
   "id": "28efb7c6-448c-4587-a5fc-3accac0492fc",
   "metadata": {},
   "outputs": [
    {
     "data": {
      "text/html": [
       "<div>\n",
       "<style scoped>\n",
       "    .dataframe tbody tr th:only-of-type {\n",
       "        vertical-align: middle;\n",
       "    }\n",
       "\n",
       "    .dataframe tbody tr th {\n",
       "        vertical-align: top;\n",
       "    }\n",
       "\n",
       "    .dataframe thead th {\n",
       "        text-align: right;\n",
       "    }\n",
       "</style>\n",
       "<table border=\"1\" class=\"dataframe\">\n",
       "  <thead>\n",
       "    <tr style=\"text-align: right;\">\n",
       "      <th></th>\n",
       "      <th>predicted_Class</th>\n",
       "      <th>Class</th>\n",
       "      <th>count</th>\n",
       "    </tr>\n",
       "  </thead>\n",
       "  <tbody>\n",
       "    <tr>\n",
       "      <th>0</th>\n",
       "      <td>1</td>\n",
       "      <td>0</td>\n",
       "      <td>69</td>\n",
       "    </tr>\n",
       "    <tr>\n",
       "      <th>1</th>\n",
       "      <td>0</td>\n",
       "      <td>0</td>\n",
       "      <td>28386</td>\n",
       "    </tr>\n",
       "    <tr>\n",
       "      <th>2</th>\n",
       "      <td>0</td>\n",
       "      <td>1</td>\n",
       "      <td>41</td>\n",
       "    </tr>\n",
       "    <tr>\n",
       "      <th>3</th>\n",
       "      <td>1</td>\n",
       "      <td>1</td>\n",
       "      <td>6</td>\n",
       "    </tr>\n",
       "  </tbody>\n",
       "</table>\n",
       "</div>"
      ],
      "text/plain": [
       "   predicted_Class  Class  count\n",
       "0                1      0     69\n",
       "1                0      0  28386\n",
       "2                0      1     41\n",
       "3                1      1      6"
      ]
     },
     "execution_count": 41,
     "metadata": {},
     "output_type": "execute_result"
    }
   ],
   "source": [
    "query = f\"\"\"\n",
    "WITH ANOMALIES AS (\n",
    "        SELECT {VAR_TARGET},\n",
    "            CASE\n",
    "                WHEN is_anomaly = TRUE THEN 1\n",
    "                WHEN is_anomaly = FALSE THEN 0\n",
    "            END as predicted_{VAR_TARGET}\n",
    "        FROM ML.DETECT_ANOMALIES (\n",
    "            MODEL `{BQ_PROJECT}.{BQ_DATASET}.{BQ_MODEL}`,\n",
    "            STRUCT ({TRAIN_FRAUD_PCT} AS contamination),\n",
    "            (SELECT *\n",
    "            FROM `{BQ_PROJECT}.{BQ_DATASET}.{BQ_TABLE}`\n",
    "            WHERE splits = 'TEST')\n",
    "          )\n",
    "      )\n",
    "SELECT predicted_{VAR_TARGET}, {VAR_TARGET}, count(*) as count\n",
    "FROM ANOMALIES\n",
    "GROUP BY predicted_{VAR_TARGET}, {VAR_TARGET}\n",
    "\"\"\"\n",
    "bq.query(query = query).to_dataframe()"
   ]
  },
  {
   "cell_type": "markdown",
   "id": "a9eac7c6-3202-41ef-941f-48e44dfcf574",
   "metadata": {},
   "source": [
    "---\n",
    "## Custom Eval Metrics\n",
    "Retrieve the predictions to a local dataframe and use [scikit-learn](https://scikit-learn.org/stable/index.html) metrics [fuctions](https://scikit-learn.org/stable/modules/model_evaluation.html) to do model evaluation."
   ]
  },
  {
   "cell_type": "code",
   "execution_count": 48,
   "id": "028ff6a0-2970-4a7a-ba68-047d85cc69c0",
   "metadata": {},
   "outputs": [
    {
     "data": {
      "text/html": [
       "<div>\n",
       "<style scoped>\n",
       "    .dataframe tbody tr th:only-of-type {\n",
       "        vertical-align: middle;\n",
       "    }\n",
       "\n",
       "    .dataframe tbody tr th {\n",
       "        vertical-align: top;\n",
       "    }\n",
       "\n",
       "    .dataframe thead th {\n",
       "        text-align: right;\n",
       "    }\n",
       "</style>\n",
       "<table border=\"1\" class=\"dataframe\">\n",
       "  <thead>\n",
       "    <tr style=\"text-align: right;\">\n",
       "      <th></th>\n",
       "      <th>Class</th>\n",
       "      <th>predicted_Class</th>\n",
       "    </tr>\n",
       "  </thead>\n",
       "  <tbody>\n",
       "    <tr>\n",
       "      <th>0</th>\n",
       "      <td>0</td>\n",
       "      <td>0</td>\n",
       "    </tr>\n",
       "    <tr>\n",
       "      <th>1</th>\n",
       "      <td>0</td>\n",
       "      <td>0</td>\n",
       "    </tr>\n",
       "    <tr>\n",
       "      <th>2</th>\n",
       "      <td>0</td>\n",
       "      <td>0</td>\n",
       "    </tr>\n",
       "    <tr>\n",
       "      <th>3</th>\n",
       "      <td>0</td>\n",
       "      <td>0</td>\n",
       "    </tr>\n",
       "    <tr>\n",
       "      <th>4</th>\n",
       "      <td>0</td>\n",
       "      <td>0</td>\n",
       "    </tr>\n",
       "    <tr>\n",
       "      <th>...</th>\n",
       "      <td>...</td>\n",
       "      <td>...</td>\n",
       "    </tr>\n",
       "    <tr>\n",
       "      <th>28497</th>\n",
       "      <td>0</td>\n",
       "      <td>0</td>\n",
       "    </tr>\n",
       "    <tr>\n",
       "      <th>28498</th>\n",
       "      <td>0</td>\n",
       "      <td>0</td>\n",
       "    </tr>\n",
       "    <tr>\n",
       "      <th>28499</th>\n",
       "      <td>0</td>\n",
       "      <td>0</td>\n",
       "    </tr>\n",
       "    <tr>\n",
       "      <th>28500</th>\n",
       "      <td>0</td>\n",
       "      <td>0</td>\n",
       "    </tr>\n",
       "    <tr>\n",
       "      <th>28501</th>\n",
       "      <td>0</td>\n",
       "      <td>0</td>\n",
       "    </tr>\n",
       "  </tbody>\n",
       "</table>\n",
       "<p>28502 rows × 2 columns</p>\n",
       "</div>"
      ],
      "text/plain": [
       "       Class  predicted_Class\n",
       "0          0                0\n",
       "1          0                0\n",
       "2          0                0\n",
       "3          0                0\n",
       "4          0                0\n",
       "...      ...              ...\n",
       "28497      0                0\n",
       "28498      0                0\n",
       "28499      0                0\n",
       "28500      0                0\n",
       "28501      0                0\n",
       "\n",
       "[28502 rows x 2 columns]"
      ]
     },
     "execution_count": 48,
     "metadata": {},
     "output_type": "execute_result"
    }
   ],
   "source": [
    "query = f\"\"\"\n",
    "SELECT {VAR_TARGET},\n",
    "    CASE\n",
    "        WHEN is_anomaly = TRUE THEN 1\n",
    "        WHEN is_anomaly = FALSE THEN 0\n",
    "    END as predicted_{VAR_TARGET}\n",
    "FROM ML.DETECT_ANOMALIES (\n",
    "    MODEL `{BQ_PROJECT}.{BQ_DATASET}.{BQ_MODEL}`,\n",
    "    STRUCT ({TRAIN_FRAUD_PCT} AS contamination),\n",
    "    (SELECT *\n",
    "    FROM `{BQ_PROJECT}.{BQ_DATASET}.{BQ_TABLE}`\n",
    "    WHERE splits = 'TEST')\n",
    "  )\n",
    "\"\"\"\n",
    "results = bq.query(query = query).to_dataframe()\n",
    "results"
   ]
  },
  {
   "cell_type": "code",
   "execution_count": 50,
   "id": "38cdad43-e703-4d58-b946-877817b5f790",
   "metadata": {},
   "outputs": [
    {
     "data": {
      "text/plain": [
       "array([[28386,    69],\n",
       "       [   41,     6]])"
      ]
     },
     "execution_count": 50,
     "metadata": {},
     "output_type": "execute_result"
    }
   ],
   "source": [
    "metrics.confusion_matrix(results[f'{VAR_TARGET}'], results[f'predicted_{VAR_TARGET}'])"
   ]
  },
  {
   "cell_type": "code",
   "execution_count": 51,
   "id": "2d2fcf0b-d7ee-4461-bf7f-ebe472652aee",
   "metadata": {},
   "outputs": [
    {
     "data": {
      "text/plain": [
       "<sklearn.metrics._plot.confusion_matrix.ConfusionMatrixDisplay at 0x7f23b76ac050>"
      ]
     },
     "execution_count": 51,
     "metadata": {},
     "output_type": "execute_result"
    },
    {
     "data": {
      "image/png": "[encoded data removed]",
      "text/plain": [
       "<Figure size 432x288 with 2 Axes>"
      ]
     },
     "metadata": {
      "needs_background": "light"
     },
     "output_type": "display_data"
    }
   ],
   "source": [
    "disp = metrics.ConfusionMatrixDisplay(\n",
    "    confusion_matrix = metrics.confusion_matrix(results[f'{VAR_TARGET}'], results[f'predicted_{VAR_TARGET}'])\n",
    ")\n",
    "disp.plot()"
   ]
  },
  {
   "cell_type": "code",
   "execution_count": 52,
   "id": "778c6e6b-c309-473b-8ed6-65bd95495f0f",
   "metadata": {},
   "outputs": [
    {
     "data": {
      "text/plain": [
       "0.9961406217107571"
      ]
     },
     "execution_count": 52,
     "metadata": {},
     "output_type": "execute_result"
    }
   ],
   "source": [
    "metrics.accuracy_score(results[f'{VAR_TARGET}'], results[f'predicted_{VAR_TARGET}'])"
   ]
  },
  {
   "cell_type": "code",
   "execution_count": 53,
   "id": "39aa5532-0129-4393-9ba0-a9cf47509410",
   "metadata": {},
   "outputs": [
    {
     "name": "stdout",
     "output_type": "stream",
     "text": [
      "              precision    recall  f1-score   support\n",
      "\n",
      "           0       1.00      1.00      1.00     28455\n",
      "           1       0.08      0.13      0.10        47\n",
      "\n",
      "    accuracy                           1.00     28502\n",
      "   macro avg       0.54      0.56      0.55     28502\n",
      "weighted avg       1.00      1.00      1.00     28502\n",
      "\n"
     ]
    }
   ],
   "source": [
    "print(metrics.classification_report(results[f'{VAR_TARGET}'], results[f'predicted_{VAR_TARGET}']))"
   ]
  },
  {
   "cell_type": "markdown",
   "id": "d748eeb4-f3bd-43f9-90d5-6a44bfe07d76",
   "metadata": {},
   "source": [
    "---\n",
    "## Serving With Vertex AI\n",
    "\n",
    "This demonstration shows the process of exporting and registering a BQML model with Vertex AI Model Registry.  To directly integrate BQML with Vertex AI Model Registry it is now (April 1, 2022) possible at model creation time with options `vertex_ai_model_id` and `vertex_ai_model_version_alises`. See the documentation for this direct integration [here](https://cloud.google.com/bigquery-ml/docs/managing-models-vertex)."
   ]
  },
  {
   "cell_type": "markdown",
   "id": "7a49d2b0-1e95-415f-9656-5a3338d37c9a",
   "metadata": {},
   "source": [
    "### Export the BigQuery Model\n",
    "\n",
    "Reference: [Export the BigQuery Model](https://cloud.google.com/bigquery-ml/docs/exporting-models)"
   ]
  },
  {
   "cell_type": "code",
   "execution_count": 54,
   "id": "c8af9a77-f719-4739-af2c-6f9721eca640",
   "metadata": {},
   "outputs": [
    {
     "data": {
      "text/plain": [
       "<google.cloud.bigquery.table._EmptyRowIterator at 0x7f23b45706d0>"
      ]
     },
     "execution_count": 54,
     "metadata": {},
     "output_type": "execute_result"
    }
   ],
   "source": [
    "query = f\"\"\"\n",
    "EXPORT MODEL `{BQ_PROJECT}.{BQ_DATASET}.{BQ_MODEL}`\n",
    "    OPTIONS (URI = '{URI}/models/{TIMESTAMP}/model')\n",
    "\"\"\"\n",
    "export = bq.query(query = query)\n",
    "export.result()"
   ]
  },
  {
   "cell_type": "code",
   "execution_count": 55,
   "id": "1c5e52d6-b73f-4b00-96d9-ae5096b272b6",
   "metadata": {},
   "outputs": [
    {
     "data": {
      "text/plain": [
       "35.316"
      ]
     },
     "execution_count": 55,
     "metadata": {},
     "output_type": "execute_result"
    }
   ],
   "source": [
    "(export.ended - export.started).total_seconds()"
   ]
  },
  {
   "cell_type": "code",
   "execution_count": 73,
   "id": "442297c3-3c6b-4e0e-80ce-74e55c2c0382",
   "metadata": {},
   "outputs": [
    {
     "data": {
      "text/plain": [
       "['gs://statmike-mlops-349915/03/kmeans/models/20221005000845/model/',\n",
       " 'gs://statmike-mlops-349915/03/kmeans/models/20221005000845/model/saved_model.pb',\n",
       " 'gs://statmike-mlops-349915/03/kmeans/models/20221005000845/model/variables/']"
      ]
     },
     "execution_count": 73,
     "metadata": {},
     "output_type": "execute_result"
    }
   ],
   "source": [
    "listing = !gsutil ls {URI}/models/{TIMESTAMP}/model\n",
    "listing"
   ]
  },
  {
   "cell_type": "code",
   "execution_count": 74,
   "id": "b0535806-49e5-42c2-807d-f1b9cb4082d0",
   "metadata": {},
   "outputs": [
    {
     "name": "stdout",
     "output_type": "stream",
     "text": [
      "View the export in the console:\n",
      "https://console.cloud.google.com/storage/browser/statmike-mlops-349915/03/kmeans/models/20221005000845/model?project=statmike-mlops-349915\n"
     ]
    }
   ],
   "source": [
    "print(f\"View the export in the console:\\nhttps://console.cloud.google.com/storage/browser/{URI.split('//')[-1]}/models/{TIMESTAMP}/model?project={PROJECT_ID}\")"
   ]
  },
  {
   "cell_type": "markdown",
   "id": "2712cd46-47df-4e93-b461-5d53c7495533",
   "metadata": {},
   "source": [
    "### Detect The Model Types Framework"
   ]
  },
  {
   "cell_type": "code",
   "execution_count": 75,
   "id": "a1e84302-3589-4ed3-9dcc-64f68c181519",
   "metadata": {},
   "outputs": [
    {
     "name": "stdout",
     "output_type": "stream",
     "text": [
      "framework = TensorFlow\n"
     ]
    }
   ],
   "source": [
    "filetype = {'pb': 'TensorFlow', 'bst': 'XGBoost'}\n",
    "\n",
    "filetypes = [filetype[f.split('.')[-1]] for f in listing if f.split('.')[-1] in ['pb','bst']]\n",
    "if len(filetypes) == 1:\n",
    "    framework = filetypes[0]\n",
    "    print(f'framework = {framework}')\n",
    "else:\n",
    "    raise TypeError(f\"Model Type Undeteremined!! Review the contents of of 'listing = {listing}'.\")"
   ]
  },
  {
   "cell_type": "markdown",
   "id": "7f04a57c-b7eb-4201-aeb1-951e2dc41505",
   "metadata": {},
   "source": [
    "Set the `DEPLOY_IMAGE` based on the framework:"
   ]
  },
  {
   "cell_type": "code",
   "execution_count": 76,
   "id": "79f50e1d-b2a1-4e98-b410-33bd42152268",
   "metadata": {},
   "outputs": [
    {
     "data": {
      "text/plain": [
       "'us-docker.pkg.dev/vertex-ai/prediction/tf2-cpu.2-3:latest'"
      ]
     },
     "execution_count": 76,
     "metadata": {},
     "output_type": "execute_result"
    }
   ],
   "source": [
    "if framework == 'TensorFlow':\n",
    "    DEPLOY_IMAGE = TF_DEPLOY_IMAGE\n",
    "elif framework == 'XGBoost':\n",
    "    DEPLOY_IMAGE = XGB_DEPLOY_IMAGE\n",
    "    \n",
    "DEPLOY_IMAGE"
   ]
  },
  {
   "cell_type": "markdown",
   "id": "45de3c99-649d-4284-9565-76e4c2f05759",
   "metadata": {},
   "source": [
    "### Upload The Model To Vertex AI Model Registry\n",
    "\n",
    "References:\n",
    "- [aiplatform.Model](https://cloud.google.com/python/docs/reference/aiplatform/latest/google.cloud.aiplatform.Model)"
   ]
  },
  {
   "cell_type": "code",
   "execution_count": 77,
   "id": "eedce529-e311-4c93-9c4c-6ee23cdd9845",
   "metadata": {},
   "outputs": [
    {
     "name": "stdout",
     "output_type": "stream",
     "text": [
      "Model Already in Registry:\n",
      "This version already loaded, no action taken.\n"
     ]
    }
   ],
   "source": [
    "modelmatch = aiplatform.Model.list(filter = f'display_name={SERIES}_{EXPERIMENT} AND labels.series={SERIES} AND labels.experiment={EXPERIMENT}')\n",
    "\n",
    "upload_model = True\n",
    "if modelmatch:\n",
    "    print(\"Model Already in Registry:\")\n",
    "    if RUN_NAME in modelmatch[0].version_aliases:\n",
    "        print(\"This version already loaded, no action taken.\")\n",
    "        upload_model = False\n",
    "        model = aiplatform.Model(model_name = modelmatch[0].resource_name)\n",
    "    else:\n",
    "        print('Loading model as new default version.')\n",
    "        parent_model =  modelmatch[0].resource_name\n",
    "else:\n",
    "    print('This is a new model, adding to model registry as version 1')\n",
    "    parent_model = ''\n",
    "\n",
    "if upload_model:\n",
    "    model = aiplatform.Model.upload(\n",
    "        display_name = f'{SERIES}_{EXPERIMENT}',\n",
    "        model_id = f'model_{SERIES}_{EXPERIMENT}',\n",
    "        parent_model = parent_model,\n",
    "        serving_container_image_uri = DEPLOY_IMAGE,\n",
    "        artifact_uri = f\"{URI}/models/{TIMESTAMP}/model\",\n",
    "        is_default_version = True,\n",
    "        version_aliases = [RUN_NAME],\n",
    "        version_description = RUN_NAME,\n",
    "        labels = {'series' : f'{SERIES}', 'experiment' : f'{EXPERIMENT}', 'timestamp': f'{TIMESTAMP}', 'run_name' : f'{RUN_NAME}', 'framework' : f'{framework.lower()}'}\n",
    "    )  "
   ]
  },
  {
   "cell_type": "code",
   "execution_count": 78,
   "id": "a8e06a4f-80d3-45dc-9a1a-aaae8339d0e3",
   "metadata": {},
   "outputs": [
    {
     "data": {
      "text/plain": [
       "'03_kmeans'"
      ]
     },
     "execution_count": 78,
     "metadata": {},
     "output_type": "execute_result"
    }
   ],
   "source": [
    "model.display_name"
   ]
  },
  {
   "cell_type": "code",
   "execution_count": 79,
   "id": "25d76419-de25-4ddf-80f1-73b8a146f879",
   "metadata": {},
   "outputs": [
    {
     "data": {
      "text/plain": [
       "'projects/1026793852137/locations/us-central1/models/model_03_kmeans'"
      ]
     },
     "execution_count": 79,
     "metadata": {},
     "output_type": "execute_result"
    }
   ],
   "source": [
    "model.resource_name"
   ]
  },
  {
   "cell_type": "code",
   "execution_count": 80,
   "id": "0bda354e-71f3-447e-9968-d5e1c3bcd391",
   "metadata": {},
   "outputs": [
    {
     "name": "stdout",
     "output_type": "stream",
     "text": [
      "View the model in the Vertex AI Console:\n",
      "https://console.cloud.google.com/vertex-ai/locations/us-central1/models/model_03_kmeans?project=statmike-mlops-349915\n"
     ]
    }
   ],
   "source": [
    "print(f\"View the model in the Vertex AI Console:\\nhttps://console.cloud.google.com/vertex-ai/locations/{REGION}/models/model_{SERIES}_{EXPERIMENT}?project={PROJECT_ID}\")"
   ]
  },
  {
   "cell_type": "markdown",
   "id": "063be09a-1df7-41f1-8b78-9d9e40834cfd",
   "metadata": {},
   "source": [
    "---\n",
    "## Online Predictions with Vertex AI Endpoints"
   ]
  },
  {
   "cell_type": "markdown",
   "id": "9b760faa-46e7-46b4-8b7e-0e5f6a6c0e94",
   "metadata": {},
   "source": [
    "### Create/Retrieve An Endpoint\n",
    "References:\n",
    "- [aiplatform.Endpoint()](https://cloud.google.com/python/docs/reference/aiplatform/latest/google.cloud.aiplatform.Endpoint)"
   ]
  },
  {
   "cell_type": "code",
   "execution_count": 81,
   "id": "a00bde54-48d0-4937-a39d-96fe9ae97543",
   "metadata": {},
   "outputs": [
    {
     "name": "stdout",
     "output_type": "stream",
     "text": [
      "Endpoint Exists: projects/1026793852137/locations/us-central1/endpoints/7506942026919706624\n",
      "Review the Endpoint in the Console:\n",
      "https://console.cloud.google.com/vertex-ai/locations/us-central1/endpoints/7506942026919706624?project=statmike-mlops-349915\n"
     ]
    }
   ],
   "source": [
    "endpoints = aiplatform.Endpoint.list(filter = f\"labels.series={SERIES}\")\n",
    "if endpoints:\n",
    "    endpoint = endpoints[0]\n",
    "    print(f\"Endpoint Exists: {endpoints[0].resource_name}\")\n",
    "else:\n",
    "    endpoint = aiplatform.Endpoint.create(\n",
    "        display_name = f\"{SERIES}\",\n",
    "        labels = {'series' : f\"{SERIES}\"}    \n",
    "    )\n",
    "    print(f\"Endpoint Created: {endpoint.resource_name}\")\n",
    "\n",
    "print(f'Review the Endpoint in the Console:\\nhttps://console.cloud.google.com/vertex-ai/locations/{REGION}/endpoints/{endpoint.name}?project={PROJECT_ID}')"
   ]
  },
  {
   "cell_type": "code",
   "execution_count": 82,
   "id": "02fe9c29-a537-4e1e-a0b9-e31491043e08",
   "metadata": {},
   "outputs": [
    {
     "data": {
      "text/plain": [
       "'03'"
      ]
     },
     "execution_count": 82,
     "metadata": {},
     "output_type": "execute_result"
    }
   ],
   "source": [
    "endpoint.display_name"
   ]
  },
  {
   "cell_type": "code",
   "execution_count": 83,
   "id": "e2f82332-5d9c-479b-8afe-234622b6ab44",
   "metadata": {},
   "outputs": [
    {
     "data": {
      "text/plain": [
       "{'7939340367705407488': 100}"
      ]
     },
     "execution_count": 83,
     "metadata": {},
     "output_type": "execute_result"
    }
   ],
   "source": [
    "endpoint.traffic_split"
   ]
  },
  {
   "cell_type": "code",
   "execution_count": 84,
   "id": "d88e2bbe-aaeb-4d24-be0c-8eb939b3ea3b",
   "metadata": {},
   "outputs": [],
   "source": [
    "deployed_models = endpoint.list_models()\n",
    "#deployed_models"
   ]
  },
  {
   "cell_type": "markdown",
   "id": "0c3ddcda-65c1-44d2-8103-8820375bbe6e",
   "metadata": {},
   "source": [
    "### Deploy Model To Endpoint"
   ]
  },
  {
   "cell_type": "code",
   "execution_count": 85,
   "id": "62adba0d-e0a7-4f45-ac5a-0c17d042323e",
   "metadata": {},
   "outputs": [
    {
     "name": "stdout",
     "output_type": "stream",
     "text": [
      "Deploying model with 100% of traffic...\n",
      "Deploying Model projects/1026793852137/locations/us-central1/models/model_03_kmeans to Endpoint : projects/1026793852137/locations/us-central1/endpoints/7506942026919706624\n"
     ]
    },
    {
     "name": "stderr",
     "output_type": "stream",
     "text": [
      "INFO:google.cloud.aiplatform.models:Deploying Model projects/1026793852137/locations/us-central1/models/model_03_kmeans to Endpoint : projects/1026793852137/locations/us-central1/endpoints/7506942026919706624\n"
     ]
    },
    {
     "name": "stdout",
     "output_type": "stream",
     "text": [
      "Deploy Endpoint model backing LRO: projects/1026793852137/locations/us-central1/endpoints/7506942026919706624/operations/5666494046038654976\n"
     ]
    },
    {
     "name": "stderr",
     "output_type": "stream",
     "text": [
      "INFO:google.cloud.aiplatform.models:Deploy Endpoint model backing LRO: projects/1026793852137/locations/us-central1/endpoints/7506942026919706624/operations/5666494046038654976\n"
     ]
    },
    {
     "name": "stdout",
     "output_type": "stream",
     "text": [
      "Endpoint model deployed. Resource name: projects/1026793852137/locations/us-central1/endpoints/7506942026919706624\n"
     ]
    },
    {
     "name": "stderr",
     "output_type": "stream",
     "text": [
      "INFO:google.cloud.aiplatform.models:Endpoint model deployed. Resource name: projects/1026793852137/locations/us-central1/endpoints/7506942026919706624\n"
     ]
    }
   ],
   "source": [
    "if (model.display_name, model.version_id) not in [(deployed_model.display_name, deployed_model.model_version_id) for deployed_model in endpoint.list_models()]:\n",
    "    print(f'Deploying model with 100% of traffic...')\n",
    "    endpoint.deploy(\n",
    "        model = model,\n",
    "        deployed_model_display_name = model.display_name,\n",
    "        traffic_percentage = 100,\n",
    "        machine_type = DEPLOY_COMPUTE,\n",
    "        min_replica_count = 1,\n",
    "        max_replica_count = 1\n",
    "    )\n",
    "else: \n",
    "    print(f'The current model/version is already deployed.')"
   ]
  },
  {
   "cell_type": "markdown",
   "id": "9d1d45a7-390e-43fa-b0e4-519dda848626",
   "metadata": {},
   "source": [
    "### Remove Deployed Models without Traffic"
   ]
  },
  {
   "cell_type": "code",
   "execution_count": 86,
   "id": "f347f281-1ce2-4e74-bde2-b8e74c709144",
   "metadata": {},
   "outputs": [
    {
     "name": "stdout",
     "output_type": "stream",
     "text": [
      "Model 03_kmeans with version 1 has traffic = 100\n",
      "Undeploying Endpoint model: projects/1026793852137/locations/us-central1/endpoints/7506942026919706624\n"
     ]
    },
    {
     "name": "stderr",
     "output_type": "stream",
     "text": [
      "INFO:google.cloud.aiplatform.models:Undeploying Endpoint model: projects/1026793852137/locations/us-central1/endpoints/7506942026919706624\n"
     ]
    },
    {
     "name": "stdout",
     "output_type": "stream",
     "text": [
      "Undeploy Endpoint model backing LRO: projects/1026793852137/locations/us-central1/endpoints/7506942026919706624/operations/2611364648821194752\n"
     ]
    },
    {
     "name": "stderr",
     "output_type": "stream",
     "text": [
      "INFO:google.cloud.aiplatform.models:Undeploy Endpoint model backing LRO: projects/1026793852137/locations/us-central1/endpoints/7506942026919706624/operations/2611364648821194752\n"
     ]
    },
    {
     "name": "stdout",
     "output_type": "stream",
     "text": [
      "Endpoint model undeployed. Resource name: projects/1026793852137/locations/us-central1/endpoints/7506942026919706624\n"
     ]
    },
    {
     "name": "stderr",
     "output_type": "stream",
     "text": [
      "INFO:google.cloud.aiplatform.models:Endpoint model undeployed. Resource name: projects/1026793852137/locations/us-central1/endpoints/7506942026919706624\n"
     ]
    },
    {
     "name": "stdout",
     "output_type": "stream",
     "text": [
      "Undeploying 03_pca with version 1 because it has no traffic.\n"
     ]
    }
   ],
   "source": [
    "for deployed_model in endpoint.list_models():\n",
    "    if deployed_model.id in endpoint.traffic_split:\n",
    "        print(f\"Model {deployed_model.display_name} with version {deployed_model.model_version_id} has traffic = {endpoint.traffic_split[deployed_model.id]}\")\n",
    "    else:\n",
    "        endpoint.undeploy(deployed_model_id = deployed_model.id)\n",
    "        print(f\"Undeploying {deployed_model.display_name} with version {deployed_model.model_version_id} because it has no traffic.\")"
   ]
  },
  {
   "cell_type": "code",
   "execution_count": 87,
   "id": "fd47dd42-fc0c-4a13-ab42-ebe63fcd658e",
   "metadata": {},
   "outputs": [
    {
     "data": {
      "text/plain": [
       "{'4671978838048112640': 100}"
      ]
     },
     "execution_count": 87,
     "metadata": {},
     "output_type": "execute_result"
    }
   ],
   "source": [
    "endpoint.traffic_split"
   ]
  },
  {
   "cell_type": "code",
   "execution_count": 88,
   "id": "c4dd99d8-2ecf-41a5-855b-2d5ca0deb5af",
   "metadata": {},
   "outputs": [],
   "source": [
    "#endpoint.list_models()"
   ]
  },
  {
   "cell_type": "markdown",
   "id": "03cd5fbf-7e1c-441a-bc79-7e1165b7cedb",
   "metadata": {},
   "source": [
    "---\n",
    "## Prediction"
   ]
  },
  {
   "cell_type": "markdown",
   "id": "4749e855-66a4-4bae-9a28-a8059bab98fd",
   "metadata": {},
   "source": [
    "### Retrieve Records For Prediction"
   ]
  },
  {
   "cell_type": "code",
   "execution_count": 89,
   "id": "c30fc1dc-e0d9-498a-adb4-33de987a47ac",
   "metadata": {},
   "outputs": [],
   "source": [
    "n = 10\n",
    "pred = bq.query(query = f\"SELECT * FROM {BQ_PROJECT}.{BQ_DATASET}.{BQ_TABLE} WHERE splits='TEST' LIMIT {n}\").to_dataframe()"
   ]
  },
  {
   "cell_type": "code",
   "execution_count": 90,
   "id": "fa845eb3-7f5d-40fd-999c-ea87bce527b7",
   "metadata": {},
   "outputs": [
    {
     "data": {
      "text/html": [
       "<div>\n",
       "<style scoped>\n",
       "    .dataframe tbody tr th:only-of-type {\n",
       "        vertical-align: middle;\n",
       "    }\n",
       "\n",
       "    .dataframe tbody tr th {\n",
       "        vertical-align: top;\n",
       "    }\n",
       "\n",
       "    .dataframe thead th {\n",
       "        text-align: right;\n",
       "    }\n",
       "</style>\n",
       "<table border=\"1\" class=\"dataframe\">\n",
       "  <thead>\n",
       "    <tr style=\"text-align: right;\">\n",
       "      <th></th>\n",
       "      <th>Time</th>\n",
       "      <th>V1</th>\n",
       "      <th>V2</th>\n",
       "      <th>V3</th>\n",
       "      <th>V4</th>\n",
       "      <th>V5</th>\n",
       "      <th>V6</th>\n",
       "      <th>V7</th>\n",
       "      <th>V8</th>\n",
       "      <th>V9</th>\n",
       "      <th>...</th>\n",
       "      <th>V23</th>\n",
       "      <th>V24</th>\n",
       "      <th>V25</th>\n",
       "      <th>V26</th>\n",
       "      <th>V27</th>\n",
       "      <th>V28</th>\n",
       "      <th>Amount</th>\n",
       "      <th>Class</th>\n",
       "      <th>transaction_id</th>\n",
       "      <th>splits</th>\n",
       "    </tr>\n",
       "  </thead>\n",
       "  <tbody>\n",
       "    <tr>\n",
       "      <th>0</th>\n",
       "      <td>35337</td>\n",
       "      <td>1.092844</td>\n",
       "      <td>-0.013230</td>\n",
       "      <td>1.359829</td>\n",
       "      <td>2.731537</td>\n",
       "      <td>-0.707357</td>\n",
       "      <td>0.873837</td>\n",
       "      <td>-0.796130</td>\n",
       "      <td>0.437707</td>\n",
       "      <td>0.396770</td>\n",
       "      <td>...</td>\n",
       "      <td>-0.167647</td>\n",
       "      <td>0.027557</td>\n",
       "      <td>0.592115</td>\n",
       "      <td>0.219695</td>\n",
       "      <td>0.036970</td>\n",
       "      <td>0.010984</td>\n",
       "      <td>0.0</td>\n",
       "      <td>0</td>\n",
       "      <td>a1b10547-d270-48c0-b902-7a0f735dadc7</td>\n",
       "      <td>TEST</td>\n",
       "    </tr>\n",
       "    <tr>\n",
       "      <th>1</th>\n",
       "      <td>60481</td>\n",
       "      <td>1.238973</td>\n",
       "      <td>0.035226</td>\n",
       "      <td>0.063003</td>\n",
       "      <td>0.641406</td>\n",
       "      <td>-0.260893</td>\n",
       "      <td>-0.580097</td>\n",
       "      <td>0.049938</td>\n",
       "      <td>-0.034733</td>\n",
       "      <td>0.405932</td>\n",
       "      <td>...</td>\n",
       "      <td>-0.057718</td>\n",
       "      <td>0.104983</td>\n",
       "      <td>0.537987</td>\n",
       "      <td>0.589563</td>\n",
       "      <td>-0.046207</td>\n",
       "      <td>-0.006212</td>\n",
       "      <td>0.0</td>\n",
       "      <td>0</td>\n",
       "      <td>814c62c8-ade4-47d5-bf83-313b0aafdee5</td>\n",
       "      <td>TEST</td>\n",
       "    </tr>\n",
       "    <tr>\n",
       "      <th>2</th>\n",
       "      <td>139587</td>\n",
       "      <td>1.870539</td>\n",
       "      <td>0.211079</td>\n",
       "      <td>0.224457</td>\n",
       "      <td>3.889486</td>\n",
       "      <td>-0.380177</td>\n",
       "      <td>0.249799</td>\n",
       "      <td>-0.577133</td>\n",
       "      <td>0.179189</td>\n",
       "      <td>-0.120462</td>\n",
       "      <td>...</td>\n",
       "      <td>0.180776</td>\n",
       "      <td>-0.060226</td>\n",
       "      <td>-0.228979</td>\n",
       "      <td>0.080827</td>\n",
       "      <td>0.009868</td>\n",
       "      <td>-0.036997</td>\n",
       "      <td>0.0</td>\n",
       "      <td>0</td>\n",
       "      <td>d08a1bfa-85c5-4f1b-9537-1c5a93e6afd0</td>\n",
       "      <td>TEST</td>\n",
       "    </tr>\n",
       "    <tr>\n",
       "      <th>3</th>\n",
       "      <td>162908</td>\n",
       "      <td>-3.368339</td>\n",
       "      <td>-1.980442</td>\n",
       "      <td>0.153645</td>\n",
       "      <td>-0.159795</td>\n",
       "      <td>3.847169</td>\n",
       "      <td>-3.516873</td>\n",
       "      <td>-1.209398</td>\n",
       "      <td>-0.292122</td>\n",
       "      <td>0.760543</td>\n",
       "      <td>...</td>\n",
       "      <td>-1.171627</td>\n",
       "      <td>0.214333</td>\n",
       "      <td>-0.159652</td>\n",
       "      <td>-0.060883</td>\n",
       "      <td>1.294977</td>\n",
       "      <td>0.120503</td>\n",
       "      <td>0.0</td>\n",
       "      <td>0</td>\n",
       "      <td>802f3307-8e5a-4475-b795-5d5d8d7d0120</td>\n",
       "      <td>TEST</td>\n",
       "    </tr>\n",
       "    <tr>\n",
       "      <th>4</th>\n",
       "      <td>165236</td>\n",
       "      <td>2.180149</td>\n",
       "      <td>0.218732</td>\n",
       "      <td>-2.637726</td>\n",
       "      <td>0.348776</td>\n",
       "      <td>1.063546</td>\n",
       "      <td>-1.249197</td>\n",
       "      <td>0.942021</td>\n",
       "      <td>-0.547652</td>\n",
       "      <td>-0.087823</td>\n",
       "      <td>...</td>\n",
       "      <td>-0.176957</td>\n",
       "      <td>0.563779</td>\n",
       "      <td>0.730183</td>\n",
       "      <td>0.707494</td>\n",
       "      <td>-0.131066</td>\n",
       "      <td>-0.090428</td>\n",
       "      <td>0.0</td>\n",
       "      <td>0</td>\n",
       "      <td>c8a5b93a-1598-4689-80be-4f9f5df0b8ce</td>\n",
       "      <td>TEST</td>\n",
       "    </tr>\n",
       "  </tbody>\n",
       "</table>\n",
       "<p>5 rows × 33 columns</p>\n",
       "</div>"
      ],
      "text/plain": [
       "     Time        V1        V2        V3        V4        V5        V6  \\\n",
       "0   35337  1.092844 -0.013230  1.359829  2.731537 -0.707357  0.873837   \n",
       "1   60481  1.238973  0.035226  0.063003  0.641406 -0.260893 -0.580097   \n",
       "2  139587  1.870539  0.211079  0.224457  3.889486 -0.380177  0.249799   \n",
       "3  162908 -3.368339 -1.980442  0.153645 -0.159795  3.847169 -3.516873   \n",
       "4  165236  2.180149  0.218732 -2.637726  0.348776  1.063546 -1.249197   \n",
       "\n",
       "         V7        V8        V9  ...       V23       V24       V25       V26  \\\n",
       "0 -0.796130  0.437707  0.396770  ... -0.167647  0.027557  0.592115  0.219695   \n",
       "1  0.049938 -0.034733  0.405932  ... -0.057718  0.104983  0.537987  0.589563   \n",
       "2 -0.577133  0.179189 -0.120462  ...  0.180776 -0.060226 -0.228979  0.080827   \n",
       "3 -1.209398 -0.292122  0.760543  ... -1.171627  0.214333 -0.159652 -0.060883   \n",
       "4  0.942021 -0.547652 -0.087823  ... -0.176957  0.563779  0.730183  0.707494   \n",
       "\n",
       "        V27       V28  Amount  Class                        transaction_id  \\\n",
       "0  0.036970  0.010984     0.0      0  a1b10547-d270-48c0-b902-7a0f735dadc7   \n",
       "1 -0.046207 -0.006212     0.0      0  814c62c8-ade4-47d5-bf83-313b0aafdee5   \n",
       "2  0.009868 -0.036997     0.0      0  d08a1bfa-85c5-4f1b-9537-1c5a93e6afd0   \n",
       "3  1.294977  0.120503     0.0      0  802f3307-8e5a-4475-b795-5d5d8d7d0120   \n",
       "4 -0.131066 -0.090428     0.0      0  c8a5b93a-1598-4689-80be-4f9f5df0b8ce   \n",
       "\n",
       "   splits  \n",
       "0    TEST  \n",
       "1    TEST  \n",
       "2    TEST  \n",
       "3    TEST  \n",
       "4    TEST  \n",
       "\n",
       "[5 rows x 33 columns]"
      ]
     },
     "execution_count": 90,
     "metadata": {},
     "output_type": "execute_result"
    }
   ],
   "source": [
    "pred.head()"
   ]
  },
  {
   "cell_type": "markdown",
   "id": "68415706-6217-491e-ad69-c9034370d709",
   "metadata": {},
   "source": [
    "Shape as instances: dictionaries of key:value pairs for only features used in model"
   ]
  },
  {
   "cell_type": "code",
   "execution_count": 91,
   "id": "3e3cb0eb-48d4-4417-9c1f-803c301749a7",
   "metadata": {},
   "outputs": [],
   "source": [
    "newobs = pred[pred.columns[~pred.columns.isin(VAR_OMIT.split()+[VAR_TARGET,'splits'])]].to_dict(orient='records')\n",
    "#newobs[0]"
   ]
  },
  {
   "cell_type": "code",
   "execution_count": 92,
   "id": "dd16916a-ae80-4ff4-8571-ba2bec4998bc",
   "metadata": {},
   "outputs": [
    {
     "data": {
      "text/plain": [
       "10"
      ]
     },
     "execution_count": 92,
     "metadata": {},
     "output_type": "execute_result"
    }
   ],
   "source": [
    "len(newobs)"
   ]
  },
  {
   "cell_type": "code",
   "execution_count": 93,
   "id": "0bc825b1-f42c-46da-b72a-df1a8f5d2f05",
   "metadata": {},
   "outputs": [
    {
     "data": {
      "text/plain": [
       "{'Time': 35337,\n",
       " 'V1': 1.0928441854981998,\n",
       " 'V2': -0.0132303486713432,\n",
       " 'V3': 1.35982868199426,\n",
       " 'V4': 2.7315370965921004,\n",
       " 'V5': -0.707357349219652,\n",
       " 'V6': 0.8738370029866129,\n",
       " 'V7': -0.7961301510622031,\n",
       " 'V8': 0.437706509544851,\n",
       " 'V9': 0.39676985012996396,\n",
       " 'V10': 0.587438102569443,\n",
       " 'V11': -0.14979756231827498,\n",
       " 'V12': 0.29514781622888103,\n",
       " 'V13': -1.30382621882143,\n",
       " 'V14': -0.31782283120234495,\n",
       " 'V15': -2.03673231037199,\n",
       " 'V16': 0.376090905274179,\n",
       " 'V17': -0.30040350116459497,\n",
       " 'V18': 0.433799615590844,\n",
       " 'V19': -0.145082264348681,\n",
       " 'V20': -0.240427548108996,\n",
       " 'V21': 0.0376030733329398,\n",
       " 'V22': 0.38002620963091405,\n",
       " 'V23': -0.16764742731151097,\n",
       " 'V24': 0.0275573495476881,\n",
       " 'V25': 0.59211469704354,\n",
       " 'V26': 0.219695164116351,\n",
       " 'V27': 0.0369695108704894,\n",
       " 'V28': 0.010984441006191,\n",
       " 'Amount': 0.0}"
      ]
     },
     "execution_count": 93,
     "metadata": {},
     "output_type": "execute_result"
    }
   ],
   "source": [
    "newobs[0]"
   ]
  },
  {
   "cell_type": "markdown",
   "id": "2850a8f0-1905-4f49-9dd8-7d54d79f3e27",
   "metadata": {},
   "source": [
    "### Get The Model Signature Name (if TensorFlow)"
   ]
  },
  {
   "cell_type": "code",
   "execution_count": 94,
   "id": "c57921f8-b93e-4b01-acfd-2a82338f1c0f",
   "metadata": {},
   "outputs": [
    {
     "name": "stderr",
     "output_type": "stream",
     "text": [
      "2022-10-11 17:50:57.592007: I tensorflow/core/platform/profile_utils/cpu_utils.cc:104] CPU Frequency: 2299995000 Hz\n",
      "2022-10-11 17:50:57.592765: I tensorflow/compiler/xla/service/service.cc:168] XLA service 0x564d1b567aa0 initialized for platform Host (this does not guarantee that XLA will be used). Devices:\n",
      "2022-10-11 17:50:57.592791: I tensorflow/compiler/xla/service/service.cc:176]   StreamExecutor device (0): Host, Default Version\n",
      "2022-10-11 17:50:57.592917: I tensorflow/core/common_runtime/process_util.cc:146] Creating new thread pool with default inter op setting: 2. Tune using inter_op_parallelism_threads for best performance.\n"
     ]
    },
    {
     "name": "stdout",
     "output_type": "stream",
     "text": [
      "serving_default\n"
     ]
    }
   ],
   "source": [
    "if model.labels['framework'] == 'tensorflow':\n",
    "    import tensorflow as tf\n",
    "    reloaded_model = tf.saved_model.load(model.uri)\n",
    "    print(list(reloaded_model.signatures.keys())[0])"
   ]
  },
  {
   "cell_type": "markdown",
   "id": "723c53ce-3cbe-4ca6-bbca-3a8969d2bceb",
   "metadata": {},
   "source": [
    "### Get The Feature Order (if XGBoost)"
   ]
  },
  {
   "cell_type": "code",
   "execution_count": 95,
   "id": "beebe945-9862-4264-9e25-9d52bcfb0c1f",
   "metadata": {},
   "outputs": [],
   "source": [
    "if model.labels['framework'] == 'xgboost':\n",
    "    import gcsfs\n",
    "    import tensorflow as tf\n",
    "    file = f'{model.uri}/assets/model_metadata.json'\n",
    "    if tf.io.gfile.exists(file):\n",
    "        gcs = gcsfs.GCSFileSystem(project = PROJECT_ID)\n",
    "        with gcs.open(file) as fp:\n",
    "            features = json.load(fp)['feature_names']\n",
    "    else:\n",
    "        features = list(newobs[0].keys())"
   ]
  },
  {
   "cell_type": "markdown",
   "id": "351239a0-7447-4ede-a88e-fe79150e42fa",
   "metadata": {},
   "source": [
    "### Prepare Instance For Prediction\n",
    "\n",
    "Depending on which framework the model is trained with the instance format may be different.  More information can be found [here](https://cloud.google.com/vertex-ai/docs/predictions/online-predictions-custom-models#request-body-details)."
   ]
  },
  {
   "cell_type": "markdown",
   "id": "67c6ebaa-ab79-4ad1-8b43-318b7e1b2873",
   "metadata": {},
   "source": [
    "Instances:"
   ]
  },
  {
   "cell_type": "code",
   "execution_count": 96,
   "id": "b7dae473-7393-442f-8649-74c47842687f",
   "metadata": {},
   "outputs": [],
   "source": [
    "if model.labels['framework'] == 'tensorflow':\n",
    "    instances = {\"instances\": [newob for newob in newobs[0:1]], \"signature_name\": list(reloaded_model.signatures.keys())[0]}\n",
    "elif model.labels['framework'] == 'xgboost':\n",
    "    instances = {\"instances\": [[newob[f] for f in features] for newob in newobs[0:1]]}\n",
    "    \n",
    "http_body = httpbody_pb2.HttpBody(\n",
    "    data = json.dumps(instances).encode(\"utf-8\"),\n",
    "    content_type = \"application/json\"\n",
    ")"
   ]
  },
  {
   "cell_type": "code",
   "execution_count": 97,
   "id": "fabf7e06-6abe-4fe2-8010-813bcbfcc6cf",
   "metadata": {},
   "outputs": [
    {
     "name": "stdout",
     "output_type": "stream",
     "text": [
      "{'instances': [{'Time': 35337, 'V1': 1.0928441854981998, 'V2': -0.0132303486713432, 'V3': 1.35982868199426, 'V4': 2.7315370965921004, 'V5': -0.707357349219652, 'V6': 0.8738370029866129, 'V7': -0.7961301510622031, 'V8': 0.437706509544851, 'V9': 0.39676985012996396, 'V10': 0.587438102569443, 'V11': -0.14979756231827498, 'V12': 0.29514781622888103, 'V13': -1.30382621882143, 'V14': -0.31782283120234495, 'V15': -2.03673231037199, 'V16': 0.376090905274179, 'V17': -0.30040350116459497, 'V18': 0.433799615590844, 'V19': -0.145082264348681, 'V20': -0.240427548108996, 'V21': 0.0376030733329398, 'V22': 0.38002620963091405, 'V23': -0.16764742731151097, 'V24': 0.0275573495476881, 'V25': 0.59211469704354, 'V26': 0.219695164116351, 'V27': 0.0369695108704894, 'V28': 0.010984441006191, 'Amount': 0.0}], 'signature_name': 'serving_default'}\n"
     ]
    }
   ],
   "source": [
    "print(instances)"
   ]
  },
  {
   "cell_type": "markdown",
   "id": "6122cca3-1e56-4b2f-ac20-e217cc683383",
   "metadata": {},
   "source": [
    "### Get Predictions: Python Client\n",
    "\n",
    "Using Raw Prediction here. This is methods of export from BigQuery have different model signatures and raw prediction client for Vertex AI allow the signature to be include in the request.\n",
    "\n",
    "Reference:\n",
    "- [aiplatform.gapic.PredictionSerivceClient.raw_predict()](https://cloud.google.com/python/docs/reference/aiplatform/latest/google.cloud.aiplatform_v1.services.prediction_service.PredictionServiceClient#google_cloud_aiplatform_v1_services_prediction_service_PredictionServiceClient_raw_predict)"
   ]
  },
  {
   "cell_type": "markdown",
   "id": "300805dd-40c7-48f9-9d9d-b7c94c2ec299",
   "metadata": {},
   "source": [
    "Client:"
   ]
  },
  {
   "cell_type": "code",
   "execution_count": 98,
   "id": "020d6feb-567e-413d-b39e-38d1c39333f7",
   "metadata": {},
   "outputs": [],
   "source": [
    "client_options = {\"api_endpoint\": f\"{REGION}-aiplatform.googleapis.com\"}\n",
    "predictor = aiplatform.gapic.PredictionServiceClient(client_options = client_options)"
   ]
  },
  {
   "cell_type": "markdown",
   "id": "b0cc6bd4-929d-44b3-8307-2b619273d9b9",
   "metadata": {},
   "source": [
    "Prediction:"
   ]
  },
  {
   "cell_type": "code",
   "execution_count": 120,
   "id": "e70c730d-b05b-44c0-814c-53797aa18250",
   "metadata": {},
   "outputs": [],
   "source": [
    "prediction = predictor.raw_predict(\n",
    "    endpoint = endpoint.resource_name,\n",
    "    http_body = http_body\n",
    ")"
   ]
  },
  {
   "cell_type": "code",
   "execution_count": 121,
   "id": "97a3e7b8-ac5f-4b8e-af9a-19df0e4bf6da",
   "metadata": {},
   "outputs": [],
   "source": [
    "#prediction"
   ]
  },
  {
   "cell_type": "markdown",
   "id": "5be3f219-37ce-4d1e-a749-ce57abe6e5c9",
   "metadata": {},
   "source": [
    "Format raw prediction response using JSON:"
   ]
  },
  {
   "cell_type": "code",
   "execution_count": 100,
   "id": "c7a5daeb-7944-47c3-89b0-461412d132d5",
   "metadata": {},
   "outputs": [
    {
     "data": {
      "text/plain": [
       "{'predictions': [{'centroid_distances': [13.066273115349231,\n",
       "    87.59581402503412,\n",
       "    217.48000749746765,\n",
       "    23.398802822072827,\n",
       "    29.26389298384311,\n",
       "    55.583093719552814,\n",
       "    5.864400746481293,\n",
       "    63.592193641693136,\n",
       "    41.146255638922675,\n",
       "    39.05393550558039,\n",
       "    7.810885642299724,\n",
       "    21.271252686853824,\n",
       "    12.15346078495,\n",
       "    4.647669087391433,\n",
       "    16.44852968478594,\n",
       "    4.47028230204477,\n",
       "    6.2675855288061015,\n",
       "    4.857830123965473,\n",
       "    17.875468248064536,\n",
       "    10.392469119629801,\n",
       "    6.041404984831782,\n",
       "    5.551057570369169,\n",
       "    9.034101338295487,\n",
       "    6.413700252890213,\n",
       "    4.149192177128567,\n",
       "    8.082408296832748,\n",
       "    5.208903627693358,\n",
       "    27.990005462269583,\n",
       "    9.699731453800906,\n",
       "    4.970306497235835,\n",
       "    4.609560967916862,\n",
       "    3.2252435681154763,\n",
       "    5.751799563781289,\n",
       "    6.7338355284368205,\n",
       "    6.935247830718387,\n",
       "    4.861871087773881,\n",
       "    5.358499545480742,\n",
       "    16.157547132465634,\n",
       "    5.422339510116985,\n",
       "    9.37201272428137,\n",
       "    17.04883267653435,\n",
       "    5.02638143184548,\n",
       "    5.1231499674233145],\n",
       "   'centroid_ids': [1,\n",
       "    2,\n",
       "    3,\n",
       "    4,\n",
       "    5,\n",
       "    6,\n",
       "    7,\n",
       "    8,\n",
       "    9,\n",
       "    10,\n",
       "    11,\n",
       "    12,\n",
       "    13,\n",
       "    14,\n",
       "    15,\n",
       "    16,\n",
       "    17,\n",
       "    18,\n",
       "    19,\n",
       "    20,\n",
       "    21,\n",
       "    22,\n",
       "    23,\n",
       "    24,\n",
       "    25,\n",
       "    26,\n",
       "    27,\n",
       "    28,\n",
       "    29,\n",
       "    30,\n",
       "    31,\n",
       "    32,\n",
       "    33,\n",
       "    34,\n",
       "    35,\n",
       "    36,\n",
       "    37,\n",
       "    38,\n",
       "    39,\n",
       "    40,\n",
       "    41,\n",
       "    42,\n",
       "    43],\n",
       "   'nearest_centroid_id': [32]}]}"
      ]
     },
     "execution_count": 100,
     "metadata": {},
     "output_type": "execute_result"
    }
   ],
   "source": [
    "prediction = json.loads(prediction.data)\n",
    "prediction"
   ]
  },
  {
   "cell_type": "markdown",
   "id": "4a4182f3-cecf-4922-81cc-2525d0c0febd",
   "metadata": {},
   "source": [
    "### Get Predictions: REST\n",
    "Reference:\n",
    "- [POST https://{REGION}-aiplatform.googleapis.com/v1/{endpoint}:rawPredict](https://cloud.google.com/python/docs/reference/aiplatform/latest/google.cloud.aiplatform_v1.services.prediction_service.PredictionServiceClient#google_cloud_aiplatform_v1_services_prediction_service_PredictionServiceClient_raw_predict)"
   ]
  },
  {
   "cell_type": "markdown",
   "id": "8a700d32-a00c-4c99-9177-9a2f95fc4982",
   "metadata": {},
   "source": [
    "Prepare request:"
   ]
  },
  {
   "cell_type": "code",
   "execution_count": 101,
   "id": "7d125a16-01ca-40b7-a816-1d02845f59e9",
   "metadata": {},
   "outputs": [],
   "source": [
    "with open(f'{DIR}/request.json','w') as file:\n",
    "    file.write(json.dumps(instances))"
   ]
  },
  {
   "cell_type": "markdown",
   "id": "cc34de2d-1068-4e72-8c2f-793d051d95fc",
   "metadata": {},
   "source": [
    "Prediction:"
   ]
  },
  {
   "cell_type": "code",
   "execution_count": 117,
   "id": "b05edb4c-a97c-4d7a-b668-5f9598fb6b30",
   "metadata": {},
   "outputs": [],
   "source": [
    "prediction = !curl -s POST \\\n",
    "-H \"Authorization: Bearer \"$(gcloud auth application-default print-access-token) \\\n",
    "-H \"Content-Type: application/json; charset=utf-8\" \\\n",
    "-d @{DIR}/request.json \\\n",
    "https://{REGION}-aiplatform.googleapis.com/v1/{endpoint.resource_name}:rawPredict"
   ]
  },
  {
   "cell_type": "code",
   "execution_count": 118,
   "id": "82a6c5de-25a6-4a1e-8274-3c82b88eed28",
   "metadata": {},
   "outputs": [],
   "source": [
    "#prediction"
   ]
  },
  {
   "cell_type": "markdown",
   "id": "d8fde323-4839-45b7-b292-e81406460080",
   "metadata": {},
   "source": [
    "Format raw prediction response using JSON:"
   ]
  },
  {
   "cell_type": "code",
   "execution_count": 119,
   "id": "803c5db5-f180-4e41-aa0e-7e0abf5cc2b2",
   "metadata": {},
   "outputs": [
    {
     "data": {
      "text/plain": [
       "{'predictions': [{'centroid_ids': [1,\n",
       "    2,\n",
       "    3,\n",
       "    4,\n",
       "    5,\n",
       "    6,\n",
       "    7,\n",
       "    8,\n",
       "    9,\n",
       "    10,\n",
       "    11,\n",
       "    12,\n",
       "    13,\n",
       "    14,\n",
       "    15,\n",
       "    16,\n",
       "    17,\n",
       "    18,\n",
       "    19,\n",
       "    20,\n",
       "    21,\n",
       "    22,\n",
       "    23,\n",
       "    24,\n",
       "    25,\n",
       "    26,\n",
       "    27,\n",
       "    28,\n",
       "    29,\n",
       "    30,\n",
       "    31,\n",
       "    32,\n",
       "    33,\n",
       "    34,\n",
       "    35,\n",
       "    36,\n",
       "    37,\n",
       "    38,\n",
       "    39,\n",
       "    40,\n",
       "    41,\n",
       "    42,\n",
       "    43],\n",
       "   'nearest_centroid_id': [32],\n",
       "   'centroid_distances': [13.066273115349231,\n",
       "    87.59581402503412,\n",
       "    217.48000749746765,\n",
       "    23.398802822072827,\n",
       "    29.26389298384311,\n",
       "    55.583093719552814,\n",
       "    5.864400746481293,\n",
       "    63.592193641693136,\n",
       "    41.146255638922675,\n",
       "    39.05393550558039,\n",
       "    7.810885642299724,\n",
       "    21.271252686853824,\n",
       "    12.15346078495,\n",
       "    4.647669087391433,\n",
       "    16.44852968478594,\n",
       "    4.47028230204477,\n",
       "    6.2675855288061015,\n",
       "    4.857830123965473,\n",
       "    17.875468248064536,\n",
       "    10.392469119629801,\n",
       "    6.041404984831782,\n",
       "    5.551057570369169,\n",
       "    9.034101338295487,\n",
       "    6.413700252890213,\n",
       "    4.149192177128567,\n",
       "    8.082408296832748,\n",
       "    5.208903627693358,\n",
       "    27.990005462269583,\n",
       "    9.699731453800906,\n",
       "    4.970306497235835,\n",
       "    4.609560967916862,\n",
       "    3.2252435681154763,\n",
       "    5.751799563781289,\n",
       "    6.7338355284368205,\n",
       "    6.935247830718387,\n",
       "    4.861871087773881,\n",
       "    5.358499545480742,\n",
       "    16.157547132465634,\n",
       "    5.422339510116985,\n",
       "    9.37201272428137,\n",
       "    17.04883267653435,\n",
       "    5.02638143184548,\n",
       "    5.1231499674233145]}]}"
      ]
     },
     "execution_count": 119,
     "metadata": {},
     "output_type": "execute_result"
    }
   ],
   "source": [
    "prediction = json.loads(''.join([p.strip() for p in prediction]))\n",
    "prediction"
   ]
  },
  {
   "cell_type": "markdown",
   "id": "65abfb3e-eb8e-43b6-9e0c-c395d80e33de",
   "metadata": {},
   "source": [
    "### Get Predictions: gcloud (CLI)\n",
    "Reference:\n",
    "- [gcloud ai endpoints raw-predict](https://cloud.google.com/sdk/gcloud/reference/ai/endpoints/raw-predict)"
   ]
  },
  {
   "cell_type": "markdown",
   "id": "fd662446-b251-41eb-9d9b-d9b3998b89ec",
   "metadata": {},
   "source": [
    "Prepare request:"
   ]
  },
  {
   "cell_type": "code",
   "execution_count": 104,
   "id": "1b72c8d2-ca52-45eb-b89b-723e21a4fb64",
   "metadata": {},
   "outputs": [],
   "source": [
    "with open(f'{DIR}/request.json','w') as file:\n",
    "    file.write(json.dumps(instances))"
   ]
  },
  {
   "cell_type": "markdown",
   "id": "25bda622-d410-4e49-a66a-cd095180e4fe",
   "metadata": {},
   "source": [
    "Prediction:"
   ]
  },
  {
   "cell_type": "code",
   "execution_count": 114,
   "id": "9d83a53d-a94a-47b0-b93c-2f53b21c0ff1",
   "metadata": {},
   "outputs": [],
   "source": [
    "prediction = !gcloud ai endpoints raw-predict \\\n",
    "{endpoint.name.rsplit('/',1)[-1]} \\\n",
    "--region={REGION} --format=\"json\" --request=@{DIR}/request.json"
   ]
  },
  {
   "cell_type": "code",
   "execution_count": 115,
   "id": "fddd8166-e175-4f8b-b37d-7d1273a13550",
   "metadata": {},
   "outputs": [],
   "source": [
    "#prediction"
   ]
  },
  {
   "cell_type": "markdown",
   "id": "cd3be877-b685-4f3e-b330-bb889046d6ec",
   "metadata": {},
   "source": [
    "Format raw prediction response using JSON:"
   ]
  },
  {
   "cell_type": "code",
   "execution_count": 116,
   "id": "24a73026-1846-438b-aa5f-0460d8dcc8ef",
   "metadata": {},
   "outputs": [
    {
     "data": {
      "text/plain": [
       "{'predictions': [{'centroid_distances': [13.066273115349231,\n",
       "    87.59581402503412,\n",
       "    217.48000749746765,\n",
       "    23.398802822072827,\n",
       "    29.26389298384311,\n",
       "    55.583093719552814,\n",
       "    5.864400746481293,\n",
       "    63.592193641693136,\n",
       "    41.146255638922675,\n",
       "    39.05393550558039,\n",
       "    7.810885642299724,\n",
       "    21.271252686853824,\n",
       "    12.15346078495,\n",
       "    4.647669087391433,\n",
       "    16.44852968478594,\n",
       "    4.47028230204477,\n",
       "    6.2675855288061015,\n",
       "    4.857830123965473,\n",
       "    17.875468248064536,\n",
       "    10.392469119629801,\n",
       "    6.041404984831782,\n",
       "    5.551057570369169,\n",
       "    9.034101338295487,\n",
       "    6.413700252890213,\n",
       "    4.149192177128567,\n",
       "    8.082408296832748,\n",
       "    5.208903627693358,\n",
       "    27.990005462269583,\n",
       "    9.699731453800906,\n",
       "    4.970306497235835,\n",
       "    4.609560967916862,\n",
       "    3.2252435681154763,\n",
       "    5.751799563781289,\n",
       "    6.7338355284368205,\n",
       "    6.935247830718387,\n",
       "    4.861871087773881,\n",
       "    5.358499545480742,\n",
       "    16.157547132465634,\n",
       "    5.422339510116985,\n",
       "    9.37201272428137,\n",
       "    17.04883267653435,\n",
       "    5.02638143184548,\n",
       "    5.1231499674233145],\n",
       "   'centroid_ids': [1,\n",
       "    2,\n",
       "    3,\n",
       "    4,\n",
       "    5,\n",
       "    6,\n",
       "    7,\n",
       "    8,\n",
       "    9,\n",
       "    10,\n",
       "    11,\n",
       "    12,\n",
       "    13,\n",
       "    14,\n",
       "    15,\n",
       "    16,\n",
       "    17,\n",
       "    18,\n",
       "    19,\n",
       "    20,\n",
       "    21,\n",
       "    22,\n",
       "    23,\n",
       "    24,\n",
       "    25,\n",
       "    26,\n",
       "    27,\n",
       "    28,\n",
       "    29,\n",
       "    30,\n",
       "    31,\n",
       "    32,\n",
       "    33,\n",
       "    34,\n",
       "    35,\n",
       "    36,\n",
       "    37,\n",
       "    38,\n",
       "    39,\n",
       "    40,\n",
       "    41,\n",
       "    42,\n",
       "    43],\n",
       "   'nearest_centroid_id': [32]}]}"
      ]
     },
     "execution_count": 116,
     "metadata": {},
     "output_type": "execute_result"
    }
   ],
   "source": [
    "prediction = json.loads(\"\".join(prediction[1:]))\n",
    "prediction"
   ]
  },
  {
   "cell_type": "markdown",
   "id": "cce6b172-86c9-42f6-a836-4a1c9da337b5",
   "metadata": {},
   "source": [
    "---\n",
    "## Remove Resources\n",
    "see notebook \"99 - Cleanup\""
   ]
  }
 ],
 "metadata": {
  "environment": {
   "kernel": "python3",
   "name": "tf2-gpu.2-3.m94",
   "type": "gcloud",
   "uri": "gcr.io/deeplearning-platform-release/tf2-gpu.2-3:m94"
  },
  "kernelspec": {
   "display_name": "Python 3",
   "language": "python",
   "name": "python3"
  },
  "language_info": {
   "codemirror_mode": {
    "name": "ipython",
    "version": 3
   },
   "file_extension": ".py",
   "mimetype": "text/x-python",
   "name": "python",
   "nbconvert_exporter": "python",
   "pygments_lexer": "ipython3",
   "version": "3.7.12"
  }
 },
 "nbformat": 4,
 "nbformat_minor": 5
}
