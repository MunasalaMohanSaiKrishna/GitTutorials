{
 "cells": [
  {
   "cell_type": "markdown",
   "id": "556e80c5-acdd-4834-a3ec-b8dbf79bd6ef",
   "metadata": {},
   "source": [
    "# 03g - BigQuery ML (BQML) - PCA with Anomaly Detection\n",
    "\n",
    "In this notebook, BigQuery ML (BQML) is used to do a principal Component analysis (PCA).\n",
    "\n",
    "**Principal component analysis, PCA**\n",
    "\n",
    "Principal component analysis, or PCA, is a statistical technique for linearly transforming a set of features into a new coordinate system with fewer features all while preserving as much of the information (variation) as possible.  This is an unsupervised learning approach requiring no labels that results in a smaller feature set where the derived features/components are orthoganal to each other.  The number of components can be specified directly or set by the desired variance to be explained.  One way to think of this method is fitting an elipse with a number of dimensions, `p`, where the axes are orthogonal and their relative size represents amount of variance explained by the component (dimension).\n",
    "\n",
    "Reference:\n",
    "- [PCA](https://en.wikipedia.org/wiki/Principal_component_analysis)\n",
    "- [Unsupervised Learning](https://en.wikipedia.org/wiki/Unsupervised_learning)\n",
    "\n",
    "**BigQuery ML (BQML)**\n",
    "\n",
    "BigQuery has a number of machine learning algorithms callable directly from SQL.  This gives the convenience of using the common language of `SQL` with statments like `CREATE MODEL …`.  The library of available models is constantly growing and covers supervised, unsupervised, and time series methods as well as functions for evaluation - even anomaly detection from results, explainability and hyperparameter tuning.  A great starting point for seeing the scope of available methods is the [user journey for models](https://cloud.google.com/bigquery-ml/docs/reference/standard-sql/bigqueryml-syntax-e2e-journey).\n",
    "\n",
    "**Prerequisites:**\n",
    "- [01 - BigQuery - Table Data Source](../01%20-%20Data%20Sources/01%20-%20BigQuery%20-%20Table%20Data%20Source.ipynb)\n",
    "\n",
    "**Resources:**\n",
    "-  [BigQuery ML (BQML) Overview](https://cloud.google.com/bigquery-ml/docs/introduction)\n",
    "-  [Overview of BQML methods and workflows](https://cloud.google.com/bigquery-ml/docs/reference/standard-sql/bigqueryml-syntax-e2e-journey)\n",
    "- [BigQuery](https://cloud.google.com/bigquery)\n",
    "    - [Documentation:](https://cloud.google.com/bigquery/docs/query-overview)\n",
    "    - [API:](https://cloud.google.com/bigquery/docs/reference/libraries-overview)\n",
    "        - [Clients](https://cloud.google.com/bigquery/docs/reference/libraries)\n",
    "            - [Python SDK:](https://github.com/googleapis/python-bigquery)\n",
    "            - [Python Library Reference:](https://cloud.google.com/python/docs/reference/bigquery/latest)\n",
    "- [Vertex AI](https://cloud.google.com/vertex-ai)\n",
    "    - [Documentation:](https://cloud.google.com/vertex-ai/docs/start/introduction-unified-platform)\n",
    "    - [API:](https://cloud.google.com/vertex-ai/docs/reference)\n",
    "        - [Clients:](https://cloud.google.com/vertex-ai/docs/start/client-libraries)\n",
    "            - [Python SDK:](https://github.com/googleapis/python-aiplatform)\n",
    "            - [Python Library Reference:](https://cloud.google.com/python/docs/reference/aiplatform/latest)\n",
    "\n",
    "**Conceptual Flow & Workflow**\n"
   ]
  },
  {
   "cell_type": "markdown",
   "id": "c13767f2-ed00-48e7-9d92-0f7fe0ad7bde",
   "metadata": {},
   "source": [
    "---\n",
    "## Setup"
   ]
  },
  {
   "cell_type": "markdown",
   "id": "a7c3fc4b-40be-4430-97da-119f948d6a16",
   "metadata": {},
   "source": [
    "inputs:"
   ]
  },
  {
   "cell_type": "code",
   "execution_count": 108,
   "id": "80d62176-d739-4750-8581-2f5dfdb8ee66",
   "metadata": {},
   "outputs": [
    {
     "data": {
      "text/plain": [
       "'statmike-mlops-349915'"
      ]
     },
     "execution_count": 108,
     "metadata": {},
     "output_type": "execute_result"
    }
   ],
   "source": [
    "project = !gcloud config get-value project\n",
    "PROJECT_ID = project[0]\n",
    "PROJECT_ID"
   ]
  },
  {
   "cell_type": "code",
   "execution_count": 109,
   "id": "29698a53-91b3-4ab6-8123-69191c7f9a13",
   "metadata": {},
   "outputs": [],
   "source": [
    "REGION = 'us-central1'\n",
    "EXPERIMENT = 'pca'\n",
    "SERIES = '03'\n",
    "\n",
    "# source data\n",
    "BQ_PROJECT = PROJECT_ID\n",
    "BQ_DATASET = 'fraud'\n",
    "BQ_TABLE = 'fraud_prepped'\n",
    "\n",
    "# Resources for serving BigQuery Model Exports\n",
    "TF_DEPLOY_IMAGE = 'us-docker.pkg.dev/vertex-ai/prediction/tf2-cpu.2-3:latest'\n",
    "XGB_DEPLOY_IMAGE = 'us-docker.pkg.dev/vertex-ai/prediction/xgboost-cpu.0-82:latest'\n",
    "\n",
    "# Resources for serving BigQuery Model Exports\n",
    "DEPLOY_COMPUTE = 'n1-standard-4'\n",
    "\n",
    "# Model Training\n",
    "VAR_TARGET = 'Class'\n",
    "VAR_OMIT = 'transaction_id' # add more variables to the string with space delimiters"
   ]
  },
  {
   "cell_type": "markdown",
   "id": "b11470a1-9e71-4f93-affd-e253ec453d48",
   "metadata": {},
   "source": [
    "packages:"
   ]
  },
  {
   "cell_type": "code",
   "execution_count": 110,
   "id": "32ae4cdc-8100-4242-9adc-89c0649f5f47",
   "metadata": {},
   "outputs": [],
   "source": [
    "from google.cloud import bigquery\n",
    "from google.cloud import aiplatform\n",
    "from datetime import datetime\n",
    "import matplotlib.pyplot as plt\n",
    "from sklearn import metrics\n",
    "\n",
    "from google.api import httpbody_pb2\n",
    "import json"
   ]
  },
  {
   "cell_type": "markdown",
   "id": "aa23d36b-0abb-4864-835e-cbe8f099ef12",
   "metadata": {},
   "source": [
    "clients:"
   ]
  },
  {
   "cell_type": "code",
   "execution_count": 111,
   "id": "cc94b10c-a433-43c5-ba7d-0750f05d2239",
   "metadata": {},
   "outputs": [],
   "source": [
    "bq = bigquery.Client()\n",
    "aiplatform.init(project=PROJECT_ID, location=REGION)"
   ]
  },
  {
   "cell_type": "markdown",
   "id": "8047ffcb-f335-4613-8627-ff3ff06b5cc5",
   "metadata": {},
   "source": [
    "parameters:"
   ]
  },
  {
   "cell_type": "code",
   "execution_count": 5,
   "id": "2a9d5c98-9254-458b-80c5-f53e58c54ab4",
   "metadata": {},
   "outputs": [],
   "source": [
    "TIMESTAMP = datetime.now().strftime(\"%Y%m%d%H%M%S\")\n",
    "BUCKET = PROJECT_ID\n",
    "URI = f\"gs://{BUCKET}/{SERIES}/{EXPERIMENT}\"\n",
    "RUN_NAME = f'run-{TIMESTAMP}'\n",
    "\n",
    "BQ_MODEL = f'{SERIES}_{EXPERIMENT}_{TIMESTAMP}'"
   ]
  },
  {
   "cell_type": "markdown",
   "id": "01b1633c-afc5-4450-8508-8bc45f8927df",
   "metadata": {},
   "source": [
    "environment:"
   ]
  },
  {
   "cell_type": "code",
   "execution_count": 112,
   "id": "4cd4bf12-aad9-407c-8636-38efa4471182",
   "metadata": {},
   "outputs": [],
   "source": [
    "DIR = f\"temp/{EXPERIMENT}\"\n",
    "\n",
    "!rm -rf {DIR}\n",
    "!mkdir -p {DIR}"
   ]
  },
  {
   "cell_type": "markdown",
   "id": "05e9f16b-2de3-4011-8c44-ed7700291963",
   "metadata": {},
   "source": [
    "---\n",
    "## Review Data\n",
    "\n",
    "The data source here was prepared in [01 - BigQuery - Table Data Source](../01%20-%20Data%20Sources/01%20-%20BigQuery%20-%20Table%20Data%20Source.ipynb).  In this notebook we will use prepared BigQuery table to build a model with BigQuery ML (BQML).\n",
    "\n",
    "This is a table of 284,807 credit card transactions classified as fradulant or normal in the column `Class`.  In order protect confidentiality, the original features have been transformed using [principle component analysis (PCA)](https://en.wikipedia.org/wiki/Principal_component_analysis) into 28 features named `V1, V2, ... V28` (float).  Two descriptive features are provided without transformation by PCA:\n",
    "- `Time` (integer) is the seconds elapsed between the transaction and the earliest transaction in the table\n",
    "- `Amount` (float) is the value of the transaction\n",
    "\n",
    "The data preparation included added splits for machine learning with a column named `splits` with 80% for training (`TRAIN`), 10% for validation (`VALIDATE`) and 10% for testing (`TEST`).  Additionally, a unique identifier was added to each transaction, `transaction_id`.  "
   ]
  },
  {
   "cell_type": "markdown",
   "id": "52f08ee9-5d54-44af-8ccd-59ca428d7f04",
   "metadata": {},
   "source": [
    "Review the number of records for each level of Class (VAR_TARGET) for each of the data splits:"
   ]
  },
  {
   "cell_type": "code",
   "execution_count": 31,
   "id": "c4725d9d-b287-4fa2-a4e5-e71bdd80ada6",
   "metadata": {},
   "outputs": [
    {
     "data": {
      "text/html": [
       "<div>\n",
       "<style scoped>\n",
       "    .dataframe tbody tr th:only-of-type {\n",
       "        vertical-align: middle;\n",
       "    }\n",
       "\n",
       "    .dataframe tbody tr th {\n",
       "        vertical-align: top;\n",
       "    }\n",
       "\n",
       "    .dataframe thead th {\n",
       "        text-align: right;\n",
       "    }\n",
       "</style>\n",
       "<table border=\"1\" class=\"dataframe\">\n",
       "  <thead>\n",
       "    <tr style=\"text-align: right;\">\n",
       "      <th></th>\n",
       "      <th>splits</th>\n",
       "      <th>Class</th>\n",
       "      <th>n</th>\n",
       "    </tr>\n",
       "  </thead>\n",
       "  <tbody>\n",
       "    <tr>\n",
       "      <th>0</th>\n",
       "      <td>TEST</td>\n",
       "      <td>0</td>\n",
       "      <td>28455</td>\n",
       "    </tr>\n",
       "    <tr>\n",
       "      <th>1</th>\n",
       "      <td>TEST</td>\n",
       "      <td>1</td>\n",
       "      <td>47</td>\n",
       "    </tr>\n",
       "    <tr>\n",
       "      <th>2</th>\n",
       "      <td>TRAIN</td>\n",
       "      <td>0</td>\n",
       "      <td>227664</td>\n",
       "    </tr>\n",
       "    <tr>\n",
       "      <th>3</th>\n",
       "      <td>TRAIN</td>\n",
       "      <td>1</td>\n",
       "      <td>397</td>\n",
       "    </tr>\n",
       "    <tr>\n",
       "      <th>4</th>\n",
       "      <td>VALIDATE</td>\n",
       "      <td>0</td>\n",
       "      <td>28196</td>\n",
       "    </tr>\n",
       "    <tr>\n",
       "      <th>5</th>\n",
       "      <td>VALIDATE</td>\n",
       "      <td>1</td>\n",
       "      <td>48</td>\n",
       "    </tr>\n",
       "  </tbody>\n",
       "</table>\n",
       "</div>"
      ],
      "text/plain": [
       "     splits  Class       n\n",
       "0      TEST      0   28455\n",
       "1      TEST      1      47\n",
       "2     TRAIN      0  227664\n",
       "3     TRAIN      1     397\n",
       "4  VALIDATE      0   28196\n",
       "5  VALIDATE      1      48"
      ]
     },
     "execution_count": 31,
     "metadata": {},
     "output_type": "execute_result"
    }
   ],
   "source": [
    "query = f\"\"\"\n",
    "SELECT splits, {VAR_TARGET}, count(*) as n\n",
    "FROM `{BQ_PROJECT}.{BQ_DATASET}.{BQ_TABLE}`\n",
    "GROUP BY splits, {VAR_TARGET}\n",
    "\"\"\"\n",
    "bq.query(query = query).to_dataframe()"
   ]
  },
  {
   "cell_type": "markdown",
   "id": "426f6c47-cf38-4e61-98a5-5dce3677b616",
   "metadata": {},
   "source": [
    "Further review the balance of the target variable (VAR_TARGET) for each split as a percentage of the split:"
   ]
  },
  {
   "cell_type": "markdown",
   "id": "9329ec98-1bb8-4612-adb2-75c5f9899ce2",
   "metadata": {},
   "source": [
    "query = f\"\"\"\n",
    "WITH\n",
    "    COUNTS as (SELECT splits, {VAR_TARGET}, count(*) as n FROM `{BQ_PROJECT}.{BQ_DATASET}.{BQ_TABLE}` GROUP BY splits, {VAR_TARGET})\n",
    "    \n",
    "SELECT *,\n",
    "    SAFE_DIVIDE(n, SUM(n) OVER(PARTITION BY {VAR_TARGET})) as n_pct_class,\n",
    "    SAFE_DIVIDE(n, SUM(n) OVER(PARTITION BY splits)) as n_pct_split,\n",
    "    SAFE_DIVIDE(SUM(n) OVER(PARTITION BY {VAR_TARGET}), SUM(n) OVER()) as class_pct_to\n",
    "    SUM(n) OVER() as total,tal\n",
    "FROM COUNTS\n",
    "\"\"\"\n",
    "review = bq.query(query = query).to_dataframe()\n",
    "review"
   ]
  },
  {
   "cell_type": "markdown",
   "id": "bd19e017-4ca6-4d0f-95f2-0091db8f735a",
   "metadata": {},
   "source": [
    "Retrive the rate of fraud, `Class = 1`, for the training data split.  This will be used later as the expected contamination rate for the records in the test split when doing anomaly detection."
   ]
  },
  {
   "cell_type": "code",
   "execution_count": 33,
   "id": "576e1728-23e7-48ca-982c-8c40a43652cc",
   "metadata": {},
   "outputs": [
    {
     "data": {
      "text/plain": [
       "0.0017407623399002899"
      ]
     },
     "execution_count": 33,
     "metadata": {},
     "output_type": "execute_result"
    }
   ],
   "source": [
    "TRAIN_FRAUD_PCT = review.loc[(review[f'{VAR_TARGET}'] == 1) & (review['splits'] == 'TRAIN'), 'n_pct_split'].values[0]\n",
    "TRAIN_FRAUD_PCT"
   ]
  },
  {
   "cell_type": "markdown",
   "id": "565c54bd-dfb3-40f7-ac64-22b252c098a4",
   "metadata": {},
   "source": [
    "---\n",
    "## This Run"
   ]
  },
  {
   "cell_type": "code",
   "execution_count": 6,
   "id": "6258d0fd-c65b-4b59-a63d-77d3c92da907",
   "metadata": {},
   "outputs": [
    {
     "name": "stdout",
     "output_type": "stream",
     "text": [
      "This run with create BQML model: statmike-mlops-349915.fraud.03_pca_20221004235851\n",
      "The Timestamp Is: 20221004235851\n"
     ]
    }
   ],
   "source": [
    "print(f'This run with create BQML model: {BQ_PROJECT}.{BQ_DATASET}.{BQ_MODEL}')\n",
    "print(f'The Timestamp Is: {TIMESTAMP}')"
   ]
  },
  {
   "cell_type": "markdown",
   "id": "674fe9f0-dbba-4878-b87c-1b9eff6e5544",
   "metadata": {},
   "source": [
    "---\n",
    "## Train Model\n",
    "\n",
    "Use BigQuery ML to train multiclass logistic regression model:\n",
    "- [PCA](https://cloud.google.com/bigquery-ml/docs/reference/standard-sql/bigqueryml-syntax-create-pca) with BigQuery ML (BQML)\n",
    "- This uses the `splits` column that notebook `01` created to subet to the training data\n",
    "    - not directly used by the `PCA` training but used to subset to the `splits = 'TRAIN'` data for training"
   ]
  },
  {
   "cell_type": "code",
   "execution_count": 7,
   "id": "5d964acc-457e-42c4-97fb-f6f166ba3628",
   "metadata": {},
   "outputs": [
    {
     "data": {
      "text/plain": [
       "<google.cloud.bigquery.table._EmptyRowIterator at 0x7fabe89f9d90>"
      ]
     },
     "execution_count": 7,
     "metadata": {},
     "output_type": "execute_result"
    }
   ],
   "source": [
    "query = f\"\"\"\n",
    "CREATE MODEL `{BQ_PROJECT}.{BQ_DATASET}.{BQ_MODEL}`\n",
    "OPTIONS (\n",
    "        model_type = 'PCA',\n",
    "        pca_explained_variance_ratio = 0.90,\n",
    "        scale_features = TRUE,\n",
    "        pca_solver = 'AUTO'\n",
    "    ) AS\n",
    "SELECT * EXCEPT({','.join(VAR_OMIT.split())}, splits, {VAR_TARGET})\n",
    "FROM `{BQ_PROJECT}.{BQ_DATASET}.{BQ_TABLE}`\n",
    "WHERE splits = 'TRAIN'\n",
    "\"\"\"\n",
    "job = bq.query(query = query)\n",
    "job.result()"
   ]
  },
  {
   "cell_type": "code",
   "execution_count": 102,
   "id": "fae3357d-0002-440f-97be-8a8ef1be48e2",
   "metadata": {},
   "outputs": [
    {
     "data": {
      "text/plain": [
       "37.384"
      ]
     },
     "execution_count": 102,
     "metadata": {},
     "output_type": "execute_result"
    }
   ],
   "source": [
    "(job.ended-job.started).total_seconds()"
   ]
  },
  {
   "cell_type": "markdown",
   "id": "2e0dfe26-6eb9-4143-bd3a-95647cc40cad",
   "metadata": {},
   "source": [
    "Add labels to the model in BigQuery:"
   ]
  },
  {
   "cell_type": "code",
   "execution_count": 103,
   "id": "f6c79a1a-d3b5-4ffb-9fa0-30702396b192",
   "metadata": {},
   "outputs": [],
   "source": [
    "model = bq.get_model(f'{BQ_PROJECT}.{BQ_DATASET}.{BQ_MODEL}')\n",
    "model.labels = {'series' : f'{SERIES}', 'experiment' : f'{EXPERIMENT}'}\n",
    "model = bq.update_model(model, ['labels'])"
   ]
  },
  {
   "cell_type": "markdown",
   "id": "225a5e0d-5115-405d-8baf-43935215d4b5",
   "metadata": {},
   "source": [
    "Review the Model Inputs, the feature information, with [ML.FEATURE_INFO](https://cloud.google.com/bigquery-ml/docs/reference/standard-sql/bigqueryml-syntax-feature):"
   ]
  },
  {
   "cell_type": "code",
   "execution_count": 14,
   "id": "289eb2dd-8459-4812-9b14-e51808785b33",
   "metadata": {},
   "outputs": [
    {
     "data": {
      "text/html": [
       "<div>\n",
       "<style scoped>\n",
       "    .dataframe tbody tr th:only-of-type {\n",
       "        vertical-align: middle;\n",
       "    }\n",
       "\n",
       "    .dataframe tbody tr th {\n",
       "        vertical-align: top;\n",
       "    }\n",
       "\n",
       "    .dataframe thead th {\n",
       "        text-align: right;\n",
       "    }\n",
       "</style>\n",
       "<table border=\"1\" class=\"dataframe\">\n",
       "  <thead>\n",
       "    <tr style=\"text-align: right;\">\n",
       "      <th></th>\n",
       "      <th>input</th>\n",
       "      <th>min</th>\n",
       "      <th>max</th>\n",
       "      <th>mean</th>\n",
       "      <th>median</th>\n",
       "      <th>stddev</th>\n",
       "      <th>category_count</th>\n",
       "      <th>null_count</th>\n",
       "      <th>dimension</th>\n",
       "    </tr>\n",
       "  </thead>\n",
       "  <tbody>\n",
       "    <tr>\n",
       "      <th>0</th>\n",
       "      <td>Time</td>\n",
       "      <td>0.000000</td>\n",
       "      <td>172792.000000</td>\n",
       "      <td>94811.116749</td>\n",
       "      <td>85045.000000</td>\n",
       "      <td>47493.531641</td>\n",
       "      <td>NaN</td>\n",
       "      <td>0</td>\n",
       "      <td>NaN</td>\n",
       "    </tr>\n",
       "    <tr>\n",
       "      <th>1</th>\n",
       "      <td>V1</td>\n",
       "      <td>-56.407510</td>\n",
       "      <td>2.454930</td>\n",
       "      <td>-0.000215</td>\n",
       "      <td>0.023927</td>\n",
       "      <td>1.958173</td>\n",
       "      <td>NaN</td>\n",
       "      <td>0</td>\n",
       "      <td>NaN</td>\n",
       "    </tr>\n",
       "    <tr>\n",
       "      <th>2</th>\n",
       "      <td>V2</td>\n",
       "      <td>-72.715728</td>\n",
       "      <td>22.057729</td>\n",
       "      <td>0.000316</td>\n",
       "      <td>0.061607</td>\n",
       "      <td>1.649662</td>\n",
       "      <td>NaN</td>\n",
       "      <td>0</td>\n",
       "      <td>NaN</td>\n",
       "    </tr>\n",
       "    <tr>\n",
       "      <th>3</th>\n",
       "      <td>V3</td>\n",
       "      <td>-48.325589</td>\n",
       "      <td>9.382558</td>\n",
       "      <td>-0.000525</td>\n",
       "      <td>0.179859</td>\n",
       "      <td>1.520173</td>\n",
       "      <td>NaN</td>\n",
       "      <td>0</td>\n",
       "      <td>NaN</td>\n",
       "    </tr>\n",
       "    <tr>\n",
       "      <th>4</th>\n",
       "      <td>V4</td>\n",
       "      <td>-5.600607</td>\n",
       "      <td>16.875344</td>\n",
       "      <td>0.000695</td>\n",
       "      <td>-0.034889</td>\n",
       "      <td>1.415309</td>\n",
       "      <td>NaN</td>\n",
       "      <td>0</td>\n",
       "      <td>NaN</td>\n",
       "    </tr>\n",
       "    <tr>\n",
       "      <th>5</th>\n",
       "      <td>V5</td>\n",
       "      <td>-113.743307</td>\n",
       "      <td>34.801666</td>\n",
       "      <td>-0.001264</td>\n",
       "      <td>-0.059681</td>\n",
       "      <td>1.381807</td>\n",
       "      <td>NaN</td>\n",
       "      <td>0</td>\n",
       "      <td>NaN</td>\n",
       "    </tr>\n",
       "    <tr>\n",
       "      <th>6</th>\n",
       "      <td>V6</td>\n",
       "      <td>-26.160506</td>\n",
       "      <td>73.301626</td>\n",
       "      <td>0.002089</td>\n",
       "      <td>-0.281246</td>\n",
       "      <td>1.334135</td>\n",
       "      <td>NaN</td>\n",
       "      <td>0</td>\n",
       "      <td>NaN</td>\n",
       "    </tr>\n",
       "    <tr>\n",
       "      <th>7</th>\n",
       "      <td>V7</td>\n",
       "      <td>-43.557242</td>\n",
       "      <td>120.589494</td>\n",
       "      <td>-0.000721</td>\n",
       "      <td>0.034086</td>\n",
       "      <td>1.245465</td>\n",
       "      <td>NaN</td>\n",
       "      <td>0</td>\n",
       "      <td>NaN</td>\n",
       "    </tr>\n",
       "    <tr>\n",
       "      <th>8</th>\n",
       "      <td>V8</td>\n",
       "      <td>-73.216718</td>\n",
       "      <td>19.168327</td>\n",
       "      <td>-0.001064</td>\n",
       "      <td>0.024914</td>\n",
       "      <td>1.205023</td>\n",
       "      <td>NaN</td>\n",
       "      <td>0</td>\n",
       "      <td>NaN</td>\n",
       "    </tr>\n",
       "    <tr>\n",
       "      <th>9</th>\n",
       "      <td>V9</td>\n",
       "      <td>-13.434066</td>\n",
       "      <td>15.594995</td>\n",
       "      <td>0.001406</td>\n",
       "      <td>-0.045622</td>\n",
       "      <td>1.100121</td>\n",
       "      <td>NaN</td>\n",
       "      <td>0</td>\n",
       "      <td>NaN</td>\n",
       "    </tr>\n",
       "    <tr>\n",
       "      <th>10</th>\n",
       "      <td>V10</td>\n",
       "      <td>-24.588262</td>\n",
       "      <td>23.745136</td>\n",
       "      <td>-0.000072</td>\n",
       "      <td>-0.097810</td>\n",
       "      <td>1.093471</td>\n",
       "      <td>NaN</td>\n",
       "      <td>0</td>\n",
       "      <td>NaN</td>\n",
       "    </tr>\n",
       "    <tr>\n",
       "      <th>11</th>\n",
       "      <td>V11</td>\n",
       "      <td>-4.797473</td>\n",
       "      <td>12.018913</td>\n",
       "      <td>-0.000641</td>\n",
       "      <td>-0.040700</td>\n",
       "      <td>1.021083</td>\n",
       "      <td>NaN</td>\n",
       "      <td>0</td>\n",
       "      <td>NaN</td>\n",
       "    </tr>\n",
       "    <tr>\n",
       "      <th>12</th>\n",
       "      <td>V12</td>\n",
       "      <td>-18.683715</td>\n",
       "      <td>7.848392</td>\n",
       "      <td>-0.001596</td>\n",
       "      <td>0.141636</td>\n",
       "      <td>1.002343</td>\n",
       "      <td>NaN</td>\n",
       "      <td>0</td>\n",
       "      <td>NaN</td>\n",
       "    </tr>\n",
       "    <tr>\n",
       "      <th>13</th>\n",
       "      <td>V13</td>\n",
       "      <td>-5.791881</td>\n",
       "      <td>7.126883</td>\n",
       "      <td>0.001823</td>\n",
       "      <td>-0.019629</td>\n",
       "      <td>0.996051</td>\n",
       "      <td>NaN</td>\n",
       "      <td>0</td>\n",
       "      <td>NaN</td>\n",
       "    </tr>\n",
       "    <tr>\n",
       "      <th>14</th>\n",
       "      <td>V14</td>\n",
       "      <td>-19.214325</td>\n",
       "      <td>10.526766</td>\n",
       "      <td>-0.000667</td>\n",
       "      <td>0.040261</td>\n",
       "      <td>0.961650</td>\n",
       "      <td>NaN</td>\n",
       "      <td>0</td>\n",
       "      <td>NaN</td>\n",
       "    </tr>\n",
       "    <tr>\n",
       "      <th>15</th>\n",
       "      <td>V15</td>\n",
       "      <td>-4.498945</td>\n",
       "      <td>8.877742</td>\n",
       "      <td>0.000422</td>\n",
       "      <td>0.034011</td>\n",
       "      <td>0.916010</td>\n",
       "      <td>NaN</td>\n",
       "      <td>0</td>\n",
       "      <td>NaN</td>\n",
       "    </tr>\n",
       "    <tr>\n",
       "      <th>16</th>\n",
       "      <td>V16</td>\n",
       "      <td>-13.563273</td>\n",
       "      <td>17.315112</td>\n",
       "      <td>-0.000231</td>\n",
       "      <td>0.070638</td>\n",
       "      <td>0.876491</td>\n",
       "      <td>NaN</td>\n",
       "      <td>0</td>\n",
       "      <td>NaN</td>\n",
       "    </tr>\n",
       "    <tr>\n",
       "      <th>17</th>\n",
       "      <td>V17</td>\n",
       "      <td>-25.162799</td>\n",
       "      <td>9.253526</td>\n",
       "      <td>0.000599</td>\n",
       "      <td>-0.069934</td>\n",
       "      <td>0.851699</td>\n",
       "      <td>NaN</td>\n",
       "      <td>0</td>\n",
       "      <td>NaN</td>\n",
       "    </tr>\n",
       "    <tr>\n",
       "      <th>18</th>\n",
       "      <td>V18</td>\n",
       "      <td>-9.498746</td>\n",
       "      <td>5.041069</td>\n",
       "      <td>-0.000701</td>\n",
       "      <td>-0.010071</td>\n",
       "      <td>0.839235</td>\n",
       "      <td>NaN</td>\n",
       "      <td>0</td>\n",
       "      <td>NaN</td>\n",
       "    </tr>\n",
       "    <tr>\n",
       "      <th>19</th>\n",
       "      <td>V19</td>\n",
       "      <td>-7.213527</td>\n",
       "      <td>5.591971</td>\n",
       "      <td>-0.001121</td>\n",
       "      <td>0.001217</td>\n",
       "      <td>0.814700</td>\n",
       "      <td>NaN</td>\n",
       "      <td>0</td>\n",
       "      <td>NaN</td>\n",
       "    </tr>\n",
       "    <tr>\n",
       "      <th>20</th>\n",
       "      <td>V20</td>\n",
       "      <td>-54.497720</td>\n",
       "      <td>39.420904</td>\n",
       "      <td>0.000744</td>\n",
       "      <td>-0.062182</td>\n",
       "      <td>0.773090</td>\n",
       "      <td>NaN</td>\n",
       "      <td>0</td>\n",
       "      <td>NaN</td>\n",
       "    </tr>\n",
       "    <tr>\n",
       "      <th>21</th>\n",
       "      <td>V21</td>\n",
       "      <td>-34.830382</td>\n",
       "      <td>27.202839</td>\n",
       "      <td>-0.000542</td>\n",
       "      <td>-0.027356</td>\n",
       "      <td>0.739335</td>\n",
       "      <td>NaN</td>\n",
       "      <td>0</td>\n",
       "      <td>NaN</td>\n",
       "    </tr>\n",
       "    <tr>\n",
       "      <th>22</th>\n",
       "      <td>V22</td>\n",
       "      <td>-10.933144</td>\n",
       "      <td>10.503090</td>\n",
       "      <td>0.000768</td>\n",
       "      <td>-0.003707</td>\n",
       "      <td>0.725885</td>\n",
       "      <td>NaN</td>\n",
       "      <td>0</td>\n",
       "      <td>NaN</td>\n",
       "    </tr>\n",
       "    <tr>\n",
       "      <th>23</th>\n",
       "      <td>V23</td>\n",
       "      <td>-36.666000</td>\n",
       "      <td>22.083545</td>\n",
       "      <td>0.000326</td>\n",
       "      <td>-0.008887</td>\n",
       "      <td>0.614379</td>\n",
       "      <td>NaN</td>\n",
       "      <td>0</td>\n",
       "      <td>NaN</td>\n",
       "    </tr>\n",
       "    <tr>\n",
       "      <th>24</th>\n",
       "      <td>V24</td>\n",
       "      <td>-2.836627</td>\n",
       "      <td>4.584549</td>\n",
       "      <td>0.000351</td>\n",
       "      <td>0.039538</td>\n",
       "      <td>0.606016</td>\n",
       "      <td>NaN</td>\n",
       "      <td>0</td>\n",
       "      <td>NaN</td>\n",
       "    </tr>\n",
       "    <tr>\n",
       "      <th>25</th>\n",
       "      <td>V25</td>\n",
       "      <td>-8.696627</td>\n",
       "      <td>6.070850</td>\n",
       "      <td>-0.000594</td>\n",
       "      <td>0.008502</td>\n",
       "      <td>0.521749</td>\n",
       "      <td>NaN</td>\n",
       "      <td>0</td>\n",
       "      <td>NaN</td>\n",
       "    </tr>\n",
       "    <tr>\n",
       "      <th>26</th>\n",
       "      <td>V26</td>\n",
       "      <td>-2.604551</td>\n",
       "      <td>3.517346</td>\n",
       "      <td>0.000466</td>\n",
       "      <td>-0.056417</td>\n",
       "      <td>0.481984</td>\n",
       "      <td>NaN</td>\n",
       "      <td>0</td>\n",
       "      <td>NaN</td>\n",
       "    </tr>\n",
       "    <tr>\n",
       "      <th>27</th>\n",
       "      <td>V27</td>\n",
       "      <td>-22.565679</td>\n",
       "      <td>31.612198</td>\n",
       "      <td>-0.000629</td>\n",
       "      <td>0.000459</td>\n",
       "      <td>0.405146</td>\n",
       "      <td>NaN</td>\n",
       "      <td>0</td>\n",
       "      <td>NaN</td>\n",
       "    </tr>\n",
       "    <tr>\n",
       "      <th>28</th>\n",
       "      <td>V28</td>\n",
       "      <td>-15.430084</td>\n",
       "      <td>33.847808</td>\n",
       "      <td>-0.000083</td>\n",
       "      <td>0.010968</td>\n",
       "      <td>0.329876</td>\n",
       "      <td>NaN</td>\n",
       "      <td>0</td>\n",
       "      <td>NaN</td>\n",
       "    </tr>\n",
       "    <tr>\n",
       "      <th>29</th>\n",
       "      <td>Amount</td>\n",
       "      <td>0.000000</td>\n",
       "      <td>25691.160000</td>\n",
       "      <td>88.535335</td>\n",
       "      <td>23.000000</td>\n",
       "      <td>251.361162</td>\n",
       "      <td>NaN</td>\n",
       "      <td>0</td>\n",
       "      <td>NaN</td>\n",
       "    </tr>\n",
       "  </tbody>\n",
       "</table>\n",
       "</div>"
      ],
      "text/plain": [
       "     input         min            max          mean        median  \\\n",
       "0     Time    0.000000  172792.000000  94811.116749  85045.000000   \n",
       "1       V1  -56.407510       2.454930     -0.000215      0.023927   \n",
       "2       V2  -72.715728      22.057729      0.000316      0.061607   \n",
       "3       V3  -48.325589       9.382558     -0.000525      0.179859   \n",
       "4       V4   -5.600607      16.875344      0.000695     -0.034889   \n",
       "5       V5 -113.743307      34.801666     -0.001264     -0.059681   \n",
       "6       V6  -26.160506      73.301626      0.002089     -0.281246   \n",
       "7       V7  -43.557242     120.589494     -0.000721      0.034086   \n",
       "8       V8  -73.216718      19.168327     -0.001064      0.024914   \n",
       "9       V9  -13.434066      15.594995      0.001406     -0.045622   \n",
       "10     V10  -24.588262      23.745136     -0.000072     -0.097810   \n",
       "11     V11   -4.797473      12.018913     -0.000641     -0.040700   \n",
       "12     V12  -18.683715       7.848392     -0.001596      0.141636   \n",
       "13     V13   -5.791881       7.126883      0.001823     -0.019629   \n",
       "14     V14  -19.214325      10.526766     -0.000667      0.040261   \n",
       "15     V15   -4.498945       8.877742      0.000422      0.034011   \n",
       "16     V16  -13.563273      17.315112     -0.000231      0.070638   \n",
       "17     V17  -25.162799       9.253526      0.000599     -0.069934   \n",
       "18     V18   -9.498746       5.041069     -0.000701     -0.010071   \n",
       "19     V19   -7.213527       5.591971     -0.001121      0.001217   \n",
       "20     V20  -54.497720      39.420904      0.000744     -0.062182   \n",
       "21     V21  -34.830382      27.202839     -0.000542     -0.027356   \n",
       "22     V22  -10.933144      10.503090      0.000768     -0.003707   \n",
       "23     V23  -36.666000      22.083545      0.000326     -0.008887   \n",
       "24     V24   -2.836627       4.584549      0.000351      0.039538   \n",
       "25     V25   -8.696627       6.070850     -0.000594      0.008502   \n",
       "26     V26   -2.604551       3.517346      0.000466     -0.056417   \n",
       "27     V27  -22.565679      31.612198     -0.000629      0.000459   \n",
       "28     V28  -15.430084      33.847808     -0.000083      0.010968   \n",
       "29  Amount    0.000000   25691.160000     88.535335     23.000000   \n",
       "\n",
       "          stddev  category_count  null_count  dimension  \n",
       "0   47493.531641             NaN           0        NaN  \n",
       "1       1.958173             NaN           0        NaN  \n",
       "2       1.649662             NaN           0        NaN  \n",
       "3       1.520173             NaN           0        NaN  \n",
       "4       1.415309             NaN           0        NaN  \n",
       "5       1.381807             NaN           0        NaN  \n",
       "6       1.334135             NaN           0        NaN  \n",
       "7       1.245465             NaN           0        NaN  \n",
       "8       1.205023             NaN           0        NaN  \n",
       "9       1.100121             NaN           0        NaN  \n",
       "10      1.093471             NaN           0        NaN  \n",
       "11      1.021083             NaN           0        NaN  \n",
       "12      1.002343             NaN           0        NaN  \n",
       "13      0.996051             NaN           0        NaN  \n",
       "14      0.961650             NaN           0        NaN  \n",
       "15      0.916010             NaN           0        NaN  \n",
       "16      0.876491             NaN           0        NaN  \n",
       "17      0.851699             NaN           0        NaN  \n",
       "18      0.839235             NaN           0        NaN  \n",
       "19      0.814700             NaN           0        NaN  \n",
       "20      0.773090             NaN           0        NaN  \n",
       "21      0.739335             NaN           0        NaN  \n",
       "22      0.725885             NaN           0        NaN  \n",
       "23      0.614379             NaN           0        NaN  \n",
       "24      0.606016             NaN           0        NaN  \n",
       "25      0.521749             NaN           0        NaN  \n",
       "26      0.481984             NaN           0        NaN  \n",
       "27      0.405146             NaN           0        NaN  \n",
       "28      0.329876             NaN           0        NaN  \n",
       "29    251.361162             NaN           0        NaN  "
      ]
     },
     "execution_count": 14,
     "metadata": {},
     "output_type": "execute_result"
    }
   ],
   "source": [
    "feature_info = bq.query(\n",
    "    query = f\"\"\"\n",
    "        SELECT *\n",
    "        FROM ML.FEATURE_INFO(MODEL `{BQ_PROJECT}.{BQ_DATASET}.{BQ_MODEL}`)\n",
    "        \"\"\"\n",
    ").to_dataframe()\n",
    "feature_info"
   ]
  },
  {
   "cell_type": "markdown",
   "id": "984c3b70-5ef4-4b8e-9950-4ca77bc181b3",
   "metadata": {},
   "source": [
    "Review the iterations from training with [ML.TRAINING_INFO](https://cloud.google.com/bigquery-ml/docs/reference/standard-sql/bigqueryml-syntax-train):"
   ]
  },
  {
   "cell_type": "code",
   "execution_count": 15,
   "id": "6d8ee89c-2545-4cf6-869b-ef864cf4ab3a",
   "metadata": {},
   "outputs": [
    {
     "data": {
      "text/html": [
       "<div>\n",
       "<style scoped>\n",
       "    .dataframe tbody tr th:only-of-type {\n",
       "        vertical-align: middle;\n",
       "    }\n",
       "\n",
       "    .dataframe tbody tr th {\n",
       "        vertical-align: top;\n",
       "    }\n",
       "\n",
       "    .dataframe thead th {\n",
       "        text-align: right;\n",
       "    }\n",
       "</style>\n",
       "<table border=\"1\" class=\"dataframe\">\n",
       "  <thead>\n",
       "    <tr style=\"text-align: right;\">\n",
       "      <th></th>\n",
       "      <th>training_run</th>\n",
       "      <th>iteration</th>\n",
       "      <th>duration_ms</th>\n",
       "    </tr>\n",
       "  </thead>\n",
       "  <tbody>\n",
       "    <tr>\n",
       "      <th>0</th>\n",
       "      <td>0</td>\n",
       "      <td>0</td>\n",
       "      <td>4582</td>\n",
       "    </tr>\n",
       "  </tbody>\n",
       "</table>\n",
       "</div>"
      ],
      "text/plain": [
       "   training_run  iteration  duration_ms\n",
       "0             0          0         4582"
      ]
     },
     "execution_count": 15,
     "metadata": {},
     "output_type": "execute_result"
    }
   ],
   "source": [
    "training_info = bq.query(\n",
    "    query = f\"\"\"\n",
    "        SELECT *\n",
    "        FROM ML.TRAINING_INFO(MODEL `{BQ_PROJECT}.{BQ_DATASET}.{BQ_MODEL}`)\n",
    "        \"\"\"\n",
    ").to_dataframe()\n",
    "training_info"
   ]
  },
  {
   "cell_type": "markdown",
   "id": "23fc7998-6f00-4248-8c81-b5d779496310",
   "metadata": {},
   "source": [
    "### Check out this model in BigQuery Console:\n",
    "- Make sure project selected is the one from this notebook\n",
    "- Under Explore, expand this project and dataset\n",
    "- Expand Models and select the model create here"
   ]
  },
  {
   "cell_type": "code",
   "execution_count": 106,
   "id": "670b6066-c447-42fa-b209-ed8b20ad0142",
   "metadata": {},
   "outputs": [
    {
     "name": "stdout",
     "output_type": "stream",
     "text": [
      "BigQuery Console for Project:\n",
      "https://console.cloud.google.com/bigquery?project=statmike-mlops-349915\n"
     ]
    }
   ],
   "source": [
    "print(f'BigQuery Console for Project:\\nhttps://console.cloud.google.com/bigquery?project={PROJECT_ID}')"
   ]
  },
  {
   "cell_type": "code",
   "execution_count": 107,
   "id": "a1993461-6793-4216-8a85-e6b399153ce0",
   "metadata": {},
   "outputs": [
    {
     "name": "stdout",
     "output_type": "stream",
     "text": [
      "Direct link to the model in BigQuery:\n",
      "https://console.cloud.google.com/bigquery?project=statmike-mlops-349915&ws=!1m5!1m4!5m3!1sstatmike-mlops-349915!2sfraud!3s03_pca_20221004235851\n"
     ]
    }
   ],
   "source": [
    "print(f'Direct link to the model in BigQuery:\\nhttps://console.cloud.google.com/bigquery?project={PROJECT_ID}&ws=!1m5!1m4!5m3!1s{PROJECT_ID}!2s{BQ_DATASET}!3s{BQ_MODEL}')"
   ]
  },
  {
   "cell_type": "markdown",
   "id": "4392a56e-1ce7-4ab6-852f-77872ef9ff6f",
   "metadata": {},
   "source": [
    "---\n",
    "## Evaluate Model"
   ]
  },
  {
   "cell_type": "markdown",
   "id": "725e9866-4c3f-4539-8482-dd22df7bfa73",
   "metadata": {},
   "source": [
    "Review the evaluation statistics on the trials with [ML.EVALUATE](https://cloud.google.com/bigquery-ml/docs/reference/standard-sql/bigqueryml-syntax-evaluate):"
   ]
  },
  {
   "cell_type": "code",
   "execution_count": 16,
   "id": "c849e173-6480-41ba-9bc7-fc514e251c69",
   "metadata": {},
   "outputs": [
    {
     "data": {
      "text/html": [
       "<div>\n",
       "<style scoped>\n",
       "    .dataframe tbody tr th:only-of-type {\n",
       "        vertical-align: middle;\n",
       "    }\n",
       "\n",
       "    .dataframe tbody tr th {\n",
       "        vertical-align: top;\n",
       "    }\n",
       "\n",
       "    .dataframe thead th {\n",
       "        text-align: right;\n",
       "    }\n",
       "</style>\n",
       "<table border=\"1\" class=\"dataframe\">\n",
       "  <thead>\n",
       "    <tr style=\"text-align: right;\">\n",
       "      <th></th>\n",
       "      <th>total_explained_variance_ratio</th>\n",
       "    </tr>\n",
       "  </thead>\n",
       "  <tbody>\n",
       "    <tr>\n",
       "      <th>0</th>\n",
       "      <td>0.923359</td>\n",
       "    </tr>\n",
       "  </tbody>\n",
       "</table>\n",
       "</div>"
      ],
      "text/plain": [
       "   total_explained_variance_ratio\n",
       "0                        0.923359"
      ]
     },
     "execution_count": 16,
     "metadata": {},
     "output_type": "execute_result"
    }
   ],
   "source": [
    "eval = bq.query(\n",
    "    query = f\"\"\"\n",
    "        SELECT *\n",
    "        FROM ML.EVALUATE(MODEL `{BQ_PROJECT}.{BQ_DATASET}.{BQ_MODEL}`)\n",
    "        \"\"\"\n",
    ").to_dataframe()\n",
    "eval"
   ]
  },
  {
   "cell_type": "markdown",
   "id": "c67e98a9-2454-4475-8e9b-c78f93feb9a6",
   "metadata": {},
   "source": [
    "Review the principal components with [ML.PRINCIPAL_COMPONENT_INFO](https://cloud.google.com/bigquery-ml/docs/reference/standard-sql/bigqueryml-syntax-principal-component-info):"
   ]
  },
  {
   "cell_type": "code",
   "execution_count": 13,
   "id": "dac4475c-4334-4451-ae45-7b675e9bd00d",
   "metadata": {},
   "outputs": [
    {
     "data": {
      "text/html": [
       "<div>\n",
       "<style scoped>\n",
       "    .dataframe tbody tr th:only-of-type {\n",
       "        vertical-align: middle;\n",
       "    }\n",
       "\n",
       "    .dataframe tbody tr th {\n",
       "        vertical-align: top;\n",
       "    }\n",
       "\n",
       "    .dataframe thead th {\n",
       "        text-align: right;\n",
       "    }\n",
       "</style>\n",
       "<table border=\"1\" class=\"dataframe\">\n",
       "  <thead>\n",
       "    <tr style=\"text-align: right;\">\n",
       "      <th></th>\n",
       "      <th>principal_component_id</th>\n",
       "      <th>eigenvalue</th>\n",
       "      <th>explained_variance_ratio</th>\n",
       "      <th>cumulative_explained_variance_ratio</th>\n",
       "    </tr>\n",
       "  </thead>\n",
       "  <tbody>\n",
       "    <tr>\n",
       "      <th>0</th>\n",
       "      <td>0</td>\n",
       "      <td>1.965330</td>\n",
       "      <td>0.065511</td>\n",
       "      <td>0.065511</td>\n",
       "    </tr>\n",
       "    <tr>\n",
       "      <th>1</th>\n",
       "      <td>1</td>\n",
       "      <td>1.681695</td>\n",
       "      <td>0.056056</td>\n",
       "      <td>0.121567</td>\n",
       "    </tr>\n",
       "    <tr>\n",
       "      <th>2</th>\n",
       "      <td>2</td>\n",
       "      <td>1.045826</td>\n",
       "      <td>0.034861</td>\n",
       "      <td>0.156428</td>\n",
       "    </tr>\n",
       "    <tr>\n",
       "      <th>3</th>\n",
       "      <td>3</td>\n",
       "      <td>1.027172</td>\n",
       "      <td>0.034239</td>\n",
       "      <td>0.190667</td>\n",
       "    </tr>\n",
       "    <tr>\n",
       "      <th>4</th>\n",
       "      <td>4</td>\n",
       "      <td>1.018633</td>\n",
       "      <td>0.033954</td>\n",
       "      <td>0.224622</td>\n",
       "    </tr>\n",
       "    <tr>\n",
       "      <th>5</th>\n",
       "      <td>5</td>\n",
       "      <td>1.013150</td>\n",
       "      <td>0.033772</td>\n",
       "      <td>0.258394</td>\n",
       "    </tr>\n",
       "    <tr>\n",
       "      <th>6</th>\n",
       "      <td>6</td>\n",
       "      <td>1.008045</td>\n",
       "      <td>0.033602</td>\n",
       "      <td>0.291995</td>\n",
       "    </tr>\n",
       "    <tr>\n",
       "      <th>7</th>\n",
       "      <td>7</td>\n",
       "      <td>1.006076</td>\n",
       "      <td>0.033536</td>\n",
       "      <td>0.325531</td>\n",
       "    </tr>\n",
       "    <tr>\n",
       "      <th>8</th>\n",
       "      <td>8</td>\n",
       "      <td>1.004075</td>\n",
       "      <td>0.033469</td>\n",
       "      <td>0.359000</td>\n",
       "    </tr>\n",
       "    <tr>\n",
       "      <th>9</th>\n",
       "      <td>9</td>\n",
       "      <td>1.003322</td>\n",
       "      <td>0.033444</td>\n",
       "      <td>0.392444</td>\n",
       "    </tr>\n",
       "    <tr>\n",
       "      <th>10</th>\n",
       "      <td>10</td>\n",
       "      <td>1.002225</td>\n",
       "      <td>0.033407</td>\n",
       "      <td>0.425852</td>\n",
       "    </tr>\n",
       "    <tr>\n",
       "      <th>11</th>\n",
       "      <td>11</td>\n",
       "      <td>1.001357</td>\n",
       "      <td>0.033379</td>\n",
       "      <td>0.459230</td>\n",
       "    </tr>\n",
       "    <tr>\n",
       "      <th>12</th>\n",
       "      <td>12</td>\n",
       "      <td>1.001104</td>\n",
       "      <td>0.033370</td>\n",
       "      <td>0.492600</td>\n",
       "    </tr>\n",
       "    <tr>\n",
       "      <th>13</th>\n",
       "      <td>13</td>\n",
       "      <td>1.000625</td>\n",
       "      <td>0.033354</td>\n",
       "      <td>0.525955</td>\n",
       "    </tr>\n",
       "    <tr>\n",
       "      <th>14</th>\n",
       "      <td>14</td>\n",
       "      <td>0.999808</td>\n",
       "      <td>0.033327</td>\n",
       "      <td>0.559281</td>\n",
       "    </tr>\n",
       "    <tr>\n",
       "      <th>15</th>\n",
       "      <td>15</td>\n",
       "      <td>0.999306</td>\n",
       "      <td>0.033310</td>\n",
       "      <td>0.592592</td>\n",
       "    </tr>\n",
       "    <tr>\n",
       "      <th>16</th>\n",
       "      <td>16</td>\n",
       "      <td>0.997228</td>\n",
       "      <td>0.033241</td>\n",
       "      <td>0.625833</td>\n",
       "    </tr>\n",
       "    <tr>\n",
       "      <th>17</th>\n",
       "      <td>17</td>\n",
       "      <td>0.996885</td>\n",
       "      <td>0.033229</td>\n",
       "      <td>0.659062</td>\n",
       "    </tr>\n",
       "    <tr>\n",
       "      <th>18</th>\n",
       "      <td>18</td>\n",
       "      <td>0.996071</td>\n",
       "      <td>0.033202</td>\n",
       "      <td>0.692264</td>\n",
       "    </tr>\n",
       "    <tr>\n",
       "      <th>19</th>\n",
       "      <td>19</td>\n",
       "      <td>0.994941</td>\n",
       "      <td>0.033165</td>\n",
       "      <td>0.725429</td>\n",
       "    </tr>\n",
       "    <tr>\n",
       "      <th>20</th>\n",
       "      <td>20</td>\n",
       "      <td>0.993675</td>\n",
       "      <td>0.033122</td>\n",
       "      <td>0.758552</td>\n",
       "    </tr>\n",
       "    <tr>\n",
       "      <th>21</th>\n",
       "      <td>21</td>\n",
       "      <td>0.992742</td>\n",
       "      <td>0.033091</td>\n",
       "      <td>0.791643</td>\n",
       "    </tr>\n",
       "    <tr>\n",
       "      <th>22</th>\n",
       "      <td>22</td>\n",
       "      <td>0.991693</td>\n",
       "      <td>0.033056</td>\n",
       "      <td>0.824699</td>\n",
       "    </tr>\n",
       "    <tr>\n",
       "      <th>23</th>\n",
       "      <td>23</td>\n",
       "      <td>0.990210</td>\n",
       "      <td>0.033007</td>\n",
       "      <td>0.857706</td>\n",
       "    </tr>\n",
       "    <tr>\n",
       "      <th>24</th>\n",
       "      <td>24</td>\n",
       "      <td>0.986987</td>\n",
       "      <td>0.032900</td>\n",
       "      <td>0.890606</td>\n",
       "    </tr>\n",
       "    <tr>\n",
       "      <th>25</th>\n",
       "      <td>25</td>\n",
       "      <td>0.982582</td>\n",
       "      <td>0.032753</td>\n",
       "      <td>0.923359</td>\n",
       "    </tr>\n",
       "  </tbody>\n",
       "</table>\n",
       "</div>"
      ],
      "text/plain": [
       "    principal_component_id  eigenvalue  explained_variance_ratio  \\\n",
       "0                        0    1.965330                  0.065511   \n",
       "1                        1    1.681695                  0.056056   \n",
       "2                        2    1.045826                  0.034861   \n",
       "3                        3    1.027172                  0.034239   \n",
       "4                        4    1.018633                  0.033954   \n",
       "5                        5    1.013150                  0.033772   \n",
       "6                        6    1.008045                  0.033602   \n",
       "7                        7    1.006076                  0.033536   \n",
       "8                        8    1.004075                  0.033469   \n",
       "9                        9    1.003322                  0.033444   \n",
       "10                      10    1.002225                  0.033407   \n",
       "11                      11    1.001357                  0.033379   \n",
       "12                      12    1.001104                  0.033370   \n",
       "13                      13    1.000625                  0.033354   \n",
       "14                      14    0.999808                  0.033327   \n",
       "15                      15    0.999306                  0.033310   \n",
       "16                      16    0.997228                  0.033241   \n",
       "17                      17    0.996885                  0.033229   \n",
       "18                      18    0.996071                  0.033202   \n",
       "19                      19    0.994941                  0.033165   \n",
       "20                      20    0.993675                  0.033122   \n",
       "21                      21    0.992742                  0.033091   \n",
       "22                      22    0.991693                  0.033056   \n",
       "23                      23    0.990210                  0.033007   \n",
       "24                      24    0.986987                  0.032900   \n",
       "25                      25    0.982582                  0.032753   \n",
       "\n",
       "    cumulative_explained_variance_ratio  \n",
       "0                              0.065511  \n",
       "1                              0.121567  \n",
       "2                              0.156428  \n",
       "3                              0.190667  \n",
       "4                              0.224622  \n",
       "5                              0.258394  \n",
       "6                              0.291995  \n",
       "7                              0.325531  \n",
       "8                              0.359000  \n",
       "9                              0.392444  \n",
       "10                             0.425852  \n",
       "11                             0.459230  \n",
       "12                             0.492600  \n",
       "13                             0.525955  \n",
       "14                             0.559281  \n",
       "15                             0.592592  \n",
       "16                             0.625833  \n",
       "17                             0.659062  \n",
       "18                             0.692264  \n",
       "19                             0.725429  \n",
       "20                             0.758552  \n",
       "21                             0.791643  \n",
       "22                             0.824699  \n",
       "23                             0.857706  \n",
       "24                             0.890606  \n",
       "25                             0.923359  "
      ]
     },
     "execution_count": 13,
     "metadata": {},
     "output_type": "execute_result"
    }
   ],
   "source": [
    "pc_info = bq.query(\n",
    "    query = f\"\"\"\n",
    "        SELECT *\n",
    "        FROM ML.PRINCIPAL_COMPONENT_INFO(MODEL `{BQ_PROJECT}.{BQ_DATASET}.{BQ_MODEL}`)\n",
    "        \"\"\"\n",
    ").to_dataframe()\n",
    "pc_info"
   ]
  },
  {
   "cell_type": "markdown",
   "id": "dd77c161-ed0a-4ef7-89b6-71053360bd74",
   "metadata": {},
   "source": [
    "Review the principal components with [ML.PRINCIPAL_COMPONENTS](https://cloud.google.com/bigquery-ml/docs/reference/standard-sql/bigqueryml-syntax-principal-components):"
   ]
  },
  {
   "cell_type": "code",
   "execution_count": 12,
   "id": "eb43403f-2df6-4078-861f-7c41dbc97135",
   "metadata": {},
   "outputs": [
    {
     "data": {
      "text/html": [
       "<div>\n",
       "<style scoped>\n",
       "    .dataframe tbody tr th:only-of-type {\n",
       "        vertical-align: middle;\n",
       "    }\n",
       "\n",
       "    .dataframe tbody tr th {\n",
       "        vertical-align: top;\n",
       "    }\n",
       "\n",
       "    .dataframe thead th {\n",
       "        text-align: right;\n",
       "    }\n",
       "</style>\n",
       "<table border=\"1\" class=\"dataframe\">\n",
       "  <thead>\n",
       "    <tr style=\"text-align: right;\">\n",
       "      <th></th>\n",
       "      <th>principal_component_id</th>\n",
       "      <th>feature</th>\n",
       "      <th>numerical_value</th>\n",
       "      <th>categorical_value</th>\n",
       "    </tr>\n",
       "  </thead>\n",
       "  <tbody>\n",
       "    <tr>\n",
       "      <th>0</th>\n",
       "      <td>0</td>\n",
       "      <td>Time</td>\n",
       "      <td>0.031008</td>\n",
       "      <td>[]</td>\n",
       "    </tr>\n",
       "    <tr>\n",
       "      <th>1</th>\n",
       "      <td>0</td>\n",
       "      <td>V1</td>\n",
       "      <td>0.174601</td>\n",
       "      <td>[]</td>\n",
       "    </tr>\n",
       "    <tr>\n",
       "      <th>2</th>\n",
       "      <td>0</td>\n",
       "      <td>V2</td>\n",
       "      <td>0.395097</td>\n",
       "      <td>[]</td>\n",
       "    </tr>\n",
       "    <tr>\n",
       "      <th>3</th>\n",
       "      <td>0</td>\n",
       "      <td>V3</td>\n",
       "      <td>0.143194</td>\n",
       "      <td>[]</td>\n",
       "    </tr>\n",
       "    <tr>\n",
       "      <th>4</th>\n",
       "      <td>0</td>\n",
       "      <td>V4</td>\n",
       "      <td>-0.079480</td>\n",
       "      <td>[]</td>\n",
       "    </tr>\n",
       "    <tr>\n",
       "      <th>...</th>\n",
       "      <td>...</td>\n",
       "      <td>...</td>\n",
       "      <td>...</td>\n",
       "      <td>...</td>\n",
       "    </tr>\n",
       "    <tr>\n",
       "      <th>775</th>\n",
       "      <td>25</td>\n",
       "      <td>V25</td>\n",
       "      <td>0.131626</td>\n",
       "      <td>[]</td>\n",
       "    </tr>\n",
       "    <tr>\n",
       "      <th>776</th>\n",
       "      <td>25</td>\n",
       "      <td>V26</td>\n",
       "      <td>-0.010290</td>\n",
       "      <td>[]</td>\n",
       "    </tr>\n",
       "    <tr>\n",
       "      <th>777</th>\n",
       "      <td>25</td>\n",
       "      <td>V27</td>\n",
       "      <td>0.068330</td>\n",
       "      <td>[]</td>\n",
       "    </tr>\n",
       "    <tr>\n",
       "      <th>778</th>\n",
       "      <td>25</td>\n",
       "      <td>V28</td>\n",
       "      <td>-0.078994</td>\n",
       "      <td>[]</td>\n",
       "    </tr>\n",
       "    <tr>\n",
       "      <th>779</th>\n",
       "      <td>25</td>\n",
       "      <td>Amount</td>\n",
       "      <td>0.001777</td>\n",
       "      <td>[]</td>\n",
       "    </tr>\n",
       "  </tbody>\n",
       "</table>\n",
       "<p>780 rows × 4 columns</p>\n",
       "</div>"
      ],
      "text/plain": [
       "     principal_component_id feature  numerical_value categorical_value\n",
       "0                         0    Time         0.031008                []\n",
       "1                         0      V1         0.174601                []\n",
       "2                         0      V2         0.395097                []\n",
       "3                         0      V3         0.143194                []\n",
       "4                         0      V4        -0.079480                []\n",
       "..                      ...     ...              ...               ...\n",
       "775                      25     V25         0.131626                []\n",
       "776                      25     V26        -0.010290                []\n",
       "777                      25     V27         0.068330                []\n",
       "778                      25     V28        -0.078994                []\n",
       "779                      25  Amount         0.001777                []\n",
       "\n",
       "[780 rows x 4 columns]"
      ]
     },
     "execution_count": 12,
     "metadata": {},
     "output_type": "execute_result"
    }
   ],
   "source": [
    "pc = bq.query(\n",
    "    query = f\"\"\"\n",
    "        SELECT *\n",
    "        FROM ML.PRINCIPAL_COMPONENTS(MODEL `{BQ_PROJECT}.{BQ_DATASET}.{BQ_MODEL}`)\n",
    "        \"\"\"\n",
    ").to_dataframe()\n",
    "pc"
   ]
  },
  {
   "cell_type": "markdown",
   "id": "cb709299-2ed5-4a35-ac06-1a68389be5c0",
   "metadata": {},
   "source": [
    "---\n",
    "## Predictions With BigQuery ML (BQML)"
   ]
  },
  {
   "cell_type": "markdown",
   "id": "ccb1d929-fb7e-439a-b6ae-349ea7d3fd8a",
   "metadata": {},
   "source": [
    "Create a pandas dataframe with retrieved predictions for the test data in the table using [ML.PREDICT](https://cloud.google.com/bigquery-ml/docs/reference/standard-sql/bigqueryml-syntax-predict):"
   ]
  },
  {
   "cell_type": "code",
   "execution_count": 19,
   "id": "5e323a7a-6523-450b-93ba-cfd65224678b",
   "metadata": {},
   "outputs": [],
   "source": [
    "query = f\"\"\"\n",
    "SELECT *\n",
    "FROM ML.PREDICT (MODEL `{BQ_PROJECT}.{BQ_DATASET}.{BQ_MODEL}`,(\n",
    "    SELECT *\n",
    "    FROM `{BQ_PROJECT}.{BQ_DATASET}.{BQ_TABLE}`\n",
    "    WHERE splits = 'TEST')\n",
    "  )\n",
    "\"\"\"\n",
    "pred = bq.query(query = query).to_dataframe()"
   ]
  },
  {
   "cell_type": "markdown",
   "id": "9c979440-9753-4d0a-b06a-93fca98862e9",
   "metadata": {},
   "source": [
    "Review the columns from the predictions.  Note that the query added columns for each principal component for each example in the test data."
   ]
  },
  {
   "cell_type": "code",
   "execution_count": 20,
   "id": "91819aaa-ac74-42ff-a98e-418812a7f69e",
   "metadata": {},
   "outputs": [
    {
     "data": {
      "text/html": [
       "<div>\n",
       "<style scoped>\n",
       "    .dataframe tbody tr th:only-of-type {\n",
       "        vertical-align: middle;\n",
       "    }\n",
       "\n",
       "    .dataframe tbody tr th {\n",
       "        vertical-align: top;\n",
       "    }\n",
       "\n",
       "    .dataframe thead th {\n",
       "        text-align: right;\n",
       "    }\n",
       "</style>\n",
       "<table border=\"1\" class=\"dataframe\">\n",
       "  <thead>\n",
       "    <tr style=\"text-align: right;\">\n",
       "      <th></th>\n",
       "      <th>principal_component_1</th>\n",
       "      <th>principal_component_2</th>\n",
       "      <th>principal_component_3</th>\n",
       "      <th>principal_component_4</th>\n",
       "      <th>principal_component_5</th>\n",
       "      <th>principal_component_6</th>\n",
       "      <th>principal_component_7</th>\n",
       "      <th>principal_component_8</th>\n",
       "      <th>principal_component_9</th>\n",
       "      <th>principal_component_10</th>\n",
       "      <th>...</th>\n",
       "      <th>principal_component_20</th>\n",
       "      <th>principal_component_21</th>\n",
       "      <th>principal_component_22</th>\n",
       "      <th>principal_component_23</th>\n",
       "      <th>principal_component_24</th>\n",
       "      <th>principal_component_25</th>\n",
       "      <th>principal_component_26</th>\n",
       "      <th>Class</th>\n",
       "      <th>transaction_id</th>\n",
       "      <th>splits</th>\n",
       "    </tr>\n",
       "  </thead>\n",
       "  <tbody>\n",
       "    <tr>\n",
       "      <th>0</th>\n",
       "      <td>0.302299</td>\n",
       "      <td>0.889004</td>\n",
       "      <td>0.123864</td>\n",
       "      <td>-0.473393</td>\n",
       "      <td>0.284043</td>\n",
       "      <td>1.742441</td>\n",
       "      <td>-0.345646</td>\n",
       "      <td>0.946860</td>\n",
       "      <td>0.215936</td>\n",
       "      <td>-0.713498</td>\n",
       "      <td>...</td>\n",
       "      <td>-0.507086</td>\n",
       "      <td>-1.276067</td>\n",
       "      <td>1.233245</td>\n",
       "      <td>0.012551</td>\n",
       "      <td>-0.816971</td>\n",
       "      <td>-0.873330</td>\n",
       "      <td>-0.701734</td>\n",
       "      <td>0</td>\n",
       "      <td>1259d8f5-8b63-49c1-96e3-a7c4acc11d0d</td>\n",
       "      <td>TEST</td>\n",
       "    </tr>\n",
       "    <tr>\n",
       "      <th>1</th>\n",
       "      <td>0.436857</td>\n",
       "      <td>1.283266</td>\n",
       "      <td>0.276381</td>\n",
       "      <td>0.379212</td>\n",
       "      <td>0.268451</td>\n",
       "      <td>0.221368</td>\n",
       "      <td>0.259071</td>\n",
       "      <td>-1.923760</td>\n",
       "      <td>1.301598</td>\n",
       "      <td>-1.073554</td>\n",
       "      <td>...</td>\n",
       "      <td>1.885078</td>\n",
       "      <td>-0.112686</td>\n",
       "      <td>-0.265738</td>\n",
       "      <td>0.963128</td>\n",
       "      <td>-0.417040</td>\n",
       "      <td>0.781357</td>\n",
       "      <td>-0.185404</td>\n",
       "      <td>0</td>\n",
       "      <td>3ee3058b-b63d-4e7e-9962-7355105648b2</td>\n",
       "      <td>TEST</td>\n",
       "    </tr>\n",
       "    <tr>\n",
       "      <th>2</th>\n",
       "      <td>0.739754</td>\n",
       "      <td>1.172268</td>\n",
       "      <td>-0.121995</td>\n",
       "      <td>-0.091609</td>\n",
       "      <td>0.690563</td>\n",
       "      <td>0.375325</td>\n",
       "      <td>-1.704535</td>\n",
       "      <td>-0.338556</td>\n",
       "      <td>2.182858</td>\n",
       "      <td>-0.216122</td>\n",
       "      <td>...</td>\n",
       "      <td>0.099748</td>\n",
       "      <td>1.587683</td>\n",
       "      <td>1.185813</td>\n",
       "      <td>-0.971713</td>\n",
       "      <td>1.437205</td>\n",
       "      <td>0.917917</td>\n",
       "      <td>-0.103370</td>\n",
       "      <td>0</td>\n",
       "      <td>e010e7c7-9d24-4eda-a30e-c1088e545017</td>\n",
       "      <td>TEST</td>\n",
       "    </tr>\n",
       "    <tr>\n",
       "      <th>3</th>\n",
       "      <td>0.417853</td>\n",
       "      <td>1.334406</td>\n",
       "      <td>0.161835</td>\n",
       "      <td>-0.057766</td>\n",
       "      <td>-0.112682</td>\n",
       "      <td>0.149498</td>\n",
       "      <td>1.114876</td>\n",
       "      <td>-0.586743</td>\n",
       "      <td>0.508492</td>\n",
       "      <td>0.738301</td>\n",
       "      <td>...</td>\n",
       "      <td>-0.660798</td>\n",
       "      <td>-0.077034</td>\n",
       "      <td>0.199453</td>\n",
       "      <td>-2.078770</td>\n",
       "      <td>-0.782757</td>\n",
       "      <td>-0.217211</td>\n",
       "      <td>0.416480</td>\n",
       "      <td>0</td>\n",
       "      <td>56918cff-5554-4f8f-af79-56b2e7003d4b</td>\n",
       "      <td>TEST</td>\n",
       "    </tr>\n",
       "    <tr>\n",
       "      <th>4</th>\n",
       "      <td>0.406308</td>\n",
       "      <td>1.652570</td>\n",
       "      <td>-0.186995</td>\n",
       "      <td>0.212270</td>\n",
       "      <td>-0.295063</td>\n",
       "      <td>-1.278854</td>\n",
       "      <td>-0.070468</td>\n",
       "      <td>4.229582</td>\n",
       "      <td>0.597276</td>\n",
       "      <td>-0.120640</td>\n",
       "      <td>...</td>\n",
       "      <td>0.002969</td>\n",
       "      <td>0.653782</td>\n",
       "      <td>-0.276520</td>\n",
       "      <td>-0.451263</td>\n",
       "      <td>0.606637</td>\n",
       "      <td>-0.247198</td>\n",
       "      <td>-0.088362</td>\n",
       "      <td>0</td>\n",
       "      <td>62f1f2cd-5728-46af-97e8-9be1af044dd3</td>\n",
       "      <td>TEST</td>\n",
       "    </tr>\n",
       "  </tbody>\n",
       "</table>\n",
       "<p>5 rows × 29 columns</p>\n",
       "</div>"
      ],
      "text/plain": [
       "   principal_component_1  principal_component_2  principal_component_3  \\\n",
       "0               0.302299               0.889004               0.123864   \n",
       "1               0.436857               1.283266               0.276381   \n",
       "2               0.739754               1.172268              -0.121995   \n",
       "3               0.417853               1.334406               0.161835   \n",
       "4               0.406308               1.652570              -0.186995   \n",
       "\n",
       "   principal_component_4  principal_component_5  principal_component_6  \\\n",
       "0              -0.473393               0.284043               1.742441   \n",
       "1               0.379212               0.268451               0.221368   \n",
       "2              -0.091609               0.690563               0.375325   \n",
       "3              -0.057766              -0.112682               0.149498   \n",
       "4               0.212270              -0.295063              -1.278854   \n",
       "\n",
       "   principal_component_7  principal_component_8  principal_component_9  \\\n",
       "0              -0.345646               0.946860               0.215936   \n",
       "1               0.259071              -1.923760               1.301598   \n",
       "2              -1.704535              -0.338556               2.182858   \n",
       "3               1.114876              -0.586743               0.508492   \n",
       "4              -0.070468               4.229582               0.597276   \n",
       "\n",
       "   principal_component_10  ...  principal_component_20  \\\n",
       "0               -0.713498  ...               -0.507086   \n",
       "1               -1.073554  ...                1.885078   \n",
       "2               -0.216122  ...                0.099748   \n",
       "3                0.738301  ...               -0.660798   \n",
       "4               -0.120640  ...                0.002969   \n",
       "\n",
       "   principal_component_21  principal_component_22  principal_component_23  \\\n",
       "0               -1.276067                1.233245                0.012551   \n",
       "1               -0.112686               -0.265738                0.963128   \n",
       "2                1.587683                1.185813               -0.971713   \n",
       "3               -0.077034                0.199453               -2.078770   \n",
       "4                0.653782               -0.276520               -0.451263   \n",
       "\n",
       "   principal_component_24  principal_component_25  principal_component_26  \\\n",
       "0               -0.816971               -0.873330               -0.701734   \n",
       "1               -0.417040                0.781357               -0.185404   \n",
       "2                1.437205                0.917917               -0.103370   \n",
       "3               -0.782757               -0.217211                0.416480   \n",
       "4                0.606637               -0.247198               -0.088362   \n",
       "\n",
       "   Class                        transaction_id  splits  \n",
       "0      0  1259d8f5-8b63-49c1-96e3-a7c4acc11d0d    TEST  \n",
       "1      0  3ee3058b-b63d-4e7e-9962-7355105648b2    TEST  \n",
       "2      0  e010e7c7-9d24-4eda-a30e-c1088e545017    TEST  \n",
       "3      0  56918cff-5554-4f8f-af79-56b2e7003d4b    TEST  \n",
       "4      0  62f1f2cd-5728-46af-97e8-9be1af044dd3    TEST  \n",
       "\n",
       "[5 rows x 29 columns]"
      ]
     },
     "execution_count": 20,
     "metadata": {},
     "output_type": "execute_result"
    }
   ],
   "source": [
    "pred.head()"
   ]
  },
  {
   "cell_type": "markdown",
   "id": "e1fc4fc2-434c-4fc6-8376-1231a0ff4a3d",
   "metadata": {},
   "source": [
    "---\n",
    "## Anomalies\n",
    "Use the [ML.DETECT_ANOMALIES](https://cloud.google.com/bigquery-ml/docs/reference/standard-sql/bigqueryml-syntax-detect-anomalies) function to retrieve rows that appear as anomalies with the input [contamination](https://cloud.google.com/bigquery-ml/docs/reference/standard-sql/bigqueryml-syntax-detect-anomalies#contamination) value set to the rate of fraud in the training data (calculated above)."
   ]
  },
  {
   "cell_type": "code",
   "execution_count": 61,
   "id": "eeb534e0-e606-49b3-ab7d-f9d9627e3c2f",
   "metadata": {},
   "outputs": [],
   "source": [
    "query = f\"\"\"\n",
    "WITH ANOMALIES AS (\n",
    "        SELECT *\n",
    "        FROM ML.DETECT_ANOMALIES (\n",
    "            MODEL `{BQ_PROJECT}.{BQ_DATASET}.{BQ_MODEL}`,\n",
    "            STRUCT ({TRAIN_FRAUD_PCT} AS contamination),\n",
    "            (SELECT *\n",
    "            FROM `{BQ_PROJECT}.{BQ_DATASET}.{BQ_TABLE}`\n",
    "            WHERE splits = 'TEST')\n",
    "          )\n",
    ")\n",
    "SELECT *\n",
    "FROM ANOMALIES\n",
    "WHERE is_anomaly = TRUE\n",
    "\"\"\"\n",
    "anomalies = bq.query(query = query).to_dataframe()"
   ]
  },
  {
   "cell_type": "code",
   "execution_count": 62,
   "id": "6eb8f008-0cf7-4b0d-b96d-e45583f42a84",
   "metadata": {},
   "outputs": [
    {
     "data": {
      "text/html": [
       "<div>\n",
       "<style scoped>\n",
       "    .dataframe tbody tr th:only-of-type {\n",
       "        vertical-align: middle;\n",
       "    }\n",
       "\n",
       "    .dataframe tbody tr th {\n",
       "        vertical-align: top;\n",
       "    }\n",
       "\n",
       "    .dataframe thead th {\n",
       "        text-align: right;\n",
       "    }\n",
       "</style>\n",
       "<table border=\"1\" class=\"dataframe\">\n",
       "  <thead>\n",
       "    <tr style=\"text-align: right;\">\n",
       "      <th></th>\n",
       "      <th>is_anomaly</th>\n",
       "      <th>mean_squared_error</th>\n",
       "      <th>Time</th>\n",
       "      <th>V1</th>\n",
       "      <th>V2</th>\n",
       "      <th>V3</th>\n",
       "      <th>V4</th>\n",
       "      <th>V5</th>\n",
       "      <th>V6</th>\n",
       "      <th>V7</th>\n",
       "      <th>...</th>\n",
       "      <th>V23</th>\n",
       "      <th>V24</th>\n",
       "      <th>V25</th>\n",
       "      <th>V26</th>\n",
       "      <th>V27</th>\n",
       "      <th>V28</th>\n",
       "      <th>Amount</th>\n",
       "      <th>Class</th>\n",
       "      <th>transaction_id</th>\n",
       "      <th>splits</th>\n",
       "    </tr>\n",
       "  </thead>\n",
       "  <tbody>\n",
       "    <tr>\n",
       "      <th>0</th>\n",
       "      <td>True</td>\n",
       "      <td>1.900092</td>\n",
       "      <td>121095</td>\n",
       "      <td>-7.248706</td>\n",
       "      <td>-1.004738</td>\n",
       "      <td>-1.047868</td>\n",
       "      <td>1.937478</td>\n",
       "      <td>-1.694869</td>\n",
       "      <td>1.880934</td>\n",
       "      <td>-2.529932</td>\n",
       "      <td>...</td>\n",
       "      <td>-2.058720</td>\n",
       "      <td>0.215164</td>\n",
       "      <td>-0.194116</td>\n",
       "      <td>-0.596784</td>\n",
       "      <td>2.263397</td>\n",
       "      <td>-1.360719</td>\n",
       "      <td>500.00</td>\n",
       "      <td>0</td>\n",
       "      <td>c9cc500e-52ed-4669-a8c3-6d982790a7b2</td>\n",
       "      <td>TEST</td>\n",
       "    </tr>\n",
       "    <tr>\n",
       "      <th>1</th>\n",
       "      <td>True</td>\n",
       "      <td>4.990630</td>\n",
       "      <td>135013</td>\n",
       "      <td>-15.064331</td>\n",
       "      <td>-18.701995</td>\n",
       "      <td>0.287779</td>\n",
       "      <td>2.796126</td>\n",
       "      <td>9.345201</td>\n",
       "      <td>-6.357009</td>\n",
       "      <td>-2.727102</td>\n",
       "      <td>...</td>\n",
       "      <td>13.218751</td>\n",
       "      <td>0.259467</td>\n",
       "      <td>3.590787</td>\n",
       "      <td>0.701818</td>\n",
       "      <td>1.794743</td>\n",
       "      <td>-1.232120</td>\n",
       "      <td>366.39</td>\n",
       "      <td>0</td>\n",
       "      <td>d16ab719-70af-4055-af43-4c150b4b2209</td>\n",
       "      <td>TEST</td>\n",
       "    </tr>\n",
       "    <tr>\n",
       "      <th>2</th>\n",
       "      <td>True</td>\n",
       "      <td>2.648178</td>\n",
       "      <td>59697</td>\n",
       "      <td>-8.991416</td>\n",
       "      <td>-11.497549</td>\n",
       "      <td>-1.141695</td>\n",
       "      <td>2.170351</td>\n",
       "      <td>5.590064</td>\n",
       "      <td>-4.602239</td>\n",
       "      <td>-2.898236</td>\n",
       "      <td>...</td>\n",
       "      <td>1.161389</td>\n",
       "      <td>-0.227948</td>\n",
       "      <td>-0.467984</td>\n",
       "      <td>0.748701</td>\n",
       "      <td>0.186738</td>\n",
       "      <td>-1.423689</td>\n",
       "      <td>554.96</td>\n",
       "      <td>0</td>\n",
       "      <td>b3fcda51-0681-44e3-8881-e2de68fe2556</td>\n",
       "      <td>TEST</td>\n",
       "    </tr>\n",
       "    <tr>\n",
       "      <th>3</th>\n",
       "      <td>True</td>\n",
       "      <td>4.023021</td>\n",
       "      <td>130762</td>\n",
       "      <td>-13.324047</td>\n",
       "      <td>-10.364105</td>\n",
       "      <td>-2.987020</td>\n",
       "      <td>0.716129</td>\n",
       "      <td>4.459758</td>\n",
       "      <td>-1.715564</td>\n",
       "      <td>-1.840253</td>\n",
       "      <td>...</td>\n",
       "      <td>7.909643</td>\n",
       "      <td>0.389908</td>\n",
       "      <td>2.403390</td>\n",
       "      <td>0.450852</td>\n",
       "      <td>4.164534</td>\n",
       "      <td>-1.297080</td>\n",
       "      <td>0.76</td>\n",
       "      <td>0</td>\n",
       "      <td>c7d6b5de-0ceb-47e2-9cba-7ce0d576d061</td>\n",
       "      <td>TEST</td>\n",
       "    </tr>\n",
       "    <tr>\n",
       "      <th>4</th>\n",
       "      <td>True</td>\n",
       "      <td>11.029368</td>\n",
       "      <td>74657</td>\n",
       "      <td>-16.743851</td>\n",
       "      <td>-19.511968</td>\n",
       "      <td>-7.214609</td>\n",
       "      <td>8.345571</td>\n",
       "      <td>-11.322894</td>\n",
       "      <td>8.606982</td>\n",
       "      <td>14.113144</td>\n",
       "      <td>...</td>\n",
       "      <td>9.016942</td>\n",
       "      <td>-0.859535</td>\n",
       "      <td>1.048808</td>\n",
       "      <td>0.438797</td>\n",
       "      <td>4.250372</td>\n",
       "      <td>-5.954281</td>\n",
       "      <td>3759.39</td>\n",
       "      <td>0</td>\n",
       "      <td>03324231-8b4c-4a98-a521-ab626f5d232d</td>\n",
       "      <td>TEST</td>\n",
       "    </tr>\n",
       "    <tr>\n",
       "      <th>...</th>\n",
       "      <td>...</td>\n",
       "      <td>...</td>\n",
       "      <td>...</td>\n",
       "      <td>...</td>\n",
       "      <td>...</td>\n",
       "      <td>...</td>\n",
       "      <td>...</td>\n",
       "      <td>...</td>\n",
       "      <td>...</td>\n",
       "      <td>...</td>\n",
       "      <td>...</td>\n",
       "      <td>...</td>\n",
       "      <td>...</td>\n",
       "      <td>...</td>\n",
       "      <td>...</td>\n",
       "      <td>...</td>\n",
       "      <td>...</td>\n",
       "      <td>...</td>\n",
       "      <td>...</td>\n",
       "      <td>...</td>\n",
       "      <td>...</td>\n",
       "    </tr>\n",
       "    <tr>\n",
       "      <th>169</th>\n",
       "      <td>True</td>\n",
       "      <td>2.915021</td>\n",
       "      <td>168059</td>\n",
       "      <td>-2.024659</td>\n",
       "      <td>0.369923</td>\n",
       "      <td>0.564958</td>\n",
       "      <td>-0.611634</td>\n",
       "      <td>5.821409</td>\n",
       "      <td>-4.586418</td>\n",
       "      <td>-3.760865</td>\n",
       "      <td>...</td>\n",
       "      <td>-7.893041</td>\n",
       "      <td>0.127839</td>\n",
       "      <td>-0.506753</td>\n",
       "      <td>-0.311708</td>\n",
       "      <td>0.461504</td>\n",
       "      <td>0.306785</td>\n",
       "      <td>1.00</td>\n",
       "      <td>0</td>\n",
       "      <td>e4ede74d-98ab-4026-a931-e42e93dfc1fd</td>\n",
       "      <td>TEST</td>\n",
       "    </tr>\n",
       "    <tr>\n",
       "      <th>170</th>\n",
       "      <td>True</td>\n",
       "      <td>3.250941</td>\n",
       "      <td>163345</td>\n",
       "      <td>-7.675167</td>\n",
       "      <td>-7.592141</td>\n",
       "      <td>-1.368480</td>\n",
       "      <td>2.224221</td>\n",
       "      <td>3.464948</td>\n",
       "      <td>2.521550</td>\n",
       "      <td>-3.625297</td>\n",
       "      <td>...</td>\n",
       "      <td>-3.887507</td>\n",
       "      <td>1.182948</td>\n",
       "      <td>-0.943493</td>\n",
       "      <td>1.069245</td>\n",
       "      <td>0.602824</td>\n",
       "      <td>-1.782777</td>\n",
       "      <td>45.00</td>\n",
       "      <td>0</td>\n",
       "      <td>d4b7006a-23bf-4b50-b664-4ec6c36cfffe</td>\n",
       "      <td>TEST</td>\n",
       "    </tr>\n",
       "    <tr>\n",
       "      <th>171</th>\n",
       "      <td>True</td>\n",
       "      <td>2.606843</td>\n",
       "      <td>152452</td>\n",
       "      <td>-15.053526</td>\n",
       "      <td>-8.777945</td>\n",
       "      <td>-9.871561</td>\n",
       "      <td>2.105665</td>\n",
       "      <td>-11.203509</td>\n",
       "      <td>4.309935</td>\n",
       "      <td>8.053103</td>\n",
       "      <td>...</td>\n",
       "      <td>-0.113145</td>\n",
       "      <td>1.349329</td>\n",
       "      <td>-1.937162</td>\n",
       "      <td>-0.965639</td>\n",
       "      <td>-1.459414</td>\n",
       "      <td>-1.305713</td>\n",
       "      <td>1565.12</td>\n",
       "      <td>0</td>\n",
       "      <td>f03af106-1784-4069-b5f2-9abbfea4e387</td>\n",
       "      <td>TEST</td>\n",
       "    </tr>\n",
       "    <tr>\n",
       "      <th>172</th>\n",
       "      <td>True</td>\n",
       "      <td>6.808827</td>\n",
       "      <td>59343</td>\n",
       "      <td>-7.936875</td>\n",
       "      <td>-5.162653</td>\n",
       "      <td>-1.091680</td>\n",
       "      <td>0.572356</td>\n",
       "      <td>-4.780864</td>\n",
       "      <td>3.966415</td>\n",
       "      <td>6.384288</td>\n",
       "      <td>...</td>\n",
       "      <td>-1.520042</td>\n",
       "      <td>0.134129</td>\n",
       "      <td>-0.012597</td>\n",
       "      <td>0.664629</td>\n",
       "      <td>-2.743233</td>\n",
       "      <td>2.824961</td>\n",
       "      <td>1216.08</td>\n",
       "      <td>0</td>\n",
       "      <td>1746a47c-271c-482a-969d-050b93cac0b2</td>\n",
       "      <td>TEST</td>\n",
       "    </tr>\n",
       "    <tr>\n",
       "      <th>173</th>\n",
       "      <td>True</td>\n",
       "      <td>2.120690</td>\n",
       "      <td>147634</td>\n",
       "      <td>-8.772753</td>\n",
       "      <td>-0.355531</td>\n",
       "      <td>-5.006978</td>\n",
       "      <td>1.499763</td>\n",
       "      <td>-0.107876</td>\n",
       "      <td>1.244697</td>\n",
       "      <td>-0.156866</td>\n",
       "      <td>...</td>\n",
       "      <td>0.360129</td>\n",
       "      <td>-0.803329</td>\n",
       "      <td>0.333701</td>\n",
       "      <td>-0.512153</td>\n",
       "      <td>-3.407196</td>\n",
       "      <td>1.970394</td>\n",
       "      <td>5.98</td>\n",
       "      <td>0</td>\n",
       "      <td>a11d7693-cc41-4579-9aa8-6f80f6ecb82c</td>\n",
       "      <td>TEST</td>\n",
       "    </tr>\n",
       "  </tbody>\n",
       "</table>\n",
       "<p>174 rows × 35 columns</p>\n",
       "</div>"
      ],
      "text/plain": [
       "     is_anomaly  mean_squared_error    Time         V1         V2        V3  \\\n",
       "0          True            1.900092  121095  -7.248706  -1.004738 -1.047868   \n",
       "1          True            4.990630  135013 -15.064331 -18.701995  0.287779   \n",
       "2          True            2.648178   59697  -8.991416 -11.497549 -1.141695   \n",
       "3          True            4.023021  130762 -13.324047 -10.364105 -2.987020   \n",
       "4          True           11.029368   74657 -16.743851 -19.511968 -7.214609   \n",
       "..          ...                 ...     ...        ...        ...       ...   \n",
       "169        True            2.915021  168059  -2.024659   0.369923  0.564958   \n",
       "170        True            3.250941  163345  -7.675167  -7.592141 -1.368480   \n",
       "171        True            2.606843  152452 -15.053526  -8.777945 -9.871561   \n",
       "172        True            6.808827   59343  -7.936875  -5.162653 -1.091680   \n",
       "173        True            2.120690  147634  -8.772753  -0.355531 -5.006978   \n",
       "\n",
       "           V4         V5        V6         V7  ...        V23       V24  \\\n",
       "0    1.937478  -1.694869  1.880934  -2.529932  ...  -2.058720  0.215164   \n",
       "1    2.796126   9.345201 -6.357009  -2.727102  ...  13.218751  0.259467   \n",
       "2    2.170351   5.590064 -4.602239  -2.898236  ...   1.161389 -0.227948   \n",
       "3    0.716129   4.459758 -1.715564  -1.840253  ...   7.909643  0.389908   \n",
       "4    8.345571 -11.322894  8.606982  14.113144  ...   9.016942 -0.859535   \n",
       "..        ...        ...       ...        ...  ...        ...       ...   \n",
       "169 -0.611634   5.821409 -4.586418  -3.760865  ...  -7.893041  0.127839   \n",
       "170  2.224221   3.464948  2.521550  -3.625297  ...  -3.887507  1.182948   \n",
       "171  2.105665 -11.203509  4.309935   8.053103  ...  -0.113145  1.349329   \n",
       "172  0.572356  -4.780864  3.966415   6.384288  ...  -1.520042  0.134129   \n",
       "173  1.499763  -0.107876  1.244697  -0.156866  ...   0.360129 -0.803329   \n",
       "\n",
       "          V25       V26       V27       V28   Amount  Class  \\\n",
       "0   -0.194116 -0.596784  2.263397 -1.360719   500.00      0   \n",
       "1    3.590787  0.701818  1.794743 -1.232120   366.39      0   \n",
       "2   -0.467984  0.748701  0.186738 -1.423689   554.96      0   \n",
       "3    2.403390  0.450852  4.164534 -1.297080     0.76      0   \n",
       "4    1.048808  0.438797  4.250372 -5.954281  3759.39      0   \n",
       "..        ...       ...       ...       ...      ...    ...   \n",
       "169 -0.506753 -0.311708  0.461504  0.306785     1.00      0   \n",
       "170 -0.943493  1.069245  0.602824 -1.782777    45.00      0   \n",
       "171 -1.937162 -0.965639 -1.459414 -1.305713  1565.12      0   \n",
       "172 -0.012597  0.664629 -2.743233  2.824961  1216.08      0   \n",
       "173  0.333701 -0.512153 -3.407196  1.970394     5.98      0   \n",
       "\n",
       "                           transaction_id  splits  \n",
       "0    c9cc500e-52ed-4669-a8c3-6d982790a7b2    TEST  \n",
       "1    d16ab719-70af-4055-af43-4c150b4b2209    TEST  \n",
       "2    b3fcda51-0681-44e3-8881-e2de68fe2556    TEST  \n",
       "3    c7d6b5de-0ceb-47e2-9cba-7ce0d576d061    TEST  \n",
       "4    03324231-8b4c-4a98-a521-ab626f5d232d    TEST  \n",
       "..                                    ...     ...  \n",
       "169  e4ede74d-98ab-4026-a931-e42e93dfc1fd    TEST  \n",
       "170  d4b7006a-23bf-4b50-b664-4ec6c36cfffe    TEST  \n",
       "171  f03af106-1784-4069-b5f2-9abbfea4e387    TEST  \n",
       "172  1746a47c-271c-482a-969d-050b93cac0b2    TEST  \n",
       "173  a11d7693-cc41-4579-9aa8-6f80f6ecb82c    TEST  \n",
       "\n",
       "[174 rows x 35 columns]"
      ]
     },
     "execution_count": 62,
     "metadata": {},
     "output_type": "execute_result"
    }
   ],
   "source": [
    "anomalies"
   ]
  },
  {
   "cell_type": "markdown",
   "id": "4289087f-2026-4d15-8ae4-37641c0bd12b",
   "metadata": {},
   "source": [
    "Use anomaly detection information to create confusion matrix with know classification:"
   ]
  },
  {
   "cell_type": "code",
   "execution_count": 66,
   "id": "28efb7c6-448c-4587-a5fc-3accac0492fc",
   "metadata": {},
   "outputs": [
    {
     "data": {
      "text/html": [
       "<div>\n",
       "<style scoped>\n",
       "    .dataframe tbody tr th:only-of-type {\n",
       "        vertical-align: middle;\n",
       "    }\n",
       "\n",
       "    .dataframe tbody tr th {\n",
       "        vertical-align: top;\n",
       "    }\n",
       "\n",
       "    .dataframe thead th {\n",
       "        text-align: right;\n",
       "    }\n",
       "</style>\n",
       "<table border=\"1\" class=\"dataframe\">\n",
       "  <thead>\n",
       "    <tr style=\"text-align: right;\">\n",
       "      <th></th>\n",
       "      <th>predicted_Class</th>\n",
       "      <th>Class</th>\n",
       "      <th>count</th>\n",
       "    </tr>\n",
       "  </thead>\n",
       "  <tbody>\n",
       "    <tr>\n",
       "      <th>0</th>\n",
       "      <td>0</td>\n",
       "      <td>0</td>\n",
       "      <td>28283</td>\n",
       "    </tr>\n",
       "    <tr>\n",
       "      <th>1</th>\n",
       "      <td>1</td>\n",
       "      <td>0</td>\n",
       "      <td>172</td>\n",
       "    </tr>\n",
       "    <tr>\n",
       "      <th>2</th>\n",
       "      <td>0</td>\n",
       "      <td>1</td>\n",
       "      <td>45</td>\n",
       "    </tr>\n",
       "    <tr>\n",
       "      <th>3</th>\n",
       "      <td>1</td>\n",
       "      <td>1</td>\n",
       "      <td>2</td>\n",
       "    </tr>\n",
       "  </tbody>\n",
       "</table>\n",
       "</div>"
      ],
      "text/plain": [
       "   predicted_Class  Class  count\n",
       "0                0      0  28283\n",
       "1                1      0    172\n",
       "2                0      1     45\n",
       "3                1      1      2"
      ]
     },
     "execution_count": 66,
     "metadata": {},
     "output_type": "execute_result"
    }
   ],
   "source": [
    "query = f\"\"\"\n",
    "WITH ANOMALIES AS (\n",
    "        SELECT {VAR_TARGET},\n",
    "            CASE\n",
    "                WHEN is_anomaly = TRUE THEN 1\n",
    "                WHEN is_anomaly = FALSE THEN 0\n",
    "            END as predicted_{VAR_TARGET}\n",
    "        FROM ML.DETECT_ANOMALIES (\n",
    "            MODEL `{BQ_PROJECT}.{BQ_DATASET}.{BQ_MODEL}`,\n",
    "            STRUCT ({TRAIN_FRAUD_PCT} AS contamination),\n",
    "            (SELECT *\n",
    "            FROM `{BQ_PROJECT}.{BQ_DATASET}.{BQ_TABLE}`\n",
    "            WHERE splits = 'TEST')\n",
    "          )\n",
    "      )\n",
    "SELECT predicted_{VAR_TARGET}, {VAR_TARGET}, count(*) as count\n",
    "FROM ANOMALIES\n",
    "GROUP BY predicted_{VAR_TARGET}, {VAR_TARGET}\n",
    "\"\"\"\n",
    "bq.query(query = query).to_dataframe()"
   ]
  },
  {
   "cell_type": "markdown",
   "id": "1ec3ba4a-f1b1-4951-97c0-513afff912b8",
   "metadata": {},
   "source": [
    "---\n",
    "## Custom Eval Metrics\n",
    "Retrieve the predictions to a local dataframe and use [scikit-learn](https://scikit-learn.org/stable/index.html) metrics [fuctions](https://scikit-learn.org/stable/modules/model_evaluation.html) to do model evaluation."
   ]
  },
  {
   "cell_type": "code",
   "execution_count": 89,
   "id": "028ff6a0-2970-4a7a-ba68-047d85cc69c0",
   "metadata": {},
   "outputs": [
    {
     "data": {
      "text/html": [
       "<div>\n",
       "<style scoped>\n",
       "    .dataframe tbody tr th:only-of-type {\n",
       "        vertical-align: middle;\n",
       "    }\n",
       "\n",
       "    .dataframe tbody tr th {\n",
       "        vertical-align: top;\n",
       "    }\n",
       "\n",
       "    .dataframe thead th {\n",
       "        text-align: right;\n",
       "    }\n",
       "</style>\n",
       "<table border=\"1\" class=\"dataframe\">\n",
       "  <thead>\n",
       "    <tr style=\"text-align: right;\">\n",
       "      <th></th>\n",
       "      <th>Class</th>\n",
       "      <th>predicted_Class</th>\n",
       "    </tr>\n",
       "  </thead>\n",
       "  <tbody>\n",
       "    <tr>\n",
       "      <th>0</th>\n",
       "      <td>0</td>\n",
       "      <td>0</td>\n",
       "    </tr>\n",
       "    <tr>\n",
       "      <th>1</th>\n",
       "      <td>0</td>\n",
       "      <td>0</td>\n",
       "    </tr>\n",
       "    <tr>\n",
       "      <th>2</th>\n",
       "      <td>0</td>\n",
       "      <td>0</td>\n",
       "    </tr>\n",
       "    <tr>\n",
       "      <th>3</th>\n",
       "      <td>0</td>\n",
       "      <td>0</td>\n",
       "    </tr>\n",
       "    <tr>\n",
       "      <th>4</th>\n",
       "      <td>0</td>\n",
       "      <td>0</td>\n",
       "    </tr>\n",
       "    <tr>\n",
       "      <th>...</th>\n",
       "      <td>...</td>\n",
       "      <td>...</td>\n",
       "    </tr>\n",
       "    <tr>\n",
       "      <th>28497</th>\n",
       "      <td>0</td>\n",
       "      <td>0</td>\n",
       "    </tr>\n",
       "    <tr>\n",
       "      <th>28498</th>\n",
       "      <td>0</td>\n",
       "      <td>0</td>\n",
       "    </tr>\n",
       "    <tr>\n",
       "      <th>28499</th>\n",
       "      <td>0</td>\n",
       "      <td>0</td>\n",
       "    </tr>\n",
       "    <tr>\n",
       "      <th>28500</th>\n",
       "      <td>0</td>\n",
       "      <td>0</td>\n",
       "    </tr>\n",
       "    <tr>\n",
       "      <th>28501</th>\n",
       "      <td>0</td>\n",
       "      <td>0</td>\n",
       "    </tr>\n",
       "  </tbody>\n",
       "</table>\n",
       "<p>28502 rows × 2 columns</p>\n",
       "</div>"
      ],
      "text/plain": [
       "       Class  predicted_Class\n",
       "0          0                0\n",
       "1          0                0\n",
       "2          0                0\n",
       "3          0                0\n",
       "4          0                0\n",
       "...      ...              ...\n",
       "28497      0                0\n",
       "28498      0                0\n",
       "28499      0                0\n",
       "28500      0                0\n",
       "28501      0                0\n",
       "\n",
       "[28502 rows x 2 columns]"
      ]
     },
     "execution_count": 89,
     "metadata": {},
     "output_type": "execute_result"
    }
   ],
   "source": [
    "query = f\"\"\"\n",
    "SELECT {VAR_TARGET},\n",
    "    CASE\n",
    "        WHEN is_anomaly = TRUE THEN 1\n",
    "        WHEN is_anomaly = FALSE THEN 0\n",
    "    END as predicted_{VAR_TARGET}\n",
    "FROM ML.DETECT_ANOMALIES (\n",
    "    MODEL `{BQ_PROJECT}.{BQ_DATASET}.{BQ_MODEL}`,\n",
    "    STRUCT ({TRAIN_FRAUD_PCT} AS contamination),\n",
    "    (SELECT *\n",
    "    FROM `{BQ_PROJECT}.{BQ_DATASET}.{BQ_TABLE}`\n",
    "    WHERE splits = 'TEST')\n",
    "  )\n",
    "\"\"\"\n",
    "results = bq.query(query = query).to_dataframe()\n",
    "results"
   ]
  },
  {
   "cell_type": "code",
   "execution_count": 74,
   "id": "38cdad43-e703-4d58-b946-877817b5f790",
   "metadata": {},
   "outputs": [
    {
     "data": {
      "text/plain": [
       "array([[28283,   172],\n",
       "       [   45,     2]])"
      ]
     },
     "execution_count": 74,
     "metadata": {},
     "output_type": "execute_result"
    }
   ],
   "source": [
    "metrics.confusion_matrix(results[f'{VAR_TARGET}'], results[f'predicted_{VAR_TARGET}'])"
   ]
  },
  {
   "cell_type": "code",
   "execution_count": 78,
   "id": "2d2fcf0b-d7ee-4461-bf7f-ebe472652aee",
   "metadata": {},
   "outputs": [
    {
     "data": {
      "text/plain": [
       "<sklearn.metrics._plot.confusion_matrix.ConfusionMatrixDisplay at 0x7fab7b70ddd0>"
      ]
     },
     "execution_count": 78,
     "metadata": {},
     "output_type": "execute_result"
    },
    {
     "data": {
      "image/png": "[encoded data removed]",
      "text/plain": [
       "<Figure size 432x288 with 2 Axes>"
      ]
     },
     "metadata": {
      "needs_background": "light"
     },
     "output_type": "display_data"
    }
   ],
   "source": [
    "disp = metrics.ConfusionMatrixDisplay(\n",
    "    confusion_matrix = metrics.confusion_matrix(results[f'{VAR_TARGET}'], results[f'predicted_{VAR_TARGET}'])\n",
    ")\n",
    "disp.plot()"
   ]
  },
  {
   "cell_type": "code",
   "execution_count": 73,
   "id": "778c6e6b-c309-473b-8ed6-65bd95495f0f",
   "metadata": {},
   "outputs": [
    {
     "data": {
      "text/plain": [
       "0.9923864991930391"
      ]
     },
     "execution_count": 73,
     "metadata": {},
     "output_type": "execute_result"
    }
   ],
   "source": [
    "metrics.accuracy_score(results[f'{VAR_TARGET}'], results[f'predicted_{VAR_TARGET}'])"
   ]
  },
  {
   "cell_type": "code",
   "execution_count": 91,
   "id": "39aa5532-0129-4393-9ba0-a9cf47509410",
   "metadata": {},
   "outputs": [
    {
     "name": "stdout",
     "output_type": "stream",
     "text": [
      "              precision    recall  f1-score   support\n",
      "\n",
      "           0       1.00      0.99      1.00     28455\n",
      "           1       0.01      0.04      0.02        47\n",
      "\n",
      "    accuracy                           0.99     28502\n",
      "   macro avg       0.50      0.52      0.51     28502\n",
      "weighted avg       1.00      0.99      0.99     28502\n",
      "\n"
     ]
    }
   ],
   "source": [
    "print(metrics.classification_report(results[f'{VAR_TARGET}'], results[f'predicted_{VAR_TARGET}']))"
   ]
  },
  {
   "cell_type": "markdown",
   "id": "c34714fe-50d1-4918-9d29-a121e1a5c673",
   "metadata": {},
   "source": [
    "---\n",
    "## Serving With Vertex AI\n",
    "\n",
    "This demonstration shows the process of exporting and registering a BQML model with Vertex AI Model Registry.  To directly integrate BQML with Vertex AI Model Registry it is now (April 1, 2022) possible at model creation time with options `vertex_ai_model_id` and `vertex_ai_model_version_alises`. See the documentation for this direct integration [here](https://cloud.google.com/bigquery-ml/docs/managing-models-vertex)."
   ]
  },
  {
   "cell_type": "markdown",
   "id": "38fcd805-091f-490e-b93f-454a9f93d8e3",
   "metadata": {},
   "source": [
    "### Export the BigQuery Model\n",
    "\n",
    "Reference: [Export the BigQuery Model](https://cloud.google.com/bigquery-ml/docs/exporting-models)"
   ]
  },
  {
   "cell_type": "code",
   "execution_count": 92,
   "id": "8a4f4103-b7eb-47eb-b478-8cdb09ed0ea5",
   "metadata": {},
   "outputs": [
    {
     "data": {
      "text/plain": [
       "<google.cloud.bigquery.table._EmptyRowIterator at 0x7fab7ca92250>"
      ]
     },
     "execution_count": 92,
     "metadata": {},
     "output_type": "execute_result"
    }
   ],
   "source": [
    "query = f\"\"\"\n",
    "EXPORT MODEL `{BQ_PROJECT}.{BQ_DATASET}.{BQ_MODEL}`\n",
    "    OPTIONS (URI = '{URI}/models/{TIMESTAMP}/model')\n",
    "\"\"\"\n",
    "export = bq.query(query = query)\n",
    "export.result()"
   ]
  },
  {
   "cell_type": "code",
   "execution_count": 93,
   "id": "4a8814e1-819b-4ba7-a3bc-e06e8f3e6b9a",
   "metadata": {},
   "outputs": [
    {
     "data": {
      "text/plain": [
       "27.29"
      ]
     },
     "execution_count": 93,
     "metadata": {},
     "output_type": "execute_result"
    }
   ],
   "source": [
    "(export.ended - export.started).total_seconds()"
   ]
  },
  {
   "cell_type": "code",
   "execution_count": 113,
   "id": "a12be8c5-4e8e-4c7c-a036-37744b2aeee4",
   "metadata": {},
   "outputs": [
    {
     "data": {
      "text/plain": [
       "['gs://statmike-mlops-349915/03/pca/models/20221004235851/model/',\n",
       " 'gs://statmike-mlops-349915/03/pca/models/20221004235851/model/saved_model.pb',\n",
       " 'gs://statmike-mlops-349915/03/pca/models/20221004235851/model/variables/']"
      ]
     },
     "execution_count": 113,
     "metadata": {},
     "output_type": "execute_result"
    }
   ],
   "source": [
    "listing = !gsutil ls {URI}/models/{TIMESTAMP}/model\n",
    "listing"
   ]
  },
  {
   "cell_type": "code",
   "execution_count": 114,
   "id": "9f5af2f5-cf30-424e-a4d8-b4d196ffb10b",
   "metadata": {},
   "outputs": [
    {
     "name": "stdout",
     "output_type": "stream",
     "text": [
      "View the export in the console:\n",
      "https://console.cloud.google.com/storage/browser/statmike-mlops-349915/03/pca/models/20221004235851/model?project=statmike-mlops-349915\n"
     ]
    }
   ],
   "source": [
    "print(f\"View the export in the console:\\nhttps://console.cloud.google.com/storage/browser/{URI.split('//')[-1]}/models/{TIMESTAMP}/model?project={PROJECT_ID}\")"
   ]
  },
  {
   "cell_type": "markdown",
   "id": "abb2e0df-8c53-407d-8161-0d1ede217cd4",
   "metadata": {},
   "source": [
    "### Detect The Model Types Framework"
   ]
  },
  {
   "cell_type": "code",
   "execution_count": 115,
   "id": "053a64ae-331d-4a2f-848b-c88ccd950284",
   "metadata": {},
   "outputs": [
    {
     "name": "stdout",
     "output_type": "stream",
     "text": [
      "framework = TensorFlow\n"
     ]
    }
   ],
   "source": [
    "filetype = {'pb': 'TensorFlow', 'bst': 'XGBoost'}\n",
    "\n",
    "filetypes = [filetype[f.split('.')[-1]] for f in listing if f.split('.')[-1] in ['pb','bst']]\n",
    "if len(filetypes) == 1:\n",
    "    framework = filetypes[0]\n",
    "    print(f'framework = {framework}')\n",
    "else:\n",
    "    raise TypeError(f\"Model Type Undeteremined!! Review the contents of of 'listing = {listing}'.\")"
   ]
  },
  {
   "cell_type": "markdown",
   "id": "3de64974-b169-4e94-a2ba-c7a145809678",
   "metadata": {},
   "source": [
    "Set the `DEPLOY_IMAGE` based on the framework:"
   ]
  },
  {
   "cell_type": "code",
   "execution_count": 116,
   "id": "c6287cdf-7cdc-42b4-9e96-ef7eacdf2ccf",
   "metadata": {},
   "outputs": [
    {
     "data": {
      "text/plain": [
       "'us-docker.pkg.dev/vertex-ai/prediction/tf2-cpu.2-3:latest'"
      ]
     },
     "execution_count": 116,
     "metadata": {},
     "output_type": "execute_result"
    }
   ],
   "source": [
    "if framework == 'TensorFlow':\n",
    "    DEPLOY_IMAGE = TF_DEPLOY_IMAGE\n",
    "elif framework == 'XGBoost':\n",
    "    DEPLOY_IMAGE = XGB_DEPLOY_IMAGE\n",
    "    \n",
    "DEPLOY_IMAGE"
   ]
  },
  {
   "cell_type": "markdown",
   "id": "3fe21da7-bb8b-491c-8a69-3bf6a5a55af9",
   "metadata": {},
   "source": [
    "### Upload The Model To Vertex AI Model Registry\n",
    "\n",
    "References:\n",
    "- [aiplatform.Model](https://cloud.google.com/python/docs/reference/aiplatform/latest/google.cloud.aiplatform.Model)"
   ]
  },
  {
   "cell_type": "code",
   "execution_count": 117,
   "id": "504f7ceb-99f9-42bb-882f-8e884dca7271",
   "metadata": {},
   "outputs": [
    {
     "name": "stdout",
     "output_type": "stream",
     "text": [
      "Model Already in Registry:\n",
      "This version already loaded, no action taken.\n"
     ]
    }
   ],
   "source": [
    "modelmatch = aiplatform.Model.list(filter = f'display_name={SERIES}_{EXPERIMENT} AND labels.series={SERIES} AND labels.experiment={EXPERIMENT}')\n",
    "\n",
    "upload_model = True\n",
    "if modelmatch:\n",
    "    print(\"Model Already in Registry:\")\n",
    "    if RUN_NAME in modelmatch[0].version_aliases:\n",
    "        print(\"This version already loaded, no action taken.\")\n",
    "        upload_model = False\n",
    "        model = aiplatform.Model(model_name = modelmatch[0].resource_name)\n",
    "    else:\n",
    "        print('Loading model as new default version.')\n",
    "        parent_model =  modelmatch[0].resource_name\n",
    "else:\n",
    "    print('This is a new model, adding to model registry as version 1')\n",
    "    parent_model = ''\n",
    "\n",
    "if upload_model:\n",
    "    model = aiplatform.Model.upload(\n",
    "        display_name = f'{SERIES}_{EXPERIMENT}',\n",
    "        model_id = f'model_{SERIES}_{EXPERIMENT}',\n",
    "        parent_model = parent_model,\n",
    "        serving_container_image_uri = DEPLOY_IMAGE,\n",
    "        artifact_uri = f\"{URI}/models/{TIMESTAMP}/model\",\n",
    "        is_default_version = True,\n",
    "        version_aliases = [RUN_NAME],\n",
    "        version_description = RUN_NAME,\n",
    "        labels = {'series' : f'{SERIES}', 'experiment' : f'{EXPERIMENT}', 'timestamp': f'{TIMESTAMP}', 'run_name' : f'{RUN_NAME}', 'framework' : f'{framework.lower()}'}\n",
    "    )  "
   ]
  },
  {
   "cell_type": "code",
   "execution_count": 118,
   "id": "f486182e-e6a3-4971-8e61-5b6d6a91972a",
   "metadata": {},
   "outputs": [
    {
     "data": {
      "text/plain": [
       "'03_pca'"
      ]
     },
     "execution_count": 118,
     "metadata": {},
     "output_type": "execute_result"
    }
   ],
   "source": [
    "model.display_name"
   ]
  },
  {
   "cell_type": "code",
   "execution_count": 119,
   "id": "f55c859f-4fd0-49eb-b316-d3352258a3dc",
   "metadata": {},
   "outputs": [
    {
     "data": {
      "text/plain": [
       "'projects/1026793852137/locations/us-central1/models/model_03_pca'"
      ]
     },
     "execution_count": 119,
     "metadata": {},
     "output_type": "execute_result"
    }
   ],
   "source": [
    "model.resource_name"
   ]
  },
  {
   "cell_type": "code",
   "execution_count": 120,
   "id": "f9402118-d5b7-4442-84f6-db67117d9425",
   "metadata": {},
   "outputs": [
    {
     "name": "stdout",
     "output_type": "stream",
     "text": [
      "View the model in the Vertex AI Console:\n",
      "https://console.cloud.google.com/vertex-ai/locations/us-central1/models/model_03_pca?project=statmike-mlops-349915\n"
     ]
    }
   ],
   "source": [
    "print(f\"View the model in the Vertex AI Console:\\nhttps://console.cloud.google.com/vertex-ai/locations/{REGION}/models/model_{SERIES}_{EXPERIMENT}?project={PROJECT_ID}\")"
   ]
  },
  {
   "cell_type": "markdown",
   "id": "ec6b5297-719b-48c7-9c5d-e6cf12daa637",
   "metadata": {},
   "source": [
    "---\n",
    "## Online Predictions with Vertex AI Endpoints"
   ]
  },
  {
   "cell_type": "markdown",
   "id": "9c4c5b0a-3eff-4eda-8cb4-f0927a99bb15",
   "metadata": {},
   "source": [
    "### Create/Retrieve An Endpoint\n",
    "References:\n",
    "- [aiplatform.Endpoint()](https://cloud.google.com/python/docs/reference/aiplatform/latest/google.cloud.aiplatform.Endpoint)"
   ]
  },
  {
   "cell_type": "code",
   "execution_count": 121,
   "id": "a00bde54-48d0-4937-a39d-96fe9ae97543",
   "metadata": {},
   "outputs": [
    {
     "name": "stdout",
     "output_type": "stream",
     "text": [
      "Endpoint Exists: projects/1026793852137/locations/us-central1/endpoints/7506942026919706624\n",
      "Review the Endpoint in the Console:\n",
      "https://console.cloud.google.com/vertex-ai/locations/us-central1/endpoints/7506942026919706624?project=statmike-mlops-349915\n"
     ]
    }
   ],
   "source": [
    "endpoints = aiplatform.Endpoint.list(filter = f\"labels.series={SERIES}\")\n",
    "if endpoints:\n",
    "    endpoint = endpoints[0]\n",
    "    print(f\"Endpoint Exists: {endpoints[0].resource_name}\")\n",
    "else:\n",
    "    endpoint = aiplatform.Endpoint.create(\n",
    "        display_name = f\"{SERIES}\",\n",
    "        labels = {'series' : f\"{SERIES}\"}    \n",
    "    )\n",
    "    print(f\"Endpoint Created: {endpoint.resource_name}\")\n",
    "\n",
    "print(f'Review the Endpoint in the Console:\\nhttps://console.cloud.google.com/vertex-ai/locations/{REGION}/endpoints/{endpoint.name}?project={PROJECT_ID}')"
   ]
  },
  {
   "cell_type": "code",
   "execution_count": 122,
   "id": "02fe9c29-a537-4e1e-a0b9-e31491043e08",
   "metadata": {},
   "outputs": [
    {
     "data": {
      "text/plain": [
       "'03'"
      ]
     },
     "execution_count": 122,
     "metadata": {},
     "output_type": "execute_result"
    }
   ],
   "source": [
    "endpoint.display_name"
   ]
  },
  {
   "cell_type": "code",
   "execution_count": 123,
   "id": "e2f82332-5d9c-479b-8afe-234622b6ab44",
   "metadata": {},
   "outputs": [
    {
     "data": {
      "text/plain": [
       "{'387648217535217664': 100}"
      ]
     },
     "execution_count": 123,
     "metadata": {},
     "output_type": "execute_result"
    }
   ],
   "source": [
    "endpoint.traffic_split"
   ]
  },
  {
   "cell_type": "code",
   "execution_count": 124,
   "id": "d88e2bbe-aaeb-4d24-be0c-8eb939b3ea3b",
   "metadata": {},
   "outputs": [],
   "source": [
    "deployed_models = endpoint.list_models()\n",
    "#deployed_models"
   ]
  },
  {
   "cell_type": "markdown",
   "id": "08af49a0-1a74-4977-9b23-c8c3f3ab16fa",
   "metadata": {},
   "source": [
    "### Deploy Model To Endpoint"
   ]
  },
  {
   "cell_type": "code",
   "execution_count": 125,
   "id": "62adba0d-e0a7-4f45-ac5a-0c17d042323e",
   "metadata": {},
   "outputs": [
    {
     "name": "stdout",
     "output_type": "stream",
     "text": [
      "Deploying model with 100% of traffic...\n",
      "Deploying Model projects/1026793852137/locations/us-central1/models/model_03_pca to Endpoint : projects/1026793852137/locations/us-central1/endpoints/7506942026919706624\n",
      "Deploy Endpoint model backing LRO: projects/1026793852137/locations/us-central1/endpoints/7506942026919706624/operations/415296880524656640\n",
      "Endpoint model deployed. Resource name: projects/1026793852137/locations/us-central1/endpoints/7506942026919706624\n"
     ]
    }
   ],
   "source": [
    "if (model.display_name, model.version_id) not in [(deployed_model.display_name, deployed_model.model_version_id) for deployed_model in endpoint.list_models()]:\n",
    "    print(f'Deploying model with 100% of traffic...')\n",
    "    endpoint.deploy(\n",
    "        model = model,\n",
    "        deployed_model_display_name = model.display_name,\n",
    "        traffic_percentage = 100,\n",
    "        machine_type = DEPLOY_COMPUTE,\n",
    "        min_replica_count = 1,\n",
    "        max_replica_count = 1\n",
    "    )\n",
    "else: \n",
    "    print(f'The current model/version is already deployed.')"
   ]
  },
  {
   "cell_type": "markdown",
   "id": "b59ae5ad-020d-412d-ba73-807cb51fc9e6",
   "metadata": {},
   "source": [
    "### Remove Deployed Models without Traffic"
   ]
  },
  {
   "cell_type": "code",
   "execution_count": 126,
   "id": "f347f281-1ce2-4e74-bde2-b8e74c709144",
   "metadata": {},
   "outputs": [
    {
     "name": "stdout",
     "output_type": "stream",
     "text": [
      "Undeploying Endpoint model: projects/1026793852137/locations/us-central1/endpoints/7506942026919706624\n",
      "Undeploy Endpoint model backing LRO: projects/1026793852137/locations/us-central1/endpoints/7506942026919706624/operations/9113436610837348352\n",
      "Endpoint model undeployed. Resource name: projects/1026793852137/locations/us-central1/endpoints/7506942026919706624\n",
      "Undeploying 03_03f with version 1 because it has no traffic.\n",
      "Model 03_pca with version 1 has traffic = 100\n"
     ]
    }
   ],
   "source": [
    "for deployed_model in endpoint.list_models():\n",
    "    if deployed_model.id in endpoint.traffic_split:\n",
    "        print(f\"Model {deployed_model.display_name} with version {deployed_model.model_version_id} has traffic = {endpoint.traffic_split[deployed_model.id]}\")\n",
    "    else:\n",
    "        endpoint.undeploy(deployed_model_id = deployed_model.id)\n",
    "        print(f\"Undeploying {deployed_model.display_name} with version {deployed_model.model_version_id} because it has no traffic.\")"
   ]
  },
  {
   "cell_type": "code",
   "execution_count": 127,
   "id": "fd47dd42-fc0c-4a13-ab42-ebe63fcd658e",
   "metadata": {},
   "outputs": [
    {
     "data": {
      "text/plain": [
       "{'7939340367705407488': 100}"
      ]
     },
     "execution_count": 127,
     "metadata": {},
     "output_type": "execute_result"
    }
   ],
   "source": [
    "endpoint.traffic_split"
   ]
  },
  {
   "cell_type": "code",
   "execution_count": 128,
   "id": "c4dd99d8-2ecf-41a5-855b-2d5ca0deb5af",
   "metadata": {},
   "outputs": [],
   "source": [
    "#endpoint.list_models()"
   ]
  },
  {
   "cell_type": "markdown",
   "id": "654dbb0d-15e6-4a71-a448-954e80d7f3f8",
   "metadata": {},
   "source": [
    "---\n",
    "## Prediction"
   ]
  },
  {
   "cell_type": "markdown",
   "id": "b7425637-926f-48eb-b9a7-15cb6b1916f7",
   "metadata": {},
   "source": [
    "### Retrieve Records For Prediction"
   ]
  },
  {
   "cell_type": "code",
   "execution_count": 129,
   "id": "c30fc1dc-e0d9-498a-adb4-33de987a47ac",
   "metadata": {},
   "outputs": [],
   "source": [
    "n = 10\n",
    "pred = bq.query(query = f\"SELECT * FROM {BQ_PROJECT}.{BQ_DATASET}.{BQ_TABLE} WHERE splits='TEST' LIMIT {n}\").to_dataframe()"
   ]
  },
  {
   "cell_type": "code",
   "execution_count": 130,
   "id": "fa845eb3-7f5d-40fd-999c-ea87bce527b7",
   "metadata": {},
   "outputs": [
    {
     "data": {
      "text/html": [
       "<div>\n",
       "<style scoped>\n",
       "    .dataframe tbody tr th:only-of-type {\n",
       "        vertical-align: middle;\n",
       "    }\n",
       "\n",
       "    .dataframe tbody tr th {\n",
       "        vertical-align: top;\n",
       "    }\n",
       "\n",
       "    .dataframe thead th {\n",
       "        text-align: right;\n",
       "    }\n",
       "</style>\n",
       "<table border=\"1\" class=\"dataframe\">\n",
       "  <thead>\n",
       "    <tr style=\"text-align: right;\">\n",
       "      <th></th>\n",
       "      <th>Time</th>\n",
       "      <th>V1</th>\n",
       "      <th>V2</th>\n",
       "      <th>V3</th>\n",
       "      <th>V4</th>\n",
       "      <th>V5</th>\n",
       "      <th>V6</th>\n",
       "      <th>V7</th>\n",
       "      <th>V8</th>\n",
       "      <th>V9</th>\n",
       "      <th>...</th>\n",
       "      <th>V23</th>\n",
       "      <th>V24</th>\n",
       "      <th>V25</th>\n",
       "      <th>V26</th>\n",
       "      <th>V27</th>\n",
       "      <th>V28</th>\n",
       "      <th>Amount</th>\n",
       "      <th>Class</th>\n",
       "      <th>transaction_id</th>\n",
       "      <th>splits</th>\n",
       "    </tr>\n",
       "  </thead>\n",
       "  <tbody>\n",
       "    <tr>\n",
       "      <th>0</th>\n",
       "      <td>35337</td>\n",
       "      <td>1.092844</td>\n",
       "      <td>-0.013230</td>\n",
       "      <td>1.359829</td>\n",
       "      <td>2.731537</td>\n",
       "      <td>-0.707357</td>\n",
       "      <td>0.873837</td>\n",
       "      <td>-0.796130</td>\n",
       "      <td>0.437707</td>\n",
       "      <td>0.396770</td>\n",
       "      <td>...</td>\n",
       "      <td>-0.167647</td>\n",
       "      <td>0.027557</td>\n",
       "      <td>0.592115</td>\n",
       "      <td>0.219695</td>\n",
       "      <td>0.036970</td>\n",
       "      <td>0.010984</td>\n",
       "      <td>0.0</td>\n",
       "      <td>0</td>\n",
       "      <td>a1b10547-d270-48c0-b902-7a0f735dadc7</td>\n",
       "      <td>TEST</td>\n",
       "    </tr>\n",
       "    <tr>\n",
       "      <th>1</th>\n",
       "      <td>60481</td>\n",
       "      <td>1.238973</td>\n",
       "      <td>0.035226</td>\n",
       "      <td>0.063003</td>\n",
       "      <td>0.641406</td>\n",
       "      <td>-0.260893</td>\n",
       "      <td>-0.580097</td>\n",
       "      <td>0.049938</td>\n",
       "      <td>-0.034733</td>\n",
       "      <td>0.405932</td>\n",
       "      <td>...</td>\n",
       "      <td>-0.057718</td>\n",
       "      <td>0.104983</td>\n",
       "      <td>0.537987</td>\n",
       "      <td>0.589563</td>\n",
       "      <td>-0.046207</td>\n",
       "      <td>-0.006212</td>\n",
       "      <td>0.0</td>\n",
       "      <td>0</td>\n",
       "      <td>814c62c8-ade4-47d5-bf83-313b0aafdee5</td>\n",
       "      <td>TEST</td>\n",
       "    </tr>\n",
       "    <tr>\n",
       "      <th>2</th>\n",
       "      <td>139587</td>\n",
       "      <td>1.870539</td>\n",
       "      <td>0.211079</td>\n",
       "      <td>0.224457</td>\n",
       "      <td>3.889486</td>\n",
       "      <td>-0.380177</td>\n",
       "      <td>0.249799</td>\n",
       "      <td>-0.577133</td>\n",
       "      <td>0.179189</td>\n",
       "      <td>-0.120462</td>\n",
       "      <td>...</td>\n",
       "      <td>0.180776</td>\n",
       "      <td>-0.060226</td>\n",
       "      <td>-0.228979</td>\n",
       "      <td>0.080827</td>\n",
       "      <td>0.009868</td>\n",
       "      <td>-0.036997</td>\n",
       "      <td>0.0</td>\n",
       "      <td>0</td>\n",
       "      <td>d08a1bfa-85c5-4f1b-9537-1c5a93e6afd0</td>\n",
       "      <td>TEST</td>\n",
       "    </tr>\n",
       "    <tr>\n",
       "      <th>3</th>\n",
       "      <td>162908</td>\n",
       "      <td>-3.368339</td>\n",
       "      <td>-1.980442</td>\n",
       "      <td>0.153645</td>\n",
       "      <td>-0.159795</td>\n",
       "      <td>3.847169</td>\n",
       "      <td>-3.516873</td>\n",
       "      <td>-1.209398</td>\n",
       "      <td>-0.292122</td>\n",
       "      <td>0.760543</td>\n",
       "      <td>...</td>\n",
       "      <td>-1.171627</td>\n",
       "      <td>0.214333</td>\n",
       "      <td>-0.159652</td>\n",
       "      <td>-0.060883</td>\n",
       "      <td>1.294977</td>\n",
       "      <td>0.120503</td>\n",
       "      <td>0.0</td>\n",
       "      <td>0</td>\n",
       "      <td>802f3307-8e5a-4475-b795-5d5d8d7d0120</td>\n",
       "      <td>TEST</td>\n",
       "    </tr>\n",
       "    <tr>\n",
       "      <th>4</th>\n",
       "      <td>165236</td>\n",
       "      <td>2.180149</td>\n",
       "      <td>0.218732</td>\n",
       "      <td>-2.637726</td>\n",
       "      <td>0.348776</td>\n",
       "      <td>1.063546</td>\n",
       "      <td>-1.249197</td>\n",
       "      <td>0.942021</td>\n",
       "      <td>-0.547652</td>\n",
       "      <td>-0.087823</td>\n",
       "      <td>...</td>\n",
       "      <td>-0.176957</td>\n",
       "      <td>0.563779</td>\n",
       "      <td>0.730183</td>\n",
       "      <td>0.707494</td>\n",
       "      <td>-0.131066</td>\n",
       "      <td>-0.090428</td>\n",
       "      <td>0.0</td>\n",
       "      <td>0</td>\n",
       "      <td>c8a5b93a-1598-4689-80be-4f9f5df0b8ce</td>\n",
       "      <td>TEST</td>\n",
       "    </tr>\n",
       "  </tbody>\n",
       "</table>\n",
       "<p>5 rows × 33 columns</p>\n",
       "</div>"
      ],
      "text/plain": [
       "     Time        V1        V2        V3        V4        V5        V6  \\\n",
       "0   35337  1.092844 -0.013230  1.359829  2.731537 -0.707357  0.873837   \n",
       "1   60481  1.238973  0.035226  0.063003  0.641406 -0.260893 -0.580097   \n",
       "2  139587  1.870539  0.211079  0.224457  3.889486 -0.380177  0.249799   \n",
       "3  162908 -3.368339 -1.980442  0.153645 -0.159795  3.847169 -3.516873   \n",
       "4  165236  2.180149  0.218732 -2.637726  0.348776  1.063546 -1.249197   \n",
       "\n",
       "         V7        V8        V9  ...       V23       V24       V25       V26  \\\n",
       "0 -0.796130  0.437707  0.396770  ... -0.167647  0.027557  0.592115  0.219695   \n",
       "1  0.049938 -0.034733  0.405932  ... -0.057718  0.104983  0.537987  0.589563   \n",
       "2 -0.577133  0.179189 -0.120462  ...  0.180776 -0.060226 -0.228979  0.080827   \n",
       "3 -1.209398 -0.292122  0.760543  ... -1.171627  0.214333 -0.159652 -0.060883   \n",
       "4  0.942021 -0.547652 -0.087823  ... -0.176957  0.563779  0.730183  0.707494   \n",
       "\n",
       "        V27       V28  Amount  Class                        transaction_id  \\\n",
       "0  0.036970  0.010984     0.0      0  a1b10547-d270-48c0-b902-7a0f735dadc7   \n",
       "1 -0.046207 -0.006212     0.0      0  814c62c8-ade4-47d5-bf83-313b0aafdee5   \n",
       "2  0.009868 -0.036997     0.0      0  d08a1bfa-85c5-4f1b-9537-1c5a93e6afd0   \n",
       "3  1.294977  0.120503     0.0      0  802f3307-8e5a-4475-b795-5d5d8d7d0120   \n",
       "4 -0.131066 -0.090428     0.0      0  c8a5b93a-1598-4689-80be-4f9f5df0b8ce   \n",
       "\n",
       "   splits  \n",
       "0    TEST  \n",
       "1    TEST  \n",
       "2    TEST  \n",
       "3    TEST  \n",
       "4    TEST  \n",
       "\n",
       "[5 rows x 33 columns]"
      ]
     },
     "execution_count": 130,
     "metadata": {},
     "output_type": "execute_result"
    }
   ],
   "source": [
    "pred.head()"
   ]
  },
  {
   "cell_type": "markdown",
   "id": "59450070-ed38-4e9b-b1ae-c0a673635ede",
   "metadata": {},
   "source": [
    "Shape as instances: dictionaries of key:value pairs for only features used in model"
   ]
  },
  {
   "cell_type": "code",
   "execution_count": 131,
   "id": "3e3cb0eb-48d4-4417-9c1f-803c301749a7",
   "metadata": {},
   "outputs": [],
   "source": [
    "newobs = pred[pred.columns[~pred.columns.isin(VAR_OMIT.split()+[VAR_TARGET,'splits'])]].to_dict(orient='records')\n",
    "#newobs[0]"
   ]
  },
  {
   "cell_type": "code",
   "execution_count": 132,
   "id": "dd16916a-ae80-4ff4-8571-ba2bec4998bc",
   "metadata": {},
   "outputs": [
    {
     "data": {
      "text/plain": [
       "10"
      ]
     },
     "execution_count": 132,
     "metadata": {},
     "output_type": "execute_result"
    }
   ],
   "source": [
    "len(newobs)"
   ]
  },
  {
   "cell_type": "code",
   "execution_count": 133,
   "id": "0bc825b1-f42c-46da-b72a-df1a8f5d2f05",
   "metadata": {},
   "outputs": [
    {
     "data": {
      "text/plain": [
       "{'Time': 35337,\n",
       " 'V1': 1.0928441854981998,\n",
       " 'V2': -0.0132303486713432,\n",
       " 'V3': 1.35982868199426,\n",
       " 'V4': 2.7315370965921004,\n",
       " 'V5': -0.707357349219652,\n",
       " 'V6': 0.8738370029866129,\n",
       " 'V7': -0.7961301510622031,\n",
       " 'V8': 0.437706509544851,\n",
       " 'V9': 0.39676985012996396,\n",
       " 'V10': 0.587438102569443,\n",
       " 'V11': -0.14979756231827498,\n",
       " 'V12': 0.29514781622888103,\n",
       " 'V13': -1.30382621882143,\n",
       " 'V14': -0.31782283120234495,\n",
       " 'V15': -2.03673231037199,\n",
       " 'V16': 0.376090905274179,\n",
       " 'V17': -0.30040350116459497,\n",
       " 'V18': 0.433799615590844,\n",
       " 'V19': -0.145082264348681,\n",
       " 'V20': -0.240427548108996,\n",
       " 'V21': 0.0376030733329398,\n",
       " 'V22': 0.38002620963091405,\n",
       " 'V23': -0.16764742731151097,\n",
       " 'V24': 0.0275573495476881,\n",
       " 'V25': 0.59211469704354,\n",
       " 'V26': 0.219695164116351,\n",
       " 'V27': 0.0369695108704894,\n",
       " 'V28': 0.010984441006191,\n",
       " 'Amount': 0.0}"
      ]
     },
     "execution_count": 133,
     "metadata": {},
     "output_type": "execute_result"
    }
   ],
   "source": [
    "newobs[0]"
   ]
  },
  {
   "cell_type": "markdown",
   "id": "26da6c0f-e3b5-4e75-bc72-68cd6024fca0",
   "metadata": {},
   "source": [
    "### Get The Model Signature Name (if TensorFlow)"
   ]
  },
  {
   "cell_type": "code",
   "execution_count": 134,
   "id": "c57921f8-b93e-4b01-acfd-2a82338f1c0f",
   "metadata": {},
   "outputs": [
    {
     "name": "stderr",
     "output_type": "stream",
     "text": [
      "2022-10-11 17:49:31.903560: I tensorflow/core/platform/profile_utils/cpu_utils.cc:104] CPU Frequency: 2299995000 Hz\n",
      "2022-10-11 17:49:31.904350: I tensorflow/compiler/xla/service/service.cc:168] XLA service 0x5594316bb440 initialized for platform Host (this does not guarantee that XLA will be used). Devices:\n",
      "2022-10-11 17:49:31.904382: I tensorflow/compiler/xla/service/service.cc:176]   StreamExecutor device (0): Host, Default Version\n",
      "2022-10-11 17:49:31.904562: I tensorflow/core/common_runtime/process_util.cc:146] Creating new thread pool with default inter op setting: 2. Tune using inter_op_parallelism_threads for best performance.\n"
     ]
    },
    {
     "name": "stdout",
     "output_type": "stream",
     "text": [
      "serving_default\n"
     ]
    }
   ],
   "source": [
    "if model.labels['framework'] == 'tensorflow':\n",
    "    import tensorflow as tf\n",
    "    reloaded_model = tf.saved_model.load(model.uri)\n",
    "    print(list(reloaded_model.signatures.keys())[0])"
   ]
  },
  {
   "cell_type": "markdown",
   "id": "e7dceca0-fb21-4895-852f-b1cf57cca6f7",
   "metadata": {},
   "source": [
    "### Get The Feature Order (if XGBoost)"
   ]
  },
  {
   "cell_type": "code",
   "execution_count": 135,
   "id": "beebe945-9862-4264-9e25-9d52bcfb0c1f",
   "metadata": {},
   "outputs": [],
   "source": [
    "if model.labels['framework'] == 'xgboost':\n",
    "    import gcsfs\n",
    "    import tensorflow as tf\n",
    "    file = f'{model.uri}/assets/model_metadata.json'\n",
    "    if tf.io.gfile.exists(file):\n",
    "        gcs = gcsfs.GCSFileSystem(project = PROJECT_ID)\n",
    "        with gcs.open(file) as fp:\n",
    "            features = json.load(fp)['feature_names']\n",
    "    else:\n",
    "        features = list(newobs[0].keys())"
   ]
  },
  {
   "cell_type": "markdown",
   "id": "ce201fe0-7dc4-4d9f-810d-d1c8aed06e18",
   "metadata": {},
   "source": [
    "### Prepare Instance For Prediction\n",
    "\n",
    "Depending on which framework the model is trained with the instance format may be different.  More information can be found [here](https://cloud.google.com/vertex-ai/docs/predictions/online-predictions-custom-models#request-body-details)."
   ]
  },
  {
   "cell_type": "markdown",
   "id": "5712da0a-6e43-4667-b0c7-7a94c7d991b6",
   "metadata": {},
   "source": [
    "Instances:"
   ]
  },
  {
   "cell_type": "code",
   "execution_count": 136,
   "id": "b7dae473-7393-442f-8649-74c47842687f",
   "metadata": {},
   "outputs": [],
   "source": [
    "if model.labels['framework'] == 'tensorflow':\n",
    "    instances = {\"instances\": [newob for newob in newobs[0:1]], \"signature_name\": list(reloaded_model.signatures.keys())[0]}\n",
    "elif model.labels['framework'] == 'xgboost':\n",
    "    instances = {\"instances\": [[newob[f] for f in features] for newob in newobs[0:1]]}\n",
    "    \n",
    "http_body = httpbody_pb2.HttpBody(\n",
    "    data = json.dumps(instances).encode(\"utf-8\"),\n",
    "    content_type = \"application/json\"\n",
    ")"
   ]
  },
  {
   "cell_type": "code",
   "execution_count": 137,
   "id": "fabf7e06-6abe-4fe2-8010-813bcbfcc6cf",
   "metadata": {},
   "outputs": [
    {
     "name": "stdout",
     "output_type": "stream",
     "text": [
      "{'instances': [{'Time': 35337, 'V1': 1.0928441854981998, 'V2': -0.0132303486713432, 'V3': 1.35982868199426, 'V4': 2.7315370965921004, 'V5': -0.707357349219652, 'V6': 0.8738370029866129, 'V7': -0.7961301510622031, 'V8': 0.437706509544851, 'V9': 0.39676985012996396, 'V10': 0.587438102569443, 'V11': -0.14979756231827498, 'V12': 0.29514781622888103, 'V13': -1.30382621882143, 'V14': -0.31782283120234495, 'V15': -2.03673231037199, 'V16': 0.376090905274179, 'V17': -0.30040350116459497, 'V18': 0.433799615590844, 'V19': -0.145082264348681, 'V20': -0.240427548108996, 'V21': 0.0376030733329398, 'V22': 0.38002620963091405, 'V23': -0.16764742731151097, 'V24': 0.0275573495476881, 'V25': 0.59211469704354, 'V26': 0.219695164116351, 'V27': 0.0369695108704894, 'V28': 0.010984441006191, 'Amount': 0.0}], 'signature_name': 'serving_default'}\n"
     ]
    }
   ],
   "source": [
    "print(instances)"
   ]
  },
  {
   "cell_type": "markdown",
   "id": "75a27eb0-5f1b-438c-b921-978ac14caecb",
   "metadata": {},
   "source": [
    "### Get Predictions: Python Client\n",
    "\n",
    "Using Raw Prediction here. This is methods of export from BigQuery have different model signatures and raw prediction client for Vertex AI allow the signature to be include in the request.\n",
    "\n",
    "Reference:\n",
    "- [aiplatform.gapic.PredictionSerivceClient.raw_predict()](https://cloud.google.com/python/docs/reference/aiplatform/latest/google.cloud.aiplatform_v1.services.prediction_service.PredictionServiceClient#google_cloud_aiplatform_v1_services_prediction_service_PredictionServiceClient_raw_predict)"
   ]
  },
  {
   "cell_type": "markdown",
   "id": "f4b0a8bb-0f8e-4928-889d-7b7cfdb92274",
   "metadata": {},
   "source": [
    "Client:"
   ]
  },
  {
   "cell_type": "code",
   "execution_count": 138,
   "id": "020d6feb-567e-413d-b39e-38d1c39333f7",
   "metadata": {},
   "outputs": [],
   "source": [
    "client_options = {\"api_endpoint\": f\"{REGION}-aiplatform.googleapis.com\"}\n",
    "predictor = aiplatform.gapic.PredictionServiceClient(client_options = client_options)"
   ]
  },
  {
   "cell_type": "markdown",
   "id": "9b0488e7-e9aa-4d02-ad69-866abaf3cf90",
   "metadata": {},
   "source": [
    "Prediction:"
   ]
  },
  {
   "cell_type": "code",
   "execution_count": 150,
   "id": "e70c730d-b05b-44c0-814c-53797aa18250",
   "metadata": {},
   "outputs": [],
   "source": [
    "prediction = predictor.raw_predict(\n",
    "    endpoint = endpoint.resource_name,\n",
    "    http_body = http_body\n",
    ")"
   ]
  },
  {
   "cell_type": "code",
   "execution_count": 151,
   "id": "a9defe48-804b-491d-afc5-eb6060f19e79",
   "metadata": {},
   "outputs": [],
   "source": [
    "#prediction"
   ]
  },
  {
   "cell_type": "markdown",
   "id": "9151c2a0-fce6-4f5e-b3b1-df32a436a513",
   "metadata": {},
   "source": [
    "Format raw prediction response using JSON:"
   ]
  },
  {
   "cell_type": "code",
   "execution_count": 140,
   "id": "c7a5daeb-7944-47c3-89b0-461412d132d5",
   "metadata": {},
   "outputs": [
    {
     "data": {
      "text/plain": [
       "{'predictions': [{'principal_component_ids': [0,\n",
       "    1,\n",
       "    2,\n",
       "    3,\n",
       "    4,\n",
       "    5,\n",
       "    6,\n",
       "    7,\n",
       "    8,\n",
       "    9,\n",
       "    10,\n",
       "    11,\n",
       "    12,\n",
       "    13,\n",
       "    14,\n",
       "    15,\n",
       "    16,\n",
       "    17,\n",
       "    18,\n",
       "    19,\n",
       "    20,\n",
       "    21,\n",
       "    22,\n",
       "    23,\n",
       "    24,\n",
       "    25],\n",
       "   'principal_component_projections': [0.40618614670496467,\n",
       "    1.1424290367670222,\n",
       "    0.17976017357251153,\n",
       "    -0.027121364010871563,\n",
       "    0.24193181024490562,\n",
       "    -0.17179728597600719,\n",
       "    1.9639699259239043,\n",
       "    0.3381761316515224,\n",
       "    0.24131684750892923,\n",
       "    0.8576724721238839,\n",
       "    -1.0001302234224472,\n",
       "    1.0044319605432956,\n",
       "    -1.6128315991233622,\n",
       "    -0.31470797236210296,\n",
       "    1.0134031186771921,\n",
       "    0.7075492028374176,\n",
       "    -1.584721170444826,\n",
       "    -0.15879433906946427,\n",
       "    -0.08639166102246394,\n",
       "    0.5986228270738121,\n",
       "    -0.8235495575977535,\n",
       "    -0.6350921716448534,\n",
       "    -0.6830334984171708,\n",
       "    0.20112866720848538,\n",
       "    -0.2954770089315091,\n",
       "    0.08770761978421224]}]}"
      ]
     },
     "execution_count": 140,
     "metadata": {},
     "output_type": "execute_result"
    }
   ],
   "source": [
    "prediction = json.loads(prediction.data)\n",
    "prediction"
   ]
  },
  {
   "cell_type": "markdown",
   "id": "5955cd32-af2c-4f8a-b8ab-bd7ad3439065",
   "metadata": {},
   "source": [
    "### Get Predictions: REST\n",
    "Reference:\n",
    "- [POST https://{REGION}-aiplatform.googleapis.com/v1/{endpoint}:rawPredict](https://cloud.google.com/python/docs/reference/aiplatform/latest/google.cloud.aiplatform_v1.services.prediction_service.PredictionServiceClient#google_cloud_aiplatform_v1_services_prediction_service_PredictionServiceClient_raw_predict)"
   ]
  },
  {
   "cell_type": "markdown",
   "id": "ee90be5e-5128-4482-972e-fa8fd223a9c1",
   "metadata": {},
   "source": [
    "Prepare request:"
   ]
  },
  {
   "cell_type": "code",
   "execution_count": 141,
   "id": "7d125a16-01ca-40b7-a816-1d02845f59e9",
   "metadata": {},
   "outputs": [],
   "source": [
    "with open(f'{DIR}/request.json','w') as file:\n",
    "    file.write(json.dumps(instances))"
   ]
  },
  {
   "cell_type": "markdown",
   "id": "d59af4c4-05cb-4fe4-82aa-1d708878c285",
   "metadata": {},
   "source": [
    "Prediction:"
   ]
  },
  {
   "cell_type": "code",
   "execution_count": 148,
   "id": "b05edb4c-a97c-4d7a-b668-5f9598fb6b30",
   "metadata": {},
   "outputs": [],
   "source": [
    "prediction = !curl -s POST \\\n",
    "-H \"Authorization: Bearer \"$(gcloud auth application-default print-access-token) \\\n",
    "-H \"Content-Type: application/json; charset=utf-8\" \\\n",
    "-d @{DIR}/request.json \\\n",
    "https://{REGION}-aiplatform.googleapis.com/v1/{endpoint.resource_name}:rawPredict"
   ]
  },
  {
   "cell_type": "code",
   "execution_count": 149,
   "id": "978759fd-f610-4401-91ff-0deb8e233b56",
   "metadata": {},
   "outputs": [],
   "source": [
    "#prediction"
   ]
  },
  {
   "cell_type": "markdown",
   "id": "94a03980-14c9-4fff-a8cd-a2bde0adf72a",
   "metadata": {},
   "source": [
    "Format raw prediction response using JSON:"
   ]
  },
  {
   "cell_type": "code",
   "execution_count": 143,
   "id": "803c5db5-f180-4e41-aa0e-7e0abf5cc2b2",
   "metadata": {},
   "outputs": [
    {
     "data": {
      "text/plain": [
       "{'predictions': [{'principal_component_ids': [0,\n",
       "    1,\n",
       "    2,\n",
       "    3,\n",
       "    4,\n",
       "    5,\n",
       "    6,\n",
       "    7,\n",
       "    8,\n",
       "    9,\n",
       "    10,\n",
       "    11,\n",
       "    12,\n",
       "    13,\n",
       "    14,\n",
       "    15,\n",
       "    16,\n",
       "    17,\n",
       "    18,\n",
       "    19,\n",
       "    20,\n",
       "    21,\n",
       "    22,\n",
       "    23,\n",
       "    24,\n",
       "    25],\n",
       "   'principal_component_projections': [0.40618614670496467,\n",
       "    1.1424290367670222,\n",
       "    0.17976017357251153,\n",
       "    -0.027121364010871563,\n",
       "    0.24193181024490562,\n",
       "    -0.17179728597600719,\n",
       "    1.9639699259239043,\n",
       "    0.3381761316515224,\n",
       "    0.24131684750892923,\n",
       "    0.8576724721238839,\n",
       "    -1.0001302234224472,\n",
       "    1.0044319605432956,\n",
       "    -1.6128315991233622,\n",
       "    -0.31470797236210296,\n",
       "    1.0134031186771921,\n",
       "    0.7075492028374176,\n",
       "    -1.584721170444826,\n",
       "    -0.15879433906946427,\n",
       "    -0.08639166102246394,\n",
       "    0.5986228270738121,\n",
       "    -0.8235495575977535,\n",
       "    -0.6350921716448534,\n",
       "    -0.6830334984171708,\n",
       "    0.20112866720848538,\n",
       "    -0.2954770089315091,\n",
       "    0.08770761978421224]}]}"
      ]
     },
     "execution_count": 143,
     "metadata": {},
     "output_type": "execute_result"
    }
   ],
   "source": [
    "prediction = json.loads(''.join([p.strip() for p in prediction]))\n",
    "prediction"
   ]
  },
  {
   "cell_type": "markdown",
   "id": "3311cc0b-9cc1-48f2-a5f7-3d20fc02350e",
   "metadata": {},
   "source": [
    "### Get Predictions: gcloud (CLI)\n",
    "Reference:\n",
    "- [gcloud ai endpoints raw-predict](https://cloud.google.com/sdk/gcloud/reference/ai/endpoints/raw-predict)"
   ]
  },
  {
   "cell_type": "markdown",
   "id": "421d17a9-6236-460e-b63c-86aaa21344cb",
   "metadata": {},
   "source": [
    "Prepare request:"
   ]
  },
  {
   "cell_type": "code",
   "execution_count": 144,
   "id": "1b72c8d2-ca52-45eb-b89b-723e21a4fb64",
   "metadata": {},
   "outputs": [],
   "source": [
    "with open(f'{DIR}/request.json','w') as file:\n",
    "    file.write(json.dumps(instances))"
   ]
  },
  {
   "cell_type": "markdown",
   "id": "2ad71c57-d7b6-4178-80b0-d8006d9bbc8b",
   "metadata": {},
   "source": [
    "Prediction:"
   ]
  },
  {
   "cell_type": "code",
   "execution_count": 147,
   "id": "9d83a53d-a94a-47b0-b93c-2f53b21c0ff1",
   "metadata": {},
   "outputs": [],
   "source": [
    "prediction = !gcloud ai endpoints raw-predict \\\n",
    "{endpoint.name.rsplit('/',1)[-1]} \\\n",
    "--region={REGION} --format=\"json\" --request=@{DIR}/request.json"
   ]
  },
  {
   "cell_type": "code",
   "execution_count": null,
   "id": "2389c35a-b8d7-4be2-9b06-b4837ac098bc",
   "metadata": {},
   "outputs": [],
   "source": [
    "#prediction"
   ]
  },
  {
   "cell_type": "markdown",
   "id": "3b44cca3-5b19-4d87-925e-564332b5d1a6",
   "metadata": {},
   "source": [
    "Format raw prediction response using JSON:"
   ]
  },
  {
   "cell_type": "code",
   "execution_count": 146,
   "id": "24a73026-1846-438b-aa5f-0460d8dcc8ef",
   "metadata": {},
   "outputs": [
    {
     "data": {
      "text/plain": [
       "{'predictions': [{'principal_component_ids': [0,\n",
       "    1,\n",
       "    2,\n",
       "    3,\n",
       "    4,\n",
       "    5,\n",
       "    6,\n",
       "    7,\n",
       "    8,\n",
       "    9,\n",
       "    10,\n",
       "    11,\n",
       "    12,\n",
       "    13,\n",
       "    14,\n",
       "    15,\n",
       "    16,\n",
       "    17,\n",
       "    18,\n",
       "    19,\n",
       "    20,\n",
       "    21,\n",
       "    22,\n",
       "    23,\n",
       "    24,\n",
       "    25],\n",
       "   'principal_component_projections': [0.40618614670496467,\n",
       "    1.1424290367670222,\n",
       "    0.17976017357251153,\n",
       "    -0.027121364010871563,\n",
       "    0.24193181024490562,\n",
       "    -0.17179728597600719,\n",
       "    1.9639699259239043,\n",
       "    0.3381761316515224,\n",
       "    0.24131684750892923,\n",
       "    0.8576724721238839,\n",
       "    -1.0001302234224472,\n",
       "    1.0044319605432956,\n",
       "    -1.6128315991233622,\n",
       "    -0.31470797236210296,\n",
       "    1.0134031186771921,\n",
       "    0.7075492028374176,\n",
       "    -1.584721170444826,\n",
       "    -0.15879433906946427,\n",
       "    -0.08639166102246394,\n",
       "    0.5986228270738121,\n",
       "    -0.8235495575977535,\n",
       "    -0.6350921716448534,\n",
       "    -0.6830334984171708,\n",
       "    0.20112866720848538,\n",
       "    -0.2954770089315091,\n",
       "    0.08770761978421224]}]}"
      ]
     },
     "execution_count": 146,
     "metadata": {},
     "output_type": "execute_result"
    }
   ],
   "source": [
    "prediction = json.loads(\"\".join(prediction[1:]))\n",
    "prediction"
   ]
  },
  {
   "cell_type": "markdown",
   "id": "eb04d7d5-127d-4c9c-a8dd-6059c2d092d7",
   "metadata": {},
   "source": [
    "---\n",
    "## Remove Resources\n",
    "see notebook \"99 - Cleanup\""
   ]
  }
 ],
 "metadata": {
  "environment": {
   "kernel": "python3",
   "name": "tf2-gpu.2-3.m94",
   "type": "gcloud",
   "uri": "gcr.io/deeplearning-platform-release/tf2-gpu.2-3:m94"
  },
  "kernelspec": {
   "display_name": "Python 3",
   "language": "python",
   "name": "python3"
  },
  "language_info": {
   "codemirror_mode": {
    "name": "ipython",
    "version": 3
   },
   "file_extension": ".py",
   "mimetype": "text/x-python",
   "name": "python",
   "nbconvert_exporter": "python",
   "pygments_lexer": "ipython3",
   "version": "3.7.12"
  }
 },
 "nbformat": 4,
 "nbformat_minor": 5
}
