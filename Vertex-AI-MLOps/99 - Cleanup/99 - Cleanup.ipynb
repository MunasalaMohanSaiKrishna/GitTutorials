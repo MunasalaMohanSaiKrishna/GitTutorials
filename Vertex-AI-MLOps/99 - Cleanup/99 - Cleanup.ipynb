{
 "cells": [
  {
   "cell_type": "markdown",
   "id": "99c9fd97",
   "metadata": {
    "tags": []
   },
   "source": [
    "# Cleanup All Resources\n",
    "\n",
    "This notebook is designed to remove all resources by the type created.  By being a general cleanup utility, you can skip sections that you want to remain in use.  This notebook also has a section to delete the GCS bucket created in the `00 - Environment Setup` notebook.\n",
    "\n",
    "### Resources\n",
    "- Vertex AI: https://googleapis.dev/python/aiplatform/latest/index.html\n",
    "- BigQuery: https://googleapis.dev/python/bigquery/latest/index.html\n",
    "- GCS: https://googleapis.dev/python/storage/latest/client.html"
   ]
  },
  {
   "cell_type": "markdown",
   "id": "267068ff-d77e-4242-8f65-2f81a39eeaa8",
   "metadata": {},
   "source": [
    "---\n",
    "## Method 1: Delete The Project\n",
    "- [Instructions](https://cloud.google.com/resource-manager/docs/creating-managing-projects#shutting_down_projects)\n",
    "    - Open Console > IAM & Admin > Settings: [Link](https://console.cloud.google.com/iam-admin/settings)\n",
    "    - Click Select a project.\n",
    "    - Select a project you want to delete, and click Open.\n",
    "    - Click Shut down.\n",
    "    - Enter the Project ID, then click Shut down."
   ]
  },
  {
   "cell_type": "markdown",
   "id": "753dd64c",
   "metadata": {},
   "source": [
    "---\n",
    "## Method 2: Remove the Items Created By This Notebook\n",
    "\n",
    "## Setup\n",
    "When Finished with removing each Vertex AI, GCS, and BigQuery item below, you will then need to stop and delete this notebook instance in Console > Vertex AI > Notebooks."
   ]
  },
  {
   "cell_type": "markdown",
   "id": "6c4116ef",
   "metadata": {},
   "source": [
    "inputs:"
   ]
  },
  {
   "cell_type": "code",
   "execution_count": null,
   "id": "64d715c8-ffef-4788-8af8-3d22c1b4b87d",
   "metadata": {},
   "outputs": [],
   "source": [
    "project = !gcloud config get-value project\n",
    "PROJECT_ID = project[0]\n",
    "PROJECT_ID"
   ]
  },
  {
   "cell_type": "code",
   "execution_count": null,
   "id": "1c4998a4",
   "metadata": {},
   "outputs": [],
   "source": [
    "#PROJECT_ID = \"statmike-mlops\"\n",
    "REGION = 'us-central1'"
   ]
  },
  {
   "cell_type": "markdown",
   "id": "c6446eee",
   "metadata": {},
   "source": [
    "packages:"
   ]
  },
  {
   "cell_type": "code",
   "execution_count": null,
   "id": "23f17f5e",
   "metadata": {},
   "outputs": [],
   "source": [
    "from google.cloud import aiplatform\n",
    "from google.cloud import aiplatform_v1beta1\n",
    "from google.cloud import bigquery\n",
    "from google.cloud import storage"
   ]
  },
  {
   "cell_type": "markdown",
   "id": "7272a73a",
   "metadata": {},
   "source": [
    "parameters:"
   ]
  },
  {
   "cell_type": "code",
   "execution_count": null,
   "id": "6a6bc14d",
   "metadata": {},
   "outputs": [],
   "source": [
    "API_ENDPOINT = \"{}-aiplatform.googleapis.com\".format(REGION)\n",
    "client_options = {\"api_endpoint\": API_ENDPOINT}\n",
    "clients = {}\n",
    "\n",
    "PARENT = \"projects/\" + PROJECT_ID + \"/locations/\" + REGION"
   ]
  },
  {
   "cell_type": "markdown",
   "id": "0a2c1aad",
   "metadata": {},
   "source": [
    "clients:"
   ]
  },
  {
   "cell_type": "code",
   "execution_count": null,
   "id": "ea5281a1",
   "metadata": {},
   "outputs": [],
   "source": [
    "aiplatform.init(project=PROJECT_ID, location=REGION)\n",
    "clients['bq'] = bigquery.Client(project=PROJECT_ID)\n",
    "clients['fs'] = aiplatform_v1beta1.FeaturestoreServiceClient(client_options=client_options)\n",
    "clients['viz'] = aiplatform_v1beta1.VizierServiceClient(client_options=client_options)\n",
    "clients['md'] = aiplatform_v1beta1.MetadataServiceClient(client_options=client_options)\n",
    "clients['gcs'] = storage.Client()"
   ]
  },
  {
   "cell_type": "markdown",
   "id": "2f857a6a",
   "metadata": {},
   "source": [
    "---\n",
    "## BigQuery\n",
    "- Delete the dataset `digits`"
   ]
  },
  {
   "cell_type": "markdown",
   "id": "14786c5f",
   "metadata": {},
   "source": [
    "list of datasets in the project:"
   ]
  },
  {
   "cell_type": "code",
   "execution_count": null,
   "id": "9a155309",
   "metadata": {},
   "outputs": [],
   "source": [
    "datasets = list(clients['bq'].list_datasets())"
   ]
  },
  {
   "cell_type": "code",
   "execution_count": null,
   "id": "0e4bd5ff-45be-4f65-a697-8c04a7a40945",
   "metadata": {},
   "outputs": [],
   "source": [
    "for ds in datasets: print(ds.dataset_id)"
   ]
  },
  {
   "cell_type": "markdown",
   "id": "3f5ced99",
   "metadata": {},
   "source": [
    "delete each dataset:"
   ]
  },
  {
   "cell_type": "code",
   "execution_count": null,
   "id": "c49ef04c",
   "metadata": {},
   "outputs": [],
   "source": [
    "for ds in datasets:\n",
    "    print(ds.dataset_id)\n",
    "    clients['bq'].delete_dataset(ds.dataset_id,delete_contents=True,not_found_ok=True)"
   ]
  },
  {
   "cell_type": "markdown",
   "id": "fb44d47f",
   "metadata": {},
   "source": [
    "---\n",
    "## Vertex AI > Datasets\n",
    "- Delete datasets"
   ]
  },
  {
   "cell_type": "code",
   "execution_count": null,
   "id": "4edca1fd",
   "metadata": {},
   "outputs": [],
   "source": [
    "datasets = aiplatform.TabularDataset.list()"
   ]
  },
  {
   "cell_type": "code",
   "execution_count": null,
   "id": "ec04bb1e",
   "metadata": {},
   "outputs": [],
   "source": [
    "for ds in datasets:\n",
    "    print(ds.resource_name)\n",
    "    aiplatform.TabularDataset(dataset_name=ds.resource_name).delete()"
   ]
  },
  {
   "cell_type": "code",
   "execution_count": null,
   "id": "a6e3abce-5c94-4e70-b5b9-f06b9653b893",
   "metadata": {},
   "outputs": [],
   "source": [
    "datasets = aiplatform.TimeSeriesDataset.list()"
   ]
  },
  {
   "cell_type": "code",
   "execution_count": null,
   "id": "5ef2cf59-8c07-4e5d-82c2-ae2deac6f2eb",
   "metadata": {},
   "outputs": [],
   "source": [
    "for ds in datasets:\n",
    "    print(ds.resource_name)\n",
    "    aiplatform.TimeSeriesDataset(dataset_name=ds.resource_name).delete()"
   ]
  },
  {
   "cell_type": "markdown",
   "id": "a8adc716",
   "metadata": {},
   "source": [
    "---\n",
    "## Vertex AI > Features\n",
    "- delete feature store including entity types and features"
   ]
  },
  {
   "cell_type": "code",
   "execution_count": null,
   "id": "9adfe475",
   "metadata": {},
   "outputs": [],
   "source": [
    "fs = clients['fs'].list_featurestores(parent=PARENT)"
   ]
  },
  {
   "cell_type": "code",
   "execution_count": null,
   "id": "6c5d7910",
   "metadata": {},
   "outputs": [],
   "source": [
    "for f in fs:\n",
    "    print(f.name)\n",
    "    clients['fs'].delete_featurestore(request = aiplatform_v1beta1.types.DeleteFeaturestoreRequest(name=f.name,force=True))"
   ]
  },
  {
   "cell_type": "markdown",
   "id": "7812df62",
   "metadata": {},
   "source": [
    "---\n",
    "## Vertex AI > Pipelines\n",
    "* Delete Managed Pipelines"
   ]
  },
  {
   "cell_type": "code",
   "execution_count": null,
   "id": "ad302441",
   "metadata": {},
   "outputs": [],
   "source": [
    "pl = aiplatform.PipelineJob.list()"
   ]
  },
  {
   "cell_type": "code",
   "execution_count": null,
   "id": "baa6949a",
   "metadata": {},
   "outputs": [],
   "source": [
    "for p in pl:\n",
    "    print(p.name)\n",
    "    p.delete()"
   ]
  },
  {
   "cell_type": "markdown",
   "id": "15e055ea",
   "metadata": {},
   "source": [
    "---\n",
    "## Vertex AI > Training\n",
    "- delete various jobs types\n",
    "- some create with aiplatform.* and other created by aiplatform.gapic.*"
   ]
  },
  {
   "cell_type": "markdown",
   "id": "a30b6776",
   "metadata": {},
   "source": [
    "### Vertex AI > Training > Training Pipelines\n",
    "- Delete training pipelines"
   ]
  },
  {
   "cell_type": "code",
   "execution_count": null,
   "id": "f37acb08",
   "metadata": {},
   "outputs": [],
   "source": [
    "jobs = aiplatform.CustomTrainingJob.list()\n",
    "for j in jobs:\n",
    "    print(j.display_name)\n",
    "    j.delete()"
   ]
  },
  {
   "cell_type": "code",
   "execution_count": null,
   "id": "15533315",
   "metadata": {},
   "outputs": [],
   "source": [
    "jobs = aiplatform.CustomPythonPackageTrainingJob.list()\n",
    "for j in jobs:\n",
    "    print(j.display_name)\n",
    "    j.delete()"
   ]
  },
  {
   "cell_type": "code",
   "execution_count": null,
   "id": "f8556364",
   "metadata": {},
   "outputs": [],
   "source": [
    "jobs = aiplatform.AutoMLTabularTrainingJob.list()\n",
    "for j in jobs:\n",
    "    print(j.display_name)\n",
    "    j.delete()"
   ]
  },
  {
   "cell_type": "code",
   "execution_count": null,
   "id": "119bfcf3-3691-480d-818a-e59509cf441b",
   "metadata": {},
   "outputs": [],
   "source": [
    "jobs = aiplatform.AutoMLForecastingTrainingJob.list()\n",
    "for j in jobs:\n",
    "    print(j.display_name)\n",
    "    j.delete()"
   ]
  },
  {
   "cell_type": "markdown",
   "id": "d402b8db",
   "metadata": {},
   "source": [
    "### Vertex AI > Training > Custom Job\n",
    "- Delete custom training jobs"
   ]
  },
  {
   "cell_type": "code",
   "execution_count": null,
   "id": "a2c8a1dd",
   "metadata": {},
   "outputs": [],
   "source": [
    "jobs = aiplatform.CustomJob.list()\n",
    "for j in jobs:\n",
    "    print(j.display_name)\n",
    "    j.delete()"
   ]
  },
  {
   "cell_type": "markdown",
   "id": "09fb512e",
   "metadata": {},
   "source": [
    "### Vertex AI > Training > Hyperparameter Tuning Job"
   ]
  },
  {
   "cell_type": "code",
   "execution_count": null,
   "id": "e087e1c1",
   "metadata": {},
   "outputs": [],
   "source": [
    "jobs = aiplatform.HyperparameterTuningJob.list()\n",
    "for j in jobs:\n",
    "    print(j.display_name)\n",
    "    j.delete()"
   ]
  },
  {
   "cell_type": "markdown",
   "id": "c902a0c2-8bdc-4f8d-9eca-820baa42df13",
   "metadata": {},
   "source": [
    "---\n",
    "## Vertex AI > Experiments > Experiments\n",
    "Needs to run before the next section or it may fail due to missing the backing Tensorboards"
   ]
  },
  {
   "cell_type": "code",
   "execution_count": null,
   "id": "dbdeb4db-192a-4800-868c-3c2a6e2f4d98",
   "metadata": {},
   "outputs": [],
   "source": [
    "exps = aiplatform.Experiment.list()"
   ]
  },
  {
   "cell_type": "code",
   "execution_count": null,
   "id": "abab4ca0-a5eb-4608-8f3b-135d89efb5e8",
   "metadata": {},
   "outputs": [],
   "source": [
    "for exp in exps:\n",
    "    runs = aiplatform.ExperimentRun.list(experiment = exp.name)\n",
    "    print(f'Experiment: {exp.name}')\n",
    "    for run in runs:\n",
    "        print(f'Run: {run.name}')\n",
    "        run.delete(delete_backing_tensorboard_run = False)\n",
    "    exp.delete(delete_backing_tensorboard_runs = False)"
   ]
  },
  {
   "cell_type": "markdown",
   "id": "d6ee0a33",
   "metadata": {},
   "source": [
    "## Vertex AI > Experiments > Tensorboard Instances"
   ]
  },
  {
   "cell_type": "code",
   "execution_count": null,
   "id": "d08ff538-3da3-4ab9-965d-88d79488ba2d",
   "metadata": {},
   "outputs": [],
   "source": [
    "tbs = aiplatform.Tensorboard.list()"
   ]
  },
  {
   "cell_type": "code",
   "execution_count": null,
   "id": "9b540140-4136-41ea-9251-95de93acd190",
   "metadata": {},
   "outputs": [],
   "source": [
    "for tb in tbs:\n",
    "    print(tb.resource_name)\n",
    "    exps = aiplatform.TensorboardExperiment.list(tensorboard_name = tb.resource_name)\n",
    "    for exp in exps:\n",
    "        print(exp.name)\n",
    "        exp.delete()\n",
    "    tb.delete()"
   ]
  },
  {
   "cell_type": "markdown",
   "id": "e05560a5",
   "metadata": {},
   "source": [
    "## Vertex AI > Experiments > Studies\n",
    "Vizier Studies"
   ]
  },
  {
   "cell_type": "code",
   "execution_count": null,
   "id": "f3dbebb6",
   "metadata": {},
   "outputs": [],
   "source": [
    "studies = clients['viz'].list_studies(parent=PARENT)"
   ]
  },
  {
   "cell_type": "code",
   "execution_count": null,
   "id": "f3d899cc",
   "metadata": {},
   "outputs": [],
   "source": [
    "for study in studies:\n",
    "    print(study.name)\n",
    "    clients['viz'].delete_study(name=study.name)"
   ]
  },
  {
   "cell_type": "markdown",
   "id": "7d52c19c",
   "metadata": {},
   "source": [
    "---\n",
    "## Vertex AI > Endpoints\n",
    "- Delete endpoints forcing deployed models to undeploy"
   ]
  },
  {
   "cell_type": "code",
   "execution_count": null,
   "id": "71467adf",
   "metadata": {},
   "outputs": [],
   "source": [
    "endpoints = aiplatform.Endpoint.list()"
   ]
  },
  {
   "cell_type": "code",
   "execution_count": null,
   "id": "1407adc7",
   "metadata": {},
   "outputs": [],
   "source": [
    "for ep in endpoints:\n",
    "    print(ep.resource_name)\n",
    "    ep.delete(force=True)"
   ]
  },
  {
   "cell_type": "markdown",
   "id": "eea6b3bb",
   "metadata": {},
   "source": [
    "---\n",
    "## Vertex AI > Models\n",
    "- Delete endpoints first (contain deployed models)\n",
    "- Delete uploaded models"
   ]
  },
  {
   "cell_type": "code",
   "execution_count": null,
   "id": "4e805eb0",
   "metadata": {},
   "outputs": [],
   "source": [
    "models = aiplatform.Model.list()"
   ]
  },
  {
   "cell_type": "code",
   "execution_count": null,
   "id": "f942e39e",
   "metadata": {},
   "outputs": [],
   "source": [
    "for model in models:\n",
    "    print(model.resource_name)\n",
    "    model.delete()"
   ]
  },
  {
   "cell_type": "markdown",
   "id": "e2226b29",
   "metadata": {},
   "source": [
    "---\n",
    "## Vertex AI > Batch Predictions\n",
    "- delete all batch prediction jobs"
   ]
  },
  {
   "cell_type": "code",
   "execution_count": null,
   "id": "ab2c5a71",
   "metadata": {},
   "outputs": [],
   "source": [
    "bps = aiplatform.BatchPredictionJob.list()"
   ]
  },
  {
   "cell_type": "code",
   "execution_count": null,
   "id": "58bebdd4",
   "metadata": {},
   "outputs": [],
   "source": [
    "for bp in bps:\n",
    "    print(bp.resource_name)\n",
    "    bp.delete()"
   ]
  },
  {
   "cell_type": "markdown",
   "id": "43cd8eb7",
   "metadata": {},
   "source": [
    "---\n",
    "## Vertex AI > Metadata"
   ]
  },
  {
   "cell_type": "code",
   "execution_count": null,
   "id": "4bf195bb",
   "metadata": {},
   "outputs": [],
   "source": [
    "md = clients['md'].list_metadata_stores(parent=PARENT)"
   ]
  },
  {
   "cell_type": "code",
   "execution_count": null,
   "id": "cd9cde55",
   "metadata": {},
   "outputs": [],
   "source": [
    "for m in md:\n",
    "    print(m.name)\n",
    "    arts = clients['md'].list_artifacts(parent=m.name)\n",
    "    for a in arts:\n",
    "        print(a.name)\n",
    "        clients['md'].delete_artifact(name=a.name)\n",
    "    if m.name.split('/')[-1] != 'default':\n",
    "        print('delete would happen here - update code to make this happen')\n",
    "        #clients['md'].get_metadata_store(name=m.name)#.purge_artifacts(parent=m.name)"
   ]
  },
  {
   "cell_type": "markdown",
   "id": "ebb2e865",
   "metadata": {},
   "source": [
    "---\n",
    "## Storage Bucket Removal\n",
    "\n",
    "- delete contents and storage bucket `statmike-mlops` (named after project)"
   ]
  },
  {
   "cell_type": "code",
   "execution_count": null,
   "id": "0cfd7d05",
   "metadata": {},
   "outputs": [],
   "source": [
    "bucket = clients['gcs'].get_bucket(PROJECT_ID)"
   ]
  },
  {
   "cell_type": "code",
   "execution_count": null,
   "id": "1f692e3a",
   "metadata": {},
   "outputs": [],
   "source": [
    "#bucket.delete(force=True)"
   ]
  }
 ],
 "metadata": {
  "environment": {
   "kernel": "python3",
   "name": "tf2-gpu.2-3.m94",
   "type": "gcloud",
   "uri": "gcr.io/deeplearning-platform-release/tf2-gpu.2-3:m94"
  },
  "kernelspec": {
   "display_name": "Python 3",
   "language": "python",
   "name": "python3"
  },
  "language_info": {
   "codemirror_mode": {
    "name": "ipython",
    "version": 3
   },
   "file_extension": ".py",
   "mimetype": "text/x-python",
   "name": "python",
   "nbconvert_exporter": "python",
   "pygments_lexer": "ipython3",
   "version": "3.7.12"
  }
 },
 "nbformat": 4,
 "nbformat_minor": 5
}
