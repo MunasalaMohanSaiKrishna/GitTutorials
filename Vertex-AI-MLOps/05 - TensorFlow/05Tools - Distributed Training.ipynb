{
 "cells": [
  {
   "cell_type": "markdown",
   "id": "8539ce9d-f91a-4d5a-a767-9f9c310de4e6",
   "metadata": {},
   "source": [
    "# 05Tools - Distributed Training\n",
    "## IN ACTIVE DEVELOPMENT - NOT COMPLETE\n",
    "\n",
    "\n",
    "### Conceptual Flow & Workflow\n",
    "<p align=\"center\">\n",
    "  <img alt=\"Conceptual Flow\" src=\"../architectures/slides/05tools_dist_arch.png\" width=\"45%\">\n",
    "&nbsp; &nbsp; &nbsp; &nbsp;\n",
    "  <img alt=\"Workflow\" src=\"../architectures/slides/05tools_dist_console.png\" width=\"45%\">\n",
    "</p>"
   ]
  },
  {
   "cell_type": "code",
   "execution_count": null,
   "id": "4e7d2762-2fcf-4116-89fb-ad7d46a1fb60",
   "metadata": {},
   "outputs": [],
   "source": []
  }
 ],
 "metadata": {
  "environment": {
   "kernel": "python3",
   "name": "tf2-gpu.2-3.m94",
   "type": "gcloud",
   "uri": "gcr.io/deeplearning-platform-release/tf2-gpu.2-3:m94"
  },
  "kernelspec": {
   "display_name": "Python 3",
   "language": "python",
   "name": "python3"
  },
  "language_info": {
   "codemirror_mode": {
    "name": "ipython",
    "version": 3
   },
   "file_extension": ".py",
   "mimetype": "text/x-python",
   "name": "python",
   "nbconvert_exporter": "python",
   "pygments_lexer": "ipython3",
   "version": "3.7.12"
  }
 },
 "nbformat": 4,
 "nbformat_minor": 5
}
