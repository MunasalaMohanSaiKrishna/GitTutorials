{
 "cells": [
  {
   "cell_type": "markdown",
   "id": "49f0f968-2cff-4809-a255-146b5cb87b63",
   "metadata": {},
   "source": [
    "# 05Tools: Understanding Model Performance and Fairness with the Language Interpretability Tool (LIT)\n",
    "\n",
    "The [Language Interpretability Tool (LIT)](https://pair-code.github.io/lit/) helps understand a model behavior across a wide range of inputs.  In this notebook the 05 series models will be evaluated with the LIT tool.  While it might sound like LIT is specific to language models,it actually works well with tabular models!\n",
    "\n",
    "This notebook will show how to connect the tool to the model for predictions (Vertex AI Endpoint) and load a dataset from BigQuery.\n",
    "\n",
    "### Prerequisites:\n",
    "-  At least 1 of the notebooks in this series [05, 05a-05i]\n",
    "\n",
    "### Conceptual Flow & Workflow\n",
    "<p align=\"center\">\n",
    "  <img alt=\"Conceptual Flow\" src=\"../architectures/slides/05tools_LIT_arch.png\" width=\"45%\">\n",
    "&nbsp; &nbsp; &nbsp; &nbsp;\n",
    "  <img alt=\"Workflow\" src=\"../architectures/slides/05tools_LIT_console.png\" width=\"45%\">\n",
    "</p>"
   ]
  },
  {
   "cell_type": "markdown",
   "id": "663fc8fd-1969-4331-a537-5099ec2e54e1",
   "metadata": {},
   "source": [
    "---\n",
    "## Setup"
   ]
  },
  {
   "cell_type": "markdown",
   "id": "768a7800-e18d-4830-99e4-bc877eb67699",
   "metadata": {},
   "source": [
    "### Package Installs (if needed)"
   ]
  },
  {
   "cell_type": "code",
   "execution_count": 29,
   "id": "cbdcc756-c54e-47f6-81b2-d71145967ffe",
   "metadata": {},
   "outputs": [],
   "source": [
    "try:\n",
    "    import lit_nlp\n",
    "except ImportError:\n",
    "    print('You need to pip install lit-nlp')\n",
    "    !pip install lit-nlp -q"
   ]
  },
  {
   "cell_type": "markdown",
   "id": "b800444d-6a15-4ce2-9f4f-a4dc64791683",
   "metadata": {},
   "source": [
    "### Environment"
   ]
  },
  {
   "cell_type": "markdown",
   "id": "fcd49c73-cab3-4d46-836a-deefe201f0fa",
   "metadata": {},
   "source": [
    "inputs:"
   ]
  },
  {
   "cell_type": "code",
   "execution_count": 30,
   "id": "bd8cd56f-27cd-4da2-bd6e-57baadcf5e33",
   "metadata": {},
   "outputs": [
    {
     "data": {
      "text/plain": [
       "'statmike-mlops-349915'"
      ]
     },
     "execution_count": 30,
     "metadata": {},
     "output_type": "execute_result"
    }
   ],
   "source": [
    "project = !gcloud config get-value project\n",
    "PROJECT_ID = project[0]\n",
    "PROJECT_ID"
   ]
  },
  {
   "cell_type": "code",
   "execution_count": 31,
   "id": "04326d3f-05e4-4c6f-8e5d-d3f73ee6d8a4",
   "metadata": {},
   "outputs": [],
   "source": [
    "REGION = 'us-central1'\n",
    "SERIES = '05'\n",
    "\n",
    "# source data\n",
    "BQ_PROJECT = PROJECT_ID\n",
    "BQ_DATASET = 'fraud'\n",
    "BQ_TABLE = 'fraud_prepped'\n",
    "\n",
    "# Model Training\n",
    "VAR_TARGET = 'Class'\n",
    "VAR_OMIT = 'transaction_id' # add more variables to the string with space delimiters"
   ]
  },
  {
   "cell_type": "markdown",
   "id": "9f1adc9e-0a4b-4f2c-bc9a-f76623030e7f",
   "metadata": {},
   "source": [
    "packages:"
   ]
  },
  {
   "cell_type": "code",
   "execution_count": 32,
   "id": "4e0aea89-6216-420a-b047-dd9c32a14ae4",
   "metadata": {},
   "outputs": [],
   "source": [
    "from google.cloud import aiplatform\n",
    "from google.cloud import bigquery\n",
    "\n",
    "from google.protobuf import json_format\n",
    "from google.protobuf.struct_pb2 import Value\n",
    "\n",
    "from lit_nlp.api import dataset as lit_dataset\n",
    "from lit_nlp.api import types as lit_types\n",
    "from lit_nlp.api import model as lit_model\n",
    "from lit_nlp.components import minimal_targeted_counterfactuals\n",
    "from lit_nlp import notebook\n",
    "\n",
    "import numpy as np"
   ]
  },
  {
   "cell_type": "markdown",
   "id": "0c7aec36-b52e-420d-b92c-c0ab81571182",
   "metadata": {},
   "source": [
    "clients:"
   ]
  },
  {
   "cell_type": "code",
   "execution_count": 33,
   "id": "f6757dc5-c286-40ee-b093-cf63cc7ac3ca",
   "metadata": {},
   "outputs": [],
   "source": [
    "aiplatform.init(project=PROJECT_ID, location=REGION)\n",
    "bq = bigquery.Client(project=PROJECT_ID)"
   ]
  },
  {
   "cell_type": "markdown",
   "id": "62bf64d5-3d6a-4b06-8e83-1e0a1398ebcb",
   "metadata": {},
   "source": [
    "parameters:"
   ]
  },
  {
   "cell_type": "code",
   "execution_count": 34,
   "id": "592a548f-927b-4144-9904-31e50a098939",
   "metadata": {},
   "outputs": [],
   "source": [
    "BUCKET = PROJECT_ID"
   ]
  },
  {
   "cell_type": "markdown",
   "id": "71a959f1-519b-41ce-872d-5a5066590795",
   "metadata": {},
   "source": [
    "---\n",
    "## Get Vertex AI Endpoint And Deployed Model"
   ]
  },
  {
   "cell_type": "code",
   "execution_count": 35,
   "id": "d1ec4b68-c1a6-461c-b8af-dff810ee59ed",
   "metadata": {},
   "outputs": [],
   "source": [
    "endpoints = aiplatform.Endpoint.list(filter = f\"labels.series={SERIES}\")\n",
    "endpoint = endpoints[0]"
   ]
  },
  {
   "cell_type": "code",
   "execution_count": 36,
   "id": "679bd40b-4626-40aa-81ef-e15527bf6c21",
   "metadata": {},
   "outputs": [
    {
     "data": {
      "text/plain": [
       "'05'"
      ]
     },
     "execution_count": 36,
     "metadata": {},
     "output_type": "execute_result"
    }
   ],
   "source": [
    "endpoint.display_name"
   ]
  },
  {
   "cell_type": "code",
   "execution_count": 37,
   "id": "7ce01252-b973-4b1a-98a9-e0835134d40f",
   "metadata": {},
   "outputs": [],
   "source": [
    "model = aiplatform.Model(\n",
    "    model_name = endpoint.list_models()[0].model+f'@{endpoint.list_models()[0].model_version_id}'\n",
    ")"
   ]
  },
  {
   "cell_type": "code",
   "execution_count": 38,
   "id": "8b9ee474-7d9c-47a4-8a7b-96b1d6de7cf5",
   "metadata": {},
   "outputs": [
    {
     "data": {
      "text/plain": [
       "'05_05h'"
      ]
     },
     "execution_count": 38,
     "metadata": {},
     "output_type": "execute_result"
    }
   ],
   "source": [
    "model.display_name"
   ]
  },
  {
   "cell_type": "code",
   "execution_count": 39,
   "id": "27fe9919-6f54-4a05-a5aa-ccf6cbcf33a6",
   "metadata": {},
   "outputs": [
    {
     "data": {
      "text/plain": [
       "'projects/1026793852137/locations/us-central1/models/model_05_05h@1'"
      ]
     },
     "execution_count": 39,
     "metadata": {},
     "output_type": "execute_result"
    }
   ],
   "source": [
    "model.versioned_resource_name"
   ]
  },
  {
   "cell_type": "code",
   "execution_count": 40,
   "id": "b1ce83a0-ebd9-46df-bcd5-2d814045f328",
   "metadata": {},
   "outputs": [
    {
     "data": {
      "text/plain": [
       "'gs://statmike-mlops-349915/05/05h/models/20220927230247/6/model'"
      ]
     },
     "execution_count": 40,
     "metadata": {},
     "output_type": "execute_result"
    }
   ],
   "source": [
    "model.uri"
   ]
  },
  {
   "cell_type": "markdown",
   "id": "8e23ba42-e08f-480b-bb32-7c163494aaac",
   "metadata": {},
   "source": [
    "## Get Data for Model Exploration\n",
    "Retrive the test data for this series:"
   ]
  },
  {
   "cell_type": "code",
   "execution_count": 41,
   "id": "b97a2925-9597-4144-a810-ae986aa13427",
   "metadata": {},
   "outputs": [
    {
     "data": {
      "text/html": [
       "<div>\n",
       "<style scoped>\n",
       "    .dataframe tbody tr th:only-of-type {\n",
       "        vertical-align: middle;\n",
       "    }\n",
       "\n",
       "    .dataframe tbody tr th {\n",
       "        vertical-align: top;\n",
       "    }\n",
       "\n",
       "    .dataframe thead th {\n",
       "        text-align: right;\n",
       "    }\n",
       "</style>\n",
       "<table border=\"1\" class=\"dataframe\">\n",
       "  <thead>\n",
       "    <tr style=\"text-align: right;\">\n",
       "      <th></th>\n",
       "      <th>Time</th>\n",
       "      <th>V1</th>\n",
       "      <th>V2</th>\n",
       "      <th>V3</th>\n",
       "      <th>V4</th>\n",
       "      <th>V5</th>\n",
       "      <th>V6</th>\n",
       "      <th>V7</th>\n",
       "      <th>V8</th>\n",
       "      <th>V9</th>\n",
       "      <th>...</th>\n",
       "      <th>V21</th>\n",
       "      <th>V22</th>\n",
       "      <th>V23</th>\n",
       "      <th>V24</th>\n",
       "      <th>V25</th>\n",
       "      <th>V26</th>\n",
       "      <th>V27</th>\n",
       "      <th>V28</th>\n",
       "      <th>Amount</th>\n",
       "      <th>Class</th>\n",
       "    </tr>\n",
       "  </thead>\n",
       "  <tbody>\n",
       "    <tr>\n",
       "      <th>0</th>\n",
       "      <td>85285</td>\n",
       "      <td>-7.030308</td>\n",
       "      <td>3.421991</td>\n",
       "      <td>-9.525072</td>\n",
       "      <td>5.270891</td>\n",
       "      <td>-4.024630</td>\n",
       "      <td>-2.865682</td>\n",
       "      <td>-6.989195</td>\n",
       "      <td>3.791551</td>\n",
       "      <td>-4.622730</td>\n",
       "      <td>...</td>\n",
       "      <td>1.103398</td>\n",
       "      <td>-0.541855</td>\n",
       "      <td>0.036943</td>\n",
       "      <td>-0.355519</td>\n",
       "      <td>0.353634</td>\n",
       "      <td>1.042458</td>\n",
       "      <td>1.359516</td>\n",
       "      <td>-0.272188</td>\n",
       "      <td>0.0</td>\n",
       "      <td>1</td>\n",
       "    </tr>\n",
       "    <tr>\n",
       "      <th>1</th>\n",
       "      <td>56887</td>\n",
       "      <td>-0.075483</td>\n",
       "      <td>1.812355</td>\n",
       "      <td>-2.566981</td>\n",
       "      <td>4.127549</td>\n",
       "      <td>-1.628532</td>\n",
       "      <td>-0.805895</td>\n",
       "      <td>-3.390135</td>\n",
       "      <td>1.019353</td>\n",
       "      <td>-2.451251</td>\n",
       "      <td>...</td>\n",
       "      <td>0.794372</td>\n",
       "      <td>0.270471</td>\n",
       "      <td>-0.143624</td>\n",
       "      <td>0.013566</td>\n",
       "      <td>0.634203</td>\n",
       "      <td>0.213693</td>\n",
       "      <td>0.773625</td>\n",
       "      <td>0.387434</td>\n",
       "      <td>5.0</td>\n",
       "      <td>1</td>\n",
       "    </tr>\n",
       "    <tr>\n",
       "      <th>2</th>\n",
       "      <td>43369</td>\n",
       "      <td>-3.365319</td>\n",
       "      <td>2.426503</td>\n",
       "      <td>-3.752227</td>\n",
       "      <td>0.276017</td>\n",
       "      <td>-2.305870</td>\n",
       "      <td>-1.961578</td>\n",
       "      <td>-3.029283</td>\n",
       "      <td>-1.674462</td>\n",
       "      <td>0.183961</td>\n",
       "      <td>...</td>\n",
       "      <td>2.070008</td>\n",
       "      <td>-0.512626</td>\n",
       "      <td>-0.248502</td>\n",
       "      <td>0.126550</td>\n",
       "      <td>0.104166</td>\n",
       "      <td>-1.055997</td>\n",
       "      <td>-1.200165</td>\n",
       "      <td>-1.012066</td>\n",
       "      <td>88.0</td>\n",
       "      <td>1</td>\n",
       "    </tr>\n",
       "    <tr>\n",
       "      <th>3</th>\n",
       "      <td>143354</td>\n",
       "      <td>1.118331</td>\n",
       "      <td>2.074439</td>\n",
       "      <td>-3.837518</td>\n",
       "      <td>5.448060</td>\n",
       "      <td>0.071816</td>\n",
       "      <td>-1.020509</td>\n",
       "      <td>-1.808574</td>\n",
       "      <td>0.521744</td>\n",
       "      <td>-2.032638</td>\n",
       "      <td>...</td>\n",
       "      <td>0.289861</td>\n",
       "      <td>-0.172718</td>\n",
       "      <td>-0.021910</td>\n",
       "      <td>-0.376560</td>\n",
       "      <td>0.192817</td>\n",
       "      <td>0.114107</td>\n",
       "      <td>0.500996</td>\n",
       "      <td>0.259533</td>\n",
       "      <td>1.0</td>\n",
       "      <td>1</td>\n",
       "    </tr>\n",
       "    <tr>\n",
       "      <th>4</th>\n",
       "      <td>93888</td>\n",
       "      <td>-10.040631</td>\n",
       "      <td>6.139183</td>\n",
       "      <td>-12.972972</td>\n",
       "      <td>7.740555</td>\n",
       "      <td>-8.684705</td>\n",
       "      <td>-3.837429</td>\n",
       "      <td>-11.907702</td>\n",
       "      <td>5.833273</td>\n",
       "      <td>-5.731054</td>\n",
       "      <td>...</td>\n",
       "      <td>2.823431</td>\n",
       "      <td>1.153005</td>\n",
       "      <td>-0.567343</td>\n",
       "      <td>0.843012</td>\n",
       "      <td>0.549938</td>\n",
       "      <td>0.113892</td>\n",
       "      <td>-0.307375</td>\n",
       "      <td>0.061631</td>\n",
       "      <td>1.0</td>\n",
       "      <td>1</td>\n",
       "    </tr>\n",
       "  </tbody>\n",
       "</table>\n",
       "<p>5 rows × 31 columns</p>\n",
       "</div>"
      ],
      "text/plain": [
       "     Time         V1        V2         V3        V4        V5        V6  \\\n",
       "0   85285  -7.030308  3.421991  -9.525072  5.270891 -4.024630 -2.865682   \n",
       "1   56887  -0.075483  1.812355  -2.566981  4.127549 -1.628532 -0.805895   \n",
       "2   43369  -3.365319  2.426503  -3.752227  0.276017 -2.305870 -1.961578   \n",
       "3  143354   1.118331  2.074439  -3.837518  5.448060  0.071816 -1.020509   \n",
       "4   93888 -10.040631  6.139183 -12.972972  7.740555 -8.684705 -3.837429   \n",
       "\n",
       "          V7        V8        V9  ...       V21       V22       V23       V24  \\\n",
       "0  -6.989195  3.791551 -4.622730  ...  1.103398 -0.541855  0.036943 -0.355519   \n",
       "1  -3.390135  1.019353 -2.451251  ...  0.794372  0.270471 -0.143624  0.013566   \n",
       "2  -3.029283 -1.674462  0.183961  ...  2.070008 -0.512626 -0.248502  0.126550   \n",
       "3  -1.808574  0.521744 -2.032638  ...  0.289861 -0.172718 -0.021910 -0.376560   \n",
       "4 -11.907702  5.833273 -5.731054  ...  2.823431  1.153005 -0.567343  0.843012   \n",
       "\n",
       "        V25       V26       V27       V28  Amount  Class  \n",
       "0  0.353634  1.042458  1.359516 -0.272188     0.0      1  \n",
       "1  0.634203  0.213693  0.773625  0.387434     5.0      1  \n",
       "2  0.104166 -1.055997 -1.200165 -1.012066    88.0      1  \n",
       "3  0.192817  0.114107  0.500996  0.259533     1.0      1  \n",
       "4  0.549938  0.113892 -0.307375  0.061631     1.0      1  \n",
       "\n",
       "[5 rows x 31 columns]"
      ]
     },
     "execution_count": 41,
     "metadata": {},
     "output_type": "execute_result"
    }
   ],
   "source": [
    "test = bq.query(query = f\"SELECT * EXCEPT({VAR_TARGET}), {VAR_TARGET} FROM {BQ_PROJECT}.{BQ_DATASET}.{BQ_TABLE} WHERE splits='TEST' ORDER BY {VAR_TARGET} DESC\").to_dataframe()\n",
    "test = test[test.columns[~test.columns.isin(VAR_OMIT.split()+['splits'])]]\n",
    "test.head()"
   ]
  },
  {
   "cell_type": "code",
   "execution_count": 42,
   "id": "a403f0ec-e34d-4153-a5e4-19fd94887880",
   "metadata": {},
   "outputs": [
    {
     "data": {
      "text/plain": [
       "(28502, 31)"
      ]
     },
     "execution_count": 42,
     "metadata": {},
     "output_type": "execute_result"
    }
   ],
   "source": [
    "test.shape"
   ]
  },
  {
   "cell_type": "code",
   "execution_count": 43,
   "id": "c541ee51-22ec-4efd-b0d1-0d7be8ff71a2",
   "metadata": {},
   "outputs": [
    {
     "data": {
      "text/html": [
       "<div>\n",
       "<style scoped>\n",
       "    .dataframe tbody tr th:only-of-type {\n",
       "        vertical-align: middle;\n",
       "    }\n",
       "\n",
       "    .dataframe tbody tr th {\n",
       "        vertical-align: top;\n",
       "    }\n",
       "\n",
       "    .dataframe thead th {\n",
       "        text-align: right;\n",
       "    }\n",
       "</style>\n",
       "<table border=\"1\" class=\"dataframe\">\n",
       "  <thead>\n",
       "    <tr style=\"text-align: right;\">\n",
       "      <th></th>\n",
       "      <th>Time</th>\n",
       "      <th>V1</th>\n",
       "      <th>V2</th>\n",
       "      <th>V3</th>\n",
       "      <th>V4</th>\n",
       "      <th>V5</th>\n",
       "      <th>V6</th>\n",
       "      <th>V7</th>\n",
       "      <th>V8</th>\n",
       "      <th>V9</th>\n",
       "      <th>...</th>\n",
       "      <th>V21</th>\n",
       "      <th>V22</th>\n",
       "      <th>V23</th>\n",
       "      <th>V24</th>\n",
       "      <th>V25</th>\n",
       "      <th>V26</th>\n",
       "      <th>V27</th>\n",
       "      <th>V28</th>\n",
       "      <th>Amount</th>\n",
       "      <th>Class</th>\n",
       "    </tr>\n",
       "  </thead>\n",
       "  <tbody>\n",
       "    <tr>\n",
       "      <th>0</th>\n",
       "      <td>32686</td>\n",
       "      <td>0.287953</td>\n",
       "      <td>1.728735</td>\n",
       "      <td>-1.652173</td>\n",
       "      <td>3.813544</td>\n",
       "      <td>-1.090927</td>\n",
       "      <td>-0.984745</td>\n",
       "      <td>-2.202318</td>\n",
       "      <td>0.555088</td>\n",
       "      <td>-2.033892</td>\n",
       "      <td>...</td>\n",
       "      <td>0.262202</td>\n",
       "      <td>-0.633528</td>\n",
       "      <td>0.092891</td>\n",
       "      <td>0.187613</td>\n",
       "      <td>0.368708</td>\n",
       "      <td>-0.132474</td>\n",
       "      <td>0.576561</td>\n",
       "      <td>0.309843</td>\n",
       "      <td>0.0</td>\n",
       "      <td>1</td>\n",
       "    </tr>\n",
       "    <tr>\n",
       "      <th>1</th>\n",
       "      <td>53658</td>\n",
       "      <td>-1.739341</td>\n",
       "      <td>1.344521</td>\n",
       "      <td>-0.534379</td>\n",
       "      <td>3.195291</td>\n",
       "      <td>-0.416196</td>\n",
       "      <td>-1.261961</td>\n",
       "      <td>-2.340991</td>\n",
       "      <td>0.713004</td>\n",
       "      <td>-1.416265</td>\n",
       "      <td>...</td>\n",
       "      <td>0.383180</td>\n",
       "      <td>-0.213952</td>\n",
       "      <td>-0.336640</td>\n",
       "      <td>0.237076</td>\n",
       "      <td>0.246003</td>\n",
       "      <td>-0.044228</td>\n",
       "      <td>0.510729</td>\n",
       "      <td>0.220952</td>\n",
       "      <td>0.0</td>\n",
       "      <td>1</td>\n",
       "    </tr>\n",
       "    <tr>\n",
       "      <th>2</th>\n",
       "      <td>146998</td>\n",
       "      <td>-2.064240</td>\n",
       "      <td>2.629739</td>\n",
       "      <td>-0.748406</td>\n",
       "      <td>0.694992</td>\n",
       "      <td>0.418178</td>\n",
       "      <td>1.392520</td>\n",
       "      <td>-1.697801</td>\n",
       "      <td>-6.333065</td>\n",
       "      <td>1.724184</td>\n",
       "      <td>...</td>\n",
       "      <td>6.215514</td>\n",
       "      <td>-1.276909</td>\n",
       "      <td>0.459861</td>\n",
       "      <td>-1.051685</td>\n",
       "      <td>0.209178</td>\n",
       "      <td>-0.319859</td>\n",
       "      <td>0.015434</td>\n",
       "      <td>-0.050117</td>\n",
       "      <td>8.0</td>\n",
       "      <td>1</td>\n",
       "    </tr>\n",
       "    <tr>\n",
       "      <th>3</th>\n",
       "      <td>11131</td>\n",
       "      <td>-1.426623</td>\n",
       "      <td>4.141986</td>\n",
       "      <td>-9.804103</td>\n",
       "      <td>6.666273</td>\n",
       "      <td>-4.749527</td>\n",
       "      <td>-2.073129</td>\n",
       "      <td>-10.089931</td>\n",
       "      <td>2.791345</td>\n",
       "      <td>-3.249516</td>\n",
       "      <td>...</td>\n",
       "      <td>1.865679</td>\n",
       "      <td>0.407809</td>\n",
       "      <td>0.605809</td>\n",
       "      <td>-0.769348</td>\n",
       "      <td>-1.746337</td>\n",
       "      <td>0.502040</td>\n",
       "      <td>1.977258</td>\n",
       "      <td>0.711607</td>\n",
       "      <td>1.0</td>\n",
       "      <td>1</td>\n",
       "    </tr>\n",
       "    <tr>\n",
       "      <th>4</th>\n",
       "      <td>8878</td>\n",
       "      <td>-2.661802</td>\n",
       "      <td>5.856393</td>\n",
       "      <td>-7.653616</td>\n",
       "      <td>6.379742</td>\n",
       "      <td>-0.060712</td>\n",
       "      <td>-3.131550</td>\n",
       "      <td>-3.103570</td>\n",
       "      <td>1.778492</td>\n",
       "      <td>-3.831154</td>\n",
       "      <td>...</td>\n",
       "      <td>0.734775</td>\n",
       "      <td>-0.435901</td>\n",
       "      <td>-0.384766</td>\n",
       "      <td>-0.286016</td>\n",
       "      <td>1.007934</td>\n",
       "      <td>0.413196</td>\n",
       "      <td>0.280284</td>\n",
       "      <td>0.303937</td>\n",
       "      <td>1.0</td>\n",
       "      <td>1</td>\n",
       "    </tr>\n",
       "  </tbody>\n",
       "</table>\n",
       "<p>5 rows × 31 columns</p>\n",
       "</div>"
      ],
      "text/plain": [
       "     Time        V1        V2        V3        V4        V5        V6  \\\n",
       "0   32686  0.287953  1.728735 -1.652173  3.813544 -1.090927 -0.984745   \n",
       "1   53658 -1.739341  1.344521 -0.534379  3.195291 -0.416196 -1.261961   \n",
       "2  146998 -2.064240  2.629739 -0.748406  0.694992  0.418178  1.392520   \n",
       "3   11131 -1.426623  4.141986 -9.804103  6.666273 -4.749527 -2.073129   \n",
       "4    8878 -2.661802  5.856393 -7.653616  6.379742 -0.060712 -3.131550   \n",
       "\n",
       "          V7        V8        V9  ...       V21       V22       V23       V24  \\\n",
       "0  -2.202318  0.555088 -2.033892  ...  0.262202 -0.633528  0.092891  0.187613   \n",
       "1  -2.340991  0.713004 -1.416265  ...  0.383180 -0.213952 -0.336640  0.237076   \n",
       "2  -1.697801 -6.333065  1.724184  ...  6.215514 -1.276909  0.459861 -1.051685   \n",
       "3 -10.089931  2.791345 -3.249516  ...  1.865679  0.407809  0.605809 -0.769348   \n",
       "4  -3.103570  1.778492 -3.831154  ...  0.734775 -0.435901 -0.384766 -0.286016   \n",
       "\n",
       "        V25       V26       V27       V28  Amount  Class  \n",
       "0  0.368708 -0.132474  0.576561  0.309843     0.0      1  \n",
       "1  0.246003 -0.044228  0.510729  0.220952     0.0      1  \n",
       "2  0.209178 -0.319859  0.015434 -0.050117     8.0      1  \n",
       "3 -1.746337  0.502040  1.977258  0.711607     1.0      1  \n",
       "4  1.007934  0.413196  0.280284  0.303937     1.0      1  \n",
       "\n",
       "[5 rows x 31 columns]"
      ]
     },
     "execution_count": 43,
     "metadata": {},
     "output_type": "execute_result"
    }
   ],
   "source": [
    "val = bq.query(query = f\"SELECT * EXCEPT({VAR_TARGET}), {VAR_TARGET} FROM {BQ_PROJECT}.{BQ_DATASET}.{BQ_TABLE} WHERE splits='VALIDATE' ORDER BY {VAR_TARGET} DESC\").to_dataframe()\n",
    "val = val[val.columns[~val.columns.isin(VAR_OMIT.split()+['splits'])]]\n",
    "val.head()"
   ]
  },
  {
   "cell_type": "markdown",
   "id": "1d450644-1d3d-4eb1-8f79-9b600077a9a5",
   "metadata": {},
   "source": [
    "## Setting Up LIT\n",
    "At a minimimum, LIT requires a Dataset and Model specification following the requires [Type System](https://github.com/PAIR-code/lit/wiki/api.md#type-system):\n",
    "- Dataset\n",
    "    - Use the Type System to describe and format the examples as flat dictionaries using a custom Class\n",
    "- Model\n",
    "    - A custom class made up of Python functions that return inputs, outputs, and predictions following the Type System"
   ]
  },
  {
   "cell_type": "markdown",
   "id": "e146cea3-b746-451a-88b5-3d73d9f3ed69",
   "metadata": {},
   "source": [
    "Common Inputs:"
   ]
  },
  {
   "cell_type": "code",
   "execution_count": 44,
   "id": "d67536b3-b8d4-4f85-be9f-dcc7899df0d9",
   "metadata": {},
   "outputs": [],
   "source": [
    "VOCABS = {f'{VAR_TARGET}': ['Not Fraud', 'Fraud']}\n",
    "VAR_SPECS = test.dtypes.apply(lambda x: x.name).to_dict()"
   ]
  },
  {
   "cell_type": "markdown",
   "id": "c2d80d21-f5d2-4612-b170-ca317e7ac614",
   "metadata": {},
   "source": [
    "### LIT Dataset\n",
    "The class specification here for `FraudDataset` is built in a way that automate the specification by leveraging the knowledge that all the fields except the target, stored in `VAR_TARGET` above, are all numeric. The class also uses the commmon inputs defined in the previous cell/section. "
   ]
  },
  {
   "cell_type": "markdown",
   "id": "b8177805-de8c-4232-9c84-d315b85c20fe",
   "metadata": {},
   "source": [
    "Define Class for Dataset:"
   ]
  },
  {
   "cell_type": "code",
   "execution_count": 45,
   "id": "eab1a5e0-892a-40c3-b30b-984886f85eaa",
   "metadata": {},
   "outputs": [],
   "source": [
    "class FraudDataset(lit_dataset.Dataset):\n",
    "    \n",
    "    def __init__(self, ds):\n",
    "        records = ds.to_dict(orient='records')\n",
    "        self._examples = []\n",
    "        for rec in records:\n",
    "            rec[f'{VAR_TARGET}'] = VOCABS[f'{VAR_TARGET}'][rec[f'{VAR_TARGET}']]\n",
    "            self._examples.append(rec)\n",
    "            \n",
    "    def spec(self):\n",
    "        specs = VAR_SPECS.copy()\n",
    "        for s in specs:\n",
    "            if s == VAR_TARGET: specs[s] = lit_types.CategoryLabel(vocab = VOCABS[VAR_TARGET])\n",
    "            else: specs[s] = lit_types.Scalar()        \n",
    "        return specs"
   ]
  },
  {
   "cell_type": "markdown",
   "id": "c61ecac3-1041-4e9f-a120-56c2da60a09b",
   "metadata": {},
   "source": [
    "Test Class:"
   ]
  },
  {
   "cell_type": "code",
   "execution_count": 46,
   "id": "2da8a045-cd23-43ab-b76f-80666a989302",
   "metadata": {},
   "outputs": [],
   "source": [
    "test_ds = FraudDataset(test)\n",
    "val_ds = FraudDataset(val)"
   ]
  },
  {
   "cell_type": "code",
   "execution_count": 47,
   "id": "08facc06-c126-4ec3-bc37-5df80281f520",
   "metadata": {},
   "outputs": [
    {
     "data": {
      "text/plain": [
       "(28244, 28502)"
      ]
     },
     "execution_count": 47,
     "metadata": {},
     "output_type": "execute_result"
    }
   ],
   "source": [
    "len(val_ds.examples), len(test_ds.examples)"
   ]
  },
  {
   "cell_type": "code",
   "execution_count": 48,
   "id": "ec485aa3-737d-4688-9b9d-966b136746d1",
   "metadata": {},
   "outputs": [],
   "source": [
    "#test_ds.examples[0], test_ds.spec()"
   ]
  },
  {
   "cell_type": "code",
   "execution_count": 49,
   "id": "0108de2e-8fbd-48bf-9c08-faab3c4e9484",
   "metadata": {},
   "outputs": [],
   "source": [
    "#val_ds.examples[0], val_ds.spec()"
   ]
  },
  {
   "cell_type": "markdown",
   "id": "8c11b346-d4b6-4ed5-b98c-8f10dbd47085",
   "metadata": {},
   "source": [
    "### LIT Model\n",
    "The class specification here for `FraudModel` is built to use the Vertex AI endpoint as a prediction service via the `endpoint.predict` method."
   ]
  },
  {
   "cell_type": "code",
   "execution_count": 50,
   "id": "ca80a4b4-03ce-4962-bb54-bd1a47da8ac8",
   "metadata": {},
   "outputs": [],
   "source": [
    "class FraudModel(lit_model.Model):\n",
    "    \n",
    "    def __init__(self, endpoint):\n",
    "        self.model = endpoint\n",
    "\n",
    "    def max_minibatch_size(self):\n",
    "        return 2000        \n",
    "        \n",
    "    def predict_minibatch(self, inputs):\n",
    "        instances = [json_format.ParseDict({key:value for key, value in example.items() if key != VAR_TARGET}, Value()) for example in inputs]\n",
    "        predictions = endpoint.predict(instances = instances).predictions\n",
    "        \n",
    "        # unpack the batch\n",
    "        for pred in predictions:\n",
    "            output = {'predictions': pred}\n",
    "            yield output\n",
    "        #return [{'predictions': out} for out in predictions]\n",
    "        \n",
    "    def input_spec(self):\n",
    "        specs = VAR_SPECS.copy()\n",
    "        specs.pop(VAR_TARGET, None) # remove the target being predicted\n",
    "        for s in specs:\n",
    "            specs[s] = lit_types.Scalar()\n",
    "        return specs\n",
    "    \n",
    "    def output_spec(self):\n",
    "        return {\n",
    "            'predictions': lit_types.MulticlassPreds(\n",
    "                parent = f'{VAR_TARGET}', vocab = VOCABS[VAR_TARGET]\n",
    "            )\n",
    "        }"
   ]
  },
  {
   "cell_type": "code",
   "execution_count": 51,
   "id": "c6893767-0146-4554-8805-073fcccb43fa",
   "metadata": {},
   "outputs": [],
   "source": [
    "widget = notebook.LitWidget(\n",
    "    models = {'classification': FraudModel(endpoint)},\n",
    "    datasets = {'test': FraudDataset(test[0:4000]), 'val': FraudDataset(val[0:4000])},\n",
    "    generators = {'Minimal Targeted Counterfactuals': minimal_targeted_counterfactuals.TabularMTC()},\n",
    "    height = 800\n",
    ")"
   ]
  },
  {
   "cell_type": "markdown",
   "id": "feaaac88-9202-42d9-8c0a-171abc88e4d3",
   "metadata": {},
   "source": [
    "### LIT Widget"
   ]
  },
  {
   "cell_type": "code",
   "execution_count": null,
   "id": "8bbaf6be-45f5-4736-a37c-71374b0ae94d",
   "metadata": {},
   "outputs": [],
   "source": [
    "widget.render()"
   ]
  },
  {
   "cell_type": "code",
   "execution_count": 53,
   "id": "4a572593-13fd-4a0d-88ad-544f0598fdb1",
   "metadata": {},
   "outputs": [],
   "source": [
    "widget.stop()"
   ]
  },
  {
   "cell_type": "markdown",
   "id": "2d5bc72d-9abf-49cd-91d9-e83a2845da1d",
   "metadata": {},
   "source": [
    "---\n",
    "## Example Screenshot\n",
    "\n",
    "<img src=\"../architectures/notebooks/05/lit.png\">"
   ]
  },
  {
   "cell_type": "code",
   "execution_count": null,
   "id": "46ca2671-bc1a-4a7f-8d95-8b0d953c9f8d",
   "metadata": {},
   "outputs": [],
   "source": []
  }
 ],
 "metadata": {
  "environment": {
   "kernel": "python3",
   "name": "tf2-gpu.2-3.m94",
   "type": "gcloud",
   "uri": "gcr.io/deeplearning-platform-release/tf2-gpu.2-3:m94"
  },
  "kernelspec": {
   "display_name": "Python 3",
   "language": "python",
   "name": "python3"
  },
  "language_info": {
   "codemirror_mode": {
    "name": "ipython",
    "version": 3
   },
   "file_extension": ".py",
   "mimetype": "text/x-python",
   "name": "python",
   "nbconvert_exporter": "python",
   "pygments_lexer": "ipython3",
   "version": "3.7.12"
  }
 },
 "nbformat": 4,
 "nbformat_minor": 5
}
