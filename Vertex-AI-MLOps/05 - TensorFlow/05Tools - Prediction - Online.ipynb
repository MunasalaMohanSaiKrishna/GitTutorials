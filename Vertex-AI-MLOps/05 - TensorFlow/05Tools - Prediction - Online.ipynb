{
 "cells": [
  {
   "cell_type": "markdown",
   "id": "5530ea8e-0359-4e32-a8f6-8beba4e4ee85",
   "metadata": {},
   "source": [
    "# 05Tools: Prediction - Online\n",
    "Predictions from models created in the 05 series of notebooks.\n",
    "\n",
    "This notebook is part of collection of examples that showcase many ways to serve models:\n",
    "- Online:\n",
    "    - (**THIS NOTEBOOK**) Vertex AI Endpoints: Python, REST, CLI (gcloud): [05Tools - Prediction - Online.ipynb](./05Tools%20-%20Prediction%20-%20Online.ipynb)\n",
    "    - Local with TensorFlow ModelServer: [05Tools - Prediction - Local.ipynb](./05Tools%20-%20Prediction%20-%20Local.ipynb)\n",
    "    - Custom: Build a custom container with TensorFlow ModelServer: [05Tools - Prediction - Custom.ipynb](./05Tools%20-%20Prediction%20-%20Custom.ipynb)\n",
    "        - Remote Service with Cloud Run\n",
    "        - Local Service with Docker Run\n",
    "- Batch: [05Tools - Prediction - Batch.ipynb](./05Tools%20-%20Prediction%20-%20Batch.ipynb)\n",
    "    - BigQuery ML Model Import\n",
    "    - Vertex AI Batch Prediction Jobs\n",
    "\n",
    "**Prerequisites:**\n",
    "-  At least 1 of the notebooks in this series [05, 05a-05i]\n",
    "\n",
    "**Conceptual Flow & Workflow**\n",
    "\n",
    "<p align=\"center\">\n",
    "  <img alt=\"Conceptual Flow\" src=\"../architectures/slides/05tools_pred_arch.png\" width=\"45%\">\n",
    "&nbsp; &nbsp; &nbsp; &nbsp;\n",
    "  <img alt=\"Workflow\" src=\"../architectures/slides/05tools_pred_console.png\" width=\"45%\">\n",
    "</p>"
   ]
  },
  {
   "cell_type": "markdown",
   "id": "7cbc1869-a004-40d7-99fe-8ae68becb8ef",
   "metadata": {},
   "source": [
    "---\n",
    "## Setup"
   ]
  },
  {
   "cell_type": "markdown",
   "id": "c4b93b74-91fd-433b-ac67-b9e6ac5cb140",
   "metadata": {},
   "source": [
    "inputs:"
   ]
  },
  {
   "cell_type": "code",
   "execution_count": 129,
   "id": "3d88f310-d3b5-4785-a5e6-ac8cdbcc630d",
   "metadata": {},
   "outputs": [
    {
     "data": {
      "text/plain": [
       "'statmike-mlops-349915'"
      ]
     },
     "execution_count": 129,
     "metadata": {},
     "output_type": "execute_result"
    }
   ],
   "source": [
    "project = !gcloud config get-value project\n",
    "PROJECT_ID = project[0]\n",
    "PROJECT_ID"
   ]
  },
  {
   "cell_type": "code",
   "execution_count": 130,
   "id": "8457d0e4-ab01-4933-b179-e7505abf0405",
   "metadata": {},
   "outputs": [],
   "source": [
    "REGION = 'us-central1'\n",
    "EXPERIMENT = '05_predictions'\n",
    "SERIES = '05'\n",
    "\n",
    "# source data\n",
    "BQ_PROJECT = PROJECT_ID\n",
    "BQ_DATASET = 'fraud'\n",
    "BQ_TABLE = 'fraud_prepped'\n",
    "\n",
    "# Resources\n",
    "DEPLOY_COMPUTE = 'n1-standard-4'\n",
    "DEPLOY_IMAGE='us-docker.pkg.dev/vertex-ai/prediction/tf2-cpu.2-7:latest'\n",
    "\n",
    "# Model Training\n",
    "VAR_TARGET = 'Class'\n",
    "VAR_OMIT = 'transaction_id' # add more variables to the string with space delimiters"
   ]
  },
  {
   "cell_type": "markdown",
   "id": "a0bee74b-cc63-421b-b200-1323c7660c58",
   "metadata": {},
   "source": [
    "packages:"
   ]
  },
  {
   "cell_type": "code",
   "execution_count": 131,
   "id": "7fc761a0-cd7e-4cf8-aebb-281aae0e8ce3",
   "metadata": {},
   "outputs": [],
   "source": [
    "from google.cloud import aiplatform\n",
    "from google.cloud import bigquery\n",
    "\n",
    "import tensorflow as tf\n",
    "\n",
    "from datetime import datetime\n",
    "from google.protobuf import json_format\n",
    "from google.protobuf.struct_pb2 import Value\n",
    "import json\n",
    "import numpy as np\n",
    "\n",
    "import asyncio\n",
    "import time\n",
    "import multiprocessing"
   ]
  },
  {
   "cell_type": "markdown",
   "id": "5e46fb44-b7aa-4b93-89b5-d43749f82440",
   "metadata": {},
   "source": [
    "clients:"
   ]
  },
  {
   "cell_type": "code",
   "execution_count": 132,
   "id": "0ac462e2-2294-4097-8639-c8c4f2920ec7",
   "metadata": {},
   "outputs": [],
   "source": [
    "aiplatform.init(project=PROJECT_ID, location=REGION)\n",
    "bq = bigquery.Client()"
   ]
  },
  {
   "cell_type": "markdown",
   "id": "7849d23b-2b68-40fa-b9cf-3b542cb70b82",
   "metadata": {},
   "source": [
    "parameters:"
   ]
  },
  {
   "cell_type": "code",
   "execution_count": 133,
   "id": "c244567c-b232-4fba-8fca-adb13e66db50",
   "metadata": {},
   "outputs": [],
   "source": [
    "BUCKET = PROJECT_ID\n",
    "DIR = f\"temp/{EXPERIMENT}\""
   ]
  },
  {
   "cell_type": "markdown",
   "id": "051d29e7-4048-4fa8-958b-24335c93a1c6",
   "metadata": {},
   "source": [
    "environment:"
   ]
  },
  {
   "cell_type": "code",
   "execution_count": 134,
   "id": "3dc2d64a-e63f-4b0d-b963-022a67b92f08",
   "metadata": {},
   "outputs": [],
   "source": [
    "!rm -rf {DIR}\n",
    "!mkdir -p {DIR}"
   ]
  },
  {
   "cell_type": "markdown",
   "id": "67a7d5f4-cdd2-4475-bf29-a47cd736de7a",
   "metadata": {},
   "source": [
    "---\n",
    "## Get Endpoint\n",
    "\n",
    "[Endpoint Properties and Methods](https://cloud.google.com/python/docs/reference/aiplatform/latest/google.cloud.aiplatform.Endpoint):\n",
    "\n",
    "```python\n",
    "endpoint\n",
    "endpoint.display_name\n",
    "endpoint.resource_name\n",
    "endpoint.traffic_split\n",
    "endpoint.list_models()\n",
    "```"
   ]
  },
  {
   "cell_type": "code",
   "execution_count": 135,
   "id": "67be4ca9-e393-4b62-b178-ce1b5df1a01f",
   "metadata": {},
   "outputs": [],
   "source": [
    "endpoints = aiplatform.Endpoint.list(filter = f\"labels.series={SERIES}\")\n",
    "endpoint = endpoints[0]"
   ]
  },
  {
   "cell_type": "markdown",
   "id": "eed300b1-7d58-4b0b-9a69-f32ba918d5ef",
   "metadata": {},
   "source": [
    "---\n",
    "## Retrieve Records For Prediction"
   ]
  },
  {
   "cell_type": "code",
   "execution_count": 136,
   "id": "387789b5-8916-4109-a604-e6f91eb1a57f",
   "metadata": {},
   "outputs": [],
   "source": [
    "n = 1000\n",
    "pred = bq.query(query = f\"SELECT * FROM {BQ_PROJECT}.{BQ_DATASET}.{BQ_TABLE} WHERE splits='TEST' LIMIT {n}\").to_dataframe()"
   ]
  },
  {
   "cell_type": "code",
   "execution_count": 137,
   "id": "deee9703-813c-45bd-a3e7-ffa2e9a3614e",
   "metadata": {},
   "outputs": [
    {
     "data": {
      "text/html": [
       "<div>\n",
       "<style scoped>\n",
       "    .dataframe tbody tr th:only-of-type {\n",
       "        vertical-align: middle;\n",
       "    }\n",
       "\n",
       "    .dataframe tbody tr th {\n",
       "        vertical-align: top;\n",
       "    }\n",
       "\n",
       "    .dataframe thead th {\n",
       "        text-align: right;\n",
       "    }\n",
       "</style>\n",
       "<table border=\"1\" class=\"dataframe\">\n",
       "  <thead>\n",
       "    <tr style=\"text-align: right;\">\n",
       "      <th></th>\n",
       "      <th>Time</th>\n",
       "      <th>V1</th>\n",
       "      <th>V2</th>\n",
       "      <th>V3</th>\n",
       "      <th>V4</th>\n",
       "      <th>V5</th>\n",
       "      <th>V6</th>\n",
       "      <th>V7</th>\n",
       "      <th>V8</th>\n",
       "      <th>V9</th>\n",
       "      <th>...</th>\n",
       "      <th>V23</th>\n",
       "      <th>V24</th>\n",
       "      <th>V25</th>\n",
       "      <th>V26</th>\n",
       "      <th>V27</th>\n",
       "      <th>V28</th>\n",
       "      <th>Amount</th>\n",
       "      <th>Class</th>\n",
       "      <th>transaction_id</th>\n",
       "      <th>splits</th>\n",
       "    </tr>\n",
       "  </thead>\n",
       "  <tbody>\n",
       "    <tr>\n",
       "      <th>0</th>\n",
       "      <td>35337</td>\n",
       "      <td>1.092844</td>\n",
       "      <td>-0.013230</td>\n",
       "      <td>1.359829</td>\n",
       "      <td>2.731537</td>\n",
       "      <td>-0.707357</td>\n",
       "      <td>0.873837</td>\n",
       "      <td>-0.796130</td>\n",
       "      <td>0.437707</td>\n",
       "      <td>0.396770</td>\n",
       "      <td>...</td>\n",
       "      <td>-0.167647</td>\n",
       "      <td>0.027557</td>\n",
       "      <td>0.592115</td>\n",
       "      <td>0.219695</td>\n",
       "      <td>0.036970</td>\n",
       "      <td>0.010984</td>\n",
       "      <td>0.0</td>\n",
       "      <td>0</td>\n",
       "      <td>a1b10547-d270-48c0-b902-7a0f735dadc7</td>\n",
       "      <td>TEST</td>\n",
       "    </tr>\n",
       "    <tr>\n",
       "      <th>1</th>\n",
       "      <td>60481</td>\n",
       "      <td>1.238973</td>\n",
       "      <td>0.035226</td>\n",
       "      <td>0.063003</td>\n",
       "      <td>0.641406</td>\n",
       "      <td>-0.260893</td>\n",
       "      <td>-0.580097</td>\n",
       "      <td>0.049938</td>\n",
       "      <td>-0.034733</td>\n",
       "      <td>0.405932</td>\n",
       "      <td>...</td>\n",
       "      <td>-0.057718</td>\n",
       "      <td>0.104983</td>\n",
       "      <td>0.537987</td>\n",
       "      <td>0.589563</td>\n",
       "      <td>-0.046207</td>\n",
       "      <td>-0.006212</td>\n",
       "      <td>0.0</td>\n",
       "      <td>0</td>\n",
       "      <td>814c62c8-ade4-47d5-bf83-313b0aafdee5</td>\n",
       "      <td>TEST</td>\n",
       "    </tr>\n",
       "    <tr>\n",
       "      <th>2</th>\n",
       "      <td>139587</td>\n",
       "      <td>1.870539</td>\n",
       "      <td>0.211079</td>\n",
       "      <td>0.224457</td>\n",
       "      <td>3.889486</td>\n",
       "      <td>-0.380177</td>\n",
       "      <td>0.249799</td>\n",
       "      <td>-0.577133</td>\n",
       "      <td>0.179189</td>\n",
       "      <td>-0.120462</td>\n",
       "      <td>...</td>\n",
       "      <td>0.180776</td>\n",
       "      <td>-0.060226</td>\n",
       "      <td>-0.228979</td>\n",
       "      <td>0.080827</td>\n",
       "      <td>0.009868</td>\n",
       "      <td>-0.036997</td>\n",
       "      <td>0.0</td>\n",
       "      <td>0</td>\n",
       "      <td>d08a1bfa-85c5-4f1b-9537-1c5a93e6afd0</td>\n",
       "      <td>TEST</td>\n",
       "    </tr>\n",
       "    <tr>\n",
       "      <th>3</th>\n",
       "      <td>162908</td>\n",
       "      <td>-3.368339</td>\n",
       "      <td>-1.980442</td>\n",
       "      <td>0.153645</td>\n",
       "      <td>-0.159795</td>\n",
       "      <td>3.847169</td>\n",
       "      <td>-3.516873</td>\n",
       "      <td>-1.209398</td>\n",
       "      <td>-0.292122</td>\n",
       "      <td>0.760543</td>\n",
       "      <td>...</td>\n",
       "      <td>-1.171627</td>\n",
       "      <td>0.214333</td>\n",
       "      <td>-0.159652</td>\n",
       "      <td>-0.060883</td>\n",
       "      <td>1.294977</td>\n",
       "      <td>0.120503</td>\n",
       "      <td>0.0</td>\n",
       "      <td>0</td>\n",
       "      <td>802f3307-8e5a-4475-b795-5d5d8d7d0120</td>\n",
       "      <td>TEST</td>\n",
       "    </tr>\n",
       "  </tbody>\n",
       "</table>\n",
       "<p>4 rows × 33 columns</p>\n",
       "</div>"
      ],
      "text/plain": [
       "     Time        V1        V2        V3        V4        V5        V6  \\\n",
       "0   35337  1.092844 -0.013230  1.359829  2.731537 -0.707357  0.873837   \n",
       "1   60481  1.238973  0.035226  0.063003  0.641406 -0.260893 -0.580097   \n",
       "2  139587  1.870539  0.211079  0.224457  3.889486 -0.380177  0.249799   \n",
       "3  162908 -3.368339 -1.980442  0.153645 -0.159795  3.847169 -3.516873   \n",
       "\n",
       "         V7        V8        V9  ...       V23       V24       V25       V26  \\\n",
       "0 -0.796130  0.437707  0.396770  ... -0.167647  0.027557  0.592115  0.219695   \n",
       "1  0.049938 -0.034733  0.405932  ... -0.057718  0.104983  0.537987  0.589563   \n",
       "2 -0.577133  0.179189 -0.120462  ...  0.180776 -0.060226 -0.228979  0.080827   \n",
       "3 -1.209398 -0.292122  0.760543  ... -1.171627  0.214333 -0.159652 -0.060883   \n",
       "\n",
       "        V27       V28  Amount  Class                        transaction_id  \\\n",
       "0  0.036970  0.010984     0.0      0  a1b10547-d270-48c0-b902-7a0f735dadc7   \n",
       "1 -0.046207 -0.006212     0.0      0  814c62c8-ade4-47d5-bf83-313b0aafdee5   \n",
       "2  0.009868 -0.036997     0.0      0  d08a1bfa-85c5-4f1b-9537-1c5a93e6afd0   \n",
       "3  1.294977  0.120503     0.0      0  802f3307-8e5a-4475-b795-5d5d8d7d0120   \n",
       "\n",
       "   splits  \n",
       "0    TEST  \n",
       "1    TEST  \n",
       "2    TEST  \n",
       "3    TEST  \n",
       "\n",
       "[4 rows x 33 columns]"
      ]
     },
     "execution_count": 137,
     "metadata": {},
     "output_type": "execute_result"
    }
   ],
   "source": [
    "pred.head(4)"
   ]
  },
  {
   "cell_type": "markdown",
   "id": "58d520d7-ef35-4683-a7df-c209ba384bcd",
   "metadata": {},
   "source": [
    "Remove columns not included as features in the model:"
   ]
  },
  {
   "cell_type": "code",
   "execution_count": 138,
   "id": "9932f548-2c04-4150-99e0-0da87e8f216c",
   "metadata": {},
   "outputs": [],
   "source": [
    "newobs = pred[pred.columns[~pred.columns.isin(VAR_OMIT.split()+[VAR_TARGET, 'splits'])]].to_dict(orient='records')\n",
    "#newobs[0]"
   ]
  },
  {
   "cell_type": "code",
   "execution_count": 139,
   "id": "74109e3f-fa98-4234-9496-4eb45dbabd90",
   "metadata": {},
   "outputs": [
    {
     "data": {
      "text/plain": [
       "1000"
      ]
     },
     "execution_count": 139,
     "metadata": {},
     "output_type": "execute_result"
    }
   ],
   "source": [
    "len(newobs)"
   ]
  },
  {
   "cell_type": "markdown",
   "id": "2a8fcefc-af1c-481c-b24f-9964c1d325c6",
   "metadata": {},
   "source": [
    "---\n",
    "## Online Predictions: Methods for Vertex AI Endpoints\n",
    "\n",
    "There are multiple ways to interact with a Vertex AI Endpoint from Python.  This notebook gives example of for Python (multiple version of the client, and layers), as well as REST and the `gcloud` CLI.  To better understand these client review the notes here: [aiplatform_notes.md](../Tips/aiplatform_notes.md).\n",
    "\n",
    "**Explanations**\n",
    "For each of the methods below, the `predict` part of the request can be exchanged for `explain` if the endpoint has a model deployed with explanations setup.  Note: This will not work for the raw prediction methods.  See more about setting up explainability in the explainability notebooks within this series.\n",
    "- [05Tools - Explainability - Example-Based.ipynb](./05Tools%20-%20Explainability%20-%20Example-Based.ipynb)\n",
    "- [05Tools - Explainability - Feature-Based.ipynb](./05Tools%20-%20Explainability%20-%20Feature-Based.ipynb)"
   ]
  },
  {
   "cell_type": "markdown",
   "id": "ccd2c951-ee33-406d-9456-fe2b50c8448d",
   "metadata": {},
   "source": [
    "### Get Prediction: Python Client"
   ]
  },
  {
   "cell_type": "code",
   "execution_count": 140,
   "id": "5c262927-7e67-4e3f-b04b-17deadaa1325",
   "metadata": {},
   "outputs": [],
   "source": [
    "instances = [json_format.ParseDict(newobs[0], Value())]"
   ]
  },
  {
   "cell_type": "code",
   "execution_count": 141,
   "id": "67f442be-c9e2-4582-90fe-e090fc02730e",
   "metadata": {},
   "outputs": [
    {
     "data": {
      "text/plain": [
       "Prediction(predictions=[[0.999359429, 0.000640570885]], deployed_model_id='6805735083375329280', model_version_id='1', model_resource_name='projects/1026793852137/locations/us-central1/models/model_05_05h', explanations=None)"
      ]
     },
     "execution_count": 141,
     "metadata": {},
     "output_type": "execute_result"
    }
   ],
   "source": [
    "prediction = endpoint.predict(instances=instances)\n",
    "prediction"
   ]
  },
  {
   "cell_type": "code",
   "execution_count": 142,
   "id": "a5839c46-2cf5-4b09-8e0b-8919e5767112",
   "metadata": {},
   "outputs": [
    {
     "data": {
      "text/plain": [
       "[0.999359429, 0.000640570885]"
      ]
     },
     "execution_count": 142,
     "metadata": {},
     "output_type": "execute_result"
    }
   ],
   "source": [
    "prediction.predictions[0]"
   ]
  },
  {
   "cell_type": "code",
   "execution_count": 143,
   "id": "e5629b86-bd25-4a2c-8dbd-2ab306b58592",
   "metadata": {},
   "outputs": [
    {
     "data": {
      "text/plain": [
       "0"
      ]
     },
     "execution_count": 143,
     "metadata": {},
     "output_type": "execute_result"
    }
   ],
   "source": [
    "np.argmax(prediction.predictions[0])"
   ]
  },
  {
   "cell_type": "markdown",
   "id": "38f38fe9-240b-4fdd-98d6-1174d73107ef",
   "metadata": {},
   "source": [
    "### Get Prediction: Python Client (gapic)"
   ]
  },
  {
   "cell_type": "code",
   "execution_count": 144,
   "id": "96ef7b63-6cd3-4d91-a0a0-9d0bcda00569",
   "metadata": {},
   "outputs": [],
   "source": [
    "client_options = {\"api_endpoint\": f\"{REGION}-aiplatform.googleapis.com\"}"
   ]
  },
  {
   "cell_type": "code",
   "execution_count": 145,
   "id": "4bd3bf2d-ead1-422f-8cac-d4ad2d9ad750",
   "metadata": {},
   "outputs": [],
   "source": [
    "predictor = aiplatform.gapic.PredictionServiceClient(client_options = client_options)"
   ]
  },
  {
   "cell_type": "code",
   "execution_count": 146,
   "id": "dea6874e-5889-494d-9f7a-3428c98ee44d",
   "metadata": {},
   "outputs": [],
   "source": [
    "instances = [json_format.ParseDict(newobs[0], Value())]"
   ]
  },
  {
   "cell_type": "code",
   "execution_count": 147,
   "id": "ed962334-5feb-4c64-ad78-193c9f829dbf",
   "metadata": {},
   "outputs": [
    {
     "data": {
      "text/plain": [
       "predictions {\n",
       "  list_value {\n",
       "    values {\n",
       "      number_value: 0.999359429\n",
       "    }\n",
       "    values {\n",
       "      number_value: 0.000640570885\n",
       "    }\n",
       "  }\n",
       "}\n",
       "deployed_model_id: \"6805735083375329280\"\n",
       "model: \"projects/1026793852137/locations/us-central1/models/model_05_05h\"\n",
       "model_display_name: \"05_05h\"\n",
       "model_version_id: \"1\""
      ]
     },
     "execution_count": 147,
     "metadata": {},
     "output_type": "execute_result"
    }
   ],
   "source": [
    "prediction = predictor.predict(\n",
    "    endpoint = endpoint.resource_name,\n",
    "    instances = instances\n",
    ")\n",
    "prediction"
   ]
  },
  {
   "cell_type": "code",
   "execution_count": 148,
   "id": "1ef72398-66e6-4ea6-83a6-d75361b6a49f",
   "metadata": {},
   "outputs": [
    {
     "data": {
      "text/plain": [
       "[0.999359429, 0.000640570885]"
      ]
     },
     "execution_count": 148,
     "metadata": {},
     "output_type": "execute_result"
    }
   ],
   "source": [
    "prediction.predictions[0]"
   ]
  },
  {
   "cell_type": "code",
   "execution_count": 149,
   "id": "9cf24ea4-65db-45e2-8b9f-822efd5085f4",
   "metadata": {},
   "outputs": [
    {
     "data": {
      "text/plain": [
       "0"
      ]
     },
     "execution_count": 149,
     "metadata": {},
     "output_type": "execute_result"
    }
   ],
   "source": [
    "np.argmax(prediction.predictions[0])"
   ]
  },
  {
   "cell_type": "markdown",
   "id": "2b976e59-6d8e-43ac-9856-89592be90115",
   "metadata": {},
   "source": [
    "#### Use gapic for Raw Predictions"
   ]
  },
  {
   "cell_type": "code",
   "execution_count": 150,
   "id": "73b38fda-8e82-4d9a-92ba-385edd0f27a3",
   "metadata": {},
   "outputs": [],
   "source": [
    "client_options = {\"api_endpoint\": f\"{REGION}-aiplatform.googleapis.com\"}"
   ]
  },
  {
   "cell_type": "code",
   "execution_count": 151,
   "id": "42b29c02-8cba-4b01-99e3-c61a0f6df7b1",
   "metadata": {},
   "outputs": [],
   "source": [
    "predictor = aiplatform.gapic.PredictionServiceClient(client_options = client_options)"
   ]
  },
  {
   "cell_type": "code",
   "execution_count": 152,
   "id": "b4d65d86-a1c8-4ccf-9836-024fa5ef6379",
   "metadata": {},
   "outputs": [],
   "source": [
    "from google.api import httpbody_pb2\n",
    "instances = {\"instances\": [newobs[0]], \"signature_name\": \"serving_default\"}\n",
    "http_body = httpbody_pb2.HttpBody(data = json.dumps(instances).encode(\"utf-8\"), content_type = \"application/json\")"
   ]
  },
  {
   "cell_type": "code",
   "execution_count": 153,
   "id": "5b028013-b53c-4c85-8130-6b23ddb75d5d",
   "metadata": {},
   "outputs": [
    {
     "data": {
      "text/plain": [
       "content_type: \"application/json\"\n",
       "data: \"{\\n    \\\"predictions\\\": [[0.999359429, 0.000640570885]\\n    ]\\n}\""
      ]
     },
     "execution_count": 153,
     "metadata": {},
     "output_type": "execute_result"
    }
   ],
   "source": [
    "prediction = predictor.raw_predict(\n",
    "    endpoint = endpoint.resource_name,\n",
    "    http_body = http_body\n",
    ")\n",
    "prediction"
   ]
  },
  {
   "cell_type": "code",
   "execution_count": 154,
   "id": "f90e0886-2ebb-4ece-b549-8db103295b6e",
   "metadata": {},
   "outputs": [
    {
     "data": {
      "text/plain": [
       "{'predictions': [[0.999359429, 0.000640570885]]}"
      ]
     },
     "execution_count": 154,
     "metadata": {},
     "output_type": "execute_result"
    }
   ],
   "source": [
    "prediction = json.loads(prediction.data)\n",
    "prediction"
   ]
  },
  {
   "cell_type": "code",
   "execution_count": 155,
   "id": "542d3958-a257-48fe-ba2e-28ad5c5d7e1a",
   "metadata": {},
   "outputs": [
    {
     "data": {
      "text/plain": [
       "[0.999359429, 0.000640570885]"
      ]
     },
     "execution_count": 155,
     "metadata": {},
     "output_type": "execute_result"
    }
   ],
   "source": [
    "prediction['predictions'][0]"
   ]
  },
  {
   "cell_type": "code",
   "execution_count": 156,
   "id": "fd0d332b-b0cf-4b4f-8fcb-d37ed644e616",
   "metadata": {},
   "outputs": [
    {
     "data": {
      "text/plain": [
       "0"
      ]
     },
     "execution_count": 156,
     "metadata": {},
     "output_type": "execute_result"
    }
   ],
   "source": [
    "np.argmax(prediction['predictions'][0])"
   ]
  },
  {
   "cell_type": "markdown",
   "id": "8b4fe4df-6573-4547-b126-8cf81e9aa0f3",
   "metadata": {},
   "source": [
    "### Get Prediction: Python Client V1"
   ]
  },
  {
   "cell_type": "code",
   "execution_count": 157,
   "id": "8fa591da-f01b-4246-97ea-c540aa7ff668",
   "metadata": {},
   "outputs": [],
   "source": [
    "from google.cloud import aiplatform_v1\n",
    "\n",
    "client_options = {\"api_endpoint\": f\"{REGION}-aiplatform.googleapis.com\"}\n",
    "\n",
    "v1_client = aiplatform_v1.PredictionServiceClient(client_options = client_options)"
   ]
  },
  {
   "cell_type": "code",
   "execution_count": 158,
   "id": "52013c60-7670-42cf-8db2-794408e969ea",
   "metadata": {},
   "outputs": [],
   "source": [
    "instances = [json_format.ParseDict(newobs[0], Value())]"
   ]
  },
  {
   "cell_type": "code",
   "execution_count": 159,
   "id": "a23f7fe5-66df-4c12-b857-b5e161be5411",
   "metadata": {},
   "outputs": [
    {
     "data": {
      "text/plain": [
       "predictions {\n",
       "  list_value {\n",
       "    values {\n",
       "      number_value: 0.999359429\n",
       "    }\n",
       "    values {\n",
       "      number_value: 0.000640570885\n",
       "    }\n",
       "  }\n",
       "}\n",
       "deployed_model_id: \"6805735083375329280\"\n",
       "model: \"projects/1026793852137/locations/us-central1/models/model_05_05h\"\n",
       "model_display_name: \"05_05h\"\n",
       "model_version_id: \"1\""
      ]
     },
     "execution_count": 159,
     "metadata": {},
     "output_type": "execute_result"
    }
   ],
   "source": [
    "prediction = v1_client.predict(\n",
    "    endpoint = endpoint.resource_name,\n",
    "    instances = instances\n",
    ")\n",
    "prediction"
   ]
  },
  {
   "cell_type": "code",
   "execution_count": 160,
   "id": "18852c90-3b5c-4397-bd2d-4e055b49175e",
   "metadata": {},
   "outputs": [
    {
     "data": {
      "text/plain": [
       "[0.999359429, 0.000640570885]"
      ]
     },
     "execution_count": 160,
     "metadata": {},
     "output_type": "execute_result"
    }
   ],
   "source": [
    "prediction.predictions[0]"
   ]
  },
  {
   "cell_type": "code",
   "execution_count": 161,
   "id": "26613451-9dff-4572-a690-faa70c008b1a",
   "metadata": {},
   "outputs": [
    {
     "data": {
      "text/plain": [
       "0"
      ]
     },
     "execution_count": 161,
     "metadata": {},
     "output_type": "execute_result"
    }
   ],
   "source": [
    "np.argmax(prediction.predictions[0])"
   ]
  },
  {
   "cell_type": "markdown",
   "id": "849b5745-7805-4afe-beb2-6a0239add053",
   "metadata": {},
   "source": [
    "#### Use Python Client V1 For Raw Predictions"
   ]
  },
  {
   "cell_type": "code",
   "execution_count": 162,
   "id": "1a666754-cfa3-47c4-87e0-2859f78c4880",
   "metadata": {},
   "outputs": [],
   "source": [
    "from google.cloud import aiplatform_v1\n",
    "\n",
    "client_options = {\"api_endpoint\": f\"{REGION}-aiplatform.googleapis.com\"}\n",
    "\n",
    "v1_client = aiplatform_v1.PredictionServiceClient(client_options = client_options)"
   ]
  },
  {
   "cell_type": "code",
   "execution_count": 163,
   "id": "b441ff51-76c4-4848-8e08-4dd3039bb2b0",
   "metadata": {},
   "outputs": [],
   "source": [
    "from google.api import httpbody_pb2\n",
    "instances = {\"instances\": [newobs[0]], \"signature_name\": \"serving_default\"}\n",
    "http_body = httpbody_pb2.HttpBody(data = json.dumps(instances).encode(\"utf-8\"), content_type = \"application/json\")"
   ]
  },
  {
   "cell_type": "code",
   "execution_count": 164,
   "id": "6d15ce70-d861-4198-b02c-0e5ddc463898",
   "metadata": {},
   "outputs": [
    {
     "data": {
      "text/plain": [
       "content_type: \"application/json\"\n",
       "data: \"{\\n    \\\"predictions\\\": [[0.999359429, 0.000640570885]\\n    ]\\n}\""
      ]
     },
     "execution_count": 164,
     "metadata": {},
     "output_type": "execute_result"
    }
   ],
   "source": [
    "prediction = v1_client.raw_predict(\n",
    "    endpoint = endpoint.resource_name,\n",
    "    http_body = http_body\n",
    ")\n",
    "prediction"
   ]
  },
  {
   "cell_type": "code",
   "execution_count": 165,
   "id": "17ef57b8-7591-41b9-b084-91d8f7e3ab57",
   "metadata": {},
   "outputs": [
    {
     "data": {
      "text/plain": [
       "{'predictions': [[0.999359429, 0.000640570885]]}"
      ]
     },
     "execution_count": 165,
     "metadata": {},
     "output_type": "execute_result"
    }
   ],
   "source": [
    "prediction = json.loads(prediction.data)\n",
    "prediction"
   ]
  },
  {
   "cell_type": "code",
   "execution_count": 166,
   "id": "c61ebc5d-9712-429d-85f9-e6e60fb12a15",
   "metadata": {},
   "outputs": [
    {
     "data": {
      "text/plain": [
       "[0.999359429, 0.000640570885]"
      ]
     },
     "execution_count": 166,
     "metadata": {},
     "output_type": "execute_result"
    }
   ],
   "source": [
    "prediction['predictions'][0]"
   ]
  },
  {
   "cell_type": "code",
   "execution_count": 167,
   "id": "367bd1de-792c-487f-8755-e4c4ad8812d4",
   "metadata": {},
   "outputs": [
    {
     "data": {
      "text/plain": [
       "0"
      ]
     },
     "execution_count": 167,
     "metadata": {},
     "output_type": "execute_result"
    }
   ],
   "source": [
    "np.argmax(prediction['predictions'][0])"
   ]
  },
  {
   "cell_type": "markdown",
   "id": "d3706c46-3353-40a6-a724-0fc8c1630a94",
   "metadata": {},
   "source": [
    "### Get Prediction: Python Client V1 beta 1"
   ]
  },
  {
   "cell_type": "code",
   "execution_count": 168,
   "id": "02de13ad-5e10-409b-b309-11812de40c5a",
   "metadata": {},
   "outputs": [],
   "source": [
    "from google.cloud import aiplatform_v1beta1\n",
    "\n",
    "client_options = {\"api_endpoint\": f\"{REGION}-aiplatform.googleapis.com\"}\n",
    "\n",
    "v1beta1_client = aiplatform_v1beta1.PredictionServiceClient(client_options = client_options)"
   ]
  },
  {
   "cell_type": "code",
   "execution_count": 169,
   "id": "89755c31-17ae-45e3-bf36-ea7b34cf982c",
   "metadata": {},
   "outputs": [],
   "source": [
    "instances = [json_format.ParseDict(newobs[0], Value())]"
   ]
  },
  {
   "cell_type": "code",
   "execution_count": 170,
   "id": "ebdfb0c0-34d9-4efb-80d1-ab4a711b54f1",
   "metadata": {},
   "outputs": [
    {
     "data": {
      "text/plain": [
       "predictions {\n",
       "  list_value {\n",
       "    values {\n",
       "      number_value: 0.999359429\n",
       "    }\n",
       "    values {\n",
       "      number_value: 0.000640570885\n",
       "    }\n",
       "  }\n",
       "}\n",
       "deployed_model_id: \"6805735083375329280\"\n",
       "model: \"projects/1026793852137/locations/us-central1/models/model_05_05h\"\n",
       "model_display_name: \"05_05h\"\n",
       "model_version_id: \"1\""
      ]
     },
     "execution_count": 170,
     "metadata": {},
     "output_type": "execute_result"
    }
   ],
   "source": [
    "prediction = v1beta1_client.predict(\n",
    "    endpoint = endpoint.resource_name,\n",
    "    instances = instances\n",
    ")\n",
    "prediction"
   ]
  },
  {
   "cell_type": "code",
   "execution_count": 171,
   "id": "37ae005c-6731-4da6-a423-4eb1621ee0f6",
   "metadata": {},
   "outputs": [
    {
     "data": {
      "text/plain": [
       "[0.999359429, 0.000640570885]"
      ]
     },
     "execution_count": 171,
     "metadata": {},
     "output_type": "execute_result"
    }
   ],
   "source": [
    "prediction.predictions[0]"
   ]
  },
  {
   "cell_type": "code",
   "execution_count": 172,
   "id": "93464635-858d-4b64-bb5e-46c319597b3b",
   "metadata": {},
   "outputs": [
    {
     "data": {
      "text/plain": [
       "0"
      ]
     },
     "execution_count": 172,
     "metadata": {},
     "output_type": "execute_result"
    }
   ],
   "source": [
    "np.argmax(prediction.predictions[0])"
   ]
  },
  {
   "cell_type": "markdown",
   "id": "33d6604f-09c9-4beb-8126-89038cf83b23",
   "metadata": {},
   "source": [
    "#### Use Python Client V1 beta 1 For Raw Predictions"
   ]
  },
  {
   "cell_type": "code",
   "execution_count": 173,
   "id": "b53f3fd1-7b17-45c5-acba-892edb817cbd",
   "metadata": {},
   "outputs": [],
   "source": [
    "from google.cloud import aiplatform_v1beta1\n",
    "\n",
    "client_options = {\"api_endpoint\": f\"{REGION}-aiplatform.googleapis.com\"}\n",
    "\n",
    "v1beta1_client = aiplatform_v1.PredictionServiceClient(client_options = client_options)"
   ]
  },
  {
   "cell_type": "code",
   "execution_count": 174,
   "id": "268173a4-57c0-41b7-bfe6-eebe293d241e",
   "metadata": {},
   "outputs": [],
   "source": [
    "from google.api import httpbody_pb2\n",
    "instances = {\"instances\": [newobs[0]], \"signature_name\": \"serving_default\"}\n",
    "http_body = httpbody_pb2.HttpBody(data = json.dumps(instances).encode(\"utf-8\"), content_type = \"application/json\")"
   ]
  },
  {
   "cell_type": "code",
   "execution_count": 175,
   "id": "126ed4fa-f02d-48a4-8bff-ade1c8846058",
   "metadata": {},
   "outputs": [
    {
     "data": {
      "text/plain": [
       "content_type: \"application/json\"\n",
       "data: \"{\\n    \\\"predictions\\\": [[0.999359429, 0.000640570885]\\n    ]\\n}\""
      ]
     },
     "execution_count": 175,
     "metadata": {},
     "output_type": "execute_result"
    }
   ],
   "source": [
    "prediction = v1beta1_client.raw_predict(\n",
    "    endpoint = endpoint.resource_name,\n",
    "    http_body = http_body\n",
    ")\n",
    "prediction"
   ]
  },
  {
   "cell_type": "code",
   "execution_count": 176,
   "id": "71c10141-b979-4621-8f14-ddcfbe842a71",
   "metadata": {},
   "outputs": [
    {
     "data": {
      "text/plain": [
       "{'predictions': [[0.999359429, 0.000640570885]]}"
      ]
     },
     "execution_count": 176,
     "metadata": {},
     "output_type": "execute_result"
    }
   ],
   "source": [
    "prediction = json.loads(prediction.data)\n",
    "prediction"
   ]
  },
  {
   "cell_type": "code",
   "execution_count": 177,
   "id": "0c50d560-86f9-4abc-bd85-540e6fccb7cf",
   "metadata": {},
   "outputs": [
    {
     "data": {
      "text/plain": [
       "[0.999359429, 0.000640570885]"
      ]
     },
     "execution_count": 177,
     "metadata": {},
     "output_type": "execute_result"
    }
   ],
   "source": [
    "prediction['predictions'][0]"
   ]
  },
  {
   "cell_type": "code",
   "execution_count": 178,
   "id": "e2c52a34-69cd-4259-9276-3a2205e0dc5d",
   "metadata": {},
   "outputs": [
    {
     "data": {
      "text/plain": [
       "0"
      ]
     },
     "execution_count": 178,
     "metadata": {},
     "output_type": "execute_result"
    }
   ],
   "source": [
    "np.argmax(prediction['predictions'][0])"
   ]
  },
  {
   "cell_type": "markdown",
   "id": "950e4592-d06a-4aa7-a27a-fd80966d132c",
   "metadata": {},
   "source": [
    "### Get Prediction: REST"
   ]
  },
  {
   "cell_type": "markdown",
   "id": "0f3659b4-84fe-484f-bb6d-1450f9e62a86",
   "metadata": {},
   "source": [
    "#### Method 1: Command Line CURL"
   ]
  },
  {
   "cell_type": "code",
   "execution_count": 179,
   "id": "8c504fcf-b6c1-4dfc-aa7c-d5a6ce9d118d",
   "metadata": {},
   "outputs": [],
   "source": [
    "with open(f'{DIR}/request.json','w') as file:\n",
    "    file.write(json.dumps({\"instances\": [newobs[0]]}))"
   ]
  },
  {
   "cell_type": "code",
   "execution_count": 180,
   "id": "67922a11-a326-4b86-9562-75796b4c4e2b",
   "metadata": {},
   "outputs": [
    {
     "data": {
      "text/plain": [
       "{'predictions': [[0.999359429, 0.000640570885]],\n",
       " 'deployedModelId': '6805735083375329280',\n",
       " 'model': 'projects/1026793852137/locations/us-central1/models/model_05_05h',\n",
       " 'modelDisplayName': '05_05h',\n",
       " 'modelVersionId': '1'}"
      ]
     },
     "execution_count": 180,
     "metadata": {},
     "output_type": "execute_result"
    }
   ],
   "source": [
    "prediction = !curl -s POST \\\n",
    "-H \"Authorization: Bearer \"$(gcloud auth application-default print-access-token) \\\n",
    "-H \"Content-Type: application/json; charset=utf-8\" \\\n",
    "-d @{DIR}/request.json \\\n",
    "https://{REGION}-aiplatform.googleapis.com/v1/{endpoint.resource_name}:predict\n",
    "\n",
    "prediction = json.loads(''.join([p.strip() for p in prediction]))\n",
    "prediction"
   ]
  },
  {
   "cell_type": "code",
   "execution_count": 181,
   "id": "726455d9-1672-45ee-9aa7-49906eb01d5c",
   "metadata": {},
   "outputs": [
    {
     "data": {
      "text/plain": [
       "[0.999359429, 0.000640570885]"
      ]
     },
     "execution_count": 181,
     "metadata": {},
     "output_type": "execute_result"
    }
   ],
   "source": [
    "prediction['predictions'][0]"
   ]
  },
  {
   "cell_type": "code",
   "execution_count": 182,
   "id": "a65b2950-ff0b-4b0e-bca1-8cd12de3ecb0",
   "metadata": {},
   "outputs": [
    {
     "data": {
      "text/plain": [
       "0"
      ]
     },
     "execution_count": 182,
     "metadata": {},
     "output_type": "execute_result"
    }
   ],
   "source": [
    "np.argmax(prediction['predictions'][0])"
   ]
  },
  {
   "cell_type": "markdown",
   "id": "cfb74502-a39e-4b7d-b910-427299927866",
   "metadata": {},
   "source": [
    "##### Use CURL for Raw Predictions"
   ]
  },
  {
   "cell_type": "code",
   "execution_count": 183,
   "id": "5bbe7c61-9657-4fc4-b57b-ff0ac76af581",
   "metadata": {},
   "outputs": [],
   "source": [
    "with open(f'{DIR}/request.json','w') as file:\n",
    "    file.write(json.dumps({\"signature_name\": \"serving_default\", \"instances\": [newobs[0]]}))"
   ]
  },
  {
   "cell_type": "code",
   "execution_count": 184,
   "id": "e89d87f3-38c3-4fb3-8b40-9bbd8be09c69",
   "metadata": {},
   "outputs": [
    {
     "data": {
      "text/plain": [
       "{'predictions': [[0.999359429, 0.000640570885]]}"
      ]
     },
     "execution_count": 184,
     "metadata": {},
     "output_type": "execute_result"
    }
   ],
   "source": [
    "prediction = !curl -s POST \\\n",
    "-H \"Authorization: Bearer \"$(gcloud auth application-default print-access-token) \\\n",
    "-H \"Content-Type: application/json; charset=utf-8\" \\\n",
    "-d @{DIR}/request.json \\\n",
    "https://{REGION}-aiplatform.googleapis.com/v1/{endpoint.resource_name}:rawPredict\n",
    "\n",
    "prediction = json.loads(''.join([p.strip() for p in prediction]))\n",
    "prediction"
   ]
  },
  {
   "cell_type": "code",
   "execution_count": 185,
   "id": "1038669f-bacb-412b-b8f5-2633a01ac3a6",
   "metadata": {},
   "outputs": [
    {
     "data": {
      "text/plain": [
       "[0.999359429, 0.000640570885]"
      ]
     },
     "execution_count": 185,
     "metadata": {},
     "output_type": "execute_result"
    }
   ],
   "source": [
    "prediction['predictions'][0]"
   ]
  },
  {
   "cell_type": "code",
   "execution_count": 186,
   "id": "6a9f11ec-b3bc-42e7-80fb-f2aab4fd800b",
   "metadata": {},
   "outputs": [
    {
     "data": {
      "text/plain": [
       "0"
      ]
     },
     "execution_count": 186,
     "metadata": {},
     "output_type": "execute_result"
    }
   ],
   "source": [
    "np.argmax(prediction['predictions'][0])"
   ]
  },
  {
   "cell_type": "markdown",
   "id": "2ec54706-7359-4d01-95e7-2d16ef6441c4",
   "metadata": {},
   "source": [
    "#### Method 2: Python with requests"
   ]
  },
  {
   "cell_type": "code",
   "execution_count": 187,
   "id": "cd78b16b-440c-4c0d-88d8-a7fa2b34a194",
   "metadata": {},
   "outputs": [],
   "source": [
    "import requests"
   ]
  },
  {
   "cell_type": "code",
   "execution_count": 188,
   "id": "cbed175e-289f-4eff-9b9e-33a5358a0488",
   "metadata": {},
   "outputs": [],
   "source": [
    "token = !gcloud auth application-default print-access-token\n",
    "headers = {\"content-type\": \"application/json; charset=utf-8\", \"Authorization\": f'Bearer {token[0]}'}\n",
    "json_response = requests.post(f'https://{REGION}-aiplatform.googleapis.com/v1/{endpoint.resource_name}:predict', data=json.dumps({\"instances\": [newobs[0]]}), headers=headers)"
   ]
  },
  {
   "cell_type": "code",
   "execution_count": 189,
   "id": "b2cab35d-780a-4f48-935c-1af4d6acffa6",
   "metadata": {},
   "outputs": [
    {
     "name": "stdout",
     "output_type": "stream",
     "text": [
      "{\n",
      "  \"predictions\": [\n",
      "    [\n",
      "      0.999359429,\n",
      "      0.000640570885\n",
      "    ]\n",
      "  ],\n",
      "  \"deployedModelId\": \"6805735083375329280\",\n",
      "  \"model\": \"projects/1026793852137/locations/us-central1/models/model_05_05h\",\n",
      "  \"modelDisplayName\": \"05_05h\",\n",
      "  \"modelVersionId\": \"1\"\n",
      "}\n",
      "\n"
     ]
    }
   ],
   "source": [
    "print(json_response.text)"
   ]
  },
  {
   "cell_type": "code",
   "execution_count": 190,
   "id": "e2397a15-be1d-42f3-aab2-9175353f0fae",
   "metadata": {},
   "outputs": [
    {
     "data": {
      "text/plain": [
       "[[0.999359429, 0.000640570885]]"
      ]
     },
     "execution_count": 190,
     "metadata": {},
     "output_type": "execute_result"
    }
   ],
   "source": [
    "predictions = json.loads(json_response.text)['predictions']\n",
    "predictions"
   ]
  },
  {
   "cell_type": "code",
   "execution_count": 191,
   "id": "91bbbf95-f866-4214-8fa3-4dfe6b464b37",
   "metadata": {},
   "outputs": [
    {
     "data": {
      "text/plain": [
       "0"
      ]
     },
     "execution_count": 191,
     "metadata": {},
     "output_type": "execute_result"
    }
   ],
   "source": [
    "np.argmax(predictions[0])"
   ]
  },
  {
   "cell_type": "markdown",
   "id": "dd082ca4-044f-412c-9a5b-a26fd072c60c",
   "metadata": {},
   "source": [
    "##### Use Requests for Raw Predictions"
   ]
  },
  {
   "cell_type": "code",
   "execution_count": 192,
   "id": "a662e856-5817-48cb-be93-81c54c93af0c",
   "metadata": {},
   "outputs": [],
   "source": [
    "import requests"
   ]
  },
  {
   "cell_type": "code",
   "execution_count": 193,
   "id": "fd4db00b-f21b-4c3c-aed2-07aea0cb6c87",
   "metadata": {},
   "outputs": [],
   "source": [
    "token = !gcloud auth application-default print-access-token\n",
    "headers = {\"content-type\": \"application/json; charset=utf-8\", \"Authorization\": f'Bearer {token[0]}'}\n",
    "json_response = requests.post(f'https://{REGION}-aiplatform.googleapis.com/v1/{endpoint.resource_name}:rawPredict', data=json.dumps({\"signature_name\": \"serving_default\", \"instances\": [newobs[0]]}), headers=headers)"
   ]
  },
  {
   "cell_type": "code",
   "execution_count": 194,
   "id": "29d9be25-c171-4d8b-b3ae-0a9aecb6c749",
   "metadata": {},
   "outputs": [
    {
     "name": "stdout",
     "output_type": "stream",
     "text": [
      "{\n",
      "    \"predictions\": [[0.999359429, 0.000640570885]\n",
      "    ]\n",
      "}\n"
     ]
    }
   ],
   "source": [
    "print(json_response.text)"
   ]
  },
  {
   "cell_type": "code",
   "execution_count": 195,
   "id": "30cef2f2-dabe-4111-9e2d-3c083693867c",
   "metadata": {},
   "outputs": [
    {
     "data": {
      "text/plain": [
       "[[0.999359429, 0.000640570885]]"
      ]
     },
     "execution_count": 195,
     "metadata": {},
     "output_type": "execute_result"
    }
   ],
   "source": [
    "predictions = json.loads(json_response.text)['predictions']\n",
    "predictions"
   ]
  },
  {
   "cell_type": "code",
   "execution_count": 196,
   "id": "a9407871-69bd-4190-b8d5-12c2aa43989a",
   "metadata": {},
   "outputs": [
    {
     "data": {
      "text/plain": [
       "0"
      ]
     },
     "execution_count": 196,
     "metadata": {},
     "output_type": "execute_result"
    }
   ],
   "source": [
    "np.argmax(predictions[0])"
   ]
  },
  {
   "cell_type": "markdown",
   "id": "1dbe3e05-ea69-41b5-8cb9-955b15b882f9",
   "metadata": {},
   "source": [
    "### Get Prediction: gcloud (CLI)"
   ]
  },
  {
   "cell_type": "code",
   "execution_count": 197,
   "id": "7d2d2be2-4bd6-4566-95f1-acdcbd9926ee",
   "metadata": {},
   "outputs": [],
   "source": [
    "with open(f'{DIR}/request.json','w') as file:\n",
    "    file.write(json.dumps({\"instances\": [newobs[0]]}))"
   ]
  },
  {
   "cell_type": "code",
   "execution_count": 198,
   "id": "37657040-0521-4235-884a-f191d576655c",
   "metadata": {},
   "outputs": [
    {
     "data": {
      "text/plain": [
       "['Using endpoint [https://us-central1-prediction-aiplatform.googleapis.com/]',\n",
       " '[[0.999359429, 0.000640570885]]']"
      ]
     },
     "execution_count": 198,
     "metadata": {},
     "output_type": "execute_result"
    }
   ],
   "source": [
    "prediction = !gcloud ai endpoints predict {endpoint.name.rsplit('/',1)[-1]} --region={REGION} --json-request={DIR}/request.json\n",
    "prediction"
   ]
  },
  {
   "cell_type": "code",
   "execution_count": 199,
   "id": "71025142-a958-4f32-92df-602d8b8de09b",
   "metadata": {},
   "outputs": [
    {
     "data": {
      "text/plain": [
       "[0.999359429, 0.000640570885]"
      ]
     },
     "execution_count": 199,
     "metadata": {},
     "output_type": "execute_result"
    }
   ],
   "source": [
    "import ast\n",
    "prediction = ast.literal_eval(prediction[1])\n",
    "prediction[0]"
   ]
  },
  {
   "cell_type": "code",
   "execution_count": 200,
   "id": "6ed6f508-ed1a-4426-93e7-76cab1da5a71",
   "metadata": {},
   "outputs": [
    {
     "data": {
      "text/plain": [
       "0"
      ]
     },
     "execution_count": 200,
     "metadata": {},
     "output_type": "execute_result"
    }
   ],
   "source": [
    "np.argmax(prediction[0])"
   ]
  },
  {
   "cell_type": "markdown",
   "id": "d476d19f-42a0-4372-a246-ea8674d56fea",
   "metadata": {},
   "source": [
    "#### Use gcloud (CLI) For Raw Predictions"
   ]
  },
  {
   "cell_type": "code",
   "execution_count": 201,
   "id": "e3ec22fd-410e-4077-9669-c11063b61256",
   "metadata": {},
   "outputs": [],
   "source": [
    "with open(f'{DIR}/request.json','w') as file:\n",
    "    file.write(json.dumps({\"signature_name\": \"serving_default\", \"instances\": [newobs[0]]}))"
   ]
  },
  {
   "cell_type": "code",
   "execution_count": 202,
   "id": "f776e1c6-1d06-4c3a-9824-43e3c082911a",
   "metadata": {},
   "outputs": [
    {
     "data": {
      "text/plain": [
       "['Using endpoint [https://us-central1-aiplatform.googleapis.com/]',\n",
       " '{',\n",
       " '  \"predictions\": [',\n",
       " '    [',\n",
       " '      0.999359429,',\n",
       " '      0.000640570885',\n",
       " '    ]',\n",
       " '  ]',\n",
       " '}']"
      ]
     },
     "execution_count": 202,
     "metadata": {},
     "output_type": "execute_result"
    }
   ],
   "source": [
    "prediction = !gcloud ai endpoints raw-predict {endpoint.name.rsplit('/',1)[-1]} --region={REGION} --format=\"json\" --request=@{DIR}/request.json\n",
    "prediction"
   ]
  },
  {
   "cell_type": "code",
   "execution_count": 203,
   "id": "7c0ed887-fc96-42e6-b60d-9b73811852a6",
   "metadata": {},
   "outputs": [
    {
     "data": {
      "text/plain": [
       "{'predictions': [[0.999359429, 0.000640570885]]}"
      ]
     },
     "execution_count": 203,
     "metadata": {},
     "output_type": "execute_result"
    }
   ],
   "source": [
    "prediction = json.loads(\"\".join(prediction[1:]))\n",
    "prediction"
   ]
  },
  {
   "cell_type": "code",
   "execution_count": 204,
   "id": "8fe85820-22c6-48e4-ad28-d5e62589ad19",
   "metadata": {},
   "outputs": [
    {
     "data": {
      "text/plain": [
       "[0.999359429, 0.000640570885]"
      ]
     },
     "execution_count": 204,
     "metadata": {},
     "output_type": "execute_result"
    }
   ],
   "source": [
    "prediction['predictions'][0]"
   ]
  },
  {
   "cell_type": "code",
   "execution_count": 205,
   "id": "26db4db0-2a66-459c-8418-b895c025650f",
   "metadata": {},
   "outputs": [
    {
     "data": {
      "text/plain": [
       "0"
      ]
     },
     "execution_count": 205,
     "metadata": {},
     "output_type": "execute_result"
    }
   ],
   "source": [
    "np.argmax(prediction['predictions'][0])"
   ]
  },
  {
   "cell_type": "markdown",
   "id": "bc243002-2c9b-4da3-b402-44478a15a753",
   "metadata": {},
   "source": [
    "---\n",
    "## Requesting Many Predictions: Synchronous and Asynchronus\n",
    "\n",
    "There are times where you want to make many request of an endpoint for predictions.  If you send request one at a time, synchronous, then the endpoint will fullfill each request as it receives it.  An endpoint is designed to handle simoultaneous requests, asynchronous.  If you set the max_replicas > 1 during the endpoint setup then it will also scale up to handle the amount of traffic.  \n",
    "\n",
    "Using Python to make concurrent request is an example of multiprocessing.  A review of the tip notebook [Python Multiprocessing](../Tips/Python%20Multiprocessing.ipynb) can be helpful for understanding the method used below to make asynchronous requests concurrently using `asyncio`."
   ]
  },
  {
   "cell_type": "markdown",
   "id": "5472125c-7255-415b-8ad4-16695fd68f4c",
   "metadata": {},
   "source": [
    "---\n",
    "### Online Predictions: Synchronous Examples\n",
    "Synchronous calls to the Vertex AI Endpoint with different batch size of instances.  This is packaging multiple prediction request up in a single call of the endpoint - size is batch_size."
   ]
  },
  {
   "cell_type": "code",
   "execution_count": 102,
   "id": "f789397a-a44a-408c-a37f-7f15adaa161b",
   "metadata": {},
   "outputs": [],
   "source": [
    "def syncPredictions(batch_size = 1):\n",
    "    predictions = []\n",
    "    start = time.perf_counter()\n",
    "    # a loop where each step request predictions for batch_size number of instances - in a single request\n",
    "    for p in range(0, len(newobs), batch_size):\n",
    "        instances = [json_format.ParseDict(example, Value()) for example in newobs[p:p+batch_size]]\n",
    "        preds = endpoint.predict(instances = instances)\n",
    "        predictions.extend(np.argmax(pred) for pred in preds.predictions)\n",
    "    elapsed = time.perf_counter() - start\n",
    "    print(f'{elapsed:0.5f} seconds')\n",
    "    return predictions"
   ]
  },
  {
   "cell_type": "code",
   "execution_count": 103,
   "id": "0faacadf-cff2-4bba-a046-5bdc97e1250a",
   "metadata": {},
   "outputs": [
    {
     "name": "stdout",
     "output_type": "stream",
     "text": [
      "14.42168 seconds\n"
     ]
    }
   ],
   "source": [
    "# default batch_size = 1\n",
    "predictions = syncPredictions()"
   ]
  },
  {
   "cell_type": "code",
   "execution_count": 104,
   "id": "4a2c3335-c1de-4b17-b59e-a521a3c1b1e5",
   "metadata": {},
   "outputs": [
    {
     "name": "stdout",
     "output_type": "stream",
     "text": [
      "16.45706 seconds\n"
     ]
    }
   ],
   "source": [
    "# specify batch_size = 1 - identical to default here\n",
    "predictions = syncPredictions(1)"
   ]
  },
  {
   "cell_type": "code",
   "execution_count": 105,
   "id": "42f938bd-81f1-4b57-8ab0-4c87db661af1",
   "metadata": {},
   "outputs": [
    {
     "name": "stdout",
     "output_type": "stream",
     "text": [
      "19.25611 seconds\n"
     ]
    }
   ],
   "source": [
    "# specify batch_size = 1 - identical to default here\n",
    "predictions = syncPredictions(batch_size = 1)"
   ]
  },
  {
   "cell_type": "code",
   "execution_count": 106,
   "id": "f90f8190-cd4b-4246-993d-2fc030415bdc",
   "metadata": {},
   "outputs": [
    {
     "name": "stdout",
     "output_type": "stream",
     "text": [
      "10.31313 seconds\n"
     ]
    }
   ],
   "source": [
    "# specify batch_size = 2 - expecting half the time if the endpoint can handle multiple at the same time\n",
    "predictions = syncPredictions(batch_size = 2)"
   ]
  },
  {
   "cell_type": "code",
   "execution_count": 107,
   "id": "18dfda1f-5c9c-4d7e-aca2-4692656afa13",
   "metadata": {},
   "outputs": [
    {
     "name": "stdout",
     "output_type": "stream",
     "text": [
      "2.25430 seconds\n"
     ]
    }
   ],
   "source": [
    "# specify batch_size = 10 - expecting 1/10 the time if the endpoint can handle this many at the same time\n",
    "predictions = syncPredictions(batch_size = 10)"
   ]
  },
  {
   "cell_type": "code",
   "execution_count": 108,
   "id": "0b80748a-cf26-4b76-a200-8247a691275a",
   "metadata": {},
   "outputs": [
    {
     "data": {
      "text/plain": [
       "Counter({0: 998, 1: 2})"
      ]
     },
     "execution_count": 108,
     "metadata": {},
     "output_type": "execute_result"
    }
   ],
   "source": [
    "# get a count of the number of predictions that resulted in 0 (not fraud) and 1 (fraud)\n",
    "from collections import Counter\n",
    "c = Counter(predictions)\n",
    "c"
   ]
  },
  {
   "cell_type": "code",
   "execution_count": 109,
   "id": "ef8bc8bf-67cf-47d1-82ba-de6eb0e027aa",
   "metadata": {},
   "outputs": [
    {
     "data": {
      "text/plain": [
       "[53, 576]"
      ]
     },
     "execution_count": 109,
     "metadata": {},
     "output_type": "execute_result"
    }
   ],
   "source": [
    "# get the index for the predictions that resulted in predicting = 1 (fraud)\n",
    "[i for i, j in enumerate(predictions) if j == 1]"
   ]
  },
  {
   "cell_type": "code",
   "execution_count": 110,
   "id": "84207f7d-22cf-49ec-bf8c-36da3a3416e7",
   "metadata": {},
   "outputs": [
    {
     "data": {
      "text/html": [
       "<div>\n",
       "<style scoped>\n",
       "    .dataframe tbody tr th:only-of-type {\n",
       "        vertical-align: middle;\n",
       "    }\n",
       "\n",
       "    .dataframe tbody tr th {\n",
       "        vertical-align: top;\n",
       "    }\n",
       "\n",
       "    .dataframe thead th {\n",
       "        text-align: right;\n",
       "    }\n",
       "</style>\n",
       "<table border=\"1\" class=\"dataframe\">\n",
       "  <thead>\n",
       "    <tr style=\"text-align: right;\">\n",
       "      <th></th>\n",
       "      <th>Time</th>\n",
       "      <th>V1</th>\n",
       "      <th>V2</th>\n",
       "      <th>V3</th>\n",
       "      <th>V4</th>\n",
       "      <th>V5</th>\n",
       "      <th>V6</th>\n",
       "      <th>V7</th>\n",
       "      <th>V8</th>\n",
       "      <th>V9</th>\n",
       "      <th>...</th>\n",
       "      <th>V23</th>\n",
       "      <th>V24</th>\n",
       "      <th>V25</th>\n",
       "      <th>V26</th>\n",
       "      <th>V27</th>\n",
       "      <th>V28</th>\n",
       "      <th>Amount</th>\n",
       "      <th>Class</th>\n",
       "      <th>transaction_id</th>\n",
       "      <th>splits</th>\n",
       "    </tr>\n",
       "  </thead>\n",
       "  <tbody>\n",
       "    <tr>\n",
       "      <th>53</th>\n",
       "      <td>85285</td>\n",
       "      <td>-7.030308</td>\n",
       "      <td>3.421991</td>\n",
       "      <td>-9.525072</td>\n",
       "      <td>5.270891</td>\n",
       "      <td>-4.024630</td>\n",
       "      <td>-2.865682</td>\n",
       "      <td>-6.989195</td>\n",
       "      <td>3.791551</td>\n",
       "      <td>-4.622730</td>\n",
       "      <td>...</td>\n",
       "      <td>0.036943</td>\n",
       "      <td>-0.355519</td>\n",
       "      <td>0.353634</td>\n",
       "      <td>1.042458</td>\n",
       "      <td>1.359516</td>\n",
       "      <td>-0.272188</td>\n",
       "      <td>0.0</td>\n",
       "      <td>1</td>\n",
       "      <td>0a3b566f-e662-4cd0-b702-99299890cb0f</td>\n",
       "      <td>TEST</td>\n",
       "    </tr>\n",
       "    <tr>\n",
       "      <th>576</th>\n",
       "      <td>56887</td>\n",
       "      <td>-0.075483</td>\n",
       "      <td>1.812355</td>\n",
       "      <td>-2.566981</td>\n",
       "      <td>4.127549</td>\n",
       "      <td>-1.628532</td>\n",
       "      <td>-0.805895</td>\n",
       "      <td>-3.390135</td>\n",
       "      <td>1.019353</td>\n",
       "      <td>-2.451251</td>\n",
       "      <td>...</td>\n",
       "      <td>-0.143624</td>\n",
       "      <td>0.013566</td>\n",
       "      <td>0.634203</td>\n",
       "      <td>0.213693</td>\n",
       "      <td>0.773625</td>\n",
       "      <td>0.387434</td>\n",
       "      <td>5.0</td>\n",
       "      <td>1</td>\n",
       "      <td>e17f6ee4-8dd8-4a38-9f51-e1bbf1e1aa2a</td>\n",
       "      <td>TEST</td>\n",
       "    </tr>\n",
       "  </tbody>\n",
       "</table>\n",
       "<p>2 rows × 33 columns</p>\n",
       "</div>"
      ],
      "text/plain": [
       "      Time        V1        V2        V3        V4        V5        V6  \\\n",
       "53   85285 -7.030308  3.421991 -9.525072  5.270891 -4.024630 -2.865682   \n",
       "576  56887 -0.075483  1.812355 -2.566981  4.127549 -1.628532 -0.805895   \n",
       "\n",
       "           V7        V8        V9  ...       V23       V24       V25  \\\n",
       "53  -6.989195  3.791551 -4.622730  ...  0.036943 -0.355519  0.353634   \n",
       "576 -3.390135  1.019353 -2.451251  ... -0.143624  0.013566  0.634203   \n",
       "\n",
       "          V26       V27       V28  Amount  Class  \\\n",
       "53   1.042458  1.359516 -0.272188     0.0      1   \n",
       "576  0.213693  0.773625  0.387434     5.0      1   \n",
       "\n",
       "                           transaction_id  splits  \n",
       "53   0a3b566f-e662-4cd0-b702-99299890cb0f    TEST  \n",
       "576  e17f6ee4-8dd8-4a38-9f51-e1bbf1e1aa2a    TEST  \n",
       "\n",
       "[2 rows x 33 columns]"
      ]
     },
     "execution_count": 110,
     "metadata": {},
     "output_type": "execute_result"
    }
   ],
   "source": [
    "# review the inputs that lead to a prediction = 1 (fraud)\n",
    "pred.iloc[[i for i, j in enumerate(predictions) if j == 1]]"
   ]
  },
  {
   "cell_type": "markdown",
   "id": "fc999db6-ee50-4990-81fb-351c2659715e",
   "metadata": {},
   "source": [
    "---\n",
    "### Online Predictions: Asynchronous Examples\n",
    "Use asyncio for concurrent requests of different batch sizes.  Like the synchronous example above, this makes request with batch_size number of prediction instances.  This approach also manages multiple request concurrently to further increase parallelism."
   ]
  },
  {
   "cell_type": "code",
   "execution_count": 111,
   "id": "aa33157b-88af-4136-90e2-73f0ab38f54a",
   "metadata": {},
   "outputs": [],
   "source": [
    "# get the Async Client for the endpoint:\n",
    "from google.cloud import aiplatform_v1\n",
    "\n",
    "client_options = {\"api_endpoint\": f\"{REGION}-aiplatform.googleapis.com\"}\n",
    "parent = f\"projects/{PROJECT_ID}/locations/{REGION}\"\n",
    "\n",
    "client = aiplatform_v1.PredictionServiceAsyncClient(client_options = client_options)"
   ]
  },
  {
   "cell_type": "code",
   "execution_count": 112,
   "id": "9743851a-851a-4bec-aee9-8462705e20af",
   "metadata": {},
   "outputs": [
    {
     "data": {
      "text/plain": [
       "'projects/1026793852137/locations/us-central1/endpoints/1961322035766362112'"
      ]
     },
     "execution_count": 112,
     "metadata": {},
     "output_type": "execute_result"
    }
   ],
   "source": [
    "endpoint.resource_name"
   ]
  },
  {
   "cell_type": "markdown",
   "id": "8e0dafc1-1a4c-4841-af5b-5afb0434862c",
   "metadata": {},
   "source": [
    "#### Test a single instance"
   ]
  },
  {
   "cell_type": "code",
   "execution_count": 115,
   "id": "6ba2772c-95b4-4a7d-8604-0e77cd1a729e",
   "metadata": {},
   "outputs": [],
   "source": [
    "instance = [json_format.ParseDict(newobs[0], Value())]"
   ]
  },
  {
   "cell_type": "code",
   "execution_count": 116,
   "id": "9b79ec03-6373-49cd-b159-7765e993f836",
   "metadata": {},
   "outputs": [
    {
     "data": {
      "text/plain": [
       "predictions {\n",
       "  list_value {\n",
       "    values {\n",
       "      number_value: 0.999359429\n",
       "    }\n",
       "    values {\n",
       "      number_value: 0.000640570885\n",
       "    }\n",
       "  }\n",
       "}\n",
       "deployed_model_id: \"6805735083375329280\"\n",
       "model: \"projects/1026793852137/locations/us-central1/models/model_05_05h\"\n",
       "model_display_name: \"05_05h\"\n",
       "model_version_id: \"1\""
      ]
     },
     "execution_count": 116,
     "metadata": {},
     "output_type": "execute_result"
    }
   ],
   "source": [
    "await client.predict(endpoint = endpoint.resource_name, instances = instances)"
   ]
  },
  {
   "cell_type": "markdown",
   "id": "722f92e0-ef5a-4d14-b726-b3c1ad3086cf",
   "metadata": {},
   "source": [
    "#### Try all the instances in combinations of batch_size and concur_requests"
   ]
  },
  {
   "cell_type": "code",
   "execution_count": 117,
   "id": "fc30113c-a399-43b3-a4f3-df525d007dca",
   "metadata": {},
   "outputs": [],
   "source": [
    "async def asyncPredictions(batch_size = 1, concur_requests = 100):\n",
    "    limit = asyncio.Semaphore(concur_requests)\n",
    "\n",
    "    predictions = [None] * len(newobs)\n",
    "\n",
    "    async def predictor(p, newob):\n",
    "        instances = [json_format.ParseDict(example, Value()) for example in newob]\n",
    "        async with limit:\n",
    "            prediction = await client.predict(endpoint = endpoint.resource_name, instances = instances)\n",
    "            if limit.locked():\n",
    "                await asyncio.sleep(.01)\n",
    "\n",
    "        predictions[p:p+batch_size] = [np.argmax(pred) for pred in prediction.predictions]\n",
    "\n",
    "    async def runner(newobs):\n",
    "        tasks = []\n",
    "        for p in range(0, len(newobs), batch_size):\n",
    "            task = asyncio.create_task(predictor(p, newobs[p:p+batch_size]))\n",
    "            tasks.append(task)\n",
    "\n",
    "        results = await asyncio.gather(*tasks)\n",
    "\n",
    "    start = time.perf_counter()\n",
    "    await runner(newobs)\n",
    "    elapsed = time.perf_counter() - start\n",
    "    print(f'{elapsed:0.5f} seconds')\n",
    "    \n",
    "    return predictions"
   ]
  },
  {
   "cell_type": "code",
   "execution_count": 119,
   "id": "04b94ff4-fd0d-4095-bd88-ac436c94212c",
   "metadata": {},
   "outputs": [
    {
     "name": "stdout",
     "output_type": "stream",
     "text": [
      "0.97373 seconds\n"
     ]
    }
   ],
   "source": [
    "# try all the instances in separate request (batch_size = 1)\n",
    "# may need to run a second time - the initial ramp can throw an error\n",
    "predictions = await asyncPredictions()"
   ]
  },
  {
   "cell_type": "code",
   "execution_count": 120,
   "id": "1010bde2-c5a4-4b15-83f6-27f1e244e40d",
   "metadata": {},
   "outputs": [
    {
     "name": "stdout",
     "output_type": "stream",
     "text": [
      "0.97975 seconds\n"
     ]
    }
   ],
   "source": [
    "# manage 100 concurrent request max where each has a single instance (batch_size = 1)\n",
    "predictions = await asyncPredictions(1, 100)"
   ]
  },
  {
   "cell_type": "code",
   "execution_count": 121,
   "id": "7369488a-9daf-4f25-b66d-e1925c33f093",
   "metadata": {},
   "outputs": [
    {
     "name": "stdout",
     "output_type": "stream",
     "text": [
      "0.97210 seconds\n"
     ]
    }
   ],
   "source": [
    "# manage 100 concurrent request max where each has a single instance (batch_size = 1)\n",
    "predictions = await asyncPredictions(batch_size = 1, concur_requests = 100)"
   ]
  },
  {
   "cell_type": "code",
   "execution_count": 122,
   "id": "002f0ca5-b7e7-4e9a-ba38-d70309d57653",
   "metadata": {},
   "outputs": [
    {
     "name": "stdout",
     "output_type": "stream",
     "text": [
      "0.63126 seconds\n"
     ]
    }
   ],
   "source": [
    "# manage 100 concurrent request max where each has a 2 instances (batch_size = 2)\n",
    "predictions = await asyncPredictions(batch_size = 2, concur_requests = 100)"
   ]
  },
  {
   "cell_type": "code",
   "execution_count": 123,
   "id": "b2bf6bc2-23e7-45ec-b172-e7e3b9e37644",
   "metadata": {},
   "outputs": [
    {
     "name": "stdout",
     "output_type": "stream",
     "text": [
      "0.28745 seconds\n"
     ]
    }
   ],
   "source": [
    "# manage 100 concurrent request max where each has a 10 instances (batch_size = 10)\n",
    "predictions = await asyncPredictions(batch_size = 10, concur_requests = 100)"
   ]
  },
  {
   "cell_type": "code",
   "execution_count": 124,
   "id": "a2fa24db-9697-44c5-b815-328923154327",
   "metadata": {},
   "outputs": [
    {
     "data": {
      "text/plain": [
       "1000"
      ]
     },
     "execution_count": 124,
     "metadata": {},
     "output_type": "execute_result"
    }
   ],
   "source": [
    "len(predictions)"
   ]
  },
  {
   "cell_type": "code",
   "execution_count": 126,
   "id": "9d2a9a26-ec62-4186-881c-dfc6cf06f968",
   "metadata": {},
   "outputs": [
    {
     "data": {
      "text/plain": [
       "Counter({0: 998, 1: 2})"
      ]
     },
     "execution_count": 126,
     "metadata": {},
     "output_type": "execute_result"
    }
   ],
   "source": [
    "# get a count of the number of predictions that resulted in 0 (not fraud) and 1 (fraud)\n",
    "from collections import Counter\n",
    "c = Counter(predictions)\n",
    "c"
   ]
  },
  {
   "cell_type": "code",
   "execution_count": 127,
   "id": "ad4f5b68-df87-4102-babe-4134022a33db",
   "metadata": {},
   "outputs": [
    {
     "data": {
      "text/plain": [
       "[53, 576]"
      ]
     },
     "execution_count": 127,
     "metadata": {},
     "output_type": "execute_result"
    }
   ],
   "source": [
    "# get the index for the predictions that resulted in predicting = 1 (fraud)\n",
    "[i for i, j in enumerate(predictions) if j == 1]"
   ]
  },
  {
   "cell_type": "code",
   "execution_count": 128,
   "id": "7228a8a1-97c2-4739-861b-00cf252ce038",
   "metadata": {},
   "outputs": [
    {
     "data": {
      "text/html": [
       "<div>\n",
       "<style scoped>\n",
       "    .dataframe tbody tr th:only-of-type {\n",
       "        vertical-align: middle;\n",
       "    }\n",
       "\n",
       "    .dataframe tbody tr th {\n",
       "        vertical-align: top;\n",
       "    }\n",
       "\n",
       "    .dataframe thead th {\n",
       "        text-align: right;\n",
       "    }\n",
       "</style>\n",
       "<table border=\"1\" class=\"dataframe\">\n",
       "  <thead>\n",
       "    <tr style=\"text-align: right;\">\n",
       "      <th></th>\n",
       "      <th>Time</th>\n",
       "      <th>V1</th>\n",
       "      <th>V2</th>\n",
       "      <th>V3</th>\n",
       "      <th>V4</th>\n",
       "      <th>V5</th>\n",
       "      <th>V6</th>\n",
       "      <th>V7</th>\n",
       "      <th>V8</th>\n",
       "      <th>V9</th>\n",
       "      <th>...</th>\n",
       "      <th>V23</th>\n",
       "      <th>V24</th>\n",
       "      <th>V25</th>\n",
       "      <th>V26</th>\n",
       "      <th>V27</th>\n",
       "      <th>V28</th>\n",
       "      <th>Amount</th>\n",
       "      <th>Class</th>\n",
       "      <th>transaction_id</th>\n",
       "      <th>splits</th>\n",
       "    </tr>\n",
       "  </thead>\n",
       "  <tbody>\n",
       "    <tr>\n",
       "      <th>53</th>\n",
       "      <td>85285</td>\n",
       "      <td>-7.030308</td>\n",
       "      <td>3.421991</td>\n",
       "      <td>-9.525072</td>\n",
       "      <td>5.270891</td>\n",
       "      <td>-4.024630</td>\n",
       "      <td>-2.865682</td>\n",
       "      <td>-6.989195</td>\n",
       "      <td>3.791551</td>\n",
       "      <td>-4.622730</td>\n",
       "      <td>...</td>\n",
       "      <td>0.036943</td>\n",
       "      <td>-0.355519</td>\n",
       "      <td>0.353634</td>\n",
       "      <td>1.042458</td>\n",
       "      <td>1.359516</td>\n",
       "      <td>-0.272188</td>\n",
       "      <td>0.0</td>\n",
       "      <td>1</td>\n",
       "      <td>0a3b566f-e662-4cd0-b702-99299890cb0f</td>\n",
       "      <td>TEST</td>\n",
       "    </tr>\n",
       "    <tr>\n",
       "      <th>576</th>\n",
       "      <td>56887</td>\n",
       "      <td>-0.075483</td>\n",
       "      <td>1.812355</td>\n",
       "      <td>-2.566981</td>\n",
       "      <td>4.127549</td>\n",
       "      <td>-1.628532</td>\n",
       "      <td>-0.805895</td>\n",
       "      <td>-3.390135</td>\n",
       "      <td>1.019353</td>\n",
       "      <td>-2.451251</td>\n",
       "      <td>...</td>\n",
       "      <td>-0.143624</td>\n",
       "      <td>0.013566</td>\n",
       "      <td>0.634203</td>\n",
       "      <td>0.213693</td>\n",
       "      <td>0.773625</td>\n",
       "      <td>0.387434</td>\n",
       "      <td>5.0</td>\n",
       "      <td>1</td>\n",
       "      <td>e17f6ee4-8dd8-4a38-9f51-e1bbf1e1aa2a</td>\n",
       "      <td>TEST</td>\n",
       "    </tr>\n",
       "  </tbody>\n",
       "</table>\n",
       "<p>2 rows × 33 columns</p>\n",
       "</div>"
      ],
      "text/plain": [
       "      Time        V1        V2        V3        V4        V5        V6  \\\n",
       "53   85285 -7.030308  3.421991 -9.525072  5.270891 -4.024630 -2.865682   \n",
       "576  56887 -0.075483  1.812355 -2.566981  4.127549 -1.628532 -0.805895   \n",
       "\n",
       "           V7        V8        V9  ...       V23       V24       V25  \\\n",
       "53  -6.989195  3.791551 -4.622730  ...  0.036943 -0.355519  0.353634   \n",
       "576 -3.390135  1.019353 -2.451251  ... -0.143624  0.013566  0.634203   \n",
       "\n",
       "          V26       V27       V28  Amount  Class  \\\n",
       "53   1.042458  1.359516 -0.272188     0.0      1   \n",
       "576  0.213693  0.773625  0.387434     5.0      1   \n",
       "\n",
       "                           transaction_id  splits  \n",
       "53   0a3b566f-e662-4cd0-b702-99299890cb0f    TEST  \n",
       "576  e17f6ee4-8dd8-4a38-9f51-e1bbf1e1aa2a    TEST  \n",
       "\n",
       "[2 rows x 33 columns]"
      ]
     },
     "execution_count": 128,
     "metadata": {},
     "output_type": "execute_result"
    }
   ],
   "source": [
    "# review the inputs that lead to a prediction = 1 (fraud)\n",
    "pred.iloc[[i for i, j in enumerate(predictions) if j == 1]]"
   ]
  },
  {
   "cell_type": "code",
   "execution_count": null,
   "id": "fdd4a306-eaee-48bd-9ab3-2cee4e56d68c",
   "metadata": {},
   "outputs": [],
   "source": []
  }
 ],
 "metadata": {
  "environment": {
   "kernel": "python3",
   "name": "tf2-gpu.2-3.m94",
   "type": "gcloud",
   "uri": "gcr.io/deeplearning-platform-release/tf2-gpu.2-3:m94"
  },
  "kernelspec": {
   "display_name": "Python 3",
   "language": "python",
   "name": "python3"
  },
  "language_info": {
   "codemirror_mode": {
    "name": "ipython",
    "version": 3
   },
   "file_extension": ".py",
   "mimetype": "text/x-python",
   "name": "python",
   "nbconvert_exporter": "python",
   "pygments_lexer": "ipython3",
   "version": "3.7.12"
  },
  "toc-autonumbering": false,
  "toc-showcode": false,
  "toc-showmarkdowntxt": false,
  "toc-showtags": false
 },
 "nbformat": 4,
 "nbformat_minor": 5
}
