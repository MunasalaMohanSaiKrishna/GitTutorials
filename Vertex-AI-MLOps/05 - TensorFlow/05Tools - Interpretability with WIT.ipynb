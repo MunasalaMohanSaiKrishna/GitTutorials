{
 "cells": [
  {
   "cell_type": "markdown",
   "id": "5b1652fc-aec5-4caa-945e-13bfb19b616f",
   "metadata": {},
   "source": [
    "# 05Tools: Understanding Model Performance and Fairness with the What-If Tool (WIT)\n",
    "\n",
    "The [What-If Tool (WIT)](https://pair-code.github.io/what-if-tool/) helps understand a model behavior across a wide range of inputs.  In this notebook the 05 series models will be evaluated with the WIT tool.\n",
    "\n",
    "This notebook will show how to connect the tool to the model at a Vertex AI Endpoint and load example data from BigQuery using Pandas as a preparation step.\n",
    "\n",
    "### Prerequisites:\n",
    "-  At least 1 of the notebooks in this series [05, 05a-05i]\n",
    "\n",
    "### Conceptual Flow & Workflow\n",
    "<p align=\"center\">\n",
    "  <img alt=\"Conceptual Flow\" src=\"../architectures/slides/05tools_WIT_arch.png\" width=\"45%\">\n",
    "&nbsp; &nbsp; &nbsp; &nbsp;\n",
    "  <img alt=\"Workflow\" src=\"../architectures/slides/05tools_WIT_console.png\" width=\"45%\">\n",
    "</p>"
   ]
  },
  {
   "cell_type": "markdown",
   "id": "59c329eb-215d-41d2-8843-274c54a7ab4c",
   "metadata": {},
   "source": [
    "---\n",
    "## Known Issue & Workaround\n",
    "The WIT tool does not seem to work with Vertex AI Workbench Versions of JupyterLab - see [issue](https://github.com/PAIR-code/what-if-tool/issues/200).  To work around this issue the notebook can be opened in Google Colab.  An additional step with Colab is the installation of the `witwidget` package and authenticating to the Google Cloud Project. These two steps are covered by the code in this section being run after opening in Colab via the button below:\n",
    "\n",
    "[![Open In Colab](https://colab.research.google.com/assets/colab-badge.svg)](https://colab.research.google.com/github/statmike/vertex-ai-mlops/blob/main/05%20-%20TensorFlow/05Tools%20-%20Interpretability%20with%20WIT.ipynb)\n"
   ]
  },
  {
   "cell_type": "code",
   "execution_count": 135,
   "id": "5ec2a0b8-7e78-4505-ac35-a98410c468e7",
   "metadata": {},
   "outputs": [],
   "source": [
    "try:\n",
    "    import google.colab\n",
    "    !pip install --upgrade witwidget -q\n",
    "    !pip install --upgrade google-cloud-aiplatform -q\n",
    "    !pip install --upgrade google-cloud-bigquery-storage -q\n",
    "    from google.colab import auth\n",
    "    auth.authenticate_user()\n",
    "except Exception:\n",
    "    pass"
   ]
  },
  {
   "cell_type": "markdown",
   "id": "ac5ff493-1753-45e0-8778-da31a029d55c",
   "metadata": {},
   "source": [
    "The Next cell will restart the runtime by first stopping it and then Colab will automatically restart:"
   ]
  },
  {
   "cell_type": "code",
   "execution_count": null,
   "id": "0846179b-a5df-44b3-a6aa-2be88e530927",
   "metadata": {},
   "outputs": [],
   "source": [
    "import os\n",
    "os.kill(os.getpid(), 9)"
   ]
  },
  {
   "cell_type": "code",
   "execution_count": null,
   "id": "7bc7ece4-24ad-4284-8175-b5fdd22d5165",
   "metadata": {},
   "outputs": [],
   "source": [
    "PROJECT_ID = 'statmike-mlops-349915'\n",
    "!gcloud config set project {PROJECT_ID}"
   ]
  },
  {
   "cell_type": "markdown",
   "id": "badffc53-30bf-41bd-8a0f-7039922e8e9d",
   "metadata": {},
   "source": [
    "---\n",
    "## Setup"
   ]
  },
  {
   "cell_type": "markdown",
   "id": "5468e63a-1cb5-4019-89f8-7d813038fb12",
   "metadata": {},
   "source": [
    "inputs:"
   ]
  },
  {
   "cell_type": "code",
   "execution_count": 1,
   "id": "d9223036-9ef5-4280-a688-ee677ad2e44b",
   "metadata": {},
   "outputs": [
    {
     "data": {
      "text/plain": [
       "'statmike-mlops-349915'"
      ]
     },
     "execution_count": 1,
     "metadata": {},
     "output_type": "execute_result"
    }
   ],
   "source": [
    "project = !gcloud config get-value project\n",
    "PROJECT_ID = project[0]\n",
    "PROJECT_ID"
   ]
  },
  {
   "cell_type": "code",
   "execution_count": 2,
   "id": "815e35db-76c0-4dd4-a58b-3335b27ea59f",
   "metadata": {},
   "outputs": [],
   "source": [
    "REGION = 'us-central1'\n",
    "SERIES = '05'\n",
    "\n",
    "# source data\n",
    "BQ_PROJECT = PROJECT_ID\n",
    "BQ_DATASET = 'fraud'\n",
    "BQ_TABLE = 'fraud_prepped'\n",
    "\n",
    "# Model Training\n",
    "VAR_TARGET = 'Class'\n",
    "VAR_OMIT = 'transaction_id' # add more variables to the string with space delimiters"
   ]
  },
  {
   "cell_type": "markdown",
   "id": "e6491e02-aed2-4a5f-87f0-36d1a7d19e00",
   "metadata": {},
   "source": [
    "packages:"
   ]
  },
  {
   "cell_type": "code",
   "execution_count": 3,
   "id": "5eccaf8b-bcf5-48a2-8786-6c86c3c31e7d",
   "metadata": {},
   "outputs": [],
   "source": [
    "from google.cloud import aiplatform\n",
    "from google.cloud import bigquery\n",
    "\n",
    "from google.protobuf import json_format\n",
    "from google.protobuf.struct_pb2 import Value\n",
    "\n",
    "import witwidget\n",
    "from witwidget.notebook.visualization import WitWidget, WitConfigBuilder\n",
    "\n",
    "import numpy as np"
   ]
  },
  {
   "cell_type": "markdown",
   "id": "a1e92fd2-d17b-4129-956e-702fe98084f3",
   "metadata": {},
   "source": [
    "clients:"
   ]
  },
  {
   "cell_type": "code",
   "execution_count": 4,
   "id": "9ef82409-3e39-4505-a763-d6f4425196d2",
   "metadata": {},
   "outputs": [],
   "source": [
    "aiplatform.init(project=PROJECT_ID, location=REGION)\n",
    "bq = bigquery.Client(project=PROJECT_ID)"
   ]
  },
  {
   "cell_type": "markdown",
   "id": "1de2f3e6-6e50-4e85-ad81-a770df189995",
   "metadata": {},
   "source": [
    "parameters:"
   ]
  },
  {
   "cell_type": "code",
   "execution_count": 5,
   "id": "5573f98d-e39b-425d-a2ea-aa6061f280b5",
   "metadata": {},
   "outputs": [],
   "source": [
    "BUCKET = PROJECT_ID"
   ]
  },
  {
   "cell_type": "markdown",
   "id": "b36df5ad-5cdf-462e-b8ee-083cc92c1e01",
   "metadata": {},
   "source": [
    "---\n",
    "## Get Vertex AI Endpoint And Deployed Model"
   ]
  },
  {
   "cell_type": "code",
   "execution_count": 7,
   "id": "08b08f63-2992-4ebd-8998-ea330dc9d259",
   "metadata": {},
   "outputs": [],
   "source": [
    "endpoints = aiplatform.Endpoint.list(filter = f\"labels.series={SERIES}\")\n",
    "endpoint = endpoints[0]"
   ]
  },
  {
   "cell_type": "code",
   "execution_count": 8,
   "id": "60e34e51-c43e-4675-97d8-b9774b6bcc16",
   "metadata": {},
   "outputs": [
    {
     "data": {
      "text/plain": [
       "'05_fraud'"
      ]
     },
     "execution_count": 8,
     "metadata": {},
     "output_type": "execute_result"
    }
   ],
   "source": [
    "endpoint.display_name"
   ]
  },
  {
   "cell_type": "code",
   "execution_count": 9,
   "id": "faa7328a-7195-41e2-b878-e7857eac51a9",
   "metadata": {},
   "outputs": [],
   "source": [
    "model = aiplatform.Model(\n",
    "    model_name = endpoint.list_models()[0].model+f'@{endpoint.list_models()[0].model_version_id}'\n",
    ")"
   ]
  },
  {
   "cell_type": "code",
   "execution_count": 10,
   "id": "4f3d8791-b14f-4165-b4d8-60d5ff067ca1",
   "metadata": {},
   "outputs": [
    {
     "data": {
      "text/plain": [
       "'05i_fraud'"
      ]
     },
     "execution_count": 10,
     "metadata": {},
     "output_type": "execute_result"
    }
   ],
   "source": [
    "model.display_name"
   ]
  },
  {
   "cell_type": "code",
   "execution_count": 11,
   "id": "61d5b4a3-d740-4094-93d0-f611d95e2d51",
   "metadata": {},
   "outputs": [
    {
     "data": {
      "text/plain": [
       "'projects/1026793852137/locations/us-central1/models/model_05i_fraud@1'"
      ]
     },
     "execution_count": 11,
     "metadata": {},
     "output_type": "execute_result"
    }
   ],
   "source": [
    "model.versioned_resource_name"
   ]
  },
  {
   "cell_type": "code",
   "execution_count": 12,
   "id": "4be58330-27a4-42e8-87a4-d5803886c524",
   "metadata": {},
   "outputs": [
    {
     "data": {
      "text/plain": [
       "'gs://statmike-mlops-349915/fraud/models/05i/20220728003419/18/model'"
      ]
     },
     "execution_count": 12,
     "metadata": {},
     "output_type": "execute_result"
    }
   ],
   "source": [
    "model.uri"
   ]
  },
  {
   "cell_type": "markdown",
   "id": "dc17c3e6-594e-41de-9e14-a0a96e58b80d",
   "metadata": {},
   "source": [
    "## Get Data for Model Exploration\n",
    "Retrive the test data for this series:"
   ]
  },
  {
   "cell_type": "code",
   "execution_count": 13,
   "id": "a301c949-9813-470b-98ce-fa355a9d1d54",
   "metadata": {},
   "outputs": [
    {
     "data": {
      "text/html": [
       "<div>\n",
       "<style scoped>\n",
       "    .dataframe tbody tr th:only-of-type {\n",
       "        vertical-align: middle;\n",
       "    }\n",
       "\n",
       "    .dataframe tbody tr th {\n",
       "        vertical-align: top;\n",
       "    }\n",
       "\n",
       "    .dataframe thead th {\n",
       "        text-align: right;\n",
       "    }\n",
       "</style>\n",
       "<table border=\"1\" class=\"dataframe\">\n",
       "  <thead>\n",
       "    <tr style=\"text-align: right;\">\n",
       "      <th></th>\n",
       "      <th>Time</th>\n",
       "      <th>V1</th>\n",
       "      <th>V2</th>\n",
       "      <th>V3</th>\n",
       "      <th>V4</th>\n",
       "      <th>V5</th>\n",
       "      <th>V6</th>\n",
       "      <th>V7</th>\n",
       "      <th>V8</th>\n",
       "      <th>V9</th>\n",
       "      <th>...</th>\n",
       "      <th>V21</th>\n",
       "      <th>V22</th>\n",
       "      <th>V23</th>\n",
       "      <th>V24</th>\n",
       "      <th>V25</th>\n",
       "      <th>V26</th>\n",
       "      <th>V27</th>\n",
       "      <th>V28</th>\n",
       "      <th>Amount</th>\n",
       "      <th>Class</th>\n",
       "    </tr>\n",
       "  </thead>\n",
       "  <tbody>\n",
       "    <tr>\n",
       "      <th>0</th>\n",
       "      <td>148074</td>\n",
       "      <td>-2.219219</td>\n",
       "      <td>0.727831</td>\n",
       "      <td>-5.458230</td>\n",
       "      <td>5.924850</td>\n",
       "      <td>3.932464</td>\n",
       "      <td>-3.085984</td>\n",
       "      <td>-1.677870</td>\n",
       "      <td>0.865075</td>\n",
       "      <td>-3.177260</td>\n",
       "      <td>...</td>\n",
       "      <td>0.417472</td>\n",
       "      <td>-0.817343</td>\n",
       "      <td>-0.028752</td>\n",
       "      <td>0.025723</td>\n",
       "      <td>-0.825835</td>\n",
       "      <td>-0.013089</td>\n",
       "      <td>0.413291</td>\n",
       "      <td>-0.131387</td>\n",
       "      <td>0.0</td>\n",
       "      <td>1</td>\n",
       "    </tr>\n",
       "    <tr>\n",
       "      <th>1</th>\n",
       "      <td>129668</td>\n",
       "      <td>0.753356</td>\n",
       "      <td>2.284988</td>\n",
       "      <td>-5.164492</td>\n",
       "      <td>3.831112</td>\n",
       "      <td>-0.073622</td>\n",
       "      <td>-1.316596</td>\n",
       "      <td>-1.855495</td>\n",
       "      <td>0.831079</td>\n",
       "      <td>-1.567514</td>\n",
       "      <td>...</td>\n",
       "      <td>0.382007</td>\n",
       "      <td>0.033958</td>\n",
       "      <td>0.187697</td>\n",
       "      <td>0.358433</td>\n",
       "      <td>-0.488934</td>\n",
       "      <td>-0.258802</td>\n",
       "      <td>0.296145</td>\n",
       "      <td>-0.047174</td>\n",
       "      <td>2.0</td>\n",
       "      <td>1</td>\n",
       "    </tr>\n",
       "    <tr>\n",
       "      <th>2</th>\n",
       "      <td>56887</td>\n",
       "      <td>-0.075483</td>\n",
       "      <td>1.812355</td>\n",
       "      <td>-2.566981</td>\n",
       "      <td>4.127549</td>\n",
       "      <td>-1.628532</td>\n",
       "      <td>-0.805895</td>\n",
       "      <td>-3.390135</td>\n",
       "      <td>1.019353</td>\n",
       "      <td>-2.451251</td>\n",
       "      <td>...</td>\n",
       "      <td>0.794372</td>\n",
       "      <td>0.270471</td>\n",
       "      <td>-0.143624</td>\n",
       "      <td>0.013566</td>\n",
       "      <td>0.634203</td>\n",
       "      <td>0.213693</td>\n",
       "      <td>0.773625</td>\n",
       "      <td>0.387434</td>\n",
       "      <td>5.0</td>\n",
       "      <td>1</td>\n",
       "    </tr>\n",
       "    <tr>\n",
       "      <th>3</th>\n",
       "      <td>146998</td>\n",
       "      <td>-2.064240</td>\n",
       "      <td>2.629739</td>\n",
       "      <td>-0.748406</td>\n",
       "      <td>0.694992</td>\n",
       "      <td>0.418178</td>\n",
       "      <td>1.392520</td>\n",
       "      <td>-1.697801</td>\n",
       "      <td>-6.333065</td>\n",
       "      <td>1.724184</td>\n",
       "      <td>...</td>\n",
       "      <td>6.215514</td>\n",
       "      <td>-1.276909</td>\n",
       "      <td>0.459861</td>\n",
       "      <td>-1.051685</td>\n",
       "      <td>0.209178</td>\n",
       "      <td>-0.319859</td>\n",
       "      <td>0.015434</td>\n",
       "      <td>-0.050117</td>\n",
       "      <td>8.0</td>\n",
       "      <td>1</td>\n",
       "    </tr>\n",
       "    <tr>\n",
       "      <th>4</th>\n",
       "      <td>78725</td>\n",
       "      <td>-4.312479</td>\n",
       "      <td>1.886476</td>\n",
       "      <td>-2.338634</td>\n",
       "      <td>-0.475243</td>\n",
       "      <td>-1.185444</td>\n",
       "      <td>-2.112079</td>\n",
       "      <td>-2.122793</td>\n",
       "      <td>0.272565</td>\n",
       "      <td>0.290273</td>\n",
       "      <td>...</td>\n",
       "      <td>0.550541</td>\n",
       "      <td>-0.067870</td>\n",
       "      <td>-1.114692</td>\n",
       "      <td>0.269069</td>\n",
       "      <td>-0.020572</td>\n",
       "      <td>-0.963489</td>\n",
       "      <td>-0.918888</td>\n",
       "      <td>0.001454</td>\n",
       "      <td>60.0</td>\n",
       "      <td>1</td>\n",
       "    </tr>\n",
       "  </tbody>\n",
       "</table>\n",
       "<p>5 rows × 31 columns</p>\n",
       "</div>"
      ],
      "text/plain": [
       "     Time        V1        V2        V3        V4        V5        V6  \\\n",
       "0  148074 -2.219219  0.727831 -5.458230  5.924850  3.932464 -3.085984   \n",
       "1  129668  0.753356  2.284988 -5.164492  3.831112 -0.073622 -1.316596   \n",
       "2   56887 -0.075483  1.812355 -2.566981  4.127549 -1.628532 -0.805895   \n",
       "3  146998 -2.064240  2.629739 -0.748406  0.694992  0.418178  1.392520   \n",
       "4   78725 -4.312479  1.886476 -2.338634 -0.475243 -1.185444 -2.112079   \n",
       "\n",
       "         V7        V8        V9  ...       V21       V22       V23       V24  \\\n",
       "0 -1.677870  0.865075 -3.177260  ...  0.417472 -0.817343 -0.028752  0.025723   \n",
       "1 -1.855495  0.831079 -1.567514  ...  0.382007  0.033958  0.187697  0.358433   \n",
       "2 -3.390135  1.019353 -2.451251  ...  0.794372  0.270471 -0.143624  0.013566   \n",
       "3 -1.697801 -6.333065  1.724184  ...  6.215514 -1.276909  0.459861 -1.051685   \n",
       "4 -2.122793  0.272565  0.290273  ...  0.550541 -0.067870 -1.114692  0.269069   \n",
       "\n",
       "        V25       V26       V27       V28  Amount  Class  \n",
       "0 -0.825835 -0.013089  0.413291 -0.131387     0.0      1  \n",
       "1 -0.488934 -0.258802  0.296145 -0.047174     2.0      1  \n",
       "2  0.634203  0.213693  0.773625  0.387434     5.0      1  \n",
       "3  0.209178 -0.319859  0.015434 -0.050117     8.0      1  \n",
       "4 -0.020572 -0.963489 -0.918888  0.001454    60.0      1  \n",
       "\n",
       "[5 rows x 31 columns]"
      ]
     },
     "execution_count": 13,
     "metadata": {},
     "output_type": "execute_result"
    }
   ],
   "source": [
    "pred = bq.query(query = f\"SELECT * EXCEPT({VAR_TARGET}), {VAR_TARGET} FROM {BQ_PROJECT}.{BQ_DATASET}.{BQ_TABLE} WHERE splits='TEST' ORDER BY {VAR_TARGET} DESC\").to_dataframe()\n",
    "pred = pred[pred.columns[~pred.columns.isin(VAR_OMIT.split()+['splits'])]]\n",
    "pred.head()"
   ]
  },
  {
   "cell_type": "code",
   "execution_count": 14,
   "id": "e8fd62fa-376f-429d-a80a-3dfb7ac38397",
   "metadata": {},
   "outputs": [
    {
     "data": {
      "text/plain": [
       "28522"
      ]
     },
     "execution_count": 14,
     "metadata": {},
     "output_type": "execute_result"
    }
   ],
   "source": [
    "len(pred.index)"
   ]
  },
  {
   "cell_type": "code",
   "execution_count": 15,
   "id": "4cb4c663-b769-413c-9996-c4f40c89236a",
   "metadata": {},
   "outputs": [
    {
     "data": {
      "text/plain": [
       "(28522, 31)"
      ]
     },
     "execution_count": 15,
     "metadata": {},
     "output_type": "execute_result"
    }
   ],
   "source": [
    "pred.shape"
   ]
  },
  {
   "cell_type": "markdown",
   "id": "fab7594b-f253-485e-8a49-ee64dcde318e",
   "metadata": {},
   "source": [
    "## Python Function For Predictions\n",
    "The WIT tool connects to models for prediction is several ways.  To demonstrate custom prediction functions, this section builds a Python function that calls a Vertex AI Endpoint."
   ]
  },
  {
   "cell_type": "markdown",
   "id": "087192eb-856c-48bf-9061-74890b56a158",
   "metadata": {},
   "source": [
    "Try 1: Dictionaries"
   ]
  },
  {
   "cell_type": "code",
   "execution_count": 16,
   "id": "6219c593-d29d-4752-b6fa-45e22968d37c",
   "metadata": {},
   "outputs": [],
   "source": [
    "newobs_dicts = pred.to_dict(orient='records')"
   ]
  },
  {
   "cell_type": "code",
   "execution_count": 17,
   "id": "0167fb18-df88-4ae8-8385-0400563ed4d5",
   "metadata": {},
   "outputs": [],
   "source": [
    "#newobs_dicts[0]"
   ]
  },
  {
   "cell_type": "code",
   "execution_count": 18,
   "id": "9bb199fc-bdfc-44fc-8df7-1e7a488fdbc1",
   "metadata": {},
   "outputs": [],
   "source": [
    "def remote_predictor_dicts(obs):\n",
    "    if type(obs) is dict: obs = [obs]\n",
    "    predictions = []\n",
    "    batch_size = 1000\n",
    "    for i in range(0, len(obs), batch_size): # do batches\n",
    "      instances = [json_format.ParseDict({key:value for key, value in example.items() if key != VAR_TARGET}, Value()) for example in obs[i:i+batch_size]]\n",
    "      predictions.extend(endpoint.predict(instances = instances).predictions)\n",
    "    return predictions"
   ]
  },
  {
   "cell_type": "code",
   "execution_count": 19,
   "id": "03d86050-ea32-42ee-886b-ae62400d57ca",
   "metadata": {},
   "outputs": [
    {
     "data": {
      "text/plain": [
       "[[0.00166473, 0.998335302], [0.0168009363, 0.98319906]]"
      ]
     },
     "execution_count": 19,
     "metadata": {},
     "output_type": "execute_result"
    }
   ],
   "source": [
    "remote_predictor_dicts(newobs_dicts[0:2])"
   ]
  },
  {
   "cell_type": "markdown",
   "id": "211e885c-6d14-4bca-9695-f7a7859fada8",
   "metadata": {},
   "source": [
    "Try 2: Lists"
   ]
  },
  {
   "cell_type": "code",
   "execution_count": 20,
   "id": "f6977272-ae9f-40ad-8983-30f61e86b992",
   "metadata": {},
   "outputs": [],
   "source": [
    "newobs_lists = pred.values.tolist()\n",
    "newobs_names = pred.columns.values.tolist()"
   ]
  },
  {
   "cell_type": "code",
   "execution_count": 21,
   "id": "530e860f-e3a7-4344-a2f0-9ff6402a5026",
   "metadata": {},
   "outputs": [],
   "source": [
    "#newobs_lists[0], newobs_names"
   ]
  },
  {
   "cell_type": "code",
   "execution_count": 22,
   "id": "d9940525-5fc4-4890-b83b-5e3b8666bc29",
   "metadata": {},
   "outputs": [],
   "source": [
    "def remote_predictor_lists(obs):\n",
    "    examples = [dict(zip(newobs_names, ob)) for ob in obs]\n",
    "    predictions = []\n",
    "    batch_size = 1000\n",
    "    for i in range(0, len(examples), batch_size): # do batches\n",
    "      instances = [json_format.ParseDict({key:value for key, value in example.items() if key != VAR_TARGET}, Value()) for example in examples[i:i+batch_size]]\n",
    "      predictions.extend(endpoint.predict(instances = instances).predictions)\n",
    "    return predictions"
   ]
  },
  {
   "cell_type": "code",
   "execution_count": 23,
   "id": "6b010ec7-97f8-477a-a570-988414823ba8",
   "metadata": {},
   "outputs": [
    {
     "data": {
      "text/plain": [
       "[[0.00166473, 0.998335302], [0.0168009363, 0.98319906]]"
      ]
     },
     "execution_count": 23,
     "metadata": {},
     "output_type": "execute_result"
    }
   ],
   "source": [
    "remote_predictor_lists(newobs_lists[0:2])"
   ]
  },
  {
   "cell_type": "markdown",
   "id": "173b0990-6ab0-494f-aecd-65dd900c65c8",
   "metadata": {},
   "source": [
    "---\n",
    "## Configure WIT\n",
    "The What-If Tool expects two things: a set of examples to profile the model and a link to the model to create the \"what-if ..\" predictions during the model evaluation."
   ]
  },
  {
   "cell_type": "markdown",
   "id": "5460e747-9afe-4c1a-bd31-5ceae6636d5e",
   "metadata": {},
   "source": [
    "Using Vertex AI Model at Vertex AI Endpoint by Wrapping in a Python Function to make the calls:\n",
    "- Guide for [WitConfigBuilder](https://github.com/pair-code/what-if-tool/blob/master/witwidget/notebook/visualization.py)\n",
    "\n",
    "Input data as dictionaries:\n",
    "```python\n",
    "config_builder = (\n",
    "    WitConfigBuilder(newobs_dicts[0:n_examples])\n",
    "    .set_custom_predict_fn(remote_predictor_dicts)\n",
    "    .set_target_feature('Class')\n",
    "    .set_label_vocab(['Normal', 'Fraud'])\n",
    ")\n",
    "```\n",
    "\n",
    "Input data as Lists:\n",
    "```python\n",
    "config_builder = (\n",
    "    WitConfigBuilder(newobs_lists[0:n_examples], newobs_names)\n",
    "    .set_custom_predict_fn(remote_predictor_lists)\n",
    "    .set_target_feature('Class')\n",
    "    .set_label_vocab(['Normal', 'Fraud'])\n",
    ")\n",
    "```"
   ]
  },
  {
   "cell_type": "code",
   "execution_count": 144,
   "id": "c1c36c0a-de63-4972-a4e0-79116349f8ae",
   "metadata": {},
   "outputs": [],
   "source": [
    "n_examples = 1000"
   ]
  },
  {
   "cell_type": "code",
   "execution_count": null,
   "id": "c990fe61-cd98-4fee-b5bc-db2afd302696",
   "metadata": {},
   "outputs": [],
   "source": [
    "config_builder = (\n",
    "    WitConfigBuilder(newobs_dicts[0:n_examples])\n",
    "    .set_custom_predict_fn(remote_predictor_dicts)\n",
    "    .set_target_feature('Class')\n",
    "    .set_label_vocab(['Normal', 'Fraud'])\n",
    ")"
   ]
  },
  {
   "cell_type": "markdown",
   "id": "f651b81a-2296-4be7-a631-a134610415a5",
   "metadata": {},
   "source": [
    "---\n",
    "## Explore The Model"
   ]
  },
  {
   "cell_type": "code",
   "execution_count": null,
   "id": "5890004b-1927-4565-af1f-71fa985653b5",
   "metadata": {},
   "outputs": [],
   "source": [
    "WitWidget(config_builder, height = 800)"
   ]
  },
  {
   "cell_type": "markdown",
   "id": "3e11aa27-b09a-423c-8fae-d0cd735cb6f4",
   "metadata": {},
   "source": [
    "---\n",
    "## Example Screenshot\n",
    "\n",
    "<img src=\"../architectures/notebooks/05/wit.png\">"
   ]
  },
  {
   "cell_type": "code",
   "execution_count": null,
   "id": "a4557abe-d8e7-4653-881e-ff65344643a0",
   "metadata": {},
   "outputs": [],
   "source": []
  }
 ],
 "metadata": {
  "environment": {
   "kernel": "python3",
   "name": "tf2-gpu.2-3.m94",
   "type": "gcloud",
   "uri": "gcr.io/deeplearning-platform-release/tf2-gpu.2-3:m94"
  },
  "kernelspec": {
   "display_name": "Python 3",
   "language": "python",
   "name": "python3"
  },
  "language_info": {
   "codemirror_mode": {
    "name": "ipython",
    "version": 3
   },
   "file_extension": ".py",
   "mimetype": "text/x-python",
   "name": "python",
   "nbconvert_exporter": "python",
   "pygments_lexer": "ipython3",
   "version": "3.7.12"
  }
 },
 "nbformat": 4,
 "nbformat_minor": 5
}
