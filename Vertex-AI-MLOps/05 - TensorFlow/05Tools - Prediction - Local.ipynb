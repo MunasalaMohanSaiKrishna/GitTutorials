{
 "cells": [
  {
   "cell_type": "markdown",
   "id": "fc4b4bb1-7ef4-46d9-af58-a044b30e16db",
   "metadata": {},
   "source": [
    "# 05Tools: Prediction - Local\n",
    "\n",
    "Predictions from models created in the 05 series of notebooks.\n",
    "\n",
    "This notebook is part of collection of examples that showcase many ways to serve models:\n",
    "- Online:\n",
    "    - Vertex AI Endpoints: Python, REST, CLI (gcloud): [05Tools - Prediction - Online.ipynb](./05Tools%20-%20Prediction%20-%20Online.ipynb)\n",
    "    - (**THIS NOTEBOOK**) Local with TensorFlow ModelServer: [05Tools - Prediction - Local.ipynb](./05Tools%20-%20Prediction%20-%20Local.ipynb)\n",
    "    - Custom: Build a custom container with TensorFlow ModelServer: [05Tools - Prediction - Custom.ipynb](./05Tools%20-%20Prediction%20-%20Custom.ipynb)\n",
    "        - Remote Service with Cloud Run\n",
    "        - Local Service with Docker Run\n",
    "- Batch: [05Tools - Prediction - Batch.ipynb](./05Tools%20-%20Prediction%20-%20Batch.ipynb)\n",
    "    - BigQuery ML Model Import\n",
    "    - Vertex AI Batch Prediction Jobs\n",
    "\n",
    "**Prerequisites:**\n",
    "-  At least 1 of the notebooks in this series [05a-05i]\n",
    "- The [05 - Vertex AI Custom Model - TensorFlow - in Notebook](./05%20-%20Vertex%20AI%20Custom%20Model%20-%20TensorFlow%20-%20in%20Notebook.ipynb) notebook is required to run the [Keras model example](#keras) below.\n",
    "\n",
    "**Conceptual Flow & Workflow**\n",
    "\n",
    "<p align=\"center\">\n",
    "  <img alt=\"Conceptual Flow\" src=\"../architectures/slides/05tools_pred_arch.png\" width=\"45%\">\n",
    "&nbsp; &nbsp; &nbsp; &nbsp;\n",
    "  <img alt=\"Workflow\" src=\"../architectures/slides/05tools_pred_console.png\" width=\"45%\">\n",
    "</p>"
   ]
  },
  {
   "cell_type": "markdown",
   "id": "edfe1e23-d5cc-4f75-8c67-44f0738c19f8",
   "metadata": {},
   "source": [
    "---\n",
    "## Setup"
   ]
  },
  {
   "cell_type": "markdown",
   "id": "818b0e2f-85a4-4251-a23e-054a5501d99b",
   "metadata": {},
   "source": [
    "inputs:"
   ]
  },
  {
   "cell_type": "code",
   "execution_count": 1,
   "id": "f378632d-635d-4c9c-9be0-18df4a9f173f",
   "metadata": {},
   "outputs": [
    {
     "data": {
      "text/plain": [
       "'statmike-mlops-349915'"
      ]
     },
     "execution_count": 1,
     "metadata": {},
     "output_type": "execute_result"
    }
   ],
   "source": [
    "project = !gcloud config get-value project\n",
    "PROJECT_ID = project[0]\n",
    "PROJECT_ID"
   ]
  },
  {
   "cell_type": "code",
   "execution_count": 2,
   "id": "32366dad-2fd7-49db-b905-6786347e0b1b",
   "metadata": {},
   "outputs": [],
   "source": [
    "REGION = 'us-central1'\n",
    "EXPERIMENT = '05_predictions'\n",
    "SERIES = '05'\n",
    "\n",
    "# source data\n",
    "BQ_PROJECT = PROJECT_ID\n",
    "BQ_DATASET = 'fraud'\n",
    "BQ_TABLE = 'fraud_prepped'\n",
    "\n",
    "# Resources\n",
    "DEPLOY_COMPUTE = 'n1-standard-4'\n",
    "DEPLOY_IMAGE='us-docker.pkg.dev/vertex-ai/prediction/tf2-cpu.2-7:latest'\n",
    "\n",
    "# Model Training\n",
    "VAR_TARGET = 'Class'\n",
    "VAR_OMIT = 'transaction_id' # add more variables to the string with space delimiters"
   ]
  },
  {
   "cell_type": "markdown",
   "id": "b5e133e7-1cab-4c59-94a2-96b00502b0f7",
   "metadata": {},
   "source": [
    "packages:"
   ]
  },
  {
   "cell_type": "code",
   "execution_count": 3,
   "id": "f1784eaf-c0a0-44da-a9cf-4e6b7a962a20",
   "metadata": {},
   "outputs": [],
   "source": [
    "from google.cloud import aiplatform\n",
    "from google.cloud import bigquery\n",
    "\n",
    "import tensorflow as tf\n",
    "import requests\n",
    "import json\n",
    "import numpy as np\n",
    "\n",
    "import multiprocessing"
   ]
  },
  {
   "cell_type": "markdown",
   "id": "ef6acd1c-aec4-4558-9428-a3be24211ecb",
   "metadata": {},
   "source": [
    "clients:"
   ]
  },
  {
   "cell_type": "code",
   "execution_count": 4,
   "id": "de08ac8c-e074-4ffd-9653-96f2dcd9e6e5",
   "metadata": {},
   "outputs": [],
   "source": [
    "aiplatform.init(project=PROJECT_ID, location=REGION)\n",
    "bq = bigquery.Client()"
   ]
  },
  {
   "cell_type": "markdown",
   "id": "97b226d2-835e-42e3-9d76-bf616e80d1d4",
   "metadata": {},
   "source": [
    "parameters:"
   ]
  },
  {
   "cell_type": "code",
   "execution_count": 5,
   "id": "7a93d906-e834-43dc-9e08-ff72bc544453",
   "metadata": {},
   "outputs": [],
   "source": [
    "BUCKET = PROJECT_ID\n",
    "DIR = f\"temp/{EXPERIMENT}\""
   ]
  },
  {
   "cell_type": "markdown",
   "id": "a983b2ae-f2e1-4119-8399-74226871e98d",
   "metadata": {},
   "source": [
    "environment:"
   ]
  },
  {
   "cell_type": "code",
   "execution_count": 6,
   "id": "3fc618c9-984a-4591-87e1-4d3f4a64e1e4",
   "metadata": {},
   "outputs": [],
   "source": [
    "!rm -rf {DIR}\n",
    "!mkdir -p {DIR}"
   ]
  },
  {
   "cell_type": "markdown",
   "id": "b21b4df5-5935-4da2-a791-ebc5ab154138",
   "metadata": {},
   "source": [
    "---\n",
    "## Get a Model For Predictions\n",
    "This project already has a model serving online predictions at a Vertex AI Endpoint.  This section will use the endpoint to retrieve the deployed model and get its information to use for batch prediction methods in this notebook."
   ]
  },
  {
   "cell_type": "markdown",
   "id": "d039ca5a-f0d2-4437-bc02-f0ea8157dc48",
   "metadata": {},
   "source": [
    "### Get Endpoint\n",
    "\n",
    "[Endpoint Properties and Methods](https://cloud.google.com/python/docs/reference/aiplatform/latest/google.cloud.aiplatform.Endpoint):\n",
    "\n",
    "```python\n",
    "endpoint\n",
    "endpoint.display_name\n",
    "endpoint.resource_name\n",
    "endpoint.traffic_split\n",
    "endpoint.list_models()\n",
    "```"
   ]
  },
  {
   "cell_type": "code",
   "execution_count": 7,
   "id": "dae75e08-4c05-4b50-9eb6-55ad851c404d",
   "metadata": {},
   "outputs": [],
   "source": [
    "endpoints = aiplatform.Endpoint.list(filter = f\"labels.series={SERIES}\")\n",
    "endpoint = endpoints[0]"
   ]
  },
  {
   "cell_type": "code",
   "execution_count": 8,
   "id": "8dc802ff-cc5b-484c-8f1c-7aea6a89f9a3",
   "metadata": {},
   "outputs": [
    {
     "name": "stdout",
     "output_type": "stream",
     "text": [
      "Review the Endpoint in the Console:\n",
      "https://console.cloud.google.com/vertex-ai/locations/us-central1/endpoints/1961322035766362112?project=statmike-mlops-349915\n"
     ]
    }
   ],
   "source": [
    "print(f'Review the Endpoint in the Console:\\nhttps://console.cloud.google.com/vertex-ai/locations/{REGION}/endpoints/{endpoint.name}?project={PROJECT_ID}')"
   ]
  },
  {
   "cell_type": "markdown",
   "id": "81c1a950-6f66-42e0-9e9e-96689fb08f36",
   "metadata": {},
   "source": [
    "### Get Model at Endpoint\n",
    "Using the model on the endpoint for the current series:"
   ]
  },
  {
   "cell_type": "code",
   "execution_count": 9,
   "id": "909d9897-ab16-43eb-8baf-1aa860437396",
   "metadata": {},
   "outputs": [
    {
     "data": {
      "text/plain": [
       "<google.cloud.aiplatform.models.Endpoint object at 0x7f0b23585350> \n",
       "resource name: projects/1026793852137/locations/us-central1/endpoints/1961322035766362112"
      ]
     },
     "execution_count": 9,
     "metadata": {},
     "output_type": "execute_result"
    }
   ],
   "source": [
    "endpoint"
   ]
  },
  {
   "cell_type": "code",
   "execution_count": 10,
   "id": "b1df783a-386f-4782-aebe-3edec7a2efec",
   "metadata": {},
   "outputs": [],
   "source": [
    "#endpoint.list_models()[0]"
   ]
  },
  {
   "cell_type": "code",
   "execution_count": 11,
   "id": "418340ff-c687-4370-b748-e6fd16e1133c",
   "metadata": {},
   "outputs": [],
   "source": [
    "model = aiplatform.Model(\n",
    "    model_name = endpoint.list_models()[0].model+f'@{endpoint.list_models()[0].model_version_id}'\n",
    ")"
   ]
  },
  {
   "cell_type": "markdown",
   "id": "0b8c6cad-2562-45b5-ab82-3732183249cb",
   "metadata": {},
   "source": [
    "### Review Model Information"
   ]
  },
  {
   "cell_type": "code",
   "execution_count": 12,
   "id": "99ed7230-e41e-4233-ba2c-598835f5be20",
   "metadata": {},
   "outputs": [
    {
     "data": {
      "text/plain": [
       "'05_05h'"
      ]
     },
     "execution_count": 12,
     "metadata": {},
     "output_type": "execute_result"
    }
   ],
   "source": [
    "model.display_name"
   ]
  },
  {
   "cell_type": "code",
   "execution_count": 13,
   "id": "0ef2ca94-ce8f-4baf-b65a-d0105375e9bc",
   "metadata": {},
   "outputs": [
    {
     "data": {
      "text/plain": [
       "'projects/1026793852137/locations/us-central1/models/model_05_05h'"
      ]
     },
     "execution_count": 13,
     "metadata": {},
     "output_type": "execute_result"
    }
   ],
   "source": [
    "model.resource_name"
   ]
  },
  {
   "cell_type": "code",
   "execution_count": 14,
   "id": "c9a2a979-d1db-4700-a830-abf4671215de",
   "metadata": {},
   "outputs": [
    {
     "data": {
      "text/plain": [
       "'1'"
      ]
     },
     "execution_count": 14,
     "metadata": {},
     "output_type": "execute_result"
    }
   ],
   "source": [
    "model.version_id"
   ]
  },
  {
   "cell_type": "code",
   "execution_count": 15,
   "id": "5c403f5f-c1c9-4c00-bf52-05d29ed3626a",
   "metadata": {},
   "outputs": [
    {
     "data": {
      "text/plain": [
       "'run-20220927230247-6'"
      ]
     },
     "execution_count": 15,
     "metadata": {},
     "output_type": "execute_result"
    }
   ],
   "source": [
    "model.version_description"
   ]
  },
  {
   "cell_type": "code",
   "execution_count": 16,
   "id": "27899830-24e4-4d5c-8f2f-fd9918128fe8",
   "metadata": {},
   "outputs": [
    {
     "data": {
      "text/plain": [
       "'projects/1026793852137/locations/us-central1/models/model_05_05h@1'"
      ]
     },
     "execution_count": 16,
     "metadata": {},
     "output_type": "execute_result"
    }
   ],
   "source": [
    "model.versioned_resource_name"
   ]
  },
  {
   "cell_type": "code",
   "execution_count": 17,
   "id": "20c273da-c917-4a08-bd3d-e35bfeff395b",
   "metadata": {},
   "outputs": [
    {
     "data": {
      "text/plain": [
       "['jsonl', 'bigquery', 'csv', 'tf-record', 'tf-record-gzip', 'file-list']"
      ]
     },
     "execution_count": 17,
     "metadata": {},
     "output_type": "execute_result"
    }
   ],
   "source": [
    "model.supported_input_storage_formats"
   ]
  },
  {
   "cell_type": "code",
   "execution_count": 18,
   "id": "ead5efd2-4cd4-45e4-bd45-ee4100f88ae0",
   "metadata": {},
   "outputs": [
    {
     "data": {
      "text/plain": [
       "'model_05_05h'"
      ]
     },
     "execution_count": 18,
     "metadata": {},
     "output_type": "execute_result"
    }
   ],
   "source": [
    "model.name"
   ]
  },
  {
   "cell_type": "code",
   "execution_count": 19,
   "id": "cad7faa2-0dff-43d5-8735-9d166428c099",
   "metadata": {},
   "outputs": [
    {
     "data": {
      "text/plain": [
       "'gs://statmike-mlops-349915/05/05h/models/20220927230247/6/model'"
      ]
     },
     "execution_count": 19,
     "metadata": {},
     "output_type": "execute_result"
    }
   ],
   "source": [
    "model.uri"
   ]
  },
  {
   "cell_type": "code",
   "execution_count": 20,
   "id": "188209f9-9cf9-4bdc-9c44-4fae99c893e4",
   "metadata": {},
   "outputs": [
    {
     "name": "stdout",
     "output_type": "stream",
     "text": [
      "Review the model in the Vertex AI Model Registry:\n",
      "https://console.cloud.google.com/vertex-ai/locations/us-central1/models/model_05_05h/versions/1/properties?project=statmike-mlops-349915\n"
     ]
    }
   ],
   "source": [
    "print(f'Review the model in the Vertex AI Model Registry:\\nhttps://console.cloud.google.com/vertex-ai/locations/{REGION}/models/{model.name}/versions/{model.version_id}/properties?project={PROJECT_ID}')"
   ]
  },
  {
   "cell_type": "markdown",
   "id": "3f2c0605-1054-46b4-9546-d737690c9bea",
   "metadata": {},
   "source": [
    "#### Review Model Information Using the `aiplatform_v1` Model Client\n",
    "It may also be helpful to try the [ModelServiceClient](https://cloud.google.com/python/docs/reference/aiplatform/latest/google.cloud.aiplatform_v1.services.model_service.ModelServiceClient) in version 1 of the client to review the model attributes.  Here is example code for trying this.\n",
    "\n",
    "Curious about client versions and layers?  Check out this tip document [aiplatform_notes.md](../Tips/aiplatform_notes.md)."
   ]
  },
  {
   "cell_type": "code",
   "execution_count": 21,
   "id": "e2c1ff70-effe-4192-ba1b-d599acf5ba0c",
   "metadata": {},
   "outputs": [
    {
     "data": {
      "text/plain": [
       "name: \"projects/1026793852137/locations/us-central1/models/model_05_05h@1\"\n",
       "display_name: \"05_05h\"\n",
       "predict_schemata {\n",
       "}\n",
       "metadata {\n",
       "}\n",
       "container_spec {\n",
       "  image_uri: \"us-docker.pkg.dev/vertex-ai/prediction/tf2-cpu.2-7:latest\"\n",
       "}\n",
       "supported_deployment_resources_types: DEDICATED_RESOURCES\n",
       "supported_deployment_resources_types: SHARED_RESOURCES\n",
       "supported_input_storage_formats: \"jsonl\"\n",
       "supported_input_storage_formats: \"bigquery\"\n",
       "supported_input_storage_formats: \"csv\"\n",
       "supported_input_storage_formats: \"tf-record\"\n",
       "supported_input_storage_formats: \"tf-record-gzip\"\n",
       "supported_input_storage_formats: \"file-list\"\n",
       "supported_output_storage_formats: \"jsonl\"\n",
       "supported_output_storage_formats: \"bigquery\"\n",
       "create_time {\n",
       "  seconds: 1664323764\n",
       "  nanos: 618427000\n",
       "}\n",
       "update_time {\n",
       "  seconds: 1664323768\n",
       "  nanos: 500624000\n",
       "}\n",
       "deployed_models {\n",
       "  endpoint: \"projects/1026793852137/locations/us-central1/endpoints/1961322035766362112\"\n",
       "  deployed_model_id: \"6805735083375329280\"\n",
       "}\n",
       "etag: \"AMEw9yNcp6VeV0ro_K4TYuC4RycegqUGGvZ-j2THmzkcFVR4reTVO3566Yu8zPstgTca\"\n",
       "labels {\n",
       "  key: \"experiment\"\n",
       "  value: \"05h\"\n",
       "}\n",
       "labels {\n",
       "  key: \"experiment_name\"\n",
       "  value: \"experiment-05-05h-tf-classification-dnn\"\n",
       "}\n",
       "labels {\n",
       "  key: \"run_name\"\n",
       "  value: \"run-20220927230247-6\"\n",
       "}\n",
       "labels {\n",
       "  key: \"series\"\n",
       "  value: \"05\"\n",
       "}\n",
       "supported_export_formats {\n",
       "  id: \"custom-trained\"\n",
       "  exportable_contents: ARTIFACT\n",
       "}\n",
       "artifact_uri: \"gs://statmike-mlops-349915/05/05h/models/20220927230247/6/model\"\n",
       "version_id: \"1\"\n",
       "version_aliases: \"run-20220927230247-6\"\n",
       "version_aliases: \"default\"\n",
       "version_description: \"run-20220927230247-6\"\n",
       "version_create_time {\n",
       "  seconds: 1664323764\n",
       "  nanos: 618427000\n",
       "}\n",
       "version_update_time {\n",
       "  seconds: 1664323768\n",
       "  nanos: 500624000\n",
       "}"
      ]
     },
     "execution_count": 21,
     "metadata": {},
     "output_type": "execute_result"
    }
   ],
   "source": [
    "from google.cloud import aiplatform_v1\n",
    "\n",
    "client_options = {\"api_endpoint\": f\"{REGION}-aiplatform.googleapis.com\"}\n",
    "ModelClientv1 = aiplatform_v1.ModelServiceClient(client_options = client_options)\n",
    "\n",
    "ModelClientv1.get_model(\n",
    "    name = model.versioned_resource_name\n",
    ")"
   ]
  },
  {
   "cell_type": "markdown",
   "id": "9221dcdc-644a-40dc-9983-bbf84ca88bae",
   "metadata": {},
   "source": [
    "---\n",
    "## Retrieve Records For Prediction"
   ]
  },
  {
   "cell_type": "code",
   "execution_count": 22,
   "id": "387789b5-8916-4109-a604-e6f91eb1a57f",
   "metadata": {},
   "outputs": [],
   "source": [
    "n = 1000\n",
    "pred = bq.query(query = f\"SELECT * FROM {BQ_PROJECT}.{BQ_DATASET}.{BQ_TABLE} WHERE splits='TEST' LIMIT {n}\").to_dataframe()"
   ]
  },
  {
   "cell_type": "code",
   "execution_count": 23,
   "id": "deee9703-813c-45bd-a3e7-ffa2e9a3614e",
   "metadata": {},
   "outputs": [
    {
     "data": {
      "text/html": [
       "<div>\n",
       "<style scoped>\n",
       "    .dataframe tbody tr th:only-of-type {\n",
       "        vertical-align: middle;\n",
       "    }\n",
       "\n",
       "    .dataframe tbody tr th {\n",
       "        vertical-align: top;\n",
       "    }\n",
       "\n",
       "    .dataframe thead th {\n",
       "        text-align: right;\n",
       "    }\n",
       "</style>\n",
       "<table border=\"1\" class=\"dataframe\">\n",
       "  <thead>\n",
       "    <tr style=\"text-align: right;\">\n",
       "      <th></th>\n",
       "      <th>Time</th>\n",
       "      <th>V1</th>\n",
       "      <th>V2</th>\n",
       "      <th>V3</th>\n",
       "      <th>V4</th>\n",
       "      <th>V5</th>\n",
       "      <th>V6</th>\n",
       "      <th>V7</th>\n",
       "      <th>V8</th>\n",
       "      <th>V9</th>\n",
       "      <th>...</th>\n",
       "      <th>V23</th>\n",
       "      <th>V24</th>\n",
       "      <th>V25</th>\n",
       "      <th>V26</th>\n",
       "      <th>V27</th>\n",
       "      <th>V28</th>\n",
       "      <th>Amount</th>\n",
       "      <th>Class</th>\n",
       "      <th>transaction_id</th>\n",
       "      <th>splits</th>\n",
       "    </tr>\n",
       "  </thead>\n",
       "  <tbody>\n",
       "    <tr>\n",
       "      <th>0</th>\n",
       "      <td>35337</td>\n",
       "      <td>1.092844</td>\n",
       "      <td>-0.013230</td>\n",
       "      <td>1.359829</td>\n",
       "      <td>2.731537</td>\n",
       "      <td>-0.707357</td>\n",
       "      <td>0.873837</td>\n",
       "      <td>-0.796130</td>\n",
       "      <td>0.437707</td>\n",
       "      <td>0.396770</td>\n",
       "      <td>...</td>\n",
       "      <td>-0.167647</td>\n",
       "      <td>0.027557</td>\n",
       "      <td>0.592115</td>\n",
       "      <td>0.219695</td>\n",
       "      <td>0.036970</td>\n",
       "      <td>0.010984</td>\n",
       "      <td>0.0</td>\n",
       "      <td>0</td>\n",
       "      <td>a1b10547-d270-48c0-b902-7a0f735dadc7</td>\n",
       "      <td>TEST</td>\n",
       "    </tr>\n",
       "    <tr>\n",
       "      <th>1</th>\n",
       "      <td>60481</td>\n",
       "      <td>1.238973</td>\n",
       "      <td>0.035226</td>\n",
       "      <td>0.063003</td>\n",
       "      <td>0.641406</td>\n",
       "      <td>-0.260893</td>\n",
       "      <td>-0.580097</td>\n",
       "      <td>0.049938</td>\n",
       "      <td>-0.034733</td>\n",
       "      <td>0.405932</td>\n",
       "      <td>...</td>\n",
       "      <td>-0.057718</td>\n",
       "      <td>0.104983</td>\n",
       "      <td>0.537987</td>\n",
       "      <td>0.589563</td>\n",
       "      <td>-0.046207</td>\n",
       "      <td>-0.006212</td>\n",
       "      <td>0.0</td>\n",
       "      <td>0</td>\n",
       "      <td>814c62c8-ade4-47d5-bf83-313b0aafdee5</td>\n",
       "      <td>TEST</td>\n",
       "    </tr>\n",
       "    <tr>\n",
       "      <th>2</th>\n",
       "      <td>139587</td>\n",
       "      <td>1.870539</td>\n",
       "      <td>0.211079</td>\n",
       "      <td>0.224457</td>\n",
       "      <td>3.889486</td>\n",
       "      <td>-0.380177</td>\n",
       "      <td>0.249799</td>\n",
       "      <td>-0.577133</td>\n",
       "      <td>0.179189</td>\n",
       "      <td>-0.120462</td>\n",
       "      <td>...</td>\n",
       "      <td>0.180776</td>\n",
       "      <td>-0.060226</td>\n",
       "      <td>-0.228979</td>\n",
       "      <td>0.080827</td>\n",
       "      <td>0.009868</td>\n",
       "      <td>-0.036997</td>\n",
       "      <td>0.0</td>\n",
       "      <td>0</td>\n",
       "      <td>d08a1bfa-85c5-4f1b-9537-1c5a93e6afd0</td>\n",
       "      <td>TEST</td>\n",
       "    </tr>\n",
       "    <tr>\n",
       "      <th>3</th>\n",
       "      <td>162908</td>\n",
       "      <td>-3.368339</td>\n",
       "      <td>-1.980442</td>\n",
       "      <td>0.153645</td>\n",
       "      <td>-0.159795</td>\n",
       "      <td>3.847169</td>\n",
       "      <td>-3.516873</td>\n",
       "      <td>-1.209398</td>\n",
       "      <td>-0.292122</td>\n",
       "      <td>0.760543</td>\n",
       "      <td>...</td>\n",
       "      <td>-1.171627</td>\n",
       "      <td>0.214333</td>\n",
       "      <td>-0.159652</td>\n",
       "      <td>-0.060883</td>\n",
       "      <td>1.294977</td>\n",
       "      <td>0.120503</td>\n",
       "      <td>0.0</td>\n",
       "      <td>0</td>\n",
       "      <td>802f3307-8e5a-4475-b795-5d5d8d7d0120</td>\n",
       "      <td>TEST</td>\n",
       "    </tr>\n",
       "  </tbody>\n",
       "</table>\n",
       "<p>4 rows × 33 columns</p>\n",
       "</div>"
      ],
      "text/plain": [
       "     Time        V1        V2        V3        V4        V5        V6  \\\n",
       "0   35337  1.092844 -0.013230  1.359829  2.731537 -0.707357  0.873837   \n",
       "1   60481  1.238973  0.035226  0.063003  0.641406 -0.260893 -0.580097   \n",
       "2  139587  1.870539  0.211079  0.224457  3.889486 -0.380177  0.249799   \n",
       "3  162908 -3.368339 -1.980442  0.153645 -0.159795  3.847169 -3.516873   \n",
       "\n",
       "         V7        V8        V9  ...       V23       V24       V25       V26  \\\n",
       "0 -0.796130  0.437707  0.396770  ... -0.167647  0.027557  0.592115  0.219695   \n",
       "1  0.049938 -0.034733  0.405932  ... -0.057718  0.104983  0.537987  0.589563   \n",
       "2 -0.577133  0.179189 -0.120462  ...  0.180776 -0.060226 -0.228979  0.080827   \n",
       "3 -1.209398 -0.292122  0.760543  ... -1.171627  0.214333 -0.159652 -0.060883   \n",
       "\n",
       "        V27       V28  Amount  Class                        transaction_id  \\\n",
       "0  0.036970  0.010984     0.0      0  a1b10547-d270-48c0-b902-7a0f735dadc7   \n",
       "1 -0.046207 -0.006212     0.0      0  814c62c8-ade4-47d5-bf83-313b0aafdee5   \n",
       "2  0.009868 -0.036997     0.0      0  d08a1bfa-85c5-4f1b-9537-1c5a93e6afd0   \n",
       "3  1.294977  0.120503     0.0      0  802f3307-8e5a-4475-b795-5d5d8d7d0120   \n",
       "\n",
       "   splits  \n",
       "0    TEST  \n",
       "1    TEST  \n",
       "2    TEST  \n",
       "3    TEST  \n",
       "\n",
       "[4 rows x 33 columns]"
      ]
     },
     "execution_count": 23,
     "metadata": {},
     "output_type": "execute_result"
    }
   ],
   "source": [
    "pred.head(4)"
   ]
  },
  {
   "cell_type": "markdown",
   "id": "0eeef35b-e421-4ed5-a25e-3f006b889254",
   "metadata": {},
   "source": [
    "Remove columns not included as features in the model:"
   ]
  },
  {
   "cell_type": "code",
   "execution_count": 24,
   "id": "9932f548-2c04-4150-99e0-0da87e8f216c",
   "metadata": {},
   "outputs": [],
   "source": [
    "newobs = pred[pred.columns[~pred.columns.isin(VAR_OMIT.split()+[VAR_TARGET, 'splits'])]].to_dict(orient='records')\n",
    "#newobs[0]"
   ]
  },
  {
   "cell_type": "code",
   "execution_count": 25,
   "id": "74109e3f-fa98-4234-9496-4eb45dbabd90",
   "metadata": {},
   "outputs": [
    {
     "data": {
      "text/plain": [
       "1000"
      ]
     },
     "execution_count": 25,
     "metadata": {},
     "output_type": "execute_result"
    }
   ],
   "source": [
    "len(newobs)"
   ]
  },
  {
   "cell_type": "code",
   "execution_count": 26,
   "id": "171d29ce-8167-4107-bbe8-4073faa5583c",
   "metadata": {},
   "outputs": [
    {
     "data": {
      "text/plain": [
       "{'Time': 35337,\n",
       " 'V1': 1.0928441854981998,\n",
       " 'V2': -0.0132303486713432,\n",
       " 'V3': 1.35982868199426,\n",
       " 'V4': 2.7315370965921004,\n",
       " 'V5': -0.707357349219652,\n",
       " 'V6': 0.8738370029866129,\n",
       " 'V7': -0.7961301510622031,\n",
       " 'V8': 0.437706509544851,\n",
       " 'V9': 0.39676985012996396,\n",
       " 'V10': 0.587438102569443,\n",
       " 'V11': -0.14979756231827498,\n",
       " 'V12': 0.29514781622888103,\n",
       " 'V13': -1.30382621882143,\n",
       " 'V14': -0.31782283120234495,\n",
       " 'V15': -2.03673231037199,\n",
       " 'V16': 0.376090905274179,\n",
       " 'V17': -0.30040350116459497,\n",
       " 'V18': 0.433799615590844,\n",
       " 'V19': -0.145082264348681,\n",
       " 'V20': -0.240427548108996,\n",
       " 'V21': 0.0376030733329398,\n",
       " 'V22': 0.38002620963091405,\n",
       " 'V23': -0.16764742731151097,\n",
       " 'V24': 0.0275573495476881,\n",
       " 'V25': 0.59211469704354,\n",
       " 'V26': 0.219695164116351,\n",
       " 'V27': 0.0369695108704894,\n",
       " 'V28': 0.010984441006191,\n",
       " 'Amount': 0.0}"
      ]
     },
     "execution_count": 26,
     "metadata": {},
     "output_type": "execute_result"
    }
   ],
   "source": [
    "newobs[0]"
   ]
  },
  {
   "cell_type": "markdown",
   "id": "be31af02-e3de-4240-97df-92a39ab78f67",
   "metadata": {},
   "source": [
    "---\n",
    "## Notebook Predictions: Load Keras Model\n",
    "<a id = 'keras'></a>\n",
    "\n",
    "The version of TensorFlow used in the training job that created the model may be a different version than the one running in this notebook.  This can cause an issue with tf.keras.models.load_model.  Make sure the versions are the same to prevent issues.  For the demonstration here, it is known that the model trained in notebook/experiment = `05` was triained by the notebook enviornment so the version will match the one in this notebook.\n",
    "\n",
    "To start, the `05` model will be retrieved.  When creating models in the Vertex AI Model Registry, the `model_id` was set to be in the format `model_{SERIES}_{EXPERIMENT}` and the specific `model_id` to reference here is `model_05_05`:"
   ]
  },
  {
   "cell_type": "code",
   "execution_count": 79,
   "id": "8fbde1e1-b200-459b-bf17-a3ae7e0e9561",
   "metadata": {},
   "outputs": [],
   "source": [
    "model_05 = aiplatform.Model(model_name = f'model_05_05')"
   ]
  },
  {
   "cell_type": "code",
   "execution_count": 80,
   "id": "0a2f6c15-7518-4742-a0cf-1ade0d3f9f56",
   "metadata": {},
   "outputs": [
    {
     "data": {
      "text/plain": [
       "'projects/1026793852137/locations/us-central1/models/model_05_05@3'"
      ]
     },
     "execution_count": 80,
     "metadata": {},
     "output_type": "execute_result"
    }
   ],
   "source": [
    "model_05.versioned_resource_name"
   ]
  },
  {
   "cell_type": "code",
   "execution_count": 81,
   "id": "600bb521-5af0-4aae-9681-dfbb7acfd649",
   "metadata": {},
   "outputs": [
    {
     "data": {
      "text/plain": [
       "'gs://statmike-mlops-349915/05/05/models/20220927184222/model'"
      ]
     },
     "execution_count": 81,
     "metadata": {},
     "output_type": "execute_result"
    }
   ],
   "source": [
    "model_05.uri"
   ]
  },
  {
   "cell_type": "code",
   "execution_count": 82,
   "id": "f60fc42b-8a78-4fc4-9fcf-f2d97ab6d4c3",
   "metadata": {},
   "outputs": [],
   "source": [
    "keras_model = tf.keras.models.load_model(model_05.uri) #(model.uri)"
   ]
  },
  {
   "cell_type": "code",
   "execution_count": 83,
   "id": "67acc86b-12f7-41bf-b2ff-1b1a9c37e075",
   "metadata": {},
   "outputs": [
    {
     "data": {
      "text/plain": [
       "array([[9.9997985e-01, 2.0149941e-05]], dtype=float32)"
      ]
     },
     "execution_count": 83,
     "metadata": {},
     "output_type": "execute_result"
    }
   ],
   "source": [
    "predictions = keras_model.predict(\n",
    "    {key: tf.constant([value], dtype=tf.float32, name = key) for key, value in newobs[0].items()}\n",
    ")\n",
    "predictions"
   ]
  },
  {
   "cell_type": "code",
   "execution_count": 84,
   "id": "dff1c99d-c18d-4236-8ead-03ddee192d63",
   "metadata": {},
   "outputs": [
    {
     "data": {
      "text/plain": [
       "0"
      ]
     },
     "execution_count": 84,
     "metadata": {},
     "output_type": "execute_result"
    }
   ],
   "source": [
    "np.argmax(predictions[0])"
   ]
  },
  {
   "cell_type": "markdown",
   "id": "bf88e09c-3b4f-4f96-9b34-6d0adbb1f668",
   "metadata": {},
   "source": [
    "---\n",
    "## Local Predictions: With TensorFlow ModelServer\n",
    "Locally run [TensorFlow Serving with Docker](https://www.tensorflow.org/tfx/serving/docker#serving_example)\n",
    "- Official [tensorflow/serving repository](https://hub.docker.com/r/tensorflow/serving/tags/) of images by version\n",
    "- Note that there may be dependencies between the version of TensorFlow that did the training of the model and the version of the serving container that is used to server predictions from the model.\n"
   ]
  },
  {
   "cell_type": "markdown",
   "id": "8add5e0e-2688-45aa-803f-86f41db6130f",
   "metadata": {},
   "source": [
    "### Load the Model and Review Signature\n",
    "Load the model currently on the series endpoint: stored in `model` above"
   ]
  },
  {
   "cell_type": "code",
   "execution_count": 31,
   "id": "2f6389ba-0988-43f1-a4a1-901b6ddc40b4",
   "metadata": {},
   "outputs": [],
   "source": [
    "reloaded_model = tf.saved_model.load(model.uri)"
   ]
  },
  {
   "cell_type": "code",
   "execution_count": 32,
   "id": "986157ba-0ca7-45c7-bce7-c85b3492a51c",
   "metadata": {},
   "outputs": [
    {
     "data": {
      "text/plain": [
       "_SignatureMap({'serving_default': <ConcreteFunction signature_wrapper(Amount, Time, V1, V10, V11, V12, V13, V14, V15, V16, V17, V18, V19, V2, V20, V21, V22, V23, V24, V25, V26, V27, V28, V3, V4, V5, V6, V7, V8, V9) at 0x7F0A5266CD10>})"
      ]
     },
     "execution_count": 32,
     "metadata": {},
     "output_type": "execute_result"
    }
   ],
   "source": [
    "reloaded_model.signatures"
   ]
  },
  {
   "cell_type": "code",
   "execution_count": 33,
   "id": "1c740d6a-486c-4605-b629-3b4363c6b1f2",
   "metadata": {},
   "outputs": [
    {
     "data": {
      "text/plain": [
       "<ConcreteFunction signature_wrapper(Amount, Time, V1, V10, V11, V12, V13, V14, V15, V16, V17, V18, V19, V2, V20, V21, V22, V23, V24, V25, V26, V27, V28, V3, V4, V5, V6, V7, V8, V9) at 0x7F0A5266CD10>"
      ]
     },
     "execution_count": 33,
     "metadata": {},
     "output_type": "execute_result"
    }
   ],
   "source": [
    "reloaded_model.signatures['serving_default']"
   ]
  },
  {
   "cell_type": "code",
   "execution_count": 34,
   "id": "76c5245c-c980-41de-9ac3-eaf19316046e",
   "metadata": {},
   "outputs": [
    {
     "data": {
      "text/plain": [
       "((),\n",
       " {'V7': TensorSpec(shape=(None, 1), dtype=tf.float32, name='V7'),\n",
       "  'V25': TensorSpec(shape=(None, 1), dtype=tf.float32, name='V25'),\n",
       "  'V10': TensorSpec(shape=(None, 1), dtype=tf.float32, name='V10'),\n",
       "  'V27': TensorSpec(shape=(None, 1), dtype=tf.float32, name='V27'),\n",
       "  'V1': TensorSpec(shape=(None, 1), dtype=tf.float32, name='V1'),\n",
       "  'V22': TensorSpec(shape=(None, 1), dtype=tf.float32, name='V22'),\n",
       "  'V12': TensorSpec(shape=(None, 1), dtype=tf.float32, name='V12'),\n",
       "  'V5': TensorSpec(shape=(None, 1), dtype=tf.float32, name='V5'),\n",
       "  'V9': TensorSpec(shape=(None, 1), dtype=tf.float32, name='V9'),\n",
       "  'V17': TensorSpec(shape=(None, 1), dtype=tf.float32, name='V17'),\n",
       "  'Amount': TensorSpec(shape=(None, 1), dtype=tf.float32, name='Amount'),\n",
       "  'V2': TensorSpec(shape=(None, 1), dtype=tf.float32, name='V2'),\n",
       "  'V26': TensorSpec(shape=(None, 1), dtype=tf.float32, name='V26'),\n",
       "  'V18': TensorSpec(shape=(None, 1), dtype=tf.float32, name='V18'),\n",
       "  'V21': TensorSpec(shape=(None, 1), dtype=tf.float32, name='V21'),\n",
       "  'V20': TensorSpec(shape=(None, 1), dtype=tf.float32, name='V20'),\n",
       "  'V6': TensorSpec(shape=(None, 1), dtype=tf.float32, name='V6'),\n",
       "  'Time': TensorSpec(shape=(None, 1), dtype=tf.float32, name='Time'),\n",
       "  'V3': TensorSpec(shape=(None, 1), dtype=tf.float32, name='V3'),\n",
       "  'V28': TensorSpec(shape=(None, 1), dtype=tf.float32, name='V28'),\n",
       "  'V11': TensorSpec(shape=(None, 1), dtype=tf.float32, name='V11'),\n",
       "  'V24': TensorSpec(shape=(None, 1), dtype=tf.float32, name='V24'),\n",
       "  'V14': TensorSpec(shape=(None, 1), dtype=tf.float32, name='V14'),\n",
       "  'V19': TensorSpec(shape=(None, 1), dtype=tf.float32, name='V19'),\n",
       "  'V16': TensorSpec(shape=(None, 1), dtype=tf.float32, name='V16'),\n",
       "  'V8': TensorSpec(shape=(None, 1), dtype=tf.float32, name='V8'),\n",
       "  'V15': TensorSpec(shape=(None, 1), dtype=tf.float32, name='V15'),\n",
       "  'V13': TensorSpec(shape=(None, 1), dtype=tf.float32, name='V13'),\n",
       "  'V23': TensorSpec(shape=(None, 1), dtype=tf.float32, name='V23'),\n",
       "  'V4': TensorSpec(shape=(None, 1), dtype=tf.float32, name='V4')})"
      ]
     },
     "execution_count": 34,
     "metadata": {},
     "output_type": "execute_result"
    }
   ],
   "source": [
    "reloaded_model.signatures['serving_default'].structured_input_signature"
   ]
  },
  {
   "cell_type": "code",
   "execution_count": 35,
   "id": "e23b41d5-8e13-42fa-af44-54107330ba64",
   "metadata": {},
   "outputs": [],
   "source": [
    "#!saved_model_cli show --dir {DIR}/model --all"
   ]
  },
  {
   "cell_type": "markdown",
   "id": "afb5d69b-7af0-480f-943b-10bcb92ba684",
   "metadata": {},
   "source": [
    "### Copy the model to local directory"
   ]
  },
  {
   "cell_type": "markdown",
   "id": "6e97473f-69fa-4218-bd96-4886f5e27cf6",
   "metadata": {},
   "source": [
    "Review the local directory for this notebook (created above):"
   ]
  },
  {
   "cell_type": "code",
   "execution_count": 36,
   "id": "38e9feba-ab3d-426a-8f80-9037b171361a",
   "metadata": {},
   "outputs": [
    {
     "data": {
      "text/plain": [
       "'temp/05_predictions'"
      ]
     },
     "execution_count": 36,
     "metadata": {},
     "output_type": "execute_result"
    }
   ],
   "source": [
    "DIR"
   ]
  },
  {
   "cell_type": "code",
   "execution_count": 37,
   "id": "eacc0767-07db-4e98-8613-51fc1461e0b7",
   "metadata": {},
   "outputs": [],
   "source": [
    "!ls {DIR}"
   ]
  },
  {
   "cell_type": "markdown",
   "id": "e61d63ce-c424-47c2-94d7-ef9da0136cce",
   "metadata": {},
   "source": [
    "Copy the model files to the local directory for this notebook:"
   ]
  },
  {
   "cell_type": "code",
   "execution_count": 38,
   "id": "abce9599-d59f-4c57-83e5-116d8d08a210",
   "metadata": {},
   "outputs": [
    {
     "name": "stdout",
     "output_type": "stream",
     "text": [
      "Copying gs://statmike-mlops-349915/05/05h/models/20220927230247/6/model/keras_metadata.pb...\n",
      "Copying gs://statmike-mlops-349915/05/05h/models/20220927230247/6/model/saved_model.pb...\n",
      "/ [2 files][513.3 KiB/513.3 KiB]                                                \n",
      "==> NOTE: You are performing a sequence of gsutil operations that may\n",
      "run significantly faster if you instead use gsutil -m cp ... Please\n",
      "see the -m section under \"gsutil help options\" for further information\n",
      "about when gsutil -m can be advantageous.\n",
      "\n",
      "Copying gs://statmike-mlops-349915/05/05h/models/20220927230247/6/model/variables/variables.data-00000-of-00001...\n",
      "Copying gs://statmike-mlops-349915/05/05h/models/20220927230247/6/model/variables/variables.index...\n",
      "/ [4 files][558.2 KiB/558.2 KiB]                                                \n",
      "Operation completed over 4 objects/558.2 KiB.                                    \n"
     ]
    }
   ],
   "source": [
    "!gsutil cp -R {model.uri} {DIR}"
   ]
  },
  {
   "cell_type": "code",
   "execution_count": 39,
   "id": "e2356ce9-745f-4d72-a293-e4d6f6755b99",
   "metadata": {},
   "outputs": [
    {
     "name": "stdout",
     "output_type": "stream",
     "text": [
      "model\n"
     ]
    }
   ],
   "source": [
    "!ls {DIR}"
   ]
  },
  {
   "cell_type": "code",
   "execution_count": 40,
   "id": "3ae69173-d8d0-4871-8bec-9cfdae1efeea",
   "metadata": {},
   "outputs": [
    {
     "name": "stdout",
     "output_type": "stream",
     "text": [
      "keras_metadata.pb  saved_model.pb  variables\n"
     ]
    }
   ],
   "source": [
    "!ls {DIR}/model"
   ]
  },
  {
   "cell_type": "markdown",
   "id": "5a8c8cc5-de14-458e-9b47-71743158730a",
   "metadata": {},
   "source": [
    "### Download (Pull) The Docker Image and Start Serving Container\n",
    "\n",
    "**Note** In this series of notebooks `05` used the local notebook to train with TensorFlow while the notebooks `05a-i` use a pre-built container with a possibly different version. Knowing these versions may be important to pull the correct image from the tensorflow/serving repository of images.  The example below pulls the imaged tagged `2.7.4` to align with the version of TensorFlow used to train modles in notebooks `05a-i`.  "
   ]
  },
  {
   "cell_type": "code",
   "execution_count": 41,
   "id": "5b6abfae-4ef1-4e39-a0ea-8cf3700ad92a",
   "metadata": {
    "tags": []
   },
   "outputs": [
    {
     "name": "stdout",
     "output_type": "stream",
     "text": [
      "2.7.4: Pulling from tensorflow/serving\n",
      "Digest: sha256:100e9b37cd68cd6c049ef8399c408b2c51c1b024e90e2b6bc67690915cbef6dd\n",
      "Status: Image is up to date for tensorflow/serving:2.7.4\n",
      "docker.io/tensorflow/serving:2.7.4\n"
     ]
    }
   ],
   "source": [
    "serving_version = '2.7.4'\n",
    "#!docker pull tensorflow/serving # defaults to :latest\n",
    "!docker pull tensorflow/serving:{serving_version}"
   ]
  },
  {
   "cell_type": "markdown",
   "id": "9b5b54e5-9527-43fd-9549-d6a030581267",
   "metadata": {},
   "source": [
    "### Run the serving image locally\n",
    "\n",
    "The container is going to be run with commands in this notebook.  In order to run the serving while not tying up further exectutions in this notebook, a subprocess will be launched using `multiprocessing`. To learn more about multiprocessing and running tasks from Python in parallel visit the tips notebook [Python Multiprocessing](../Tips/Python%20Multiprocessing.ipynb)."
   ]
  },
  {
   "cell_type": "markdown",
   "id": "02ce4b4d-79ad-47a0-8c57-8d282200109e",
   "metadata": {},
   "source": [
    "First, build the syntax of the `docker run` command.  Note that the local model folder `{DIR}/model` is being mounted to a folder on the image in `/models/{SERIES}/01`.  The subfolder for `SERIES` will be created by the image because it matches the environment variable being passed in as `MODEL_NAME`.\n",
    "\n",
    "In this demonstration the model is directly in the mounted folder, while in many production enviornments there might be multiple runs of a model in the folder organized by versioned subfolders.  For this reason the `/01` subfolder is added to the folder path to mimic the expected versioning by the image.  "
   ]
  },
  {
   "cell_type": "code",
   "execution_count": 57,
   "id": "b3f70864-e281-4331-aacd-007852e6e513",
   "metadata": {},
   "outputs": [
    {
     "name": "stdout",
     "output_type": "stream",
     "text": [
      "docker run -t -p 8501:8501 -v \"/$(pwd)/temp/05_predictions/model:/models/05/01\" -e MODEL_NAME=05 tensorflow/serving:2.7.4\n"
     ]
    }
   ],
   "source": [
    "command = f'''docker run -t -p 8501:8501 \\\n",
    "-v \"/$(pwd)/{DIR}/model:/models/{SERIES}/01\" \\\n",
    "-e MODEL_NAME={SERIES} \\\n",
    "tensorflow/serving:{serving_version}'''\n",
    "print(command)"
   ]
  },
  {
   "cell_type": "markdown",
   "id": "1ef77e21-7ab5-470c-a637-1057a461cc4b",
   "metadata": {},
   "source": [
    "Run the command in a subprocess at the local folder of this notebook - use multiprocess.Process():"
   ]
  },
  {
   "cell_type": "code",
   "execution_count": 58,
   "id": "ac031185-c728-428d-ae03-401852d7cdda",
   "metadata": {},
   "outputs": [
    {
     "name": "stdout",
     "output_type": "stream",
     "text": [
      "/home/jupyter/vertex-ai-mlops/05 - TensorFlow\n"
     ]
    }
   ],
   "source": [
    "!pwd"
   ]
  },
  {
   "cell_type": "code",
   "execution_count": 59,
   "id": "774f54de-8bdc-41d9-a11a-413f76b8c6a7",
   "metadata": {},
   "outputs": [
    {
     "name": "stdout",
     "output_type": "stream",
     "text": [
      "2022-09-30 12:56:25.198285: I tensorflow_serving/model_servers/server.cc:89] Building single TensorFlow model file config:  model_name: 05 model_base_path: /models/05\n",
      "2022-09-30 12:56:25.198652: I tensorflow_serving/model_servers/server_core.cc:465] Adding/updating models.\n",
      "2022-09-30 12:56:25.198689: I tensorflow_serving/model_servers/server_core.cc:591]  (Re-)adding model: 05\n",
      "2022-09-30 12:56:25.299288: I tensorflow_serving/core/basic_manager.cc:740] Successfully reserved resources to load servable {name: 05 version: 1}\n",
      "2022-09-30 12:56:25.299348: I tensorflow_serving/core/loader_harness.cc:66] Approving load for servable version {name: 05 version: 1}\n",
      "2022-09-30 12:56:25.299380: I tensorflow_serving/core/loader_harness.cc:74] Loading servable version {name: 05 version: 1}\n",
      "2022-09-30 12:56:25.299441: I external/org_tensorflow/tensorflow/cc/saved_model/reader.cc:43] Reading SavedModel from: /models/05/01\n",
      "2022-09-30 12:56:25.315147: I external/org_tensorflow/tensorflow/cc/saved_model/reader.cc:107] Reading meta graph with tags { serve }\n",
      "2022-09-30 12:56:25.315214: I external/org_tensorflow/tensorflow/cc/saved_model/reader.cc:148] Reading SavedModel debug info (if present) from: /models/05/01\n",
      "2022-09-30 12:56:25.315370: I external/org_tensorflow/tensorflow/core/platform/cpu_feature_guard.cc:151] This TensorFlow binary is optimized with oneAPI Deep Neural Network Library (oneDNN) to use the following CPU instructions in performance-critical operations:  AVX2 FMA\n",
      "To enable them in other operations, rebuild TensorFlow with the appropriate compiler flags.\n",
      "2022-09-30 12:56:25.404898: I external/org_tensorflow/tensorflow/cc/saved_model/loader.cc:228] Restoring SavedModel bundle.\n",
      "2022-09-30 12:56:25.529310: I external/org_tensorflow/tensorflow/cc/saved_model/loader.cc:212] Running initialization op on SavedModel bundle at path: /models/05/01\n",
      "2022-09-30 12:56:25.604348: I external/org_tensorflow/tensorflow/cc/saved_model/loader.cc:301] SavedModel load for tags { serve }; Status: success: OK. Took 304903 microseconds.\n",
      "2022-09-30 12:56:25.610335: I tensorflow_serving/servables/tensorflow/saved_model_warmup_util.cc:59] No warmup data file found at /models/05/01/assets.extra/tf_serving_warmup_requests\n",
      "2022-09-30 12:56:25.614190: I tensorflow_serving/core/loader_harness.cc:87] Successfully loaded servable version {name: 05 version: 1}\n",
      "2022-09-30 12:56:25.615449: I tensorflow_serving/model_servers/server_core.cc:486] Finished adding/updating models\n",
      "2022-09-30 12:56:25.615539: I tensorflow_serving/model_servers/server.cc:133] Using InsecureServerCredentials\n",
      "2022-09-30 12:56:25.615569: I tensorflow_serving/model_servers/server.cc:383] Profiler service is enabled\n",
      "2022-09-30 12:56:25.617405: I tensorflow_serving/model_servers/server.cc:409] Running gRPC ModelServer at 0.0.0.0:8500 ...\n",
      "[warn] getaddrinfo: address family for nodename not supported\n",
      "2022-09-30 12:56:25.620112: I tensorflow_serving/model_servers/server.cc:430] Exporting HTTP/REST API at:localhost:8501 ...\n",
      "[evhttp_server.cc : 245] NET_LOG: Entering the event loop ...\n"
     ]
    }
   ],
   "source": [
    "def docker_runner():\n",
    "    !{command}\n",
    "    #!docker run -t -p 8501:8501 -v \"/$(pwd)/temp/05_predictions/model:/models/05/01\" -e MODEL_NAME=05 tensorflow/serving:2.7.4\n",
    "\n",
    "def main():\n",
    "    p = multiprocessing.Process(target=docker_runner)\n",
    "    p.start()\n",
    "    return p\n",
    "    \n",
    "p = main()"
   ]
  },
  {
   "cell_type": "markdown",
   "id": "180fafd8-a773-49bc-89e6-58cc8d08fb63",
   "metadata": {},
   "source": [
    "### Get Predictions on Exposed Port"
   ]
  },
  {
   "cell_type": "markdown",
   "id": "7f073ecc-fede-4f56-bf38-5aec87a394a5",
   "metadata": {},
   "source": [
    "Prepare in instance (observation) for prediction request:"
   ]
  },
  {
   "cell_type": "code",
   "execution_count": 67,
   "id": "52a2fa25-eb99-46fe-a473-27cb8af1b21e",
   "metadata": {},
   "outputs": [
    {
     "data": {
      "text/plain": [
       "'{\"instances\": [{\"Time\": 35337, \"V1\": 1.0928441854981998, \"V2\": -0.0132303486713432, \"V3\": 1.35982868199426, \"V4\": 2.7315370965921004, \"V5\": -0.707357349219652, \"V6\": 0.8738370029866129, \"V7\": -0.7961301510622031, \"V8\": 0.437706509544851, \"V9\": 0.39676985012996396, \"V10\": 0.587438102569443, \"V11\": -0.14979756231827498, \"V12\": 0.29514781622888103, \"V13\": -1.30382621882143, \"V14\": -0.31782283120234495, \"V15\": -2.03673231037199, \"V16\": 0.376090905274179, \"V17\": -0.30040350116459497, \"V18\": 0.433799615590844, \"V19\": -0.145082264348681, \"V20\": -0.240427548108996, \"V21\": 0.0376030733329398, \"V22\": 0.38002620963091405, \"V23\": -0.16764742731151097, \"V24\": 0.0275573495476881, \"V25\": 0.59211469704354, \"V26\": 0.219695164116351, \"V27\": 0.0369695108704894, \"V28\": 0.010984441006191, \"Amount\": 0.0}]}'"
      ]
     },
     "execution_count": 67,
     "metadata": {},
     "output_type": "execute_result"
    }
   ],
   "source": [
    "tryob_json = json.dumps({\"instances\": [newobs[0]]})\n",
    "tryob_json"
   ]
  },
  {
   "cell_type": "markdown",
   "id": "57a86e31-075d-478e-9f02-053ec54ace1a",
   "metadata": {},
   "source": [
    "Make prediction request:"
   ]
  },
  {
   "cell_type": "code",
   "execution_count": 68,
   "id": "6f818766-ecf3-4a4a-b588-8716d06d884f",
   "metadata": {},
   "outputs": [],
   "source": [
    "json_response = requests.post(f'http://localhost:8501/v1/models/{SERIES}:predict', data=tryob_json, headers={\"content-type\": \"application/json\"})"
   ]
  },
  {
   "cell_type": "code",
   "execution_count": 69,
   "id": "378716ab-a5b3-4bc2-b64b-2936997faed6",
   "metadata": {},
   "outputs": [
    {
     "data": {
      "text/plain": [
       "<Response [200]>"
      ]
     },
     "execution_count": 69,
     "metadata": {},
     "output_type": "execute_result"
    }
   ],
   "source": [
    "json_response"
   ]
  },
  {
   "cell_type": "code",
   "execution_count": 70,
   "id": "e38f7b36-1b13-41db-a831-f93c2b6fa8a9",
   "metadata": {},
   "outputs": [
    {
     "name": "stdout",
     "output_type": "stream",
     "text": [
      "{\n",
      "    \"predictions\": [[0.999359429, 0.000640570885]\n",
      "    ]\n",
      "}\n"
     ]
    }
   ],
   "source": [
    "print(json_response.text)"
   ]
  },
  {
   "cell_type": "code",
   "execution_count": 71,
   "id": "e62e0ae5-1619-405a-bd4e-0d8fdce727bc",
   "metadata": {},
   "outputs": [
    {
     "data": {
      "text/plain": [
       "[[0.999359429, 0.000640570885]]"
      ]
     },
     "execution_count": 71,
     "metadata": {},
     "output_type": "execute_result"
    }
   ],
   "source": [
    "predictions = json.loads(json_response.text)['predictions']\n",
    "predictions"
   ]
  },
  {
   "cell_type": "code",
   "execution_count": 72,
   "id": "af1a8fc1-4612-4fff-9fae-ed62cad12589",
   "metadata": {
    "tags": []
   },
   "outputs": [
    {
     "data": {
      "text/plain": [
       "0"
      ]
     },
     "execution_count": 72,
     "metadata": {},
     "output_type": "execute_result"
    }
   ],
   "source": [
    "np.argmax(predictions[0])"
   ]
  },
  {
   "cell_type": "markdown",
   "id": "9a6e641a-2c00-47df-9e9a-e5900ea73974",
   "metadata": {},
   "source": [
    "### Shutdown TensorFlow Serving Container\n",
    "There are two entities running: a subprocess called `p` and a docker container that was run by the subprocess.  It is not enough to just stop `p` but it might be enough to stop the container and then the subprocess will terminate due to completion.  The command below stop the subprocess `p` and then stop and remove the container."
   ]
  },
  {
   "cell_type": "code",
   "execution_count": 73,
   "id": "96067615-832c-4120-9743-589ea1e7fbed",
   "metadata": {},
   "outputs": [],
   "source": [
    "p.terminate()"
   ]
  },
  {
   "cell_type": "code",
   "execution_count": 74,
   "id": "37ea59d5-1447-4b58-928f-ce53ead0eaf2",
   "metadata": {},
   "outputs": [
    {
     "data": {
      "text/plain": [
       "False"
      ]
     },
     "execution_count": 74,
     "metadata": {},
     "output_type": "execute_result"
    }
   ],
   "source": [
    "p.is_alive()"
   ]
  },
  {
   "cell_type": "code",
   "execution_count": 75,
   "id": "41932b1d-0e1e-4be5-a8a8-0624d7211c73",
   "metadata": {},
   "outputs": [
    {
     "data": {
      "text/plain": [
       "['CONTAINER ID   IMAGE                          COMMAND                  CREATED              STATUS              PORTS                              NAMES',\n",
       " '5acedd8a6d6d   tensorflow/serving:2.7.4       \"/usr/bin/tf_serving…\"   About a minute ago   Up About a minute   8500/tcp, 0.0.0.0:8501->8501/tcp   thirsty_curie',\n",
       " 'cfc6fa1ae606   gcr.io/inverting-proxy/agent   \"/bin/sh -c \\'/opt/bi…\"   6 weeks ago          Up 3 days                                              proxy-agent']"
      ]
     },
     "execution_count": 75,
     "metadata": {},
     "output_type": "execute_result"
    }
   ],
   "source": [
    "docker = !docker ps -a\n",
    "docker"
   ]
  },
  {
   "cell_type": "code",
   "execution_count": 76,
   "id": "4e586b34-4859-45a1-b9d3-cd276d7ff0ed",
   "metadata": {},
   "outputs": [
    {
     "name": "stdout",
     "output_type": "stream",
     "text": [
      "thirsty_curie\n",
      "thirsty_curie\n",
      "5acedd8a6d6d\n"
     ]
    }
   ],
   "source": [
    "for d in docker:\n",
    "    if 'tensorflow/serving' in d:\n",
    "        print(d.split()[-1])\n",
    "        !docker stop {d.split()[-1]}\n",
    "        !docker rm {d.split()[0]}"
   ]
  },
  {
   "cell_type": "code",
   "execution_count": 77,
   "id": "1b882d56-d655-4e1b-9d60-ab177e895187",
   "metadata": {
    "tags": []
   },
   "outputs": [
    {
     "name": "stdout",
     "output_type": "stream",
     "text": [
      "CONTAINER ID   IMAGE                          COMMAND                  CREATED       STATUS      PORTS     NAMES\n",
      "cfc6fa1ae606   gcr.io/inverting-proxy/agent   \"/bin/sh -c '/opt/bi…\"   6 weeks ago   Up 3 days             proxy-agent\n"
     ]
    }
   ],
   "source": [
    "!docker ps -a"
   ]
  },
  {
   "cell_type": "code",
   "execution_count": null,
   "id": "b81e9e01-5b54-4ade-b7a5-5cb50273d3b4",
   "metadata": {},
   "outputs": [],
   "source": []
  }
 ],
 "metadata": {
  "environment": {
   "kernel": "python3",
   "name": "tf2-gpu.2-3.m94",
   "type": "gcloud",
   "uri": "gcr.io/deeplearning-platform-release/tf2-gpu.2-3:m94"
  },
  "kernelspec": {
   "display_name": "Python 3",
   "language": "python",
   "name": "python3"
  },
  "language_info": {
   "codemirror_mode": {
    "name": "ipython",
    "version": 3
   },
   "file_extension": ".py",
   "mimetype": "text/x-python",
   "name": "python",
   "nbconvert_exporter": "python",
   "pygments_lexer": "ipython3",
   "version": "3.7.12"
  }
 },
 "nbformat": 4,
 "nbformat_minor": 5
}
