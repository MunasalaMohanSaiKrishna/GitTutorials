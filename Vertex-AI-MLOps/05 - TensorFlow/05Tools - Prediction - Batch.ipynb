{
 "cells": [
  {
   "cell_type": "markdown",
   "id": "812cb758-b115-4962-a65f-763d5bb57e70",
   "metadata": {},
   "source": [
    "# 05Tools: Prediction - Batch\n",
    "Predictions from models created in the 05 series of notebooks.\n",
    "\n",
    "This notebook is part of collection of examples that showcase many ways to serve models:\n",
    "- Online:\n",
    "    - Vertex AI Endpoints: Python, REST, CLI (gcloud): [05Tools - Prediction - Online.ipynb](./05Tools%20-%20Prediction%20-%20Online.ipynb)\n",
    "    - Local with TensorFlow ModelServer: [05Tools - Prediction - Local.ipynb](./05Tools%20-%20Prediction%20-%20Local.ipynb)\n",
    "    - Custom: Build a custom container with TensorFlow ModelServer: [05Tools - Prediction - Custom.ipynb](./05Tools%20-%20Prediction%20-%20Custom.ipynb)\n",
    "        - Remote Service with Cloud Run\n",
    "        - Local Service with Docker Run\n",
    "- Batch: (**THIS NOTEBOOK**) [05Tools - Prediction - Batch.ipynb](./05Tools%20-%20Prediction%20-%20Batch.ipynb)\n",
    "    - BigQuery ML Model Import\n",
    "    - Vertex AI Batch Prediction Jobs\n",
    "\n",
    "**Prerequisites:**\n",
    "-  At least 1 of the notebooks in this series [05, 05a-05i]\n",
    "\n",
    "**Conceptual Flow & Workflow**\n",
    "\n",
    "<p align=\"center\">\n",
    "  <img alt=\"Conceptual Flow\" src=\"../architectures/slides/05tools_pred_arch.png\" width=\"45%\">\n",
    "&nbsp; &nbsp; &nbsp; &nbsp;\n",
    "  <img alt=\"Workflow\" src=\"../architectures/slides/05tools_pred_console.png\" width=\"45%\">\n",
    "</p>"
   ]
  },
  {
   "cell_type": "markdown",
   "id": "c4a64170-7e75-4a7d-8539-53b3b1e2113b",
   "metadata": {},
   "source": [
    "---\n",
    "## Setup"
   ]
  },
  {
   "cell_type": "markdown",
   "id": "26905490-3cc0-4cb4-b6e1-901b580affe2",
   "metadata": {},
   "source": [
    "inputs:"
   ]
  },
  {
   "cell_type": "code",
   "execution_count": 69,
   "id": "aad11a53-91d4-4079-aada-9835e86d4562",
   "metadata": {},
   "outputs": [
    {
     "data": {
      "text/plain": [
       "'statmike-mlops-349915'"
      ]
     },
     "execution_count": 69,
     "metadata": {},
     "output_type": "execute_result"
    }
   ],
   "source": [
    "project = !gcloud config get-value project\n",
    "PROJECT_ID = project[0]\n",
    "PROJECT_ID"
   ]
  },
  {
   "cell_type": "code",
   "execution_count": 70,
   "id": "5967011a-853b-46f0-a4ae-f5a6ab0259b5",
   "metadata": {},
   "outputs": [],
   "source": [
    "REGION = 'us-central1'\n",
    "EXPERIMENT = '05_predictions'\n",
    "SERIES = '05'\n",
    "\n",
    "# source data\n",
    "BQ_PROJECT = PROJECT_ID\n",
    "BQ_DATASET = 'fraud'\n",
    "BQ_TABLE = 'fraud_prepped'\n",
    "\n",
    "# Resources\n",
    "DEPLOY_COMPUTE = 'n1-standard-4'\n",
    "DEPLOY_IMAGE='us-docker.pkg.dev/vertex-ai/prediction/tf2-cpu.2-7:latest'\n",
    "\n",
    "# Model Training\n",
    "VAR_TARGET = 'Class'\n",
    "VAR_OMIT = 'transaction_id' # add more variables to the string with space delimiters"
   ]
  },
  {
   "cell_type": "markdown",
   "id": "911c50ec-dcb3-414e-aa13-0d5c32641090",
   "metadata": {},
   "source": [
    "packages:"
   ]
  },
  {
   "cell_type": "code",
   "execution_count": 71,
   "id": "f47f1269-b74f-4416-b058-27f41cfc4ee2",
   "metadata": {},
   "outputs": [],
   "source": [
    "from google.cloud import aiplatform\n",
    "from google.cloud import bigquery\n",
    "from datetime import datetime"
   ]
  },
  {
   "cell_type": "markdown",
   "id": "c08fd939-16b0-44fa-a61f-adbdc893a1cc",
   "metadata": {},
   "source": [
    "clients:"
   ]
  },
  {
   "cell_type": "code",
   "execution_count": 72,
   "id": "295740e5-bb48-4c4d-b234-d0b692a45faf",
   "metadata": {},
   "outputs": [],
   "source": [
    "aiplatform.init(project=PROJECT_ID, location=REGION)\n",
    "bq = bigquery.Client()"
   ]
  },
  {
   "cell_type": "markdown",
   "id": "94e4948d-bf38-4f6f-a5a3-107d64da5ce3",
   "metadata": {},
   "source": [
    "parameters:"
   ]
  },
  {
   "cell_type": "code",
   "execution_count": 73,
   "id": "33b451f8-b7db-4ba1-abc0-94f2fff530c0",
   "metadata": {},
   "outputs": [],
   "source": [
    "BUCKET = PROJECT_ID\n",
    "DIR = f\"temp/{EXPERIMENT}\""
   ]
  },
  {
   "cell_type": "markdown",
   "id": "718d69c6-285a-44be-ac78-8d159edd108b",
   "metadata": {},
   "source": [
    "environment:"
   ]
  },
  {
   "cell_type": "code",
   "execution_count": 74,
   "id": "152dc4a8-855e-4041-bfcf-9265ecc6ee7c",
   "metadata": {},
   "outputs": [],
   "source": [
    "!rm -rf {DIR}\n",
    "!mkdir -p {DIR}"
   ]
  },
  {
   "cell_type": "markdown",
   "id": "0e538060-bb86-44d8-a0ac-f9cbfa9d3f26",
   "metadata": {},
   "source": [
    "---\n",
    "## Get a Model For Predictions\n",
    "This project already has a model serving online predictions at a Vertex AI Endpoint.  This section will use the endpoint to retrieve the deployed model and get its information to use for batch prediction methods in this notebook."
   ]
  },
  {
   "cell_type": "markdown",
   "id": "5e5e00b6-f713-426d-b846-a8f326392255",
   "metadata": {},
   "source": [
    "### Get Endpoint\n",
    "\n",
    "[Endpoint Properties and Methods](https://cloud.google.com/python/docs/reference/aiplatform/latest/google.cloud.aiplatform.Endpoint):\n",
    "\n",
    "```python\n",
    "endpoint\n",
    "endpoint.display_name\n",
    "endpoint.resource_name\n",
    "endpoint.traffic_split\n",
    "endpoint.list_models()\n",
    "```"
   ]
  },
  {
   "cell_type": "code",
   "execution_count": 75,
   "id": "dae75e08-4c05-4b50-9eb6-55ad851c404d",
   "metadata": {},
   "outputs": [],
   "source": [
    "endpoints = aiplatform.Endpoint.list(filter = f\"labels.series={SERIES}\")\n",
    "endpoint = endpoints[0]"
   ]
  },
  {
   "cell_type": "code",
   "execution_count": 76,
   "id": "8dc802ff-cc5b-484c-8f1c-7aea6a89f9a3",
   "metadata": {},
   "outputs": [
    {
     "name": "stdout",
     "output_type": "stream",
     "text": [
      "Review the Endpoint in the Console:\n",
      "https://console.cloud.google.com/vertex-ai/locations/us-central1/endpoints/1961322035766362112?project=statmike-mlops-349915\n"
     ]
    }
   ],
   "source": [
    "print(f'Review the Endpoint in the Console:\\nhttps://console.cloud.google.com/vertex-ai/locations/{REGION}/endpoints/{endpoint.name}?project={PROJECT_ID}')"
   ]
  },
  {
   "cell_type": "markdown",
   "id": "c3393ded-075a-4535-9498-7d9fa4ee5e5a",
   "metadata": {},
   "source": [
    "### Get Model at Endpoint\n",
    "Using the model on the endpoint for the current series:"
   ]
  },
  {
   "cell_type": "code",
   "execution_count": 77,
   "id": "909d9897-ab16-43eb-8baf-1aa860437396",
   "metadata": {},
   "outputs": [
    {
     "data": {
      "text/plain": [
       "<google.cloud.aiplatform.models.Endpoint object at 0x7fd6f8030d50> \n",
       "resource name: projects/1026793852137/locations/us-central1/endpoints/1961322035766362112"
      ]
     },
     "execution_count": 77,
     "metadata": {},
     "output_type": "execute_result"
    }
   ],
   "source": [
    "endpoint"
   ]
  },
  {
   "cell_type": "code",
   "execution_count": 78,
   "id": "b1df783a-386f-4782-aebe-3edec7a2efec",
   "metadata": {},
   "outputs": [],
   "source": [
    "#endpoint.list_models()[0]"
   ]
  },
  {
   "cell_type": "code",
   "execution_count": 79,
   "id": "418340ff-c687-4370-b748-e6fd16e1133c",
   "metadata": {},
   "outputs": [],
   "source": [
    "model = aiplatform.Model(\n",
    "    model_name = endpoint.list_models()[0].model+f'@{endpoint.list_models()[0].model_version_id}'\n",
    ")"
   ]
  },
  {
   "cell_type": "markdown",
   "id": "c12334b1-6c65-4156-804a-8b9ffe82237a",
   "metadata": {},
   "source": [
    "### Review Model Information"
   ]
  },
  {
   "cell_type": "code",
   "execution_count": 80,
   "id": "99ed7230-e41e-4233-ba2c-598835f5be20",
   "metadata": {},
   "outputs": [
    {
     "data": {
      "text/plain": [
       "'05_05h'"
      ]
     },
     "execution_count": 80,
     "metadata": {},
     "output_type": "execute_result"
    }
   ],
   "source": [
    "model.display_name"
   ]
  },
  {
   "cell_type": "code",
   "execution_count": 81,
   "id": "0ef2ca94-ce8f-4baf-b65a-d0105375e9bc",
   "metadata": {},
   "outputs": [
    {
     "data": {
      "text/plain": [
       "'projects/1026793852137/locations/us-central1/models/model_05_05h'"
      ]
     },
     "execution_count": 81,
     "metadata": {},
     "output_type": "execute_result"
    }
   ],
   "source": [
    "model.resource_name"
   ]
  },
  {
   "cell_type": "code",
   "execution_count": 82,
   "id": "c9a2a979-d1db-4700-a830-abf4671215de",
   "metadata": {},
   "outputs": [
    {
     "data": {
      "text/plain": [
       "'1'"
      ]
     },
     "execution_count": 82,
     "metadata": {},
     "output_type": "execute_result"
    }
   ],
   "source": [
    "model.version_id"
   ]
  },
  {
   "cell_type": "code",
   "execution_count": 83,
   "id": "5c403f5f-c1c9-4c00-bf52-05d29ed3626a",
   "metadata": {},
   "outputs": [
    {
     "data": {
      "text/plain": [
       "'run-20220927230247-6'"
      ]
     },
     "execution_count": 83,
     "metadata": {},
     "output_type": "execute_result"
    }
   ],
   "source": [
    "model.version_description"
   ]
  },
  {
   "cell_type": "code",
   "execution_count": 84,
   "id": "27899830-24e4-4d5c-8f2f-fd9918128fe8",
   "metadata": {},
   "outputs": [
    {
     "data": {
      "text/plain": [
       "'projects/1026793852137/locations/us-central1/models/model_05_05h@1'"
      ]
     },
     "execution_count": 84,
     "metadata": {},
     "output_type": "execute_result"
    }
   ],
   "source": [
    "model.versioned_resource_name"
   ]
  },
  {
   "cell_type": "code",
   "execution_count": 85,
   "id": "20c273da-c917-4a08-bd3d-e35bfeff395b",
   "metadata": {},
   "outputs": [
    {
     "data": {
      "text/plain": [
       "['jsonl', 'bigquery', 'csv', 'tf-record', 'tf-record-gzip', 'file-list']"
      ]
     },
     "execution_count": 85,
     "metadata": {},
     "output_type": "execute_result"
    }
   ],
   "source": [
    "model.supported_input_storage_formats"
   ]
  },
  {
   "cell_type": "code",
   "execution_count": 86,
   "id": "ead5efd2-4cd4-45e4-bd45-ee4100f88ae0",
   "metadata": {},
   "outputs": [
    {
     "data": {
      "text/plain": [
       "'model_05_05h'"
      ]
     },
     "execution_count": 86,
     "metadata": {},
     "output_type": "execute_result"
    }
   ],
   "source": [
    "model.name"
   ]
  },
  {
   "cell_type": "code",
   "execution_count": 87,
   "id": "cad7faa2-0dff-43d5-8735-9d166428c099",
   "metadata": {},
   "outputs": [
    {
     "data": {
      "text/plain": [
       "'gs://statmike-mlops-349915/05/05h/models/20220927230247/6/model'"
      ]
     },
     "execution_count": 87,
     "metadata": {},
     "output_type": "execute_result"
    }
   ],
   "source": [
    "model.uri"
   ]
  },
  {
   "cell_type": "code",
   "execution_count": 88,
   "id": "188209f9-9cf9-4bdc-9c44-4fae99c893e4",
   "metadata": {},
   "outputs": [
    {
     "name": "stdout",
     "output_type": "stream",
     "text": [
      "Review the model in the Vertex AI Model Registry:\n",
      "https://console.cloud.google.com/vertex-ai/locations/us-central1/models/model_05_05h/versions/1/properties?project=statmike-mlops-349915\n"
     ]
    }
   ],
   "source": [
    "print(f'Review the model in the Vertex AI Model Registry:\\nhttps://console.cloud.google.com/vertex-ai/locations/{REGION}/models/{model.name}/versions/{model.version_id}/properties?project={PROJECT_ID}')"
   ]
  },
  {
   "cell_type": "markdown",
   "id": "f0507409-b270-4f45-a56a-5c7a56398ce5",
   "metadata": {},
   "source": [
    "#### Review Model Information Using the `aiplatform_v1` Model Client\n",
    "It may also be helpful to try the [ModelServiceClient](https://cloud.google.com/python/docs/reference/aiplatform/latest/google.cloud.aiplatform_v1.services.model_service.ModelServiceClient) in version 1 of the client to review the model attributes.  Here is example code for trying this.\n",
    "\n",
    "Curious about client versions and layers?  Check out this tip document [aiplatform_notes.md](../Tips/aiplatform_notes.md)."
   ]
  },
  {
   "cell_type": "code",
   "execution_count": 89,
   "id": "e2c1ff70-effe-4192-ba1b-d599acf5ba0c",
   "metadata": {},
   "outputs": [
    {
     "data": {
      "text/plain": [
       "name: \"projects/1026793852137/locations/us-central1/models/model_05_05h@1\"\n",
       "display_name: \"05_05h\"\n",
       "predict_schemata {\n",
       "}\n",
       "metadata {\n",
       "}\n",
       "container_spec {\n",
       "  image_uri: \"us-docker.pkg.dev/vertex-ai/prediction/tf2-cpu.2-7:latest\"\n",
       "}\n",
       "supported_deployment_resources_types: DEDICATED_RESOURCES\n",
       "supported_deployment_resources_types: SHARED_RESOURCES\n",
       "supported_input_storage_formats: \"jsonl\"\n",
       "supported_input_storage_formats: \"bigquery\"\n",
       "supported_input_storage_formats: \"csv\"\n",
       "supported_input_storage_formats: \"tf-record\"\n",
       "supported_input_storage_formats: \"tf-record-gzip\"\n",
       "supported_input_storage_formats: \"file-list\"\n",
       "supported_output_storage_formats: \"jsonl\"\n",
       "supported_output_storage_formats: \"bigquery\"\n",
       "create_time {\n",
       "  seconds: 1664323764\n",
       "  nanos: 618427000\n",
       "}\n",
       "update_time {\n",
       "  seconds: 1664323768\n",
       "  nanos: 500624000\n",
       "}\n",
       "deployed_models {\n",
       "  endpoint: \"projects/1026793852137/locations/us-central1/endpoints/1961322035766362112\"\n",
       "  deployed_model_id: \"6805735083375329280\"\n",
       "}\n",
       "etag: \"AMEw9yOo5fYIiRdxXZz7MdO83uTbQZUONZSXFkD8ZoHdo76wFkw8wqW4uwYo8ENEY564\"\n",
       "labels {\n",
       "  key: \"experiment\"\n",
       "  value: \"05h\"\n",
       "}\n",
       "labels {\n",
       "  key: \"experiment_name\"\n",
       "  value: \"experiment-05-05h-tf-classification-dnn\"\n",
       "}\n",
       "labels {\n",
       "  key: \"run_name\"\n",
       "  value: \"run-20220927230247-6\"\n",
       "}\n",
       "labels {\n",
       "  key: \"series\"\n",
       "  value: \"05\"\n",
       "}\n",
       "supported_export_formats {\n",
       "  id: \"custom-trained\"\n",
       "  exportable_contents: ARTIFACT\n",
       "}\n",
       "artifact_uri: \"gs://statmike-mlops-349915/05/05h/models/20220927230247/6/model\"\n",
       "version_id: \"1\"\n",
       "version_aliases: \"run-20220927230247-6\"\n",
       "version_aliases: \"default\"\n",
       "version_description: \"run-20220927230247-6\"\n",
       "version_create_time {\n",
       "  seconds: 1664323764\n",
       "  nanos: 618427000\n",
       "}\n",
       "version_update_time {\n",
       "  seconds: 1664323768\n",
       "  nanos: 500624000\n",
       "}"
      ]
     },
     "execution_count": 89,
     "metadata": {},
     "output_type": "execute_result"
    }
   ],
   "source": [
    "from google.cloud import aiplatform_v1\n",
    "\n",
    "client_options = {\"api_endpoint\": f\"{REGION}-aiplatform.googleapis.com\"}\n",
    "ModelClientv1 = aiplatform_v1.ModelServiceClient(client_options = client_options)\n",
    "\n",
    "ModelClientv1.get_model(\n",
    "    name = model.versioned_resource_name\n",
    ")"
   ]
  },
  {
   "cell_type": "markdown",
   "id": "5eed5094-e970-468b-999f-b0c41ec1ed4d",
   "metadata": {},
   "source": [
    "---\n",
    "## Vertex AI Batch Prediction Jobs\n",
    "\n",
    "Create a [Vertex AI Batch Predictions](https://cloud.google.com/vertex-ai/docs/predictions/batch-predictions#aiplatform_batch_predict_custom_trained-python) Job in one of these ways:\n",
    "- Directly with [aiplatform.BatchPredictionJob.create()](https://cloud.google.com/python/docs/reference/aiplatform/latest/google.cloud.aiplatform.BatchPredictionJob)\n",
    "- From a Model with [aiplatform.Model.batch_predict()](https://cloud.google.com/python/docs/reference/aiplatform/latest/google.cloud.aiplatform.Model#google_cloud_aiplatform_Model_batch_predict)\n",
    "- From JobServiceClient with [aiplatform_v1.JobServiceClient.create_batch_prediction_job()](https://cloud.google.com/python/docs/reference/aiplatform/latest/google.cloud.aiplatform_v1.services.job_service.JobServiceClient#google_cloud_aiplatform_v1_services_job_service_JobServiceClient_create_batch_prediction_job)\n",
    "- From JobServiceClient with [aiplatform_v1beta1.JobServiceClient.create_batch_prediction_job()](https://cloud.google.com/python/docs/reference/aiplatform/latest/google.cloud.aiplatform_v1beta1.services.job_service.JobServiceClient#google_cloud_aiplatform_v1beta1_services_job_service_JobServiceClient_create_batch_prediction_job)"
   ]
  },
  {
   "cell_type": "markdown",
   "id": "6cf46eb3-cb76-4d8f-b9c5-cad9a2de4904",
   "metadata": {},
   "source": [
    "---\n",
    "### Batch Prediction Job With JSONL\n",
    "This process will export a BigQuery table to JSONL, use a Vertex AI Batch Prediction Job to create predictions, then import the result into BigQuery"
   ]
  },
  {
   "cell_type": "markdown",
   "id": "42a4872b-6b88-404e-94d2-1722745d7b31",
   "metadata": {},
   "source": [
    "#### BigQuery Extract To JSONL in GCS\n",
    "The Batch Prediction job will validate the provided JSONL to the model and will not accept additional columns.  It is also important to note that when BigQuery exports to JSONL it wraps INT64 values in qoutes which makes them appear as strings.  For this reason, I first cast the INT64 columns to FLOAT64 before exporting."
   ]
  },
  {
   "cell_type": "code",
   "execution_count": 90,
   "id": "d3a05d88-33c9-4ee1-8b2c-7fac4c121765",
   "metadata": {},
   "outputs": [
    {
     "data": {
      "text/plain": [
       "<google.cloud.bigquery.table._EmptyRowIterator at 0x7fd76b3b1f10>"
      ]
     },
     "execution_count": 90,
     "metadata": {},
     "output_type": "execute_result"
    }
   ],
   "source": [
    "# Exports to JSON appear to wrap INT64 types in qoutes\n",
    "job = bq.query(\n",
    "    query = f\"\"\"\n",
    "        CREATE OR REPLACE TABLE `{BQ_PROJECT}.{BQ_DATASET}.{BQ_TABLE}_json` AS\n",
    "            SELECT * EXCEPT(Time, Class, transaction_id, splits), CAST(Time AS FLOAT64) AS Time\n",
    "            FROM `{BQ_PROJECT}.{BQ_DATASET}.{BQ_TABLE}`\n",
    "    \"\"\"\n",
    ")\n",
    "job.result()"
   ]
  },
  {
   "cell_type": "code",
   "execution_count": 22,
   "id": "77f876fc-fa11-42ef-8776-7f766b80a58c",
   "metadata": {},
   "outputs": [],
   "source": [
    "ds = bigquery.DatasetReference(BQ_PROJECT, BQ_DATASET)\n",
    "tb = ds.table(f'{BQ_TABLE}_json')\n",
    "extractJob = bq.extract_table(\n",
    "    source = tb,\n",
    "    destination_uris = [f'gs://{BUCKET}/{SERIES}/{EXPERIMENT}/data/jsonl/{BQ_TABLE}.json'],\n",
    "    job_config = bigquery.job.ExtractJobConfig(destination_format = bigquery.DestinationFormat.NEWLINE_DELIMITED_JSON)\n",
    ")"
   ]
  },
  {
   "cell_type": "code",
   "execution_count": 23,
   "id": "4ae32f17-8945-4445-b75f-28045c8fa511",
   "metadata": {},
   "outputs": [
    {
     "data": {
      "text/plain": [
       "ExtractJob<project=statmike-mlops-349915, location=us-central1, id=57a152de-15b2-47ce-bc13-cb15cb957348>"
      ]
     },
     "execution_count": 23,
     "metadata": {},
     "output_type": "execute_result"
    }
   ],
   "source": [
    "extractJob.result()"
   ]
  },
  {
   "cell_type": "markdown",
   "id": "f2129c3d-5d69-4f61-91d3-7f41bf5fe9bf",
   "metadata": {},
   "source": [
    "#### Batch Prediction Job"
   ]
  },
  {
   "cell_type": "code",
   "execution_count": 25,
   "id": "01b70125-77c2-4b2c-a1cf-1cb437e74e9d",
   "metadata": {},
   "outputs": [
    {
     "data": {
      "text/plain": [
       "{'series': '05',\n",
       " 'experiment_name': 'experiment-05-05h-tf-classification-dnn',\n",
       " 'run_name': 'run-20220927230247-6',\n",
       " 'experiment': '05h'}"
      ]
     },
     "execution_count": 25,
     "metadata": {},
     "output_type": "execute_result"
    }
   ],
   "source": [
    "model.labels"
   ]
  },
  {
   "cell_type": "code",
   "execution_count": 26,
   "id": "994d780c-4ac8-41b5-9933-6599c1dd4dc0",
   "metadata": {},
   "outputs": [
    {
     "name": "stdout",
     "output_type": "stream",
     "text": [
      "Creating BatchPredictionJob\n",
      "BatchPredictionJob created. Resource name: projects/1026793852137/locations/us-central1/batchPredictionJobs/999720777072771072\n",
      "To use this BatchPredictionJob in another session:\n",
      "bpj = aiplatform.BatchPredictionJob('projects/1026793852137/locations/us-central1/batchPredictionJobs/999720777072771072')\n",
      "View Batch Prediction Job:\n",
      "https://console.cloud.google.com/ai/platform/locations/us-central1/batch-predictions/999720777072771072?project=1026793852137\n"
     ]
    }
   ],
   "source": [
    "TIMESTAMP = datetime.now().strftime(\"%Y%m%d%H%M%S\")\n",
    "batchJob = aiplatform.BatchPredictionJob.create(\n",
    "    job_display_name = f'{SERIES}_{EXPERIMENT}_{TIMESTAMP}',\n",
    "    model_name = model.versioned_resource_name,\n",
    "    labels = model.labels,\n",
    "    instances_format = 'jsonl',\n",
    "    predictions_format = 'jsonl',\n",
    "    gcs_source = f'gs://{BUCKET}/{SERIES}/{EXPERIMENT}/data/jsonl/{BQ_TABLE}.json',\n",
    "    gcs_destination_prefix = f'gs://{BUCKET}/{SERIES}/{EXPERIMENT}/data/jsonl/predictions_{TIMESTAMP}',\n",
    "    machine_type = 'n1-standard-8', #DEPLOY_COMPUTE,\n",
    "    accelerator_count = 0,\n",
    "    starting_replica_count = 1,\n",
    "    max_replica_count = 10,\n",
    "    batch_size = 1000,\n",
    "    sync = False #if True the call will wait for the job to complete\n",
    ")"
   ]
  },
  {
   "cell_type": "code",
   "execution_count": 27,
   "id": "8b4dc425-774a-41a6-a3f3-c1e2767f3003",
   "metadata": {
    "scrolled": true,
    "tags": []
   },
   "outputs": [
    {
     "name": "stdout",
     "output_type": "stream",
     "text": [
      "BatchPredictionJob projects/1026793852137/locations/us-central1/batchPredictionJobs/999720777072771072 current state:\n",
      "JobState.JOB_STATE_RUNNING\n",
      "BatchPredictionJob projects/1026793852137/locations/us-central1/batchPredictionJobs/999720777072771072 current state:\n",
      "JobState.JOB_STATE_RUNNING\n",
      "BatchPredictionJob projects/1026793852137/locations/us-central1/batchPredictionJobs/999720777072771072 current state:\n",
      "JobState.JOB_STATE_RUNNING\n",
      "BatchPredictionJob projects/1026793852137/locations/us-central1/batchPredictionJobs/999720777072771072 current state:\n",
      "JobState.JOB_STATE_RUNNING\n",
      "BatchPredictionJob projects/1026793852137/locations/us-central1/batchPredictionJobs/999720777072771072 current state:\n",
      "JobState.JOB_STATE_RUNNING\n",
      "BatchPredictionJob projects/1026793852137/locations/us-central1/batchPredictionJobs/999720777072771072 current state:\n",
      "JobState.JOB_STATE_RUNNING\n",
      "BatchPredictionJob projects/1026793852137/locations/us-central1/batchPredictionJobs/999720777072771072 current state:\n",
      "JobState.JOB_STATE_RUNNING\n",
      "BatchPredictionJob projects/1026793852137/locations/us-central1/batchPredictionJobs/999720777072771072 current state:\n",
      "JobState.JOB_STATE_RUNNING\n",
      "BatchPredictionJob projects/1026793852137/locations/us-central1/batchPredictionJobs/999720777072771072 current state:\n",
      "JobState.JOB_STATE_RUNNING\n",
      "BatchPredictionJob projects/1026793852137/locations/us-central1/batchPredictionJobs/999720777072771072 current state:\n",
      "JobState.JOB_STATE_RUNNING\n",
      "BatchPredictionJob projects/1026793852137/locations/us-central1/batchPredictionJobs/999720777072771072 current state:\n",
      "JobState.JOB_STATE_SUCCEEDED\n",
      "BatchPredictionJob run completed. Resource name: projects/1026793852137/locations/us-central1/batchPredictionJobs/999720777072771072\n"
     ]
    }
   ],
   "source": [
    "batchJob.wait()"
   ]
  },
  {
   "cell_type": "code",
   "execution_count": 47,
   "id": "92557c22-15e3-498c-b621-820f6755057a",
   "metadata": {},
   "outputs": [
    {
     "name": "stdout",
     "output_type": "stream",
     "text": [
      "Review the Batch Prediction Job in the Console here:\n",
      "https://console.cloud.google.com/vertex-ai/locations/us-central1/batch-predictions/999720777072771072?project=statmike-mlops-349915\n"
     ]
    }
   ],
   "source": [
    "print(f'Review the Batch Prediction Job in the Console here:\\nhttps://console.cloud.google.com/vertex-ai/locations/{REGION}/batch-predictions/{batchJob.name}?project={PROJECT_ID}')"
   ]
  },
  {
   "cell_type": "markdown",
   "id": "8d82dc87-563a-45e5-a213-337c10e274f2",
   "metadata": {},
   "source": [
    "#### Move the Prediction to a BigQuery Table: Predictions > BigQuery"
   ]
  },
  {
   "cell_type": "code",
   "execution_count": 28,
   "id": "acd147e7-8811-4752-96f7-fc369d2c851a",
   "metadata": {},
   "outputs": [
    {
     "data": {
      "text/plain": [
       "'gs://statmike-mlops-349915/05/05_predictions/data/jsonl/predictions_20220928164702/prediction-05_05h-2022_09_28T09_47_02_215Z'"
      ]
     },
     "execution_count": 28,
     "metadata": {},
     "output_type": "execute_result"
    }
   ],
   "source": [
    "batchJob.output_info.gcs_output_directory"
   ]
  },
  {
   "cell_type": "code",
   "execution_count": 29,
   "id": "b7960833-e363-4b37-b371-db492a442857",
   "metadata": {},
   "outputs": [],
   "source": [
    "job_config = bigquery.LoadJobConfig(\n",
    "    source_format = bigquery.SourceFormat.NEWLINE_DELIMITED_JSON,\n",
    "    write_disposition = bigquery.WriteDisposition.WRITE_TRUNCATE, #.WRITE_APPEND, #.WRITE_TRUNCATE,\n",
    "    create_disposition = bigquery.CreateDisposition.CREATE_IF_NEEDED,\n",
    "    autodetect = True\n",
    ")"
   ]
  },
  {
   "cell_type": "code",
   "execution_count": 30,
   "id": "5d71b630-8196-42f3-9c0a-8944a4bc44eb",
   "metadata": {},
   "outputs": [
    {
     "data": {
      "text/plain": [
       "LoadJob<project=statmike-mlops-349915, location=us-central1, id=c520096f-d1c4-4eb7-9a67-79fddde41612>"
      ]
     },
     "execution_count": 30,
     "metadata": {},
     "output_type": "execute_result"
    }
   ],
   "source": [
    "tb = ds.table(f'{BQ_TABLE}_predictions_{TIMESTAMP}')\n",
    "load_job = bq.load_table_from_uri(\n",
    "    source_uris = f\"{batchJob.output_info.gcs_output_directory}/*\",\n",
    "    destination = tb,\n",
    "    job_config = job_config\n",
    ")\n",
    "load_job.result()"
   ]
  },
  {
   "cell_type": "code",
   "execution_count": 31,
   "id": "2e56b5ac-43ae-4f93-a583-0d0e51c1e913",
   "metadata": {},
   "outputs": [
    {
     "data": {
      "text/plain": [
       "<google.cloud.bigquery.table._EmptyRowIterator at 0x7fd6f837f750>"
      ]
     },
     "execution_count": 31,
     "metadata": {},
     "output_type": "execute_result"
    }
   ],
   "source": [
    "job = bq.query(\n",
    "    query = f\"\"\"\n",
    "        CREATE OR REPLACE TABLE `{BQ_PROJECT}.{BQ_DATASET}.{BQ_TABLE}_predictions_{TIMESTAMP}` AS\n",
    "            SELECT instance.*, confidence, predicted_Class\n",
    "            FROM `{BQ_PROJECT}.{BQ_DATASET}.{BQ_TABLE}_predictions_{TIMESTAMP}`\n",
    "            CROSS JOIN\n",
    "            UNNEST(prediction) as confidence WITH OFFSET predicted_Class\n",
    "            WHERE confidence > 0.5\n",
    "    \"\"\"\n",
    ")\n",
    "job.result()"
   ]
  },
  {
   "cell_type": "code",
   "execution_count": 32,
   "id": "492f350d-fecb-4087-91ed-f4e4039fefa3",
   "metadata": {},
   "outputs": [
    {
     "data": {
      "text/html": [
       "<div>\n",
       "<style scoped>\n",
       "    .dataframe tbody tr th:only-of-type {\n",
       "        vertical-align: middle;\n",
       "    }\n",
       "\n",
       "    .dataframe tbody tr th {\n",
       "        vertical-align: top;\n",
       "    }\n",
       "\n",
       "    .dataframe thead th {\n",
       "        text-align: right;\n",
       "    }\n",
       "</style>\n",
       "<table border=\"1\" class=\"dataframe\">\n",
       "  <thead>\n",
       "    <tr style=\"text-align: right;\">\n",
       "      <th></th>\n",
       "      <th>Time</th>\n",
       "      <th>Amount</th>\n",
       "      <th>V28</th>\n",
       "      <th>V27</th>\n",
       "      <th>V25</th>\n",
       "      <th>V23</th>\n",
       "      <th>V22</th>\n",
       "      <th>V13</th>\n",
       "      <th>V20</th>\n",
       "      <th>V18</th>\n",
       "      <th>...</th>\n",
       "      <th>V14</th>\n",
       "      <th>V8</th>\n",
       "      <th>V19</th>\n",
       "      <th>V11</th>\n",
       "      <th>V6</th>\n",
       "      <th>V21</th>\n",
       "      <th>V4</th>\n",
       "      <th>V1</th>\n",
       "      <th>confidence</th>\n",
       "      <th>predicted_Class</th>\n",
       "    </tr>\n",
       "  </thead>\n",
       "  <tbody>\n",
       "    <tr>\n",
       "      <th>0</th>\n",
       "      <td>33641</td>\n",
       "      <td>0.0</td>\n",
       "      <td>0.028651</td>\n",
       "      <td>0.048237</td>\n",
       "      <td>0.167130</td>\n",
       "      <td>0.096092</td>\n",
       "      <td>-0.120130</td>\n",
       "      <td>-1.692193</td>\n",
       "      <td>-0.305254</td>\n",
       "      <td>-0.439433</td>\n",
       "      <td>...</td>\n",
       "      <td>-0.045731</td>\n",
       "      <td>0.400944</td>\n",
       "      <td>-1.188879</td>\n",
       "      <td>-1.025257</td>\n",
       "      <td>0.580852</td>\n",
       "      <td>-0.078653</td>\n",
       "      <td>2.677320</td>\n",
       "      <td>1.081841</td>\n",
       "      <td>0.999834</td>\n",
       "      <td>0</td>\n",
       "    </tr>\n",
       "    <tr>\n",
       "      <th>1</th>\n",
       "      <td>142287</td>\n",
       "      <td>0.0</td>\n",
       "      <td>-0.056739</td>\n",
       "      <td>0.011784</td>\n",
       "      <td>-0.256187</td>\n",
       "      <td>0.150500</td>\n",
       "      <td>1.301533</td>\n",
       "      <td>-0.259683</td>\n",
       "      <td>-0.068230</td>\n",
       "      <td>-0.438197</td>\n",
       "      <td>...</td>\n",
       "      <td>-0.184497</td>\n",
       "      <td>0.030861</td>\n",
       "      <td>0.537967</td>\n",
       "      <td>0.961910</td>\n",
       "      <td>-0.602462</td>\n",
       "      <td>0.443190</td>\n",
       "      <td>-0.904821</td>\n",
       "      <td>2.133280</td>\n",
       "      <td>0.999989</td>\n",
       "      <td>0</td>\n",
       "    </tr>\n",
       "    <tr>\n",
       "      <th>2</th>\n",
       "      <td>67511</td>\n",
       "      <td>0.0</td>\n",
       "      <td>0.041391</td>\n",
       "      <td>0.300076</td>\n",
       "      <td>-0.368140</td>\n",
       "      <td>-0.163398</td>\n",
       "      <td>0.223127</td>\n",
       "      <td>-0.916773</td>\n",
       "      <td>-0.245192</td>\n",
       "      <td>-0.706260</td>\n",
       "      <td>...</td>\n",
       "      <td>0.800525</td>\n",
       "      <td>0.913627</td>\n",
       "      <td>-0.742845</td>\n",
       "      <td>-1.366311</td>\n",
       "      <td>-0.775504</td>\n",
       "      <td>0.073028</td>\n",
       "      <td>-0.375810</td>\n",
       "      <td>-1.585593</td>\n",
       "      <td>0.999999</td>\n",
       "      <td>0</td>\n",
       "    </tr>\n",
       "    <tr>\n",
       "      <th>3</th>\n",
       "      <td>146702</td>\n",
       "      <td>0.0</td>\n",
       "      <td>0.264933</td>\n",
       "      <td>0.353284</td>\n",
       "      <td>-1.047032</td>\n",
       "      <td>0.006383</td>\n",
       "      <td>1.513855</td>\n",
       "      <td>-1.727013</td>\n",
       "      <td>-0.335867</td>\n",
       "      <td>0.357580</td>\n",
       "      <td>...</td>\n",
       "      <td>2.076218</td>\n",
       "      <td>0.939516</td>\n",
       "      <td>0.076008</td>\n",
       "      <td>-0.403928</td>\n",
       "      <td>-1.684399</td>\n",
       "      <td>0.537311</td>\n",
       "      <td>-0.556876</td>\n",
       "      <td>-1.090239</td>\n",
       "      <td>1.000000</td>\n",
       "      <td>0</td>\n",
       "    </tr>\n",
       "    <tr>\n",
       "      <th>4</th>\n",
       "      <td>78582</td>\n",
       "      <td>0.0</td>\n",
       "      <td>0.036349</td>\n",
       "      <td>0.044793</td>\n",
       "      <td>0.307404</td>\n",
       "      <td>0.042671</td>\n",
       "      <td>-0.071119</td>\n",
       "      <td>0.322105</td>\n",
       "      <td>-0.145716</td>\n",
       "      <td>-0.235315</td>\n",
       "      <td>...</td>\n",
       "      <td>-0.470986</td>\n",
       "      <td>0.148990</td>\n",
       "      <td>-0.844085</td>\n",
       "      <td>-0.906068</td>\n",
       "      <td>0.157896</td>\n",
       "      <td>-0.083325</td>\n",
       "      <td>2.707886</td>\n",
       "      <td>1.126433</td>\n",
       "      <td>0.999672</td>\n",
       "      <td>0</td>\n",
       "    </tr>\n",
       "  </tbody>\n",
       "</table>\n",
       "<p>5 rows × 32 columns</p>\n",
       "</div>"
      ],
      "text/plain": [
       "     Time  Amount       V28       V27       V25       V23       V22       V13  \\\n",
       "0   33641     0.0  0.028651  0.048237  0.167130  0.096092 -0.120130 -1.692193   \n",
       "1  142287     0.0 -0.056739  0.011784 -0.256187  0.150500  1.301533 -0.259683   \n",
       "2   67511     0.0  0.041391  0.300076 -0.368140 -0.163398  0.223127 -0.916773   \n",
       "3  146702     0.0  0.264933  0.353284 -1.047032  0.006383  1.513855 -1.727013   \n",
       "4   78582     0.0  0.036349  0.044793  0.307404  0.042671 -0.071119  0.322105   \n",
       "\n",
       "        V20       V18  ...       V14        V8       V19       V11        V6  \\\n",
       "0 -0.305254 -0.439433  ... -0.045731  0.400944 -1.188879 -1.025257  0.580852   \n",
       "1 -0.068230 -0.438197  ... -0.184497  0.030861  0.537967  0.961910 -0.602462   \n",
       "2 -0.245192 -0.706260  ...  0.800525  0.913627 -0.742845 -1.366311 -0.775504   \n",
       "3 -0.335867  0.357580  ...  2.076218  0.939516  0.076008 -0.403928 -1.684399   \n",
       "4 -0.145716 -0.235315  ... -0.470986  0.148990 -0.844085 -0.906068  0.157896   \n",
       "\n",
       "        V21        V4        V1  confidence  predicted_Class  \n",
       "0 -0.078653  2.677320  1.081841    0.999834                0  \n",
       "1  0.443190 -0.904821  2.133280    0.999989                0  \n",
       "2  0.073028 -0.375810 -1.585593    0.999999                0  \n",
       "3  0.537311 -0.556876 -1.090239    1.000000                0  \n",
       "4 -0.083325  2.707886  1.126433    0.999672                0  \n",
       "\n",
       "[5 rows x 32 columns]"
      ]
     },
     "execution_count": 32,
     "metadata": {},
     "output_type": "execute_result"
    }
   ],
   "source": [
    "bq.query(query = f\"SELECT * FROM `{BQ_PROJECT}.{BQ_DATASET}.{BQ_TABLE}_predictions_{TIMESTAMP}` LIMIT 5\").to_dataframe()"
   ]
  },
  {
   "cell_type": "markdown",
   "id": "a2fb767b-6c26-442a-9d83-9d35be13f4de",
   "metadata": {},
   "source": [
    "---\n",
    "## Batch Predictions: BigQuery ML\n",
    "\n",
    "For TensorFlow models under 250MB using BigQuery with `ML.PREDICT` is possible after importing the model.  More on model import with BigQuery ML (BQML) can be found [here](https://cloud.google.com/bigquery-ml/docs/reference/standard-sql/bigqueryml-syntax-create-tensorflow).\n",
    "\n",
    "Load a model to BigQuery and use BQML to create predictions.  Need the URI of TensorFlow model."
   ]
  },
  {
   "cell_type": "markdown",
   "id": "2b173ba6-4b9f-47d5-8934-cdb7bd2d9f19",
   "metadata": {},
   "source": [
    "### Import Model Into BigQuery"
   ]
  },
  {
   "cell_type": "code",
   "execution_count": 35,
   "id": "0a03dd52-8ee5-4cae-b822-7f89936bc213",
   "metadata": {},
   "outputs": [],
   "source": [
    "query = f'''\n",
    "CREATE OR REPLACE MODEL `{BQ_PROJECT}.{BQ_DATASET}.{model.name}`\n",
    "    OPTIONS(\n",
    "        MODEL_TYPE = 'TENSORFLOW',\n",
    "        MODEL_PATH = '{model.uri}/*')\n",
    "'''"
   ]
  },
  {
   "cell_type": "code",
   "execution_count": 36,
   "id": "ab68844e-0569-461c-81f2-fc0ce2b8427b",
   "metadata": {},
   "outputs": [
    {
     "name": "stdout",
     "output_type": "stream",
     "text": [
      "\n",
      "CREATE OR REPLACE MODEL `statmike-mlops-349915.fraud.model_05_05h`\n",
      "    OPTIONS(\n",
      "        MODEL_TYPE = 'TENSORFLOW',\n",
      "        MODEL_PATH = 'gs://statmike-mlops-349915/05/05h/models/20220927230247/6/model/*')\n",
      "\n"
     ]
    }
   ],
   "source": [
    "print(query)"
   ]
  },
  {
   "cell_type": "code",
   "execution_count": 37,
   "id": "72a34da9-76cb-47c1-928f-419791f29dbb",
   "metadata": {},
   "outputs": [
    {
     "data": {
      "text/plain": [
       "5.129"
      ]
     },
     "execution_count": 37,
     "metadata": {},
     "output_type": "execute_result"
    }
   ],
   "source": [
    "job = bq.query(query = query)\n",
    "job.result()\n",
    "(job.ended-job.started).total_seconds()"
   ]
  },
  {
   "cell_type": "markdown",
   "id": "4864872b-871d-4307-a8cf-f42b36855bcf",
   "metadata": {},
   "source": [
    "### Generate Predictions With BigQuery (`ml.predict`)"
   ]
  },
  {
   "cell_type": "code",
   "execution_count": 38,
   "id": "c8f11f80-a46e-4427-bbde-2e60de1d103b",
   "metadata": {},
   "outputs": [
    {
     "data": {
      "text/html": [
       "<div>\n",
       "<style scoped>\n",
       "    .dataframe tbody tr th:only-of-type {\n",
       "        vertical-align: middle;\n",
       "    }\n",
       "\n",
       "    .dataframe tbody tr th {\n",
       "        vertical-align: top;\n",
       "    }\n",
       "\n",
       "    .dataframe thead th {\n",
       "        text-align: right;\n",
       "    }\n",
       "</style>\n",
       "<table border=\"1\" class=\"dataframe\">\n",
       "  <thead>\n",
       "    <tr style=\"text-align: right;\">\n",
       "      <th></th>\n",
       "      <th>prediction_layer</th>\n",
       "      <th>Time</th>\n",
       "      <th>V1</th>\n",
       "      <th>V2</th>\n",
       "      <th>V3</th>\n",
       "      <th>V4</th>\n",
       "      <th>V5</th>\n",
       "      <th>V6</th>\n",
       "      <th>V7</th>\n",
       "      <th>V8</th>\n",
       "      <th>...</th>\n",
       "      <th>V23</th>\n",
       "      <th>V24</th>\n",
       "      <th>V25</th>\n",
       "      <th>V26</th>\n",
       "      <th>V27</th>\n",
       "      <th>V28</th>\n",
       "      <th>Amount</th>\n",
       "      <th>Class</th>\n",
       "      <th>transaction_id</th>\n",
       "      <th>splits</th>\n",
       "    </tr>\n",
       "  </thead>\n",
       "  <tbody>\n",
       "    <tr>\n",
       "      <th>0</th>\n",
       "      <td>[0.00019910602713935077, 0.9998008012771606]</td>\n",
       "      <td>85285</td>\n",
       "      <td>-7.030308</td>\n",
       "      <td>3.421991</td>\n",
       "      <td>-9.525072</td>\n",
       "      <td>5.270891</td>\n",
       "      <td>-4.024630</td>\n",
       "      <td>-2.865682</td>\n",
       "      <td>-6.989195</td>\n",
       "      <td>3.791551</td>\n",
       "      <td>...</td>\n",
       "      <td>0.036943</td>\n",
       "      <td>-0.355519</td>\n",
       "      <td>0.353634</td>\n",
       "      <td>1.042458</td>\n",
       "      <td>1.359516</td>\n",
       "      <td>-0.272188</td>\n",
       "      <td>0.0</td>\n",
       "      <td>1</td>\n",
       "      <td>0a3b566f-e662-4cd0-b702-99299890cb0f</td>\n",
       "      <td>TEST</td>\n",
       "    </tr>\n",
       "    <tr>\n",
       "      <th>1</th>\n",
       "      <td>[0.022684935480356216, 0.9773150682449341]</td>\n",
       "      <td>56887</td>\n",
       "      <td>-0.075483</td>\n",
       "      <td>1.812355</td>\n",
       "      <td>-2.566981</td>\n",
       "      <td>4.127549</td>\n",
       "      <td>-1.628532</td>\n",
       "      <td>-0.805895</td>\n",
       "      <td>-3.390135</td>\n",
       "      <td>1.019353</td>\n",
       "      <td>...</td>\n",
       "      <td>-0.143624</td>\n",
       "      <td>0.013566</td>\n",
       "      <td>0.634203</td>\n",
       "      <td>0.213693</td>\n",
       "      <td>0.773625</td>\n",
       "      <td>0.387434</td>\n",
       "      <td>5.0</td>\n",
       "      <td>1</td>\n",
       "      <td>e17f6ee4-8dd8-4a38-9f51-e1bbf1e1aa2a</td>\n",
       "      <td>TEST</td>\n",
       "    </tr>\n",
       "    <tr>\n",
       "      <th>2</th>\n",
       "      <td>[0.0003789803013205528, 0.9996210932731628]</td>\n",
       "      <td>43369</td>\n",
       "      <td>-3.365319</td>\n",
       "      <td>2.426503</td>\n",
       "      <td>-3.752227</td>\n",
       "      <td>0.276017</td>\n",
       "      <td>-2.305870</td>\n",
       "      <td>-1.961578</td>\n",
       "      <td>-3.029283</td>\n",
       "      <td>-1.674462</td>\n",
       "      <td>...</td>\n",
       "      <td>-0.248502</td>\n",
       "      <td>0.126550</td>\n",
       "      <td>0.104166</td>\n",
       "      <td>-1.055997</td>\n",
       "      <td>-1.200165</td>\n",
       "      <td>-1.012066</td>\n",
       "      <td>88.0</td>\n",
       "      <td>1</td>\n",
       "      <td>125e7617-a79a-468f-af1b-f184544347f4</td>\n",
       "      <td>TEST</td>\n",
       "    </tr>\n",
       "    <tr>\n",
       "      <th>3</th>\n",
       "      <td>[0.004454766400158405, 0.9955453276634216]</td>\n",
       "      <td>143354</td>\n",
       "      <td>1.118331</td>\n",
       "      <td>2.074439</td>\n",
       "      <td>-3.837518</td>\n",
       "      <td>5.448060</td>\n",
       "      <td>0.071816</td>\n",
       "      <td>-1.020509</td>\n",
       "      <td>-1.808574</td>\n",
       "      <td>0.521744</td>\n",
       "      <td>...</td>\n",
       "      <td>-0.021910</td>\n",
       "      <td>-0.376560</td>\n",
       "      <td>0.192817</td>\n",
       "      <td>0.114107</td>\n",
       "      <td>0.500996</td>\n",
       "      <td>0.259533</td>\n",
       "      <td>1.0</td>\n",
       "      <td>1</td>\n",
       "      <td>17e4d066-124e-4a22-84fb-40b8b3456adf</td>\n",
       "      <td>TEST</td>\n",
       "    </tr>\n",
       "    <tr>\n",
       "      <th>4</th>\n",
       "      <td>[1.502191116742324e-05, 0.9999849200248718]</td>\n",
       "      <td>93888</td>\n",
       "      <td>-10.040631</td>\n",
       "      <td>6.139183</td>\n",
       "      <td>-12.972972</td>\n",
       "      <td>7.740555</td>\n",
       "      <td>-8.684705</td>\n",
       "      <td>-3.837429</td>\n",
       "      <td>-11.907702</td>\n",
       "      <td>5.833273</td>\n",
       "      <td>...</td>\n",
       "      <td>-0.567343</td>\n",
       "      <td>0.843012</td>\n",
       "      <td>0.549938</td>\n",
       "      <td>0.113892</td>\n",
       "      <td>-0.307375</td>\n",
       "      <td>0.061631</td>\n",
       "      <td>1.0</td>\n",
       "      <td>1</td>\n",
       "      <td>0a4e27c9-89e7-4588-86fd-70790cb3d45f</td>\n",
       "      <td>TEST</td>\n",
       "    </tr>\n",
       "    <tr>\n",
       "      <th>5</th>\n",
       "      <td>[4.970725058228709e-06, 0.9999949336051941]</td>\n",
       "      <td>20332</td>\n",
       "      <td>-15.271362</td>\n",
       "      <td>8.326581</td>\n",
       "      <td>-22.338591</td>\n",
       "      <td>11.885313</td>\n",
       "      <td>-8.721334</td>\n",
       "      <td>-2.324307</td>\n",
       "      <td>-16.196419</td>\n",
       "      <td>0.512882</td>\n",
       "      <td>...</td>\n",
       "      <td>1.085617</td>\n",
       "      <td>-1.039797</td>\n",
       "      <td>-0.182006</td>\n",
       "      <td>0.649921</td>\n",
       "      <td>2.149247</td>\n",
       "      <td>-1.406811</td>\n",
       "      <td>1.0</td>\n",
       "      <td>1</td>\n",
       "      <td>5810b45a-602e-4113-b675-a0dcccaed0d5</td>\n",
       "      <td>TEST</td>\n",
       "    </tr>\n",
       "    <tr>\n",
       "      <th>6</th>\n",
       "      <td>[0.0031228025909513235, 0.9968771934509277]</td>\n",
       "      <td>7551</td>\n",
       "      <td>0.316459</td>\n",
       "      <td>3.809076</td>\n",
       "      <td>-5.615159</td>\n",
       "      <td>6.047445</td>\n",
       "      <td>1.554026</td>\n",
       "      <td>-2.651353</td>\n",
       "      <td>-0.746579</td>\n",
       "      <td>0.055586</td>\n",
       "      <td>...</td>\n",
       "      <td>-0.583813</td>\n",
       "      <td>-0.219845</td>\n",
       "      <td>1.474753</td>\n",
       "      <td>0.491192</td>\n",
       "      <td>0.518868</td>\n",
       "      <td>0.402528</td>\n",
       "      <td>1.0</td>\n",
       "      <td>1</td>\n",
       "      <td>2e70bcc4-4a04-44c5-82c1-5ee6061196c5</td>\n",
       "      <td>TEST</td>\n",
       "    </tr>\n",
       "    <tr>\n",
       "      <th>7</th>\n",
       "      <td>[3.1510986445937306e-05, 0.9999684691429138]</td>\n",
       "      <td>13126</td>\n",
       "      <td>-2.880042</td>\n",
       "      <td>5.225442</td>\n",
       "      <td>-11.063330</td>\n",
       "      <td>6.689951</td>\n",
       "      <td>-5.759924</td>\n",
       "      <td>-2.244031</td>\n",
       "      <td>-11.199975</td>\n",
       "      <td>4.014722</td>\n",
       "      <td>...</td>\n",
       "      <td>0.795255</td>\n",
       "      <td>-0.778379</td>\n",
       "      <td>-1.646815</td>\n",
       "      <td>0.487539</td>\n",
       "      <td>1.427713</td>\n",
       "      <td>0.583172</td>\n",
       "      <td>1.0</td>\n",
       "      <td>1</td>\n",
       "      <td>ab20db30-3b79-4ebb-ac94-2f98e1eabee9</td>\n",
       "      <td>TEST</td>\n",
       "    </tr>\n",
       "    <tr>\n",
       "      <th>8</th>\n",
       "      <td>[2.3832196802686667e-06, 0.999997615814209]</td>\n",
       "      <td>152036</td>\n",
       "      <td>-4.320609</td>\n",
       "      <td>3.199939</td>\n",
       "      <td>-5.799736</td>\n",
       "      <td>6.502330</td>\n",
       "      <td>0.378479</td>\n",
       "      <td>-1.948246</td>\n",
       "      <td>-2.167860</td>\n",
       "      <td>-0.728207</td>\n",
       "      <td>...</td>\n",
       "      <td>-0.136940</td>\n",
       "      <td>-0.620072</td>\n",
       "      <td>0.642531</td>\n",
       "      <td>0.280717</td>\n",
       "      <td>-2.649107</td>\n",
       "      <td>0.533641</td>\n",
       "      <td>1.0</td>\n",
       "      <td>1</td>\n",
       "      <td>1803e0ce-b531-4919-a2d3-cf0d07172166</td>\n",
       "      <td>TEST</td>\n",
       "    </tr>\n",
       "    <tr>\n",
       "      <th>9</th>\n",
       "      <td>[1.351359291135168e-08, 1.0]</td>\n",
       "      <td>100298</td>\n",
       "      <td>-22.341889</td>\n",
       "      <td>15.536133</td>\n",
       "      <td>-22.865228</td>\n",
       "      <td>7.043374</td>\n",
       "      <td>-14.183129</td>\n",
       "      <td>-0.463145</td>\n",
       "      <td>-28.215112</td>\n",
       "      <td>-14.607791</td>\n",
       "      <td>...</td>\n",
       "      <td>1.412928</td>\n",
       "      <td>0.382801</td>\n",
       "      <td>0.447154</td>\n",
       "      <td>-0.632816</td>\n",
       "      <td>-4.380154</td>\n",
       "      <td>-0.467863</td>\n",
       "      <td>1.0</td>\n",
       "      <td>1</td>\n",
       "      <td>7742da54-3f4c-4e8b-bccc-2d55ac0edd7e</td>\n",
       "      <td>TEST</td>\n",
       "    </tr>\n",
       "  </tbody>\n",
       "</table>\n",
       "<p>10 rows × 34 columns</p>\n",
       "</div>"
      ],
      "text/plain": [
       "                               prediction_layer    Time         V1         V2  \\\n",
       "0  [0.00019910602713935077, 0.9998008012771606]   85285  -7.030308   3.421991   \n",
       "1    [0.022684935480356216, 0.9773150682449341]   56887  -0.075483   1.812355   \n",
       "2   [0.0003789803013205528, 0.9996210932731628]   43369  -3.365319   2.426503   \n",
       "3    [0.004454766400158405, 0.9955453276634216]  143354   1.118331   2.074439   \n",
       "4   [1.502191116742324e-05, 0.9999849200248718]   93888 -10.040631   6.139183   \n",
       "5   [4.970725058228709e-06, 0.9999949336051941]   20332 -15.271362   8.326581   \n",
       "6   [0.0031228025909513235, 0.9968771934509277]    7551   0.316459   3.809076   \n",
       "7  [3.1510986445937306e-05, 0.9999684691429138]   13126  -2.880042   5.225442   \n",
       "8   [2.3832196802686667e-06, 0.999997615814209]  152036  -4.320609   3.199939   \n",
       "9                  [1.351359291135168e-08, 1.0]  100298 -22.341889  15.536133   \n",
       "\n",
       "          V3         V4         V5        V6         V7         V8  ...  \\\n",
       "0  -9.525072   5.270891  -4.024630 -2.865682  -6.989195   3.791551  ...   \n",
       "1  -2.566981   4.127549  -1.628532 -0.805895  -3.390135   1.019353  ...   \n",
       "2  -3.752227   0.276017  -2.305870 -1.961578  -3.029283  -1.674462  ...   \n",
       "3  -3.837518   5.448060   0.071816 -1.020509  -1.808574   0.521744  ...   \n",
       "4 -12.972972   7.740555  -8.684705 -3.837429 -11.907702   5.833273  ...   \n",
       "5 -22.338591  11.885313  -8.721334 -2.324307 -16.196419   0.512882  ...   \n",
       "6  -5.615159   6.047445   1.554026 -2.651353  -0.746579   0.055586  ...   \n",
       "7 -11.063330   6.689951  -5.759924 -2.244031 -11.199975   4.014722  ...   \n",
       "8  -5.799736   6.502330   0.378479 -1.948246  -2.167860  -0.728207  ...   \n",
       "9 -22.865228   7.043374 -14.183129 -0.463145 -28.215112 -14.607791  ...   \n",
       "\n",
       "        V23       V24       V25       V26       V27       V28  Amount  Class  \\\n",
       "0  0.036943 -0.355519  0.353634  1.042458  1.359516 -0.272188     0.0      1   \n",
       "1 -0.143624  0.013566  0.634203  0.213693  0.773625  0.387434     5.0      1   \n",
       "2 -0.248502  0.126550  0.104166 -1.055997 -1.200165 -1.012066    88.0      1   \n",
       "3 -0.021910 -0.376560  0.192817  0.114107  0.500996  0.259533     1.0      1   \n",
       "4 -0.567343  0.843012  0.549938  0.113892 -0.307375  0.061631     1.0      1   \n",
       "5  1.085617 -1.039797 -0.182006  0.649921  2.149247 -1.406811     1.0      1   \n",
       "6 -0.583813 -0.219845  1.474753  0.491192  0.518868  0.402528     1.0      1   \n",
       "7  0.795255 -0.778379 -1.646815  0.487539  1.427713  0.583172     1.0      1   \n",
       "8 -0.136940 -0.620072  0.642531  0.280717 -2.649107  0.533641     1.0      1   \n",
       "9  1.412928  0.382801  0.447154 -0.632816 -4.380154 -0.467863     1.0      1   \n",
       "\n",
       "                         transaction_id  splits  \n",
       "0  0a3b566f-e662-4cd0-b702-99299890cb0f    TEST  \n",
       "1  e17f6ee4-8dd8-4a38-9f51-e1bbf1e1aa2a    TEST  \n",
       "2  125e7617-a79a-468f-af1b-f184544347f4    TEST  \n",
       "3  17e4d066-124e-4a22-84fb-40b8b3456adf    TEST  \n",
       "4  0a4e27c9-89e7-4588-86fd-70790cb3d45f    TEST  \n",
       "5  5810b45a-602e-4113-b675-a0dcccaed0d5    TEST  \n",
       "6  2e70bcc4-4a04-44c5-82c1-5ee6061196c5    TEST  \n",
       "7  ab20db30-3b79-4ebb-ac94-2f98e1eabee9    TEST  \n",
       "8  1803e0ce-b531-4919-a2d3-cf0d07172166    TEST  \n",
       "9  7742da54-3f4c-4e8b-bccc-2d55ac0edd7e    TEST  \n",
       "\n",
       "[10 rows x 34 columns]"
      ]
     },
     "execution_count": 38,
     "metadata": {},
     "output_type": "execute_result"
    }
   ],
   "source": [
    "query = f'''\n",
    "SELECT *\n",
    "FROM ML.PREDICT(\n",
    "    MODEL `{BQ_PROJECT}.{BQ_DATASET}.{model.name}`, (\n",
    "        SELECT * \n",
    "        FROM {BQ_PROJECT}.{BQ_DATASET}.{BQ_TABLE}\n",
    "        WHERE splits='TEST' AND Class = 1\n",
    "        LIMIT 10\n",
    "    )\n",
    ")\n",
    "'''\n",
    "results = bq.query(query = query).to_dataframe()\n",
    "results"
   ]
  },
  {
   "cell_type": "code",
   "execution_count": null,
   "id": "18af3d02-e520-4b18-99cd-cd932ca0d03b",
   "metadata": {},
   "outputs": [],
   "source": []
  }
 ],
 "metadata": {
  "environment": {
   "kernel": "python3",
   "name": "tf2-gpu.2-3.m94",
   "type": "gcloud",
   "uri": "gcr.io/deeplearning-platform-release/tf2-gpu.2-3:m94"
  },
  "kernelspec": {
   "display_name": "Python 3",
   "language": "python",
   "name": "python3"
  },
  "language_info": {
   "codemirror_mode": {
    "name": "ipython",
    "version": 3
   },
   "file_extension": ".py",
   "mimetype": "text/x-python",
   "name": "python",
   "nbconvert_exporter": "python",
   "pygments_lexer": "ipython3",
   "version": "3.7.12"
  }
 },
 "nbformat": 4,
 "nbformat_minor": 5
}
