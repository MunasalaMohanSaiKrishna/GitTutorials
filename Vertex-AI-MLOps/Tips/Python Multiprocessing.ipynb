{
 "cells": [
  {
   "cell_type": "markdown",
   "id": "e3e3506b-a047-48fd-86e9-e6ec9892d3b8",
   "metadata": {},
   "source": [
    "# Python Multiprocessing\n",
    "\n",
    "I will do my best to not go too crazy here with details.  I promise.  Hopefully.\n",
    "\n",
    "Ultimately, we want our compute instance to run our code and do some tasks at the same time rather than one, wait, the next, wait, and so on (sequential).\n",
    "\n",
    "Sounds simple, but there are actually some flavors here:\n",
    "- Concurrently: tasks overlap but dont necessarily absorb compute at the exact same instance.  Computers with single cores can context switch.  Computers with multiple cores can both context switch and handle multiple sets of contexts at the same time.\n",
    "- In parallel: tasks actually compute at the exact same time.  Computers with multiple cores can do this when instructed correctly.\n",
    "\n",
    "Cool, we're done with the description so let's just jump to the how!  \n",
    "\n",
    "Not so fast!\n",
    "\n",
    "Tasks! Not all tasks are the same flavor.\n",
    "\n",
    "**sweet** Sometimes a task is to make a request which in turn waits on a response.  That wait time can be literally waiting on the remote computer or API to respond.  It can also be the CPU waiting while data moves over a network into memory = IO.  \n",
    "\n",
    "**salty** Other times a task is telling the local computer to do something, like math, which makes the CPU jump for joy.  \n",
    "\n",
    "These types of task have different needs.  Do we want concurrent or parallel?  We want to manage them concurrently and maximize parallelism!  We are happiest when 99.9% of compute resources are used at all times right?  \n",
    "\n",
    "You might have heard of multi-threading and be ready to run to town with that idea.  Just `import threading` and go right?\n",
    "- concurrency means threads are progressing at the same time\n",
    "- parallelism means threads are computing at the exact same time\n",
    "\n",
    "> Threading + Python, and in the same process is very tricky because of [GIL](https://docs.python.org/3/glossary.html#term-global-interpreter-lock).  GIL is the party crasher.  He protects objects like dictionaries from concurrent access collisions.  By doing so limits the processing of threads on behalf of Python.  \n",
    "\n",
    "I promised not too much details but here we are...\n",
    "\n",
    "> Let me refocus my promise.  I will stick to completely independent tasks.  Not tasks that can go after the same data at the same time (Race) condition.  Not overloading the context switching to create more overhead.  Just pure indepdent tasks.  Promise!\n",
    "\n",
    "> I promise to focus on atomic single tasks.  Not a chain of tasks with different needs.  We are not developing software here, we are creating an efficient step in our workflow.\n",
    "\n",
    "Let's talk a bit about multiprocessing.  The tasks I promised to focus on are independent.  By being independent we can give them their own process and not worry about collisions! Just running multiple threads shows we can context switch.  Running multiple processes simoultaneously shows we can make all the CPUs jiggle together. Thats what we want!  \n",
    "\n",
    "Back to tasks of two flavors!\n",
    "\n",
    "**sweet** When I want to do lots of requests, like request predictions from a remote API, I want to manage a ton of requests that have some waiting involved.  Lots of concurrency.  Let's call this asynchronous.  We want to launch as many as possible and switch back to the ones that are ready as soon as possible.  We want to go in any order that maximizes our throughput.  \n",
    "\n",
    "**salty** When I want to do a CPU intensive local process on multiple independent settings I want to multi-process as much as possible.  Saturate all the available CPUS."
   ]
  },
  {
   "cell_type": "markdown",
   "id": "0ccf8848-c59d-4e55-89ec-b28602ecba13",
   "metadata": {},
   "source": [
    "---\n",
    "## Setup"
   ]
  },
  {
   "cell_type": "markdown",
   "id": "2e2a63d4-2816-4bbf-99b3-f22ee4ee8e61",
   "metadata": {},
   "source": [
    "inputs:"
   ]
  },
  {
   "cell_type": "code",
   "execution_count": 1,
   "id": "ac3a8d91-6c80-47f5-aa66-03d3c857a5f3",
   "metadata": {},
   "outputs": [],
   "source": [
    "EXPERIMENT = 'multiprocess'\n",
    "SERIES = 'tips'"
   ]
  },
  {
   "cell_type": "markdown",
   "id": "4b97f498-9051-4895-b51f-8334a88b56e0",
   "metadata": {},
   "source": [
    "packages:"
   ]
  },
  {
   "cell_type": "code",
   "execution_count": 23,
   "id": "08269011-4aaa-40ab-8f2b-a3a0082f3ff5",
   "metadata": {},
   "outputs": [],
   "source": [
    "import time\n",
    "import random\n",
    "import numpy as np\n",
    "import pandas as pd\n",
    "\n",
    "import asyncio\n",
    "import multiprocessing\n",
    "import tqdm\n",
    "\n",
    "import matplotlib.pyplot as plt\n",
    "from matplotlib.patches import Rectangle"
   ]
  },
  {
   "cell_type": "markdown",
   "id": "75ae3336-6196-4b6a-ba25-3f6c94de1fee",
   "metadata": {},
   "source": [
    "parameters:"
   ]
  },
  {
   "cell_type": "code",
   "execution_count": 3,
   "id": "8abc4311-2dd7-4fc5-8b83-b657a1990711",
   "metadata": {},
   "outputs": [],
   "source": [
    "DIR = f'temp/{EXPERIMENT}'"
   ]
  },
  {
   "cell_type": "markdown",
   "id": "d3646718-3fa0-4a16-8a0f-9cfab455fbf3",
   "metadata": {},
   "source": [
    "environment:"
   ]
  },
  {
   "cell_type": "code",
   "execution_count": 4,
   "id": "d7e92611-a62e-4614-aae4-1bd50fafa96f",
   "metadata": {},
   "outputs": [],
   "source": [
    "!rm -rf {DIR}\n",
    "!mkdir -p {DIR}"
   ]
  },
  {
   "cell_type": "markdown",
   "id": "53cf319d-2c71-4502-8af4-15d3208f46a1",
   "metadata": {},
   "source": [
    "---\n",
    "## Example Task\n",
    "\n",
    "Create two example tasks:\n",
    "- a local tasks that computes something locally\n",
    "    - Here it creates a large data matrix and fits least-squares.\n",
    "    - Salty!\n",
    "- a remote tasks that computes something remotely\n",
    "    - Here it simulates the remote computing by waiting (sleeping) and random amount of time between (0, 2) seconds\n",
    "    - Sweet!"
   ]
  },
  {
   "cell_type": "code",
   "execution_count": 5,
   "id": "b00b396a-0a86-4261-a191-58fcf47eed69",
   "metadata": {},
   "outputs": [],
   "source": [
    "def local_task(b, n, d):\n",
    "    task_begin = time.perf_counter()\n",
    "    \n",
    "    # do tasks locally: generate data and fit least-squares\n",
    "    #b = [0.75, 1.88]\n",
    "    #n = 50000\n",
    "    #d = 1\n",
    "    n = int(n)\n",
    "    x = np.random.rand(n)*10\n",
    "    y = b[0] + b[1] * x + np.random.normal(0, d, n)\n",
    "    b_hat = np.linalg.lstsq(np.vstack([np.ones(len(x)), x]).T, y, rcond=None)[0]\n",
    "    \n",
    "    task_end = time.perf_counter()\n",
    "    return task_begin, task_end\n",
    "    \n",
    "def remote_task(b, n, d):\n",
    "    task_begin = time.perf_counter()\n",
    "    \n",
    "    # send request to do task remotely (API, etc), simulate by sleeping which uses no resources (like waiting)\n",
    "    time.sleep(random.random()*2) # wait random time: (0, 2) seconds\n",
    "    \n",
    "    task_end = time.perf_counter()\n",
    "    return task_begin, task_end"
   ]
  },
  {
   "cell_type": "code",
   "execution_count": 6,
   "id": "37d00ee5-ca29-4033-9b5e-97f2d048793a",
   "metadata": {},
   "outputs": [
    {
     "name": "stdout",
     "output_type": "stream",
     "text": [
      "Duration: 0.5561683131381869 seconds\n"
     ]
    }
   ],
   "source": [
    "local = local_task([0.75, 1.88], 5000000, 1)\n",
    "print(f'Duration: {local[1] - local[0]} seconds')"
   ]
  },
  {
   "cell_type": "code",
   "execution_count": 7,
   "id": "ab5996f6-7f8e-4c5e-9c9c-ae2cf437c3a6",
   "metadata": {},
   "outputs": [
    {
     "name": "stdout",
     "output_type": "stream",
     "text": [
      "Duration: 0.17859156196936965 seconds\n"
     ]
    }
   ],
   "source": [
    "remote = remote_task([0.75, 1.88], 5000000, 1)\n",
    "print(f'Duration: {remote[1] - remote[0]} seconds')"
   ]
  },
  {
   "cell_type": "markdown",
   "id": "f621833f-a9bc-433a-9002-2d038731908d",
   "metadata": {},
   "source": [
    "## Run Tasks Sequentially\n",
    "\n",
    "Run the local and remote tasks multiple times in sequence.  The easy way!\n",
    "- local tasks, Salty:\n",
    "    - the local tasks will absorbe compute on each call\n",
    "    - But.... it may only use a single CPU on a multi-cpu instance\n",
    "- remote tasks, Sweet:\n",
    "    - the remote tasks waits, and here it finshes waiting on the result before allowing the next process to start"
   ]
  },
  {
   "cell_type": "code",
   "execution_count": 8,
   "id": "200cd704-b56d-4e94-b595-23ab81d2fb19",
   "metadata": {},
   "outputs": [],
   "source": [
    "total_requests = 10\n",
    "\n",
    "begin = time.perf_counter()\n",
    "tasks = []\n",
    "for n in range(total_requests):\n",
    "    task = local_task([0.75, 1.88], 5000000, 1)\n",
    "    tasks.append((n, (task[0] - begin, task[1] - begin)))\n",
    "end = time.perf_counter()\n",
    "\n",
    "local_tasks = {'timing': tasks, 'timing_range': (begin, end)}"
   ]
  },
  {
   "cell_type": "code",
   "execution_count": 9,
   "id": "35257612-0610-4317-9274-516c8a2f4cb3",
   "metadata": {},
   "outputs": [
    {
     "data": {
      "text/plain": [
       "{'timing': [(0, (7.849792018532753e-05, 0.5536384959705174)),\n",
       "  (1, (0.5540387169457972, 1.1340778111480176)),\n",
       "  (2, (1.134477648884058, 1.7146987160667777)),\n",
       "  (3, (1.7150916289538145, 2.291214199271053)),\n",
       "  (4, (2.29159143101424, 2.868832625914365)),\n",
       "  (5, (2.869212831836194, 3.4485800811089575)),\n",
       "  (6, (3.4489634092897177, 4.031966340262443)),\n",
       "  (7, (4.032348906155676, 4.616002234164625)),\n",
       "  (8, (4.6164053762331605, 5.196802729275078)),\n",
       "  (9, (5.19721021829173, 5.779065268114209))],\n",
       " 'timing_range': (3248159.157910958, 3248164.937615795)}"
      ]
     },
     "execution_count": 9,
     "metadata": {},
     "output_type": "execute_result"
    }
   ],
   "source": [
    "local_tasks"
   ]
  },
  {
   "cell_type": "code",
   "execution_count": 10,
   "id": "2df5ff26-f907-4f07-bf7f-fd7982f59a85",
   "metadata": {},
   "outputs": [],
   "source": [
    "total_requests = 10\n",
    "\n",
    "begin = time.perf_counter()\n",
    "tasks = []\n",
    "for n in range(total_requests):\n",
    "    task = remote_task([0.75, 1.88], 5000000, 1)\n",
    "    tasks.append((n, (task[0] - begin, task[1] - begin)))\n",
    "end = time.perf_counter()\n",
    "\n",
    "remote_tasks = {'timing': tasks, 'timing_range': (begin, end)}"
   ]
  },
  {
   "cell_type": "code",
   "execution_count": 11,
   "id": "bbd467f8-d1c5-494f-b999-1f6711b5af64",
   "metadata": {},
   "outputs": [
    {
     "data": {
      "text/plain": [
       "{'timing': [(0, (0.0006836890242993832, 1.2495153807103634)),\n",
       "  (1, (1.2495279610157013, 3.107000080868602)),\n",
       "  (2, (3.107013682834804, 4.8081232267431915)),\n",
       "  (3, (4.808135079685599, 6.673825619742274)),\n",
       "  (4, (6.673837393056601, 7.141442009713501)),\n",
       "  (5, (7.141455554869026, 8.115185365080833)),\n",
       "  (6, (8.115198141895235, 8.947506156750023)),\n",
       "  (7, (8.947518900968134, 9.85488053271547)),\n",
       "  (8, (9.854894482064992, 10.292976821772754)),\n",
       "  (9, (10.29299164796248, 11.31341156968847))],\n",
       " 'timing_range': (3248164.965338942, 3248176.278933883)}"
      ]
     },
     "execution_count": 11,
     "metadata": {},
     "output_type": "execute_result"
    }
   ],
   "source": [
    "remote_tasks"
   ]
  },
  {
   "cell_type": "markdown",
   "id": "146f0ec6-44d2-4804-ae46-db5b2bacd6f5",
   "metadata": {},
   "source": [
    "## Visualize Tasks Timeline"
   ]
  },
  {
   "cell_type": "code",
   "execution_count": 12,
   "id": "71d8709f-72a8-49bc-a259-d4c694e8daf5",
   "metadata": {},
   "outputs": [],
   "source": [
    "def plot_tasks(tasks):\n",
    "    fig = plt.figure(figsize=(20,10))\n",
    "    ax = fig.add_subplot()\n",
    "    for task in tasks['timing']:\n",
    "        ax.add_patch(\n",
    "            Rectangle(\n",
    "                (task[1][0], task[0]-.5),\n",
    "                width = task[1][1] - task[1][0],\n",
    "                height = 1,\n",
    "                color = 'green'\n",
    "            )\n",
    "        )\n",
    "    plt.xlim([0, tasks['timing_range'][1]-tasks['timing_range'][0]])\n",
    "    plt.ylim([\n",
    "        tasks['timing'][0][0]-0.5,\n",
    "        tasks['timing'][-1][0]+0.5\n",
    "    ])\n",
    "    plt.xlabel(\"Time (seconds)\")\n",
    "    plt.ylabel(\"Tasks\")\n",
    "    plt.title(f\"Timeline for Executing Tasks\")\n",
    "    plt.show()"
   ]
  },
  {
   "cell_type": "code",
   "execution_count": 13,
   "id": "1deb424a-af76-4e2d-b1d9-27f920992a77",
   "metadata": {},
   "outputs": [
    {
     "data": {
      "image/png": "[encoded data removed]",
      "text/plain": [
       "<Figure size 1440x720 with 1 Axes>"
      ]
     },
     "metadata": {
      "needs_background": "light"
     },
     "output_type": "display_data"
    }
   ],
   "source": [
    "plot_tasks(local_tasks)"
   ]
  },
  {
   "cell_type": "code",
   "execution_count": 14,
   "id": "1d83145b-97cb-49bb-89f1-cc597bec5d00",
   "metadata": {},
   "outputs": [
    {
     "data": {
      "image/png": "[encoded data removed]",
      "text/plain": [
       "<Figure size 1440x720 with 1 Axes>"
      ]
     },
     "metadata": {
      "needs_background": "light"
     },
     "output_type": "display_data"
    }
   ],
   "source": [
    "plot_tasks(remote_tasks)"
   ]
  },
  {
   "cell_type": "markdown",
   "id": "9f653f78-887a-40d1-b2c6-9562b8ce7196",
   "metadata": {},
   "source": [
    "## (Sweet) - Concurrency with Waiting, IO - Remote Processing\n",
    "\n",
    "Using [asyncio](https://docs.python.org/3/library/asyncio.html) to manage multiple concurrent calls to a function (which may call an API).\n",
    "\n",
    "The call function needs to be written to be asynchronous.  I don't recommend doing that for our data science workflows.  So why mention this at all?  Because Vertex AI client have async versions!!\n",
    "\n",
    "What about flooding?  Thats my term for asking for more than the remote system can handle.  We want to limit how many request we have oustanding.  In the example below I do this with `asyncio.Semaphore` which creates a gate keeper monitors aquire and release calls and holds the ceiling at our desired limit.  This can also be great for ramping up calls to an API.\n",
    "\n",
    "The example below simulates waiting on an API call with a sleep value.  It sleeps a random about of time between 0 and 2 seconds.  Even this call to sleep needs to be an awaitable function and it turns out `asyncio` has a built in `asyncio.sleep` that we use here."
   ]
  },
  {
   "cell_type": "code",
   "execution_count": 15,
   "id": "48e629f0-f5b3-483c-b02a-6e2089c14fdd",
   "metadata": {},
   "outputs": [],
   "source": [
    "async def run_remote_task(total_requests, concur_requests):\n",
    "    # create a limit for how many request can be made concurrently\n",
    "    limit = asyncio.Semaphore(concur_requests)\n",
    "\n",
    "    async def async_remote_task(t, limit):\n",
    "\n",
    "        async with limit:\n",
    "            task_begin = time.perf_counter()\n",
    "            # send request to do task remotely (API, etc)\n",
    "            await asyncio.sleep(random.random()*2) # wait (0, 2) seconds\n",
    "            if limit.locked():\n",
    "                await asyncio.sleep(.001)\n",
    "\n",
    "            task_end = time.perf_counter()\n",
    "        return (t, (task_begin - begin, task_end - begin))\n",
    "\n",
    "    async def async_runner(total_requests):\n",
    "        async_tasks = []\n",
    "        for t in range(1, total_requests + 1):\n",
    "            async_task = asyncio.create_task(async_remote_task(t, limit))\n",
    "            async_tasks.append(async_task)\n",
    "\n",
    "        results = await asyncio.gather(*async_tasks)\n",
    "        return results\n",
    "\n",
    "    begin = time.perf_counter()   \n",
    "    timing = await async_runner(total_requests)\n",
    "    end = time.perf_counter()\n",
    "    remote_tasks = {'timing': timing, 'timing_range': (begin, end)}\n",
    "    return remote_tasks"
   ]
  },
  {
   "cell_type": "code",
   "execution_count": 16,
   "id": "19159006-0fc6-43a6-ad45-f93e31f9cbbb",
   "metadata": {},
   "outputs": [
    {
     "data": {
      "image/png": "[encoded data removed]",
      "text/plain": [
       "<Figure size 1440x720 with 1 Axes>"
      ]
     },
     "metadata": {
      "needs_background": "light"
     },
     "output_type": "display_data"
    }
   ],
   "source": [
    "# run 10 with 10 concurrent\n",
    "remote_tasks = await run_remote_task(10, 10)\n",
    "plot_tasks(remote_tasks)"
   ]
  },
  {
   "cell_type": "code",
   "execution_count": 17,
   "id": "e4438190-8730-45f0-b8ff-b7af2759330f",
   "metadata": {},
   "outputs": [
    {
     "data": {
      "image/png": "[encoded data removed]",
      "text/plain": [
       "<Figure size 1440x720 with 1 Axes>"
      ]
     },
     "metadata": {
      "needs_background": "light"
     },
     "output_type": "display_data"
    }
   ],
   "source": [
    "# run 20 with 10 concurrent\n",
    "remote_tasks = await run_remote_task(20, 10)\n",
    "plot_tasks(remote_tasks)"
   ]
  },
  {
   "cell_type": "markdown",
   "id": "fe175f5a-82ee-400e-94f8-e6b5f9302a09",
   "metadata": {},
   "source": [
    "## (Salty) - Multiprocessing - Parallel Local Processing\n",
    "\n",
    "The `local_task` function written above does a CPU intense calculation locally.  In the sequential example it was called multiple times but each call did not commense until the previous one completed.  If this local compute instance has capacity it may be able to handle multiple execution of the function in multiple independent processes = multiprocessing.\n",
    "\n",
    "Resources:\n",
    "- [multiprocessing](https://docs.python.org/3/library/multiprocessing.html)\n",
    "- [tqdm](https://github.com/tqdm/tqdm)"
   ]
  },
  {
   "cell_type": "code",
   "execution_count": 19,
   "id": "14dbee12-880a-4245-b9be-ab5bfdcc6c34",
   "metadata": {},
   "outputs": [
    {
     "data": {
      "text/plain": [
       "4"
      ]
     },
     "execution_count": 19,
     "metadata": {},
     "output_type": "execute_result"
    }
   ],
   "source": [
    "multiprocessing.cpu_count()"
   ]
  },
  {
   "cell_type": "code",
   "execution_count": 28,
   "id": "f8e14a91-19df-42e0-9952-754bd6992a0d",
   "metadata": {},
   "outputs": [
    {
     "name": "stderr",
     "output_type": "stream",
     "text": [
      "100%|██████████| 10/10 [00:02<00:00,  3.53it/s]\n"
     ]
    }
   ],
   "source": [
    "total_requests = 10\n",
    "concur_requests = multiprocessing.cpu_count() - 1 # reserve a cpu for managing jobs...\n",
    "\n",
    "begin = time.perf_counter()\n",
    "# make of list of set (list) of inputs for each request.  Here its just the repeat parameter set.\n",
    "calls = [[[0.75, 1.88], 5000000, 1, begin, i] for i in range(total_requests)]\n",
    "\n",
    "# make a function that calls the local function, passes inputs\n",
    "# if the local function only has a single input this is not really needed!\n",
    "def call_local_task(inputs):\n",
    "    process = multiprocessing.current_process().pid\n",
    "    task = local_task(inputs[0], inputs[1], inputs[2])\n",
    "    return (inputs[4], (task[0] - inputs[3], task[1] - inputs[3]), process)\n",
    "\n",
    "# create a pool, map the list of input sets to the calling function.  Use tqdm to watch progress over input sets.\n",
    "pool = multiprocessing.Pool(concur_requests)\n",
    "timing = list(\n",
    "    tqdm.tqdm(\n",
    "        pool.imap(\n",
    "            call_local_task,\n",
    "            calls\n",
    "        ),\n",
    "        total = len(calls)\n",
    "    )\n",
    ")\n",
    "pool.close()\n",
    "pool.join()\n",
    "end = time.perf_counter()"
   ]
  },
  {
   "cell_type": "code",
   "execution_count": 29,
   "id": "29b93512-483a-4f36-b3ca-b5aee4a8985f",
   "metadata": {},
   "outputs": [],
   "source": [
    "local_tasks = {'timing': timing, 'timing_range': (begin, end)}"
   ]
  },
  {
   "cell_type": "code",
   "execution_count": 30,
   "id": "c56d6884-b075-4077-9d1e-1c0142b1bf2d",
   "metadata": {},
   "outputs": [
    {
     "data": {
      "image/png": "[encoded data removed]",
      "text/plain": [
       "<Figure size 1440x720 with 1 Axes>"
      ]
     },
     "metadata": {
      "needs_background": "light"
     },
     "output_type": "display_data"
    }
   ],
   "source": [
    "plot_tasks(local_tasks)"
   ]
  },
  {
   "cell_type": "code",
   "execution_count": null,
   "id": "ea5f4651-c5a6-4d91-8373-5cd960e6bc5d",
   "metadata": {},
   "outputs": [],
   "source": []
  }
 ],
 "metadata": {
  "environment": {
   "kernel": "python3",
   "name": "tf2-gpu.2-3.m94",
   "type": "gcloud",
   "uri": "gcr.io/deeplearning-platform-release/tf2-gpu.2-3:m94"
  },
  "kernelspec": {
   "display_name": "Python 3",
   "language": "python",
   "name": "python3"
  },
  "language_info": {
   "codemirror_mode": {
    "name": "ipython",
    "version": 3
   },
   "file_extension": ".py",
   "mimetype": "text/x-python",
   "name": "python",
   "nbconvert_exporter": "python",
   "pygments_lexer": "ipython3",
   "version": "3.7.12"
  }
 },
 "nbformat": 4,
 "nbformat_minor": 5
}
