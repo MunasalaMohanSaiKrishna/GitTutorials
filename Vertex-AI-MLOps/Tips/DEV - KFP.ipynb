{
 "cells": [
  {
   "cell_type": "markdown",
   "id": "d0c52dc2-96dc-4cd3-b592-a331ed1316a3",
   "metadata": {},
   "source": [
    "# DEV - KFP\n",
    "\n",
    "Starting to build a KFP tips notebook...."
   ]
  },
  {
   "cell_type": "markdown",
   "id": "b80c51a9-d87c-4d25-8a41-690eaed4d103",
   "metadata": {
    "tags": []
   },
   "source": [
    "---\n",
    "## Setup"
   ]
  },
  {
   "cell_type": "markdown",
   "id": "96bfd8ba-e656-48f8-b156-77cee212b087",
   "metadata": {
    "tags": []
   },
   "source": [
    "### Package Installs (if needed)\n",
    "\n",
    "This notebook uses the Python Clients for\n",
    "- Google Service Usage\n",
    "    - to enable APIs (Artifact Registry)\n",
    "- Artifact Registry\n",
    "    - to create a repository for storing custom Python packages in a GCP Project\n",
    "\n",
    "The cells below check to see if the required Python libraries are installed.  If any are not it will print a message to do the install with the associated pip command to use.  These installs must be completed before continuing this notebook."
   ]
  },
  {
   "cell_type": "code",
   "execution_count": 1,
   "id": "546e5471-78c8-47bc-ba0b-b4240fa8979d",
   "metadata": {},
   "outputs": [],
   "source": [
    "try:\n",
    "    import google.cloud.service_usage_v1\n",
    "except ImportError:\n",
    "    print('You need to pip install google-cloud-service-usage')\n",
    "    !pip install google-cloud-service-usage -q"
   ]
  },
  {
   "cell_type": "code",
   "execution_count": 2,
   "id": "6c9f16f5-ae22-4a52-b368-0a20a63ea7b3",
   "metadata": {},
   "outputs": [],
   "source": [
    "try:\n",
    "    import google.cloud.artifactregistry_v1\n",
    "except ImportError:\n",
    "    print('You need to pip install google-cloud-artifact-registry')\n",
    "    !pip install google-cloud-artifact-registry -q"
   ]
  },
  {
   "cell_type": "markdown",
   "id": "ca9ee618-32dc-4ab9-a3ec-8450b86f6829",
   "metadata": {},
   "source": [
    "### Environment"
   ]
  },
  {
   "cell_type": "markdown",
   "id": "6c8b37ea-52ca-45da-bd6e-37a9a696fe17",
   "metadata": {},
   "source": [
    "inputs:"
   ]
  },
  {
   "cell_type": "code",
   "execution_count": 3,
   "id": "d609a559-cba1-443b-8afa-c2d3e4814b77",
   "metadata": {},
   "outputs": [
    {
     "data": {
      "text/plain": [
       "'statmike-mlops-349915'"
      ]
     },
     "execution_count": 3,
     "metadata": {},
     "output_type": "execute_result"
    }
   ],
   "source": [
    "project = !gcloud config get-value project\n",
    "PROJECT_ID = project[0]\n",
    "PROJECT_ID"
   ]
  },
  {
   "cell_type": "code",
   "execution_count": 4,
   "id": "7b2c4e1c-eccd-44fd-9608-f71a3246f839",
   "metadata": {},
   "outputs": [],
   "source": [
    "REGION = 'us-central1'\n",
    "EXPERIMENT = 'kfp'\n",
    "SERIES = 'tips'"
   ]
  },
  {
   "cell_type": "markdown",
   "id": "47441ddf-113d-48b6-bd4f-7382b5df1a68",
   "metadata": {},
   "source": [
    "packages:"
   ]
  },
  {
   "cell_type": "code",
   "execution_count": 5,
   "id": "478b2bae-3669-41f2-8754-d37ff86f990c",
   "metadata": {},
   "outputs": [
    {
     "name": "stderr",
     "output_type": "stream",
     "text": [
      "/opt/conda/lib/python3.7/site-packages/ipykernel_launcher.py:15: DeprecationWarning: The module `kfp.v2` is deprecated and will be removed in a futureversion. Please import directly from the `kfp` namespace, instead of `kfp.v2`.\n",
      "  from ipykernel import kernelapp as app\n"
     ]
    }
   ],
   "source": [
    "import os\n",
    "import shutil\n",
    "\n",
    "from google.cloud import aiplatform\n",
    "from google.cloud import bigquery\n",
    "from datetime import datetime\n",
    "\n",
    "from google.cloud import service_usage_v1\n",
    "from google.cloud import artifactregistry_v1\n",
    "\n",
    "from datetime import datetime\n",
    "from typing import NamedTuple\n",
    "\n",
    "from kfp import dsl\n",
    "from kfp.v2 import dsl as dsl2\n",
    "from kfp.v2 import compiler"
   ]
  },
  {
   "cell_type": "markdown",
   "id": "c1158ae5-e6ef-4a30-8d62-84ecf6f351ed",
   "metadata": {},
   "source": [
    "clients:"
   ]
  },
  {
   "cell_type": "code",
   "execution_count": 6,
   "id": "3691265a-0b47-4eba-a103-29d3312d85c2",
   "metadata": {},
   "outputs": [],
   "source": [
    "aiplatform.init(project=PROJECT_ID, location=REGION)\n",
    "bq = bigquery.Client()\n",
    "\n",
    "su_client = service_usage_v1.ServiceUsageClient()\n",
    "ar_client = artifactregistry_v1.ArtifactRegistryClient()"
   ]
  },
  {
   "cell_type": "markdown",
   "id": "76fdfa96-99da-44c4-abc8-7c70498e9cc9",
   "metadata": {},
   "source": [
    "parameters:"
   ]
  },
  {
   "cell_type": "code",
   "execution_count": 7,
   "id": "24fbef05-7346-4ed7-8152-f3d535443676",
   "metadata": {},
   "outputs": [],
   "source": [
    "TIMESTAMP = datetime.now().strftime(\"%Y%m%d%H%M%S\")\n",
    "BUCKET = PROJECT_ID\n",
    "URI = f\"gs://{BUCKET}/{SERIES}/{EXPERIMENT}/pipelines\"\n",
    "DIR = f\"temp/{EXPERIMENT}\""
   ]
  },
  {
   "cell_type": "code",
   "execution_count": 8,
   "id": "8c062542-2acc-4704-88b4-3879d73d8b9b",
   "metadata": {},
   "outputs": [
    {
     "data": {
      "text/plain": [
       "'1026793852137-compute@developer.gserviceaccount.com'"
      ]
     },
     "execution_count": 8,
     "metadata": {},
     "output_type": "execute_result"
    }
   ],
   "source": [
    "SERVICE_ACCOUNT = !gcloud config list --format='value(core.account)' \n",
    "SERVICE_ACCOUNT = SERVICE_ACCOUNT[0]\n",
    "SERVICE_ACCOUNT"
   ]
  },
  {
   "cell_type": "markdown",
   "id": "45583855-2805-4f55-982f-8ed192f89bce",
   "metadata": {},
   "source": [
    "List the service accounts current roles:"
   ]
  },
  {
   "cell_type": "code",
   "execution_count": 9,
   "id": "49ffe505-8b5d-456b-a1aa-0cb2aea64ced",
   "metadata": {},
   "outputs": [
    {
     "name": "stdout",
     "output_type": "stream",
     "text": [
      "ROLE\n",
      "roles/bigquery.admin\n",
      "roles/owner\n",
      "roles/run.admin\n",
      "roles/storage.objectAdmin\n"
     ]
    }
   ],
   "source": [
    "!gcloud projects get-iam-policy $PROJECT_ID --filter=\"bindings.members:$SERVICE_ACCOUNT\" --format='table(bindings.role)' --flatten=\"bindings[].members\""
   ]
  },
  {
   "cell_type": "markdown",
   "id": "f9cc4fb1-1d96-4c83-9ddf-3ec1ec2f4dab",
   "metadata": {},
   "source": [
    ">Note: If the resulting list is missing [roles/storage.objectAdmin](https://cloud.google.com/storage/docs/access-control/iam-roles) then [revisit the setup notebook](../00%20-%20Setup/00%20-%20Environment%20Setup.ipynb#permissions) and add this permission to the service account with the provided instructions."
   ]
  },
  {
   "cell_type": "markdown",
   "id": "e58b4133-6e36-410c-acb1-209a6298ee15",
   "metadata": {},
   "source": [
    "environment:"
   ]
  },
  {
   "cell_type": "code",
   "execution_count": 10,
   "id": "37e3668c-1819-4384-9108-4242798b633f",
   "metadata": {},
   "outputs": [],
   "source": [
    "!rm -rf {DIR}\n",
    "!mkdir -p {DIR}"
   ]
  },
  {
   "cell_type": "markdown",
   "id": "59d08c3b-4705-4b07-b98c-96daf5d73f0a",
   "metadata": {
    "tags": []
   },
   "source": [
    "### Enable APIs\n",
    "\n",
    "Using Cloud Build and Artifact Registry requires enabling these APIs for the Google Cloud Project.\n",
    "\n",
    "Options for enabeling these.  In this notebook option 2 is used.\n",
    " 1. Use the APIs & Services page in the console: https://console.cloud.google.com/apis\n",
    "     - `+ Enable APIs and Services`\n",
    "     - Search for Cloud Build and Enable\n",
    "     - Search for Artifact Registry and Enable\n",
    " 2. Use [Google Service Usage](https://cloud.google.com/service-usage/docs) API from Python\n",
    "     - [Python Client For Service Usage](https://github.com/googleapis/python-service-usage)\n",
    "     - [Python Client Library Documentation](https://cloud.google.com/python/docs/reference/serviceusage/latest)\n",
    "     \n",
    "The following code cells use the Service Usage Client to:\n",
    "- get the state of the service\n",
    "- if 'DISABLED':\n",
    "    - Try enabling the service and return the state after trying\n",
    "- if 'ENABLED' print the state for confirmation"
   ]
  },
  {
   "cell_type": "markdown",
   "id": "ce050916-beba-43e3-9640-09aff8a3f072",
   "metadata": {},
   "source": [
    "#### Artifact Registry"
   ]
  },
  {
   "cell_type": "code",
   "execution_count": 11,
   "id": "20279402-861b-43a2-8486-78caeb4f0ec1",
   "metadata": {},
   "outputs": [
    {
     "name": "stdout",
     "output_type": "stream",
     "text": [
      "Artifact Registry already enabled for project: statmike-mlops-349915\n"
     ]
    }
   ],
   "source": [
    "artifactregistry = su_client.get_service(\n",
    "    request = service_usage_v1.GetServiceRequest(\n",
    "        name = f'projects/{PROJECT_ID}/services/artifactregistry.googleapis.com'\n",
    "    )\n",
    ").state.name\n",
    "\n",
    "\n",
    "if artifactregistry == 'DISABLED':\n",
    "    print(f'Artifact Registry is currently {artifactregistry} for project: {PROJECT_ID}')\n",
    "    print(f'Trying to Enable...')\n",
    "    operation = su_client.enable_service(\n",
    "        request = service_usage_v1.EnableServiceRequest(\n",
    "            name = f'projects/{PROJECT_ID}/services/artifactregistry.googleapis.com'\n",
    "        )\n",
    "    )\n",
    "    response = operation.result()\n",
    "    if response.service.state.name == 'ENABLED':\n",
    "        print(f'Artifact Registry is now enabled for project: {PROJECT_ID}')\n",
    "    else:\n",
    "        print(response)\n",
    "else:\n",
    "    print(f'Artifact Registry already enabled for project: {PROJECT_ID}')"
   ]
  },
  {
   "cell_type": "markdown",
   "id": "ca1e495f-1988-4c45-884b-c7c268a67069",
   "metadata": {},
   "source": [
    "#### Setup Artifact Registry\n",
    "\n",
    "Artifact registry organizes artifacts with repositories.  Each repository contains packages and is designated to hold a partifcular format of package: Docker images, Python Packages and [others](https://cloud.google.com/artifact-registry/docs/supported-formats#package)."
   ]
  },
  {
   "cell_type": "markdown",
   "id": "89a74774-f140-4864-8c0c-cbd3881ff93d",
   "metadata": {},
   "source": [
    "##### List Repositories\n",
    "\n",
    "This may be empty if no repositories have been created for this project"
   ]
  },
  {
   "cell_type": "code",
   "execution_count": 12,
   "id": "7ee40a20-6c01-4d33-8b5d-85451806b4cf",
   "metadata": {},
   "outputs": [
    {
     "name": "stdout",
     "output_type": "stream",
     "text": [
      "DOCKER projects/statmike-mlops-349915/locations/us-central1/repositories/statmike-mlops-349915\n",
      "DOCKER projects/statmike-mlops-349915/locations/us-central1/repositories/statmike-mlops-349915-docker\n",
      "PYTHON projects/statmike-mlops-349915/locations/us-central1/repositories/statmike-mlops-349915-python\n"
     ]
    }
   ],
   "source": [
    "for repo in ar_client.list_repositories(parent = f'projects/{PROJECT_ID}/locations/{REGION}'):\n",
    "    print(repo.format_.name, repo.name)"
   ]
  },
  {
   "cell_type": "markdown",
   "id": "42e9dd22-64be-434c-b83f-07399f3616f2",
   "metadata": {},
   "source": [
    "#### Create/Retrieve Docker Image Repository\n",
    "\n",
    "Create an Artifact Registry Repository to hold Docker Images created by this notebook.  First, check to see if it is already created by a previous run and retrieve it if it has.  Otherwise, create!"
   ]
  },
  {
   "cell_type": "code",
   "execution_count": 13,
   "id": "d0acffb8-6dfb-4769-82ee-c24541d7a0be",
   "metadata": {},
   "outputs": [
    {
     "name": "stdout",
     "output_type": "stream",
     "text": [
      "Retrieved existing repo: projects/statmike-mlops-349915/locations/us-central1/repositories/statmike-mlops-349915\n"
     ]
    }
   ],
   "source": [
    "docker_repo = None\n",
    "for repo in ar_client.list_repositories(parent = f'projects/{PROJECT_ID}/locations/{REGION}'):\n",
    "    if repo.name.endswith(PROJECT_ID):\n",
    "        docker_repo = repo\n",
    "        print(f'Retrieved existing repo: {docker_repo.name}')\n",
    "\n",
    "if not docker_repo:\n",
    "    operation = ar_client.create_repository(\n",
    "        request = artifactregistry_v1.CreateRepositoryRequest(\n",
    "            parent = f'projects/{PROJECT_ID}/locations/{REGION}',\n",
    "            repository_id = f'{PROJECT_ID}',\n",
    "            repository = artifactregistry_v1.Repository(\n",
    "                description = f'A repository for the {PROJECT_ID} project that holds docker images.',\n",
    "                name = f'{PROJECT_ID}',\n",
    "                format_ = artifactregistry_v1.Repository.Format.DOCKER,\n",
    "                labels = {'series': SERIES, 'experiment': EXPERIMENT}\n",
    "            )\n",
    "        )\n",
    "    )\n",
    "    print('Creating Repository ...')\n",
    "    docker_repo = operation.result()\n",
    "    print(f'Completed creating repo: {docker_repo.name}')"
   ]
  },
  {
   "cell_type": "code",
   "execution_count": 14,
   "id": "2bb1437c-de17-4652-9ca7-699dd35e7d04",
   "metadata": {},
   "outputs": [
    {
     "name": "stdout",
     "output_type": "stream",
     "text": [
      "DOCKER projects/statmike-mlops-349915/locations/us-central1/repositories/statmike-mlops-349915\n"
     ]
    }
   ],
   "source": [
    "print(docker_repo.format_.name, docker_repo.name)"
   ]
  },
  {
   "cell_type": "code",
   "execution_count": 15,
   "id": "46d90ce4-7c26-4560-8db1-e7b8a82e6cfd",
   "metadata": {},
   "outputs": [
    {
     "data": {
      "text/plain": [
       "'us-central1-docker.pkg.dev/statmike-mlops-349915/statmike-mlops-349915'"
      ]
     },
     "execution_count": 15,
     "metadata": {},
     "output_type": "execute_result"
    }
   ],
   "source": [
    "REPOSITORY = f\"{REGION}-docker.pkg.dev/{PROJECT_ID}/{docker_repo.name.split('/')[-1]}\"\n",
    "REPOSITORY"
   ]
  },
  {
   "cell_type": "markdown",
   "id": "b3baa29b-93af-4210-9776-ae0de5572c9c",
   "metadata": {},
   "source": [
    "---"
   ]
  },
  {
   "cell_type": "markdown",
   "id": "dca2e2d0-7f83-4a4e-955b-f0f6c11f82e6",
   "metadata": {},
   "source": [
    "## Code For Example"
   ]
  },
  {
   "cell_type": "code",
   "execution_count": 16,
   "id": "c97b8ddb-bab3-495d-92d7-b5dbad1c42e8",
   "metadata": {},
   "outputs": [
    {
     "data": {
      "text/plain": [
       "[]"
      ]
     },
     "execution_count": 16,
     "metadata": {},
     "output_type": "execute_result"
    }
   ],
   "source": [
    "os.listdir(DIR)"
   ]
  },
  {
   "cell_type": "code",
   "execution_count": 17,
   "id": "997d0587-b946-41d2-9461-29414b9b34ab",
   "metadata": {},
   "outputs": [],
   "source": [
    "os.makedirs(DIR + '/src')"
   ]
  },
  {
   "cell_type": "code",
   "execution_count": 18,
   "id": "88f04e4d-445a-430b-80a0-598bead3e536",
   "metadata": {},
   "outputs": [],
   "source": [
    "with open(DIR + '/src/__init__.py', 'wb') as file:\n",
    "    pass"
   ]
  },
  {
   "cell_type": "code",
   "execution_count": 19,
   "id": "3508216e-6d80-4448-9846-ffb06d8a0d03",
   "metadata": {},
   "outputs": [
    {
     "name": "stdout",
     "output_type": "stream",
     "text": [
      "Writing temp/kfp/src/train.py\n"
     ]
    }
   ],
   "source": [
    "%%writefile {DIR}/src/train.py\n",
    "# train.py\n",
    "from sklearn import metrics\n",
    "import sys\n",
    "import my_helper\n",
    "\n",
    "def runner(size):\n",
    "    # make data\n",
    "    x, y, p = my_helper.make_dataset(size)\n",
    "\n",
    "    # fit logistic regression\n",
    "    y_pred = my_helper.fit_logistic(x, y)\n",
    "\n",
    "    # gather metrics\n",
    "    cm = metrics.confusion_matrix(y, y_pred)\n",
    "    auPRC = metrics.accuracy_score(y, y_pred)\n",
    "    \n",
    "    return cm, auPRC\n",
    "\n",
    "cm, auPRC = runner(100)\n",
    "sys.stdout.write(f'auPRC = {auPRC}')"
   ]
  },
  {
   "cell_type": "code",
   "execution_count": 20,
   "id": "98187a4f-1e1c-40c8-80e0-8edd4699d091",
   "metadata": {},
   "outputs": [
    {
     "name": "stdout",
     "output_type": "stream",
     "text": [
      "Writing temp/kfp/src/my_helper.py\n"
     ]
    }
   ],
   "source": [
    "%%writefile {DIR}/src/my_helper.py\n",
    "# my_helper.py\n",
    "import numpy as np\n",
    "from sklearn import linear_model\n",
    "\n",
    "# Make some data where y = 0, 1 for a range of x's - let y=1 be more likely as x increases\n",
    "def make_dataset(size):\n",
    "    x = np.random.randn(size)\n",
    "    p = 1 / (1 + np.exp(-1 * (5 * x)))\n",
    "    y = np.random.binomial(1, p, size)   \n",
    "    return x, y, p\n",
    "\n",
    "# fit logistic regression\n",
    "def fit_logistic(x, y):\n",
    "    logisticReg = linear_model.LogisticRegression()\n",
    "    x2 = x.reshape(-1,1)\n",
    "    fit = logisticReg.fit(x2, y)\n",
    "    return fit.predict(x2)"
   ]
  },
  {
   "cell_type": "code",
   "execution_count": 21,
   "id": "a62be6f3-5875-4c2f-99d2-4ce6400c33b3",
   "metadata": {},
   "outputs": [
    {
     "name": "stdout",
     "output_type": "stream",
     "text": [
      "temp/kfp/src/__init__.py\n",
      "temp/kfp/src/train.py\n",
      "temp/kfp/src/my_helper.py\n"
     ]
    }
   ],
   "source": [
    "for root, dirs, files in os.walk(DIR):\n",
    "    for f in files:\n",
    "        print(os.path.join(root, f))"
   ]
  },
  {
   "cell_type": "markdown",
   "id": "adea4359-52a7-4abc-b058-411fb374971c",
   "metadata": {},
   "source": [
    "---\n",
    "## Local Run"
   ]
  },
  {
   "cell_type": "code",
   "execution_count": 22,
   "id": "6700bbfd-9a82-4f5b-8379-60585d666a69",
   "metadata": {},
   "outputs": [
    {
     "data": {
      "text/plain": [
       "'/home/jupyter/vertex-ai-mlops/Tips'"
      ]
     },
     "execution_count": 22,
     "metadata": {},
     "output_type": "execute_result"
    }
   ],
   "source": [
    "keepdir = os.getcwd()\n",
    "keepdir"
   ]
  },
  {
   "cell_type": "code",
   "execution_count": 23,
   "id": "3ff2e10b-4e1b-401f-a079-1628540fb750",
   "metadata": {},
   "outputs": [],
   "source": [
    "os.chdir(f'./{DIR}/src')"
   ]
  },
  {
   "cell_type": "code",
   "execution_count": 24,
   "id": "c4ba0924-04c2-4636-8280-9906f1bd206d",
   "metadata": {},
   "outputs": [
    {
     "data": {
      "text/plain": [
       "'/home/jupyter/vertex-ai-mlops/Tips/temp/kfp/src'"
      ]
     },
     "execution_count": 24,
     "metadata": {},
     "output_type": "execute_result"
    }
   ],
   "source": [
    "os.getcwd()"
   ]
  },
  {
   "cell_type": "code",
   "execution_count": 25,
   "id": "19693ccb-0394-4ab0-918a-ff8f541eed54",
   "metadata": {},
   "outputs": [
    {
     "name": "stdout",
     "output_type": "stream",
     "text": [
      "auPRC = 0.87"
     ]
    }
   ],
   "source": [
    "!python train.py"
   ]
  },
  {
   "cell_type": "code",
   "execution_count": 26,
   "id": "4784fb93-0572-4a1f-b034-68ab3a81b465",
   "metadata": {},
   "outputs": [
    {
     "name": "stdout",
     "output_type": "stream",
     "text": [
      "auPRC = 0.9"
     ]
    }
   ],
   "source": [
    "import train\n",
    "#from .train import runner"
   ]
  },
  {
   "cell_type": "code",
   "execution_count": 27,
   "id": "12ac431c-e2ca-4542-b538-09d7dd5de1ef",
   "metadata": {},
   "outputs": [
    {
     "data": {
      "text/plain": [
       "(array([[36,  6],\n",
       "        [ 4, 54]]),\n",
       " 0.9)"
      ]
     },
     "execution_count": 27,
     "metadata": {},
     "output_type": "execute_result"
    }
   ],
   "source": [
    "train.runner(100)"
   ]
  },
  {
   "cell_type": "code",
   "execution_count": 28,
   "id": "e5b7a9dc-0d43-4b6d-8dca-2f9ab2fd7784",
   "metadata": {},
   "outputs": [
    {
     "data": {
      "text/plain": [
       "0.913"
      ]
     },
     "execution_count": 28,
     "metadata": {},
     "output_type": "execute_result"
    }
   ],
   "source": [
    "cm, auPRC = train.runner(1000)\n",
    "auPRC"
   ]
  },
  {
   "cell_type": "code",
   "execution_count": 29,
   "id": "0eedcdd3-a150-4006-a677-5499053175c9",
   "metadata": {},
   "outputs": [],
   "source": [
    "os.chdir(keepdir)"
   ]
  },
  {
   "cell_type": "code",
   "execution_count": 30,
   "id": "f313b4ba-ce33-4ffd-a6ad-e8af18a40092",
   "metadata": {},
   "outputs": [
    {
     "data": {
      "text/plain": [
       "'/home/jupyter/vertex-ai-mlops/Tips'"
      ]
     },
     "execution_count": 30,
     "metadata": {},
     "output_type": "execute_result"
    }
   ],
   "source": [
    "os.getcwd()"
   ]
  },
  {
   "cell_type": "markdown",
   "id": "2623e396-88e1-47ec-9ca3-6691d9418c38",
   "metadata": {},
   "source": [
    "---\n",
    "## Containerized Python Components"
   ]
  },
  {
   "cell_type": "markdown",
   "id": "36bcee92-bffc-4fba-a6d6-a6f2f9d88aa4",
   "metadata": {},
   "source": [
    "This: https://www.kubeflow.org/docs/components/pipelines/v2/author-a-pipeline/components/#2-containerized-python-components"
   ]
  },
  {
   "cell_type": "code",
   "execution_count": 32,
   "id": "7ab30cd7-7207-45ce-a68b-2b0c562ea6ea",
   "metadata": {},
   "outputs": [
    {
     "data": {
      "text/plain": [
       "'2.0.0-beta.5'"
      ]
     },
     "execution_count": 32,
     "metadata": {},
     "output_type": "execute_result"
    }
   ],
   "source": [
    "import kfp\n",
    "kfp.__version__"
   ]
  },
  {
   "cell_type": "code",
   "execution_count": 33,
   "id": "c1012e98-6266-4871-85fa-4f5a47a0af88",
   "metadata": {},
   "outputs": [
    {
     "data": {
      "text/plain": [
       "'us-central1-docker.pkg.dev/statmike-mlops-349915/statmike-mlops-349915/tips_kfp_kfp_component'"
      ]
     },
     "execution_count": 33,
     "metadata": {},
     "output_type": "execute_result"
    }
   ],
   "source": [
    "IMAGE = REPOSITORY + f'/{SERIES}_{EXPERIMENT}_kfp_component'\n",
    "IMAGE"
   ]
  },
  {
   "cell_type": "code",
   "execution_count": 34,
   "id": "469a1f5c-1047-49f7-ab7f-f65a68ca1ec5",
   "metadata": {},
   "outputs": [
    {
     "name": "stdout",
     "output_type": "stream",
     "text": [
      "Writing temp/kfp/src/my_component.py\n"
     ]
    }
   ],
   "source": [
    "%%writefile {DIR}/src/my_component.py\n",
    "# my_component.py\n",
    "from kfp.v2 import dsl\n",
    "#from train import runner\n",
    "#import my_helper\n",
    "import train\n",
    "\n",
    "@dsl.component(\n",
    "    base_image = 'python:3.7',\n",
    "    target_image = 'us-central1-docker.pkg.dev/statmike-mlops-349915/statmike-mlops-349915/tips_kfp_kfp_component',\n",
    "    packages_to_install = ['numpy', 'scikit-learn']\n",
    ")\n",
    "def train_model(\n",
    "    size: int,\n",
    "    metrics: dsl.Output[dsl.Metrics],\n",
    "    class_metrics: dsl.Output[dsl.ClassificationMetrics]\n",
    "):\n",
    "    # run\n",
    "    cm, auPRC = train.runner(size)\n",
    "    \n",
    "    # output\n",
    "    metrics.log_metric('auPRC', auPRC)\n",
    "    class_metrics.log_confusion_matrix(['Not Fraud', 'Fraud'], cm)"
   ]
  },
  {
   "cell_type": "code",
   "execution_count": 35,
   "id": "59c56f52-d03a-43e5-b846-1b6c61119982",
   "metadata": {},
   "outputs": [
    {
     "name": "stdout",
     "output_type": "stream",
     "text": [
      "temp/kfp/src/__init__.py\n",
      "temp/kfp/src/train.py\n",
      "temp/kfp/src/my_helper.py\n",
      "temp/kfp/src/my_component.py\n",
      "temp/kfp/src/__pycache__/my_helper.cpython-37.pyc\n",
      "temp/kfp/src/__pycache__/train.cpython-37.pyc\n"
     ]
    }
   ],
   "source": [
    "for root, dirs, files in os.walk(DIR):\n",
    "    for f in files:\n",
    "        print(os.path.join(root, f))"
   ]
  },
  {
   "cell_type": "code",
   "execution_count": null,
   "id": "beef2a69-6bf7-444d-9007-11d70c84522a",
   "metadata": {},
   "outputs": [],
   "source": []
  },
  {
   "cell_type": "code",
   "execution_count": 36,
   "id": "adc3b96c-6c29-4694-b75c-0863feeb6880",
   "metadata": {},
   "outputs": [
    {
     "data": {
      "text/plain": [
       "'/home/jupyter/vertex-ai-mlops/Tips'"
      ]
     },
     "execution_count": 36,
     "metadata": {},
     "output_type": "execute_result"
    }
   ],
   "source": [
    "keepdir = os.getcwd()\n",
    "keepdir"
   ]
  },
  {
   "cell_type": "code",
   "execution_count": 37,
   "id": "37916ab1-0052-4271-ab50-69ed8c67587c",
   "metadata": {},
   "outputs": [],
   "source": [
    "os.chdir(f'./{DIR}/src')"
   ]
  },
  {
   "cell_type": "code",
   "execution_count": 38,
   "id": "6047f169-c7e8-4957-a208-bc6bc1aeae13",
   "metadata": {},
   "outputs": [
    {
     "data": {
      "text/plain": [
       "'/home/jupyter/vertex-ai-mlops/Tips/temp/kfp/src'"
      ]
     },
     "execution_count": 38,
     "metadata": {},
     "output_type": "execute_result"
    }
   ],
   "source": [
    "os.getcwd()"
   ]
  },
  {
   "cell_type": "code",
   "execution_count": 40,
   "id": "18e68b2d-347c-408e-bcae-a582d11f61bf",
   "metadata": {},
   "outputs": [
    {
     "name": "stdout",
     "output_type": "stream",
     "text": [
      "Usage: kfp component build [OPTIONS] COMPONENTS_DIRECTORY\n",
      "Try 'kfp component build --help' for help.\n",
      "\n",
      "Error: Missing argument 'COMPONENTS_DIRECTORY'.\n"
     ]
    }
   ],
   "source": [
    "!kfp component build"
   ]
  },
  {
   "cell_type": "code",
   "execution_count": 44,
   "id": "daf58a07-0e6b-4496-9c42-714257fa83f4",
   "metadata": {},
   "outputs": [
    {
     "name": "stdout",
     "output_type": "stream",
     "text": [
      "Building component using KFP package path: kfp==2.0.0-beta.5\n",
      "No module named 'train'\n"
     ]
    }
   ],
   "source": [
    "! kfp component build --push-image --component-filepattern my_component.py ./"
   ]
  },
  {
   "cell_type": "code",
   "execution_count": 43,
   "id": "72c3336f-6bcc-43e7-8630-4cf630e36b3d",
   "metadata": {},
   "outputs": [
    {
     "name": "stdout",
     "output_type": "stream",
     "text": [
      "Usage: kfp component build [OPTIONS] COMPONENTS_DIRECTORY\n",
      "\n",
      "  Builds containers for KFP v2 Python-based components.\n",
      "\n",
      "Options:\n",
      "  --component-filepattern TEXT    Filepattern to use when searching for KFP\n",
      "                                  components. The default searches all Python\n",
      "                                  files in the specified directory.\n",
      "  --kfp-package-path PATH         A pip-installable path to the KFP package.\n",
      "  --overwrite-dockerfile          Set this to true to always generate a\n",
      "                                  Dockerfile as part of the build process\n",
      "  --push-image / --no-push-image  Push the built image to its remote\n",
      "                                  repository.\n",
      "  --help                          Show this message and exit.\n"
     ]
    }
   ],
   "source": [
    "!kfp component build --c--help"
   ]
  },
  {
   "cell_type": "code",
   "execution_count": 97,
   "id": "2a38d8c2-a5c4-4b39-ba87-2059e42e90db",
   "metadata": {},
   "outputs": [
    {
     "ename": "NameError",
     "evalue": "name 'keeper' is not defined",
     "output_type": "error",
     "traceback": [
      "\u001b[0;31m---------------------------------------------------------------------------\u001b[0m",
      "\u001b[0;31mNameError\u001b[0m                                 Traceback (most recent call last)",
      "\u001b[0;32m/tmp/ipykernel_26155/3161936014.py\u001b[0m in \u001b[0;36m<module>\u001b[0;34m\u001b[0m\n\u001b[0;32m----> 1\u001b[0;31m \u001b[0mos\u001b[0m\u001b[0;34m.\u001b[0m\u001b[0mchdir\u001b[0m\u001b[0;34m(\u001b[0m\u001b[0mkeeper\u001b[0m\u001b[0;34m)\u001b[0m\u001b[0;34m\u001b[0m\u001b[0;34m\u001b[0m\u001b[0m\n\u001b[0m",
      "\u001b[0;31mNameError\u001b[0m: name 'keeper' is not defined"
     ]
    }
   ],
   "source": [
    "os.chdir(keeper)"
   ]
  },
  {
   "cell_type": "code",
   "execution_count": null,
   "id": "0a8b35c7-6d6b-4953-86dd-82f254314beb",
   "metadata": {},
   "outputs": [],
   "source": [
    "os.getcwd()"
   ]
  },
  {
   "cell_type": "code",
   "execution_count": null,
   "id": "e04f4d8a-68f0-4e0a-8bd9-c64f7e1f34bf",
   "metadata": {},
   "outputs": [],
   "source": []
  },
  {
   "cell_type": "code",
   "execution_count": 102,
   "id": "d5461b77-d1b6-45c9-9696-6d7676bad7f4",
   "metadata": {},
   "outputs": [],
   "source": [
    "os.chdir('../')"
   ]
  },
  {
   "cell_type": "code",
   "execution_count": 103,
   "id": "458194fd-d74e-4254-a7f1-8ccc10d97a43",
   "metadata": {},
   "outputs": [
    {
     "name": "stdout",
     "output_type": "stream",
     "text": [
      "'DEV - KFP.ipynb'\t\t  'Python Multiprocessing.ipynb'   code\n",
      "'Python Client for GCS.ipynb'\t  'Python Packages.ipynb'\t   readme.md\n",
      "'Python Custom Containers.ipynb'  'Python Training.ipynb'\t   temp\n",
      "'Python Job Parameters.ipynb'\t   aiplatform_notes.md\n"
     ]
    }
   ],
   "source": [
    "!ls"
   ]
  },
  {
   "cell_type": "code",
   "execution_count": null,
   "id": "2664b4a2-0c8f-4e2b-b776-3f56c45c9ac8",
   "metadata": {},
   "outputs": [],
   "source": []
  },
  {
   "cell_type": "code",
   "execution_count": null,
   "id": "a286cba1-b706-4533-abfb-420e52eba8dd",
   "metadata": {},
   "outputs": [],
   "source": []
  },
  {
   "cell_type": "code",
   "execution_count": null,
   "id": "731a09a5-8350-447f-a95a-b88bda428654",
   "metadata": {},
   "outputs": [],
   "source": []
  },
  {
   "cell_type": "markdown",
   "id": "79cbc831-d1e6-4eed-9132-6906520b5f5e",
   "metadata": {},
   "source": [
    "---\n",
    "## Custom Container - TESTING"
   ]
  },
  {
   "cell_type": "code",
   "execution_count": 75,
   "id": "f323e04c-5f64-4b2c-9804-851fc2d2c90a",
   "metadata": {},
   "outputs": [
    {
     "data": {
      "text/plain": [
       "'us-central1-docker.pkg.dev/statmike-mlops-349915/statmike-mlops-349915/tips_kfp_kfp_component'"
      ]
     },
     "execution_count": 75,
     "metadata": {},
     "output_type": "execute_result"
    }
   ],
   "source": [
    "IMAGE = REPOSITORY + f'/{SERIES}_{EXPERIMENT}_kfp_component'\n",
    "IMAGE"
   ]
  },
  {
   "cell_type": "code",
   "execution_count": 45,
   "id": "609f781e-933d-4d10-91ab-a17bbed16f37",
   "metadata": {},
   "outputs": [
    {
     "name": "stdout",
     "output_type": "stream",
     "text": [
      "Overwriting temp/kfp/src/Dockerfile\n"
     ]
    }
   ],
   "source": [
    "%%writefile {DIR}/src/Dockerfile\n",
    "FROM python:3.9\n",
    "WORKDIR /my_work\n",
    "RUN pip install numpy scikit-learn\n",
    "## Copies the trainer code to the docker image\n",
    "COPY ./* ./\n",
    "## Sets up the entry point to invoke the trainer\n",
    "ENTRYPOINT [\"python\", \"-m\", \"train\"]"
   ]
  },
  {
   "cell_type": "code",
   "execution_count": 46,
   "id": "a0959ae7-b0d3-484f-a63e-ab48959d9c1c",
   "metadata": {},
   "outputs": [
    {
     "name": "stdout",
     "output_type": "stream",
     "text": [
      "Sending build context to Docker daemon  7.168kB\n",
      "Step 1/5 : FROM python:3.9\n",
      " ---> e4bf78b64f77\n",
      "Step 2/5 : WORKDIR /my_work\n",
      " ---> Using cache\n",
      " ---> ea50812a783f\n",
      "Step 3/5 : RUN pip install numpy scikit-learn\n",
      " ---> Using cache\n",
      " ---> 5819262c90ca\n",
      "Step 4/5 : COPY ./* ./\n",
      " ---> fa83b8db3bc8\n",
      "Step 5/5 : ENTRYPOINT [\"python\", \"-m\", \"train\"]\n",
      " ---> Running in 1e01c5ab30cf\n",
      "Removing intermediate container 1e01c5ab30cf\n",
      " ---> 000af88ec09a\n",
      "Successfully built 000af88ec09a\n",
      "Successfully tagged us-central1-docker.pkg.dev/statmike-mlops-349915/statmike-mlops-349915/tips_kfp_kfp_component:latest\n"
     ]
    }
   ],
   "source": [
    "!docker build {DIR}/src/. -t $IMAGE"
   ]
  },
  {
   "cell_type": "code",
   "execution_count": 49,
   "id": "8ea463fa-bb52-481c-8c39-ac5cca4047e1",
   "metadata": {},
   "outputs": [],
   "source": [
    "!docker run {IMAGE}"
   ]
  },
  {
   "cell_type": "code",
   "execution_count": 54,
   "id": "f99ef399-22be-4f41-a16e-9f62588834eb",
   "metadata": {},
   "outputs": [
    {
     "name": "stdout",
     "output_type": "stream",
     "text": [
      "CONTAINER ID   IMAGE                          COMMAND                  CREATED       STATUS       PORTS     NAMES\n",
      "cfc6fa1ae606   gcr.io/inverting-proxy/agent   \"/bin/sh -c '/opt/bi…\"   8 weeks ago   Up 2 weeks             proxy-agent\n"
     ]
    }
   ],
   "source": [
    "!docker ps -a"
   ]
  },
  {
   "cell_type": "code",
   "execution_count": 51,
   "id": "d39ab327-4103-459f-9ae5-5bfb6ca5d774",
   "metadata": {},
   "outputs": [
    {
     "name": "stdout",
     "output_type": "stream",
     "text": [
      "laughing_mirzakhani\n",
      "gifted_ardinghelli\n"
     ]
    }
   ],
   "source": [
    "!docker stop laughing_mirzakhani\n",
    "!docker stop gifted_ardinghelli"
   ]
  },
  {
   "cell_type": "code",
   "execution_count": 53,
   "id": "1332c54f-768b-457c-ba99-d755389c70e5",
   "metadata": {},
   "outputs": [
    {
     "name": "stdout",
     "output_type": "stream",
     "text": [
      "laughing_mirzakhani\n",
      "gifted_ardinghelli\n"
     ]
    }
   ],
   "source": [
    "!docker rm laughing_mirzakhani\n",
    "!docker rm gifted_ardinghelli"
   ]
  },
  {
   "cell_type": "code",
   "execution_count": null,
   "id": "03b9337a-d4e7-4c36-98ee-4278cdc60360",
   "metadata": {},
   "outputs": [],
   "source": []
  },
  {
   "cell_type": "code",
   "execution_count": null,
   "id": "697b9cc5-1e29-480f-a955-ebb656f443c8",
   "metadata": {},
   "outputs": [],
   "source": []
  },
  {
   "cell_type": "markdown",
   "id": "d44e0f77-3248-456a-b2db-81e6a691c3a1",
   "metadata": {},
   "source": [
    "---\n",
    "## Pipeline (KFP) Definition"
   ]
  },
  {
   "cell_type": "code",
   "execution_count": null,
   "id": "144bd191-ba7e-4e52-b31d-0567d55c5de3",
   "metadata": {},
   "outputs": [],
   "source": [
    "@dsl.pipeline(\n",
    "    name = f'series-{SERIES}-endpoint-challenger',\n",
    "    description = 'Update endpoint with challenger model (conditionally).'\n",
    ")\n",
    "def pipeline(\n",
    "    project: str,\n",
    "    region: str,\n",
    "    series: str,\n",
    "    experiment: str,\n",
    "    timestamp: str,\n",
    "    bq_project: str,\n",
    "    bq_dataset: str,\n",
    "    bq_table: str,\n",
    "    var_target: str,\n",
    "    var_omit: str,\n",
    "    uri: str,\n",
    "    run_name: str\n",
    "):\n",
    "   \n",
    "    # get the current model\n",
    "    current_model = get_deployed_model(\n",
    "        project = project,\n",
    "        region = region,\n",
    "        series = series\n",
    "    ).set_display_name('Get Current Model').set_caching_options(False)\n",
    "\n",
    "    # get AUC for current model\n",
    "    base_model_eval = bqml_eval(\n",
    "        project = project,\n",
    "        region = region,\n",
    "        var_target = var_target,\n",
    "        bq_project = bq_project,\n",
    "        bq_dataset = bq_dataset,\n",
    "        bq_table = bq_table,\n",
    "        bqml_model = current_model.outputs['bqml_model']\n",
    "    ).set_display_name('Metric for Current Model').set_caching_options(False)\n",
    "    \n",
    "    # train challenger model with BQML\n",
    "    challenger_model = bqml_dnn(\n",
    "        project = project,\n",
    "        region = region,\n",
    "        series = series,\n",
    "        experiment = experiment,\n",
    "        timestamp = timestamp,\n",
    "        var_target = var_target,\n",
    "        var_omit = var_omit,\n",
    "        bq_project = bq_project,\n",
    "        bq_dataset = bq_dataset,\n",
    "        bq_table = bq_table\n",
    "    ).set_display_name('Train Challenger Model').set_caching_options(True)\n",
    "    \n",
    "    # get AUC for challenger model\n",
    "    challenger_model_eval = bqml_eval(\n",
    "        project = project,\n",
    "        region = region,\n",
    "        var_target = var_target,\n",
    "        bq_project = bq_project,\n",
    "        bq_dataset = bq_dataset,\n",
    "        bq_table = bq_table,\n",
    "        bqml_model = challenger_model.outputs['bqml_model']\n",
    "    ).set_display_name('Metric for Challenger Model').set_caching_options(False)\n",
    "    challenger_model_eval.after(challenger_model)\n",
    "    \n",
    "    # compare models\n",
    "    compare = model_compare(\n",
    "        base_metric = base_model_eval.outputs[\"metric\"],\n",
    "        challenger_metric = challenger_model_eval.outputs[\"metric\"]\n",
    "    ).set_display_name('Compare Models')\n",
    "    \n",
    "    # conditional deployment\n",
    "    with dsl.Condition(\n",
    "        compare.output == 'true',\n",
    "        name = \"replace_model\"\n",
    "    ):\n",
    "        # export BQML model to Vertex AI Model Registry\n",
    "        export = bqml_export(\n",
    "            project = project,\n",
    "            region = region,\n",
    "            series = series,\n",
    "            experiment = experiment,\n",
    "            timestamp = timestamp,\n",
    "            uri = uri,\n",
    "            run_name = run_name,\n",
    "            bq_project = bq_project,\n",
    "            bq_dataset = bq_dataset,\n",
    "            bqml_model = challenger_model.outputs[\"bqml_model\"]\n",
    "        ).set_display_name('Export BQML Model')\n",
    "        \n",
    "        # replace model on endpoint (03b)\n",
    "        replace = endpoint_update(\n",
    "            project = project,\n",
    "            region = region,\n",
    "            series = series,\n",
    "            experiment = experiment,\n",
    "            vertex_endpoint = current_model.outputs['vertex_endpoint'],\n",
    "            vertex_model = export.outputs['vertex_model']\n",
    "        ).set_display_name('Deploy The Challenger Model')"
   ]
  },
  {
   "cell_type": "markdown",
   "id": "c54a4e32-0575-4013-b56d-27ac703dbc3b",
   "metadata": {},
   "source": [
    "---\n",
    "## Compile And Run Pipeline"
   ]
  },
  {
   "cell_type": "markdown",
   "id": "2966c7bb-cca1-4e43-9733-a979802fec6f",
   "metadata": {},
   "source": [
    "### Compile Inputs"
   ]
  },
  {
   "cell_type": "code",
   "execution_count": null,
   "id": "d50e1a51-cb1b-4f56-879d-a8d6f2ec7a14",
   "metadata": {},
   "outputs": [],
   "source": [
    "parameter_values = {\n",
    "    \"project\" : PROJECT_ID,\n",
    "    \"region\" : REGION,\n",
    "    \"series\": SERIES,\n",
    "    \"experiment\" : EXPERIMENT,\n",
    "    \"timestamp\": TIMESTAMP,\n",
    "    \"bq_project\": BQ_PROJECT,\n",
    "    \"bq_dataset\": BQ_DATASET,\n",
    "    \"bq_table\": BQ_TABLE,\n",
    "    \"var_target\": VAR_TARGET,\n",
    "    \"var_omit\": VAR_OMIT,\n",
    "    \"uri\": URI,\n",
    "    \"run_name\": RUN_NAME\n",
    "}"
   ]
  },
  {
   "cell_type": "markdown",
   "id": "40d4904c-b34a-45d2-9fcd-3a60387ad404",
   "metadata": {},
   "source": [
    "### Compile Pipeline"
   ]
  },
  {
   "cell_type": "code",
   "execution_count": null,
   "id": "da1d2970-4e41-45fd-8979-0545547686e5",
   "metadata": {},
   "outputs": [],
   "source": [
    "# from kfp.v2 import compiler\n",
    "kfp.v2.compiler.Compiler().compile(\n",
    "    pipeline_func = pipeline,\n",
    "    package_path = f\"{DIR}/{EXPERIMENT}.json\"\n",
    ")"
   ]
  },
  {
   "cell_type": "markdown",
   "id": "ae5e1a4a-038f-49a5-be5e-a84a0040f0ce",
   "metadata": {},
   "source": [
    "### Define Pipeline Job\n",
    "\n",
    "Using compiled pipeline:"
   ]
  },
  {
   "cell_type": "code",
   "execution_count": null,
   "id": "1c9a9379-c70c-4af6-891c-3d28733bae2f",
   "metadata": {},
   "outputs": [],
   "source": [
    "pipeline_job = aiplatform.PipelineJob(\n",
    "    display_name = f'{EXPERIMENT}',\n",
    "    template_path = f\"{DIR}/{EXPERIMENT}.json\",\n",
    "    pipeline_root = f\"{URI}/pipeline_root\",\n",
    "    parameter_values = parameter_values,\n",
    "    enable_caching = False, # overrides all component/task settings\n",
    "    labels = {'series': SERIES, 'experiment': EXPERIMENT}\n",
    ")"
   ]
  },
  {
   "cell_type": "markdown",
   "id": "55b911ce-985a-44cb-87c4-fd4d795f63b3",
   "metadata": {},
   "source": [
    "### Submit Pipeline Job"
   ]
  },
  {
   "cell_type": "code",
   "execution_count": null,
   "id": "69a4f30a-94de-4059-9cf0-4939390ec818",
   "metadata": {},
   "outputs": [],
   "source": [
    "response = pipeline_job.submit(\n",
    "    service_account = SERVICE_ACCOUNT\n",
    ")"
   ]
  },
  {
   "cell_type": "markdown",
   "id": "a13e600b-0eaa-4436-aa1a-5bd04ff6cabb",
   "metadata": {},
   "source": [
    "Using the following link to view the job in the GCP console:"
   ]
  },
  {
   "cell_type": "code",
   "execution_count": null,
   "id": "c9072075-436c-43a6-bb06-56cc4d61fbb4",
   "metadata": {},
   "outputs": [],
   "source": [
    "print(f'The Dashboard can be viewed here:\\n{pipeline_job._dashboard_uri()}')"
   ]
  },
  {
   "cell_type": "markdown",
   "id": "450df442-a775-4884-8757-4ff6d4547c05",
   "metadata": {},
   "source": [
    "#### Wait On Pipeline Job"
   ]
  },
  {
   "cell_type": "code",
   "execution_count": null,
   "id": "5c35f4e8-9e36-401e-ac1a-6f58cd04ede0",
   "metadata": {
    "scrolled": true,
    "tags": []
   },
   "outputs": [],
   "source": [
    "pipeline_job.wait()"
   ]
  },
  {
   "cell_type": "markdown",
   "id": "3fb5b04a-1e74-440d-8c46-2a968a91a579",
   "metadata": {},
   "source": [
    "### Retrieve Pipeline Information"
   ]
  },
  {
   "cell_type": "code",
   "execution_count": null,
   "id": "06612840-0190-44e4-be7f-030a66162408",
   "metadata": {},
   "outputs": [],
   "source": [
    "aiplatform.get_pipeline_df(pipeline = f'series-{SERIES}-endpoint-challenger')"
   ]
  },
  {
   "cell_type": "markdown",
   "id": "bacfcba8-dc37-4c1c-9bbc-eb8c3e1045d4",
   "metadata": {},
   "source": [
    "## Review Pipeline Run\n",
    "\n",
    "<p aligh=\"center\"><center><img src=\"../architectures/notebooks/03/pipeline_ex2.png\" width=\"75%\"></center></p>"
   ]
  },
  {
   "cell_type": "markdown",
   "id": "e85f9df7-8b77-480c-8a1d-1c4a1018557f",
   "metadata": {},
   "source": [
    "---\n",
    "## Remove Resources\n",
    "see notebook \"99 - Cleanup\""
   ]
  }
 ],
 "metadata": {
  "environment": {
   "kernel": "python3",
   "name": "tf2-gpu.2-3.m94",
   "type": "gcloud",
   "uri": "gcr.io/deeplearning-platform-release/tf2-gpu.2-3:m94"
  },
  "kernelspec": {
   "display_name": "Python 3",
   "language": "python",
   "name": "python3"
  },
  "language_info": {
   "codemirror_mode": {
    "name": "ipython",
    "version": 3
   },
   "file_extension": ".py",
   "mimetype": "text/x-python",
   "name": "python",
   "nbconvert_exporter": "python",
   "pygments_lexer": "ipython3",
   "version": "3.7.12"
  }
 },
 "nbformat": 4,
 "nbformat_minor": 5
}
