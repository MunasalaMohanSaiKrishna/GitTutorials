{
 "cells": [
  {
   "cell_type": "markdown",
   "id": "57568ace",
   "metadata": {},
   "source": [
    "# 02a - Vertex AI - AutoML in GCP Console (no code)\n",
    "\n",
    "Use Vertex AI from the GCP Console for a no-code approach building a custom model with AutoML and deploy it for predictions.\n",
    "\n",
    "### Video Walkthrough of this notebook:\n",
    "Includes conversational walkthrough and more explanatory information than the notebook:\n",
    "<p align=\"center\" width=\"100%\"><center><a href=\"https://youtu.be/ZZadMQTKJXk\" target=\"_blank\" rel=\"noopener noreferrer\"><img src=\"../architectures/thumbnails/playbutton/02a.png\" width=\"40%\"></a></center></p>\n",
    "\n",
    "### Prerequisites:\n",
    "-  01 - BigQuery - Table Data Source\n",
    "\n",
    "### Resources:\n",
    "-  [AutoML Tabular Training Job With GCP Console](https://cloud.google.com/vertex-ai/docs/training/automl-console#tabular)\n",
    "\n",
    "### Related Training:\n",
    "-  [Tutorial for AutoML Tabular](https://cloud.google.com/vertex-ai/docs/tutorials/tabular-automl)\n",
    "\n",
    "### Conceptual Flow & Workflow\n",
    "<p align=\"center\">\n",
    "  <img alt=\"Conceptual Flow\" src=\"../architectures/slides/02a_arch.png\" width=\"45%\">\n",
    "&nbsp; &nbsp; &nbsp; &nbsp;\n",
    "  <img alt=\"Workflow\" src=\"../architectures/slides/02a_console.png\" width=\"45%\">\n",
    "</p>"
   ]
  },
  {
   "cell_type": "markdown",
   "id": "66e431d5",
   "metadata": {},
   "source": [
    "---\n",
    "## Create Dataset (link to BigQuery table)\n",
    "\n",
    "From the Console:\n",
    "- Go to Vertex AI\n",
    "- Selected `Datasets`\n",
    "- Select `CREATE DATASET`\n",
    "\n",
    "<img src=\"../architectures/notebooks/02a_screenshots/ds_1.png\" width=\"50%\">\n",
    "\n",
    "- Name the dataset `02a`\n",
    "- Select `Tabular` and `Regression/classification`\n",
    "    - [More on Model Types](https://cloud.google.com/vertex-ai/docs/start/automl-model-types)\n",
    "- Click `Create`\n",
    "\n",
    "<img src=\"../architectures/notebooks/02a_screenshots/ds_2.png\" width=\"50%\">\n",
    "\n",
    "- Under Select a data source pick `Select a table or view from BigQuery`\n",
    "- Enter the BigQuery path (or browse) to the prepped table created in notebook 01\n",
    "- Click `CONTINUE`\n",
    "\n",
    "<img src=\"../architectures/notebooks/02a_screenshots/ds_3.png\" width=\"50%\">\n",
    "\n",
    "- The `ANALYZE` tab for the dataset will be displayed for review:\n",
    "\n",
    "<img src=\"../architectures/notebooks/02a_screenshots/ds_4.png\" width=\"50%\">\n",
    "\n",
    "- Going back to the `Datasets` dashboard will display the registered dataset\n",
    "\n",
    "<img src=\"../architectures/notebooks/02a_screenshots/ds_5.png\" width=\"50%\">"
   ]
  },
  {
   "cell_type": "markdown",
   "id": "87433be1",
   "metadata": {},
   "source": [
    "---\n",
    "## Train Model with AutoML\n",
    "\n",
    "On The Vertex AI console, select `Training`:\n",
    "\n",
    "<img src=\"../architectures/notebooks/02a_screenshots/train_1.png\" width=\"50%\">\n",
    "\n",
    "Next to `Training` (near the top), select `CREATE`\n",
    "- For Dataset enter `02a`\n",
    "- For Objective make sure `Classification` is selected\n",
    "- Use `AutoML` for the method\n",
    "- Click `CONTINUE`\n",
    "\n",
    "<img src=\"../architectures/notebooks/02a_screenshots/train_2.png\" width=\"50%\">\n",
    "\n",
    "For `Model Details`:\n",
    "- Keep the default `Model name` which appends a datetime to the end of the dataset name\n",
    "- For `Target column` select the column to train predictions for\n",
    "- Expand `ADVANCED OPTIONS`:\n",
    "    - Select `Manual` for the Data split method\n",
    "    - Select the `splits` variables that was created in Notebook 01\n",
    "- Click `CONTINUE`\n",
    "\n",
    "<img src=\"../architectures/notebooks/02a_screenshots/train_3.png\" width=\"50%\">\n",
    "\n",
    "For `Training options`:\n",
    "- Click the `-` symbol next to any rows for variables that should be excluded from training, like the `transaction_id`\n",
    "- More on Adavanced Options:\n",
    "    - [Model Weights](https://cloud.google.com/vertex-ai/docs/datasets/prepare-tabular#weight)\n",
    "    - [Optimization Objectives](https://cloud.google.com/vertex-ai/docs/training/tabular-opt-obj)\n",
    "        - Pick AUC PR (Due to imbalance in Class)\n",
    "- Click `CONTINUE`\n",
    "\n",
    "<img src=\"../architectures/notebooks/02a_screenshots/train_4.png\" width=\"50%\">\n",
    "\n",
    "For `Compute and pricing`:\n",
    "- Enter a `Budget` of 1 node hour\n",
    "    - A guide for choosing the right amount of time can be found [here](https://cloud.google.com/vertex-ai/docs/training/automl-console#tabular): \n",
    "- Make sure `Enable early stopping` is toggled on\n",
    "- Click `START TRAINING`\n",
    "\n",
    "<img src=\"../architectures/notebooks/02a_screenshots/train_5.png\" width=\"50%\">\n",
    "\n",
    "Return to the Vertex AI console `Training` Menu:\n",
    "- Once the model completes training the name will be accompanied by a green check mark\n",
    "\n",
    "<img src=\"../architectures/notebooks/02a_screenshots/train_6.png\" width=\"50%\">"
   ]
  },
  {
   "cell_type": "markdown",
   "id": "1a962bf5",
   "metadata": {},
   "source": [
    "---\n",
    "## Model: Evaluate, Select, Deploy\n",
    "\n",
    "On the Vertex AI console, select `Models`\n",
    "\n",
    "<img src=\"../architectures/notebooks/02a_screenshots/model_1.png\" width=\"50%\">\n",
    "\n",
    "Select the model that was just trained - starts with `02a`:\n",
    "- This brings up the `EVALUATE` tab for the model\n",
    "\n",
    "<img src=\"../architectures/notebooks/02a_screenshots/model_2.png\" width=\"50%\">\n",
    "\n",
    "Select the tab labeled `DEPLOY & TEST`:\n",
    "\n",
    "<img src=\"../architectures/notebooks/02a_screenshots/model_3.png\" width=\"50%\">"
   ]
  },
  {
   "cell_type": "markdown",
   "id": "af28bd96",
   "metadata": {},
   "source": [
    "---\n",
    "## Endpoint\n",
    "\n",
    "While still on the Vetex AI `Models` section with the `DEPLOY & TEST` tab selected:\n",
    "- select `DEPLOY TO ENDPOINT`\n",
    "\n",
    "<img src=\"../architectures/notebooks/02a_screenshots/model_3.png\" width=\"50%\">\n",
    "\n",
    "In the `Deploy to endpoint` menus, complete `Define your endpoint`:\n",
    "- For Endpoint name use `02a`\n",
    "- keep defaults for location and Access\n",
    "- Select `CONTINUE`\n",
    "\n",
    "<img src=\"../architectures/notebooks/02a_screenshots/endpoint_1.png\" width=\"50%\">\n",
    "\n",
    "In the `Model settings` section:\n",
    "- Traffic split should be 100\n",
    "- minimum number of computes nodes is 1\n",
    "- keep the remaining default values for max nodes, scaling, logging and explainability\n",
    "- Select `CONTINUE`\n",
    "\n",
    "<img src=\"../architectures/notebooks/02a_screenshots/endpoint_2.png\" width=\"50%\">\n",
    "\n",
    "In the `Model monitoring` section:\n",
    "- Toggle `Enable model monitoring for this endpoint` on\n",
    "    - for monitoring job use the name `02a`\n",
    "    - use defaults for the other menue items\n",
    "- Select `CONTINUE`\n",
    "\n",
    "<img src=\"../architectures/notebooks/02a_screenshots/endpoint_3.png\" width=\"50%\">\n",
    "\n",
    "In the `Monitoring objectives` section:\n",
    "- Select `Prediction Drift Detection` under Monitoring objective\n",
    "- Select `DEPLOY`\n",
    "\n",
    "<img src=\"../architectures/notebooks/02a_screenshots/endpoint_4.png\" width=\"50%\">\n",
    "\n",
    "Once the model is done being deployed to the endpoint, click the `Endpoints` section of Vertex AI:\n",
    "- Select the endpoint that starts with `02a`\n",
    "- Review the endpoint dashboard for the deployed model\n",
    "\n",
    "<img src=\"../architectures/notebooks/02a_screenshots/endpoint_5.png\" width=\"50%\">\n"
   ]
  },
  {
   "cell_type": "markdown",
   "id": "4066f242",
   "metadata": {},
   "source": [
    "---\n",
    "## Batch\n",
    "\n",
    "In the Verex AI console select the `Batch predictions` section:\n",
    "\n",
    "<img src=\"../architectures/notebooks/02a_screenshots/batch_1.png\" width=\"50%\">\n",
    "\n",
    "Select `Create`:\n",
    "- name the prediction `02a`\n",
    "- for model name select the model that starts with `02a`\n",
    "- for Select source, pick BigQuery table\n",
    "- provide the location of the BigQuery source table\n",
    "- for storage location pick output format of BigQuery\n",
    "- provide the project for output in BigQuery\n",
    "- select `Generate feature importance`\n",
    "- select `Enable feature attributions for this model`\n",
    "- select `CREATE`\n",
    "\n",
    "<img src=\"../architectures/notebooks/02a_screenshots/batch_2.png\" width=\"50%\">\n",
    "\n",
    "Once the batch prediction job completes it will be listed with a green checkmark under `Batch Predictions`\n",
    "\n",
    "<img src=\"../architectures/notebooks/02a_screenshots/batch_3.png\" width=\"50%\">\n",
    "\n",
    "Selecting the batch prediction job that starts with `02a` bring up the details of the prediction job\n",
    "\n",
    "<img src=\"../architectures/notebooks/02a_screenshots/batch_4.png\" width=\"50%\">\n",
    "\n",
    "Select the linked BigQuery output table next to `Export location`:\n",
    "\n",
    "<img src=\"../architectures/notebooks/02a_screenshots/batch_5.png\" width=\"50%\">"
   ]
  },
  {
   "cell_type": "markdown",
   "id": "33a23c17",
   "metadata": {},
   "source": [
    "---\n",
    "## Prediction"
   ]
  },
  {
   "cell_type": "markdown",
   "id": "a42e6c09",
   "metadata": {},
   "source": [
    "inputs:"
   ]
  },
  {
   "cell_type": "code",
   "execution_count": 1,
   "id": "baf1e84b-8051-4c36-a99a-77703ec42f67",
   "metadata": {},
   "outputs": [
    {
     "data": {
      "text/plain": [
       "'statmike-mlops-349915'"
      ]
     },
     "execution_count": 1,
     "metadata": {},
     "output_type": "execute_result"
    }
   ],
   "source": [
    "project = !gcloud config get-value project\n",
    "PROJECT_ID = project[0]\n",
    "PROJECT_ID"
   ]
  },
  {
   "cell_type": "code",
   "execution_count": 2,
   "id": "190ee41c",
   "metadata": {},
   "outputs": [],
   "source": [
    "REGION = 'us-central1'\n",
    "DATANAME = 'fraud'\n",
    "NOTEBOOK = '02a'\n",
    "\n",
    "# Model Training\n",
    "VAR_TARGET = 'Class'\n",
    "VAR_OMIT = 'transaction_id' # add more variables to the string with space delimiters"
   ]
  },
  {
   "cell_type": "markdown",
   "id": "352e4abd",
   "metadata": {},
   "source": [
    "packages:"
   ]
  },
  {
   "cell_type": "code",
   "execution_count": 2,
   "id": "b08e72b7",
   "metadata": {},
   "outputs": [],
   "source": [
    "from google.cloud import aiplatform\n",
    "\n",
    "from google.cloud import bigquery\n",
    "from google.protobuf import json_format\n",
    "from google.protobuf.struct_pb2 import Value\n",
    "import json\n",
    "import numpy as np"
   ]
  },
  {
   "cell_type": "markdown",
   "id": "1b34f1cc",
   "metadata": {},
   "source": [
    "clients:"
   ]
  },
  {
   "cell_type": "code",
   "execution_count": 3,
   "id": "11e140b6",
   "metadata": {},
   "outputs": [],
   "source": [
    "aiplatform.init(project=PROJECT_ID, location=REGION)\n",
    "bigquery = bigquery.Client()"
   ]
  },
  {
   "cell_type": "markdown",
   "id": "50990d52",
   "metadata": {},
   "source": [
    "parameters:"
   ]
  },
  {
   "cell_type": "code",
   "execution_count": 4,
   "id": "fb5ea95d",
   "metadata": {},
   "outputs": [],
   "source": [
    "DIR = f\"temp/{NOTEBOOK}\""
   ]
  },
  {
   "cell_type": "markdown",
   "id": "51d88337",
   "metadata": {},
   "source": [
    "environment:"
   ]
  },
  {
   "cell_type": "code",
   "execution_count": 5,
   "id": "71d83e04",
   "metadata": {},
   "outputs": [],
   "source": [
    "!rm -rf {DIR}\n",
    "!mkdir -p {DIR}"
   ]
  },
  {
   "cell_type": "markdown",
   "id": "e48165db",
   "metadata": {},
   "source": [
    "### Prepare a record for prediction: instance and parameters lists"
   ]
  },
  {
   "cell_type": "code",
   "execution_count": 6,
   "id": "4f3de847",
   "metadata": {},
   "outputs": [],
   "source": [
    "pred = bigquery.query(query = f\"SELECT * FROM {DATANAME}.{DATANAME}_prepped WHERE splits='TEST' LIMIT 10\").to_dataframe()"
   ]
  },
  {
   "cell_type": "code",
   "execution_count": 7,
   "id": "21148cfb",
   "metadata": {},
   "outputs": [
    {
     "data": {
      "text/html": [
       "<div>\n",
       "<style scoped>\n",
       "    .dataframe tbody tr th:only-of-type {\n",
       "        vertical-align: middle;\n",
       "    }\n",
       "\n",
       "    .dataframe tbody tr th {\n",
       "        vertical-align: top;\n",
       "    }\n",
       "\n",
       "    .dataframe thead th {\n",
       "        text-align: right;\n",
       "    }\n",
       "</style>\n",
       "<table border=\"1\" class=\"dataframe\">\n",
       "  <thead>\n",
       "    <tr style=\"text-align: right;\">\n",
       "      <th></th>\n",
       "      <th>Time</th>\n",
       "      <th>V1</th>\n",
       "      <th>V2</th>\n",
       "      <th>V3</th>\n",
       "      <th>V4</th>\n",
       "      <th>V5</th>\n",
       "      <th>V6</th>\n",
       "      <th>V7</th>\n",
       "      <th>V8</th>\n",
       "      <th>V9</th>\n",
       "      <th>...</th>\n",
       "      <th>V23</th>\n",
       "      <th>V24</th>\n",
       "      <th>V25</th>\n",
       "      <th>V26</th>\n",
       "      <th>V27</th>\n",
       "      <th>V28</th>\n",
       "      <th>Amount</th>\n",
       "      <th>Class</th>\n",
       "      <th>transaction_id</th>\n",
       "      <th>splits</th>\n",
       "    </tr>\n",
       "  </thead>\n",
       "  <tbody>\n",
       "    <tr>\n",
       "      <th>0</th>\n",
       "      <td>79470</td>\n",
       "      <td>1.073063</td>\n",
       "      <td>-0.026793</td>\n",
       "      <td>0.796502</td>\n",
       "      <td>1.754389</td>\n",
       "      <td>-0.219910</td>\n",
       "      <td>0.930349</td>\n",
       "      <td>-0.515894</td>\n",
       "      <td>0.461495</td>\n",
       "      <td>-0.132966</td>\n",
       "      <td>...</td>\n",
       "      <td>0.048539</td>\n",
       "      <td>-0.258218</td>\n",
       "      <td>0.171861</td>\n",
       "      <td>1.028847</td>\n",
       "      <td>-0.037692</td>\n",
       "      <td>-0.013125</td>\n",
       "      <td>0.0</td>\n",
       "      <td>0</td>\n",
       "      <td>07fdced0-3837-47a1-9526-64d74ad9b113</td>\n",
       "      <td>TEST</td>\n",
       "    </tr>\n",
       "    <tr>\n",
       "      <th>1</th>\n",
       "      <td>122082</td>\n",
       "      <td>1.878563</td>\n",
       "      <td>0.020785</td>\n",
       "      <td>-1.621113</td>\n",
       "      <td>2.908813</td>\n",
       "      <td>2.507847</td>\n",
       "      <td>4.709442</td>\n",
       "      <td>-0.830626</td>\n",
       "      <td>1.136154</td>\n",
       "      <td>-0.395755</td>\n",
       "      <td>...</td>\n",
       "      <td>0.121098</td>\n",
       "      <td>0.707538</td>\n",
       "      <td>0.140100</td>\n",
       "      <td>0.155684</td>\n",
       "      <td>0.016375</td>\n",
       "      <td>-0.053892</td>\n",
       "      <td>0.0</td>\n",
       "      <td>0</td>\n",
       "      <td>7c1f61ba-7586-414e-ba8a-1c4385d59933</td>\n",
       "      <td>TEST</td>\n",
       "    </tr>\n",
       "    <tr>\n",
       "      <th>2</th>\n",
       "      <td>11494</td>\n",
       "      <td>-1.169744</td>\n",
       "      <td>0.462878</td>\n",
       "      <td>1.587579</td>\n",
       "      <td>-1.252560</td>\n",
       "      <td>1.012817</td>\n",
       "      <td>-0.918413</td>\n",
       "      <td>0.817632</td>\n",
       "      <td>-0.522804</td>\n",
       "      <td>1.388247</td>\n",
       "      <td>...</td>\n",
       "      <td>-0.042144</td>\n",
       "      <td>-0.021269</td>\n",
       "      <td>-0.283979</td>\n",
       "      <td>0.556661</td>\n",
       "      <td>-0.191722</td>\n",
       "      <td>-0.071773</td>\n",
       "      <td>0.0</td>\n",
       "      <td>0</td>\n",
       "      <td>a3046c87-cee5-40fd-9302-4d230b823246</td>\n",
       "      <td>TEST</td>\n",
       "    </tr>\n",
       "    <tr>\n",
       "      <th>3</th>\n",
       "      <td>58900</td>\n",
       "      <td>-2.728403</td>\n",
       "      <td>-2.340346</td>\n",
       "      <td>2.551039</td>\n",
       "      <td>2.623092</td>\n",
       "      <td>3.014728</td>\n",
       "      <td>-0.807294</td>\n",
       "      <td>-2.286621</td>\n",
       "      <td>0.757561</td>\n",
       "      <td>-1.279297</td>\n",
       "      <td>...</td>\n",
       "      <td>0.370139</td>\n",
       "      <td>-0.212784</td>\n",
       "      <td>-0.104956</td>\n",
       "      <td>1.355781</td>\n",
       "      <td>-0.053063</td>\n",
       "      <td>0.125386</td>\n",
       "      <td>0.0</td>\n",
       "      <td>0</td>\n",
       "      <td>bc3f2800-a4bb-4077-b017-f55f03c4f00c</td>\n",
       "      <td>TEST</td>\n",
       "    </tr>\n",
       "  </tbody>\n",
       "</table>\n",
       "<p>4 rows × 33 columns</p>\n",
       "</div>"
      ],
      "text/plain": [
       "     Time        V1        V2        V3        V4        V5        V6  \\\n",
       "0   79470  1.073063 -0.026793  0.796502  1.754389 -0.219910  0.930349   \n",
       "1  122082  1.878563  0.020785 -1.621113  2.908813  2.507847  4.709442   \n",
       "2   11494 -1.169744  0.462878  1.587579 -1.252560  1.012817 -0.918413   \n",
       "3   58900 -2.728403 -2.340346  2.551039  2.623092  3.014728 -0.807294   \n",
       "\n",
       "         V7        V8        V9  ...       V23       V24       V25       V26  \\\n",
       "0 -0.515894  0.461495 -0.132966  ...  0.048539 -0.258218  0.171861  1.028847   \n",
       "1 -0.830626  1.136154 -0.395755  ...  0.121098  0.707538  0.140100  0.155684   \n",
       "2  0.817632 -0.522804  1.388247  ... -0.042144 -0.021269 -0.283979  0.556661   \n",
       "3 -2.286621  0.757561 -1.279297  ...  0.370139 -0.212784 -0.104956  1.355781   \n",
       "\n",
       "        V27       V28  Amount  Class                        transaction_id  \\\n",
       "0 -0.037692 -0.013125     0.0      0  07fdced0-3837-47a1-9526-64d74ad9b113   \n",
       "1  0.016375 -0.053892     0.0      0  7c1f61ba-7586-414e-ba8a-1c4385d59933   \n",
       "2 -0.191722 -0.071773     0.0      0  a3046c87-cee5-40fd-9302-4d230b823246   \n",
       "3 -0.053063  0.125386     0.0      0  bc3f2800-a4bb-4077-b017-f55f03c4f00c   \n",
       "\n",
       "   splits  \n",
       "0    TEST  \n",
       "1    TEST  \n",
       "2    TEST  \n",
       "3    TEST  \n",
       "\n",
       "[4 rows x 33 columns]"
      ]
     },
     "execution_count": 7,
     "metadata": {},
     "output_type": "execute_result"
    }
   ],
   "source": [
    "pred.head(4)"
   ]
  },
  {
   "cell_type": "code",
   "execution_count": 8,
   "id": "15bb1d02",
   "metadata": {},
   "outputs": [],
   "source": [
    "#newob = pred[pred.columns[~pred.columns.isin(VAR_OMIT.split()+[VAR_TARGET, 'splits'])]].to_dict(orient='records')[0]\n",
    "newob = pred[pred.columns[~pred.columns.isin(VAR_OMIT.split()+[VAR_TARGET])]].to_dict(orient='records')[0]\n",
    "#newob"
   ]
  },
  {
   "cell_type": "markdown",
   "id": "5b438694",
   "metadata": {},
   "source": [
    "Need to understand the format of variables that the predictions expect.  AutoML may convert the type of some variables. The following cells retrieve the model from the endpoint and its schemata:"
   ]
  },
  {
   "cell_type": "code",
   "execution_count": 9,
   "id": "fc8f7bb2",
   "metadata": {},
   "outputs": [],
   "source": [
    "newob['Time'] = str(newob['Time'])"
   ]
  },
  {
   "cell_type": "code",
   "execution_count": 10,
   "id": "e89923ef",
   "metadata": {},
   "outputs": [],
   "source": [
    "instances = [json_format.ParseDict(newob, Value())]\n",
    "parameters = json_format.ParseDict({}, Value())"
   ]
  },
  {
   "cell_type": "markdown",
   "id": "e671a9a5",
   "metadata": {},
   "source": [
    "### Get Predictions: Python Client"
   ]
  },
  {
   "cell_type": "code",
   "execution_count": 11,
   "id": "072f0a6f",
   "metadata": {},
   "outputs": [
    {
     "data": {
      "text/plain": [
       "'02a'"
      ]
     },
     "execution_count": 11,
     "metadata": {},
     "output_type": "execute_result"
    }
   ],
   "source": [
    "endpoint = aiplatform.Endpoint.list(filter=f'display_name={NOTEBOOK}')[0]\n",
    "endpoint.display_name"
   ]
  },
  {
   "cell_type": "code",
   "execution_count": 12,
   "id": "b775c99f",
   "metadata": {},
   "outputs": [
    {
     "data": {
      "text/plain": [
       "Prediction(predictions=[{'classes': ['0', '1'], 'scores': [0.7969269156455994, 0.2030730545520782]}], deployed_model_id='81319879990312960', explanations=None)"
      ]
     },
     "execution_count": 12,
     "metadata": {},
     "output_type": "execute_result"
    }
   ],
   "source": [
    "prediction = endpoint.predict(instances=instances, parameters=parameters)\n",
    "prediction"
   ]
  },
  {
   "cell_type": "code",
   "execution_count": 13,
   "id": "1e716973",
   "metadata": {},
   "outputs": [
    {
     "data": {
      "text/plain": [
       "'0'"
      ]
     },
     "execution_count": 13,
     "metadata": {},
     "output_type": "execute_result"
    }
   ],
   "source": [
    "prediction.predictions[0]['classes'][np.argmax(prediction.predictions[0]['scores'])]"
   ]
  },
  {
   "cell_type": "markdown",
   "id": "a0c157f2",
   "metadata": {},
   "source": [
    "### Get Predictions: REST"
   ]
  },
  {
   "cell_type": "code",
   "execution_count": 14,
   "id": "28b310ce",
   "metadata": {},
   "outputs": [],
   "source": [
    "with open(f'{DIR}/request.json','w') as file:\n",
    "    file.write(json.dumps({\"instances\": [newob]}))"
   ]
  },
  {
   "cell_type": "code",
   "execution_count": 15,
   "id": "2041f335",
   "metadata": {},
   "outputs": [
    {
     "name": "stdout",
     "output_type": "stream",
     "text": [
      "{\n",
      "  \"predictions\": [\n",
      "    {\n",
      "      \"classes\": [\n",
      "        \"0\",\n",
      "        \"1\"\n",
      "      ],\n",
      "      \"scores\": [\n",
      "        0.79692691564559937,\n",
      "        0.20307305455207819\n",
      "      ]\n",
      "    }\n",
      "  ],\n",
      "  \"deployedModelId\": \"81319879990312960\",\n",
      "  \"model\": \"projects/764015827198/locations/us-central1/models/3860750362981957632\",\n",
      "  \"modelDisplayName\": \"02a_202212214914\"\n",
      "}\n"
     ]
    }
   ],
   "source": [
    "!curl -X POST \\\n",
    "-H \"Authorization: Bearer \"$(gcloud auth application-default print-access-token) \\\n",
    "-H \"Content-Type: application/json; charset=utf-8\" \\\n",
    "-d @{DIR}/request.json \\\n",
    "https://{REGION}-aiplatform.googleapis.com/v1/{endpoint.resource_name}:predict"
   ]
  },
  {
   "cell_type": "markdown",
   "id": "71bd36ef",
   "metadata": {},
   "source": [
    "### Get Predictions: gcloud (CLI)"
   ]
  },
  {
   "cell_type": "code",
   "execution_count": 17,
   "id": "ad4befbd",
   "metadata": {},
   "outputs": [
    {
     "name": "stdout",
     "output_type": "stream",
     "text": [
      "Using endpoint [https://us-central1-prediction-aiplatform.googleapis.com/]\n",
      "[{'classes': ['0', '1'], 'scores': [0.7969269156455994, 0.2030730545520782]}]\n"
     ]
    }
   ],
   "source": [
    "!gcloud beta ai endpoints predict {endpoint.name.rsplit('/',1)[-1]} --region={REGION} --json-request={DIR}/request.json"
   ]
  },
  {
   "cell_type": "markdown",
   "id": "030bbd84",
   "metadata": {},
   "source": [
    "---\n",
    "## Explanations\n",
    "Interpretation Guide\n",
    "- https://cloud.google.com/vertex-ai/docs/predictions/interpreting-results-automl#tabular"
   ]
  },
  {
   "cell_type": "code",
   "execution_count": 18,
   "id": "81348d83",
   "metadata": {},
   "outputs": [],
   "source": [
    "explanation = endpoint.explain(instances=instances, parameters=parameters)"
   ]
  },
  {
   "cell_type": "code",
   "execution_count": 19,
   "id": "a2e142ff",
   "metadata": {},
   "outputs": [
    {
     "data": {
      "text/plain": [
       "[{'scores': [0.7969269156455994, 0.2030730545520782], 'classes': ['0', '1']}]"
      ]
     },
     "execution_count": 19,
     "metadata": {},
     "output_type": "execute_result"
    }
   ],
   "source": [
    "explanation.predictions"
   ]
  },
  {
   "cell_type": "code",
   "execution_count": 20,
   "id": "33621b6f",
   "metadata": {},
   "outputs": [
    {
     "name": "stdout",
     "output_type": "stream",
     "text": [
      "attribution:\n",
      "baseline output 0.7983816862106323\n",
      "instance output 0.7969269156455994\n",
      "output_index [0]\n",
      "output display value 0\n",
      "approximation error 0.01869985340771198\n"
     ]
    }
   ],
   "source": [
    "print(\"attribution:\")\n",
    "print(\"baseline output\",explanation.explanations[0].attributions[0].baseline_output_value)\n",
    "print(\"instance output\",explanation.explanations[0].attributions[0].instance_output_value)\n",
    "print(\"output_index\",explanation.explanations[0].attributions[0].output_index)\n",
    "print(\"output display value\",explanation.explanations[0].attributions[0].output_display_name)\n",
    "print(\"approximation error\",explanation.explanations[0].attributions[0].approximation_error)"
   ]
  },
  {
   "cell_type": "code",
   "execution_count": 60,
   "id": "7a1d220f-0174-481a-a206-c7a6819015f4",
   "metadata": {},
   "outputs": [
    {
     "data": {
      "image/png": "[encoded data removed]",
      "text/plain": [
       "<Figure size 648x648 with 1 Axes>"
      ]
     },
     "metadata": {
      "needs_background": "light"
     },
     "output_type": "display_data"
    }
   ],
   "source": [
    "import matplotlib.pyplot as plt\n",
    "features = []\n",
    "scores = []\n",
    "for k in explanation.explanations[0].attributions[0].feature_attributions:\n",
    "    features.append(k)\n",
    "    scores.append(explanation.explanations[0].attributions[0].feature_attributions[k])\n",
    "features = [x for _, x in sorted(zip(scores, features))]\n",
    "scores = sorted(scores)\n",
    "fig, ax = plt.subplots()\n",
    "fig.set_size_inches(9, 9)\n",
    "ax.barh(features, scores)\n",
    "fig.show()"
   ]
  },
  {
   "cell_type": "markdown",
   "id": "3bb07f70",
   "metadata": {},
   "source": [
    "---\n",
    "## Remove Resources\n",
    "see notebook \"99 - Cleanup\""
   ]
  }
 ],
 "metadata": {
  "environment": {
   "kernel": "python3",
   "name": "tf2-gpu.2-3.m94",
   "type": "gcloud",
   "uri": "gcr.io/deeplearning-platform-release/tf2-gpu.2-3:m94"
  },
  "kernelspec": {
   "display_name": "Python 3",
   "language": "python",
   "name": "python3"
  },
  "language_info": {
   "codemirror_mode": {
    "name": "ipython",
    "version": 3
   },
   "file_extension": ".py",
   "mimetype": "text/x-python",
   "name": "python",
   "nbconvert_exporter": "python",
   "pygments_lexer": "ipython3",
   "version": "3.7.12"
  }
 },
 "nbformat": 4,
 "nbformat_minor": 5
}
