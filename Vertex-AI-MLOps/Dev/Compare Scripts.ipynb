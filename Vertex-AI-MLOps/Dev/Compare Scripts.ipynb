{
 "cells": [
  {
   "cell_type": "markdown",
   "id": "c1d71b23-a34a-4a44-b07d-e7cb3ba12faf",
   "metadata": {},
   "source": [
    "# Compare scripts across 05 series"
   ]
  },
  {
   "cell_type": "code",
   "execution_count": 1,
   "id": "96c84643-91e0-4f15-8e50-19ec603ce35b",
   "metadata": {},
   "outputs": [],
   "source": [
    "# compare a, b, c, d, e, f, g, h"
   ]
  },
  {
   "cell_type": "code",
   "execution_count": 20,
   "id": "6aecdff0-2281-457f-9c08-1ab9989d9ac1",
   "metadata": {},
   "outputs": [],
   "source": [
    "import difflib\n",
    "#import sys\n",
    "\n",
    "def compfiles(f1, f2):\n",
    "    f1 = '../'+f1\n",
    "    f2 = '../'+f2\n",
    "    print(f\"Comparing {f1.split('/')[2]} to {f2.split('/')[2]}\")\n",
    "    with open(f1, 'r') as file1:\n",
    "        with open(f2, 'r') as file2:\n",
    "            diff = difflib.unified_diff(\n",
    "                file1.readlines(),\n",
    "                file2.readlines(),\n",
    "                fromfile=f1.split('/')[1],\n",
    "                tofile=f2.split('/')[1],\n",
    "            )\n",
    "            for line in diff:\n",
    "                #sys.stdout.write(line)\n",
    "                print(line)"
   ]
  },
  {
   "cell_type": "code",
   "execution_count": 36,
   "id": "36f52e98-56ea-4299-af80-a6c044f733a2",
   "metadata": {},
   "outputs": [],
   "source": [
    "a = \"temp/05a/train.py\"\n",
    "b = \"temp/05b/source/trainer/train.py\"\n",
    "c = \"temp/05c/source/trainer/train.py\"\n",
    "d = \"temp/05d/train.py\"\n",
    "e = \"temp/05e/source/trainer/train.py\"\n",
    "f = \"temp/05f/source/trainer/train.py\"\n",
    "g = \"temp/05g/train.py\"\n",
    "h = \"temp/05h/source/trainer/train.py\"\n",
    "i = \"temp/05i/source/trainer/train.py\"\n",
    "notebooks = [a,b,c,d,e,f,g,h,i]"
   ]
  },
  {
   "cell_type": "code",
   "execution_count": 37,
   "id": "fe927bbe-0753-47e5-82b4-db4ce861f8dc",
   "metadata": {},
   "outputs": [
    {
     "name": "stdout",
     "output_type": "stream",
     "text": [
      "Comparing 05a to 05b\n"
     ]
    }
   ],
   "source": [
    "compfiles(a,b)"
   ]
  },
  {
   "cell_type": "code",
   "execution_count": 38,
   "id": "2d28dba8-eac9-4004-968d-b3bb16c58efa",
   "metadata": {},
   "outputs": [
    {
     "name": "stdout",
     "output_type": "stream",
     "text": [
      "Comparing 05a to 05b\n",
      "Comparing 05a to 05c\n",
      "Comparing 05a to 05d\n",
      "Comparing 05a to 05e\n",
      "Comparing 05a to 05f\n"
     ]
    }
   ],
   "source": [
    "base = a\n",
    "last = f\n",
    "for n in range(notebooks.index(base)+1, notebooks.index(last)+1):\n",
    "    compfiles(notebooks[notebooks.index(base)], notebooks[n])"
   ]
  },
  {
   "cell_type": "code",
   "execution_count": 39,
   "id": "2fb1a3cf-4985-4e3d-8496-dee56cf354b9",
   "metadata": {},
   "outputs": [
    {
     "name": "stdout",
     "output_type": "stream",
     "text": [
      "Comparing 05g to 05h\n",
      "Comparing 05g to 05i\n"
     ]
    }
   ],
   "source": [
    "base = g\n",
    "last = i\n",
    "for n in range(notebooks.index(base)+1, notebooks.index(last)+1):\n",
    "    compfiles(notebooks[notebooks.index(base)], notebooks[n])"
   ]
  },
  {
   "cell_type": "code",
   "execution_count": null,
   "id": "db6ea23d-081b-4e67-aa49-53657671b678",
   "metadata": {},
   "outputs": [],
   "source": []
  }
 ],
 "metadata": {
  "environment": {
   "kernel": "python3",
   "name": "tf2-gpu.2-3.m94",
   "type": "gcloud",
   "uri": "gcr.io/deeplearning-platform-release/tf2-gpu.2-3:m94"
  },
  "kernelspec": {
   "display_name": "Python 3",
   "language": "python",
   "name": "python3"
  },
  "language_info": {
   "codemirror_mode": {
    "name": "ipython",
    "version": 3
   },
   "file_extension": ".py",
   "mimetype": "text/x-python",
   "name": "python",
   "nbconvert_exporter": "python",
   "pygments_lexer": "ipython3",
   "version": "3.7.12"
  }
 },
 "nbformat": 4,
 "nbformat_minor": 5
}
