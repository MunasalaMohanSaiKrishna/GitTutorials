{
 "cells": [
  {
   "cell_type": "markdown",
   "id": "a7da87bf-93f0-4483-873d-a517ba627160",
   "metadata": {
    "id": "a7da87bf-93f0-4483-873d-a517ba627160"
   },
   "source": [
    "## Spark Jobs with Dataproc Serverless\n",
    "\n",
    "[Dataproc Serverless](https://cloud.google.com/dataproc-serverless/docs/overview) runs Spark jobs as batch workloads in a managed infrastructure that [autoscales](https://cloud.google.com/dataproc-serverless/docs/concepts/autoscaling) resources as needed.  Simply put, all you need is a job!  \n",
    "\n",
    "This allows you to run PySpark, Spark SQL, Spark R, Spark Jave/Scala.  You can set most Spark Properties, including these [resource allocation properties](https://cloud.google.com/dataproc-serverless/docs/concepts/properties) to determine compute, memory, and disk resources for initial active executors and autoscaling maximums.  You can also use [custom containers](https://cloud.google.com/dataproc-serverless/docs/guides/custom-containers) without the need to include Spark which will be mounted to the container at runtime.\n",
    "\n",
    "**Overview**\n",
    "\n",
    "The example below shows the process of setting up a GCP environment and submitting a Dataproc Serverless PySpark job.  This job uses the provided BigQuery connector to read from BigQuery, process the data with Spark, then write the result to a BigQuery table.\n"
   ]
  },
  {
   "cell_type": "markdown",
   "id": "1e08558a-624b-4f49-a352-046807b64670",
   "metadata": {
    "id": "1e08558a-624b-4f49-a352-046807b64670"
   },
   "source": [
    "## Environment Setup"
   ]
  },
  {
   "cell_type": "markdown",
   "id": "7f30ee74-ee2f-4054-bfba-b5d83f7ebb6f",
   "metadata": {
    "id": "7f30ee74-ee2f-4054-bfba-b5d83f7ebb6f"
   },
   "source": [
    "### Create Parameters"
   ]
  },
  {
   "cell_type": "code",
   "execution_count": 1,
   "id": "793d882a-b5aa-443b-a15d-3c0d5537a5f9",
   "metadata": {
    "id": "793d882a-b5aa-443b-a15d-3c0d5537a5f9"
   },
   "outputs": [],
   "source": [
    "# Defined Parameters\n",
    "PROJECT_ID = 'statmike-demo3'\n",
    "NOTEBOOK = 'dataproc'\n",
    "REGION = 'us-central1'\n",
    "\n",
    "# Derived Parameters\n",
    "GCS_BUCKET = PROJECT_ID\n",
    "BQ_DATASET = NOTEBOOK\n",
    "GCS_FOLDER = f'demos/{NOTEBOOK}'"
   ]
  },
  {
   "cell_type": "markdown",
   "id": "77c7817d-412e-44a3-8ecc-0d90f0c69880",
   "metadata": {
    "id": "77c7817d-412e-44a3-8ecc-0d90f0c69880"
   },
   "source": [
    "### Import Libraries"
   ]
  },
  {
   "cell_type": "code",
   "execution_count": 10,
   "id": "6397a30a-bd65-4fb7-aeb5-63e37fc29680",
   "metadata": {
    "id": "6397a30a-bd65-4fb7-aeb5-63e37fc29680"
   },
   "outputs": [],
   "source": [
    "from google.cloud import bigquery\n",
    "from google.cloud import storage"
   ]
  },
  {
   "cell_type": "markdown",
   "id": "e188b2c4-4232-4a5f-a065-fca0f6e55bee",
   "metadata": {
    "id": "e188b2c4-4232-4a5f-a065-fca0f6e55bee"
   },
   "source": [
    "### Setup Clients"
   ]
  },
  {
   "cell_type": "code",
   "execution_count": 11,
   "id": "7c9a3419-a338-474c-a5b8-7ec7c70d074e",
   "metadata": {
    "id": "7c9a3419-a338-474c-a5b8-7ec7c70d074e"
   },
   "outputs": [],
   "source": [
    "bq = bigquery.Client(project = PROJECT_ID)\n",
    "gcs = storage.Client()"
   ]
  },
  {
   "cell_type": "markdown",
   "id": "11da4407-d1a6-4f5f-98af-7914f8a25b32",
   "metadata": {
    "id": "11da4407-d1a6-4f5f-98af-7914f8a25b32"
   },
   "source": [
    "### Local Directory"
   ]
  },
  {
   "cell_type": "code",
   "execution_count": 12,
   "id": "b0ac5d6a-1d53-46ce-af84-f1cc135502f9",
   "metadata": {
    "id": "b0ac5d6a-1d53-46ce-af84-f1cc135502f9"
   },
   "outputs": [],
   "source": [
    "DIR = NOTEBOOK\n",
    "!rm -rf {NOTEBOOK}\n",
    "!mkdir -p {NOTEBOOK}"
   ]
  },
  {
   "cell_type": "markdown",
   "id": "87b2195e-2713-4870-a7d0-49201d84e245",
   "metadata": {
    "id": "87b2195e-2713-4870-a7d0-49201d84e245"
   },
   "source": [
    "### GCS Bucket"
   ]
  },
  {
   "cell_type": "code",
   "execution_count": 13,
   "id": "20c450c3-1153-424b-b754-619044be2074",
   "metadata": {
    "colab": {
     "base_uri": "https://localhost:8080/"
    },
    "id": "20c450c3-1153-424b-b754-619044be2074",
    "outputId": "8eecd51e-6f05-473b-ce6f-db38dc8ac8c8"
   },
   "outputs": [
    {
     "name": "stdout",
     "output_type": "stream",
     "text": [
      "Bucket gs://statmike-demo3 already exists\n"
     ]
    }
   ],
   "source": [
    "buckets = !gsutil list -p {PROJECT_ID}\n",
    "if f\"gs://{GCS_BUCKET}/\" not in buckets:\n",
    "    ! gsutil mb -l us -c standard gs://{GCS_BUCKET}\n",
    "else: print(f\"Bucket gs://{GCS_BUCKET} already exists\")"
   ]
  },
  {
   "cell_type": "markdown",
   "id": "0fd87d8d-6952-4499-9b4d-3cba95e2d4ab",
   "metadata": {
    "id": "0fd87d8d-6952-4499-9b4d-3cba95e2d4ab"
   },
   "source": [
    "### BigQuery Dataset"
   ]
  },
  {
   "cell_type": "code",
   "execution_count": 15,
   "id": "21b048a8-012e-4138-984a-941cbd73b74e",
   "metadata": {
    "colab": {
     "base_uri": "https://localhost:8080/"
    },
    "id": "21b048a8-012e-4138-984a-941cbd73b74e",
    "outputId": "13487c4d-995c-4652-aef1-efdfd03663c6"
   },
   "outputs": [],
   "source": [
    "ds = bigquery.Dataset(f\"{PROJECT_ID}.{BQ_DATASET}\")\n",
    "ds.location = 'US'\n",
    "ds = bq.create_dataset(dataset = ds, exists_ok = True)"
   ]
  },
  {
   "cell_type": "markdown",
   "id": "1479c476-7755-4a7a-bddc-961e6570cea1",
   "metadata": {
    "id": "1479c476-7755-4a7a-bddc-961e6570cea1"
   },
   "source": [
    "### Setup Dataproc\n",
    "Using Google APIs from Spark code will require the subnet to have Private Google Access enabled.\n",
    "- Network Configuration: https://cloud.google.com/dataproc-serverless/docs/concepts/network\n",
    "    - Configure Private Google Access: https://cloud.google.com/vpc/docs/configure-private-google-access#config-pga"
   ]
  },
  {
   "cell_type": "code",
   "execution_count": 17,
   "id": "e08c83dd-d117-4e55-adef-40951f122a90",
   "metadata": {
    "id": "e08c83dd-d117-4e55-adef-40951f122a90"
   },
   "outputs": [
    {
     "name": "stdout",
     "output_type": "stream",
     "text": [
      "Updated [https://www.googleapis.com/compute/v1/projects/statmike-demo3/regions/us-central1/subnetworks/default].\n",
      "Private Google Access is Enable = True\n"
     ]
    }
   ],
   "source": [
    "status = !gcloud compute networks subnets describe default --region={REGION} --format=\"get(privateIpGoogleAccess)\"\n",
    "if status[0] == 'False':\n",
    "  !gcloud compute networks subnets update default --region={REGION} --enable-private-ip-google-access\n",
    "  status = !gcloud compute networks subnets describe default --region={REGION} --format=\"get(privateIpGoogleAccess)\"\n",
    "print(f\"Private Google Access is Enable = {status[0]}\")"
   ]
  },
  {
   "cell_type": "markdown",
   "id": "1055b98a-4960-4d4d-8c28-5be82c1f2375",
   "metadata": {
    "id": "1055b98a-4960-4d4d-8c28-5be82c1f2375"
   },
   "source": [
    "## Dataproc Serverless Spark Batch Job\n",
    "- Dataproc Serverless: https://cloud.google.com/dataproc-serverless/docs/overview\n",
    "- BigQuery Connector: https://github.com/GoogleCloudDataproc/spark-bigquery-connector\n",
    "- gcloud dataproc batches submit pyspark [documentation](https://cloud.google.com/sdk/gcloud/reference/dataproc/batches/submit/pyspark)"
   ]
  },
  {
   "cell_type": "markdown",
   "id": "9295438e-9da6-49ec-909c-acb4b6440ba5",
   "metadata": {
    "id": "9295438e-9da6-49ec-909c-acb4b6440ba5"
   },
   "source": [
    "### Define PySpark Job"
   ]
  },
  {
   "cell_type": "code",
   "execution_count": 18,
   "id": "8dce6b59-ef0a-475e-85cd-56f38cac9ffe",
   "metadata": {
    "colab": {
     "base_uri": "https://localhost:8080/"
    },
    "id": "8dce6b59-ef0a-475e-85cd-56f38cac9ffe",
    "outputId": "9aaaaa5a-9c5a-4e85-83b1-ac03565ec4b1"
   },
   "outputs": [
    {
     "name": "stdout",
     "output_type": "stream",
     "text": [
      "Writing dataproc/myjob.py\n"
     ]
    }
   ],
   "source": [
    "%%writefile {DIR}/myjob.py\n",
    "#!/usr/bin/python\n",
    "\"\"\"BigQuery I/O PySpark example.\"\"\"\n",
    "from pyspark.sql import SparkSession\n",
    "import sys\n",
    "\n",
    "print(\"Number of Arguments: {0} arguments.\".format(len(sys.argv)))\n",
    "print(\"Arguments List: {0}\".format(str(sys.argv)))\n",
    "\n",
    "# create a session\n",
    "spark = SparkSession.builder.appName('spark-bigquery').getOrCreate()\n",
    "\n",
    "# Use the Cloud Storage bucket for temporary BigQuery export data used by the connector.\n",
    "spark.conf.set('temporaryGcsBucket', sys.argv[1])\n",
    "\n",
    "# Load data from BigQuery.\n",
    "words = spark.read.format('bigquery').option('table', 'bigquery-public-data:samples.shakespeare').load()\n",
    "# Create a View\n",
    "words.createOrReplaceTempView('words')\n",
    "\n",
    "# Perform word count.\n",
    "word_count = spark.sql('SELECT word, SUM(word_count) AS word_count FROM words GROUP BY word ORDER BY word_count DESC')\n",
    "word_count.show(n=5)\n",
    "word_count.printSchema()\n",
    "\n",
    "# Saving the data to BigQuery\n",
    "word_count.write.format('bigquery').option('table', sys.argv[2]).mode('overwrite').save()"
   ]
  },
  {
   "cell_type": "markdown",
   "id": "ffdb3896-2d27-4034-b027-29f385356558",
   "metadata": {
    "id": "ffdb3896-2d27-4034-b027-29f385356558"
   },
   "source": [
    "### Run PySpark Job"
   ]
  },
  {
   "cell_type": "code",
   "execution_count": 19,
   "id": "d8c5cd18-f98a-42f5-a1de-7d202d2e3005",
   "metadata": {
    "colab": {
     "base_uri": "https://localhost:8080/"
    },
    "id": "d8c5cd18-f98a-42f5-a1de-7d202d2e3005",
    "outputId": "9820b3ce-66f7-4b85-f280-47df8ca703e2"
   },
   "outputs": [
    {
     "data": {
      "text/plain": [
       "164656"
      ]
     },
     "execution_count": 19,
     "metadata": {},
     "output_type": "execute_result"
    }
   ],
   "source": [
    "bq.query(query = f\"SELECT COUNT(*) as record_count FROM bigquery-public-data.samples.shakespeare\").to_dataframe()['record_count'].iloc[0]"
   ]
  },
  {
   "cell_type": "code",
   "execution_count": 20,
   "id": "8b129741-4905-437f-bc55-045ca5c4878f",
   "metadata": {
    "colab": {
     "base_uri": "https://localhost:8080/"
    },
    "id": "8b129741-4905-437f-bc55-045ca5c4878f",
    "outputId": "19d35852-3ce7-4319-88d2-b8a0dce98a6e"
   },
   "outputs": [
    {
     "name": "stdout",
     "output_type": "stream",
     "text": [
      "Batch [55de12091ced4183b5f62195999fa0bd] submitted.\n",
      "Using the default container image\n",
      "PYSPARK_PYTHON=/opt/dataproc/conda/bin/python\n",
      "JAVA_HOME=/usr/lib/jvm/temurin-11-jdk-amd64\n",
      "SPARK_EXTRA_CLASSPATH=\n",
      ":: loading settings :: file = /etc/spark/conf/ivysettings.xml\n",
      "Number of Arguments: 3 arguments.\n",
      "Arguments List: ['/tmp/srvls-batch-1e378212-be7e-4f71-8130-ea9eac086eef/myjob.py', 'statmike-demo3/demos/dataproc', 'statmike-demo3:dataproc.myjob_output']\n",
      "22/05/28 13:04:36 INFO DirectBigQueryRelation: Querying table bigquery-public-data.samples.shakespeare, parameters sent from Spark: requiredColumns=[word,word_count], filters=[]\n",
      "22/05/28 13:04:36 INFO DirectBigQueryRelation: Going to read from bigquery-public-data.samples.shakespeare columns=[word, word_count], filter=''\n",
      "22/05/28 13:04:38 INFO DirectBigQueryRelation: Created read session for table 'bigquery-public-data.samples.shakespeare': projects/statmike-demo3/locations/us/sessions/CAISDEUwNEpyaDR1QXFNTxoCamQaAmpmGgJpchoCb2oaAmpxGgJuYRoCb3MaAm93GgJqchoCaXcaAmpjGgJwehoCcHkaAmpzGgJweBoCb3YaAmppGgJpYRoCaWMaAnBs\n",
      "+----+----------+\n",
      "|word|word_count|\n",
      "+----+----------+\n",
      "| the|     25568|\n",
      "|   I|     21028|\n",
      "| and|     19649|\n",
      "|  to|     17361|\n",
      "|  of|     16438|\n",
      "+----+----------+\n",
      "only showing top 5 rows\n",
      "\n",
      "root\n",
      " |-- word: string (nullable = false)\n",
      " |-- word_count: long (nullable = true)\n",
      "\n",
      "22/05/28 13:04:46 INFO DirectBigQueryRelation: Querying table bigquery-public-data.samples.shakespeare, parameters sent from Spark: requiredColumns=[word,word_count], filters=[]\n",
      "22/05/28 13:04:46 INFO DirectBigQueryRelation: Going to read from bigquery-public-data.samples.shakespeare columns=[word, word_count], filter=''\n",
      "22/05/28 13:04:46 INFO DirectBigQueryRelation: Created read session for table 'bigquery-public-data.samples.shakespeare': projects/statmike-demo3/locations/us/sessions/CAISDGNFUFM3V1dRcFVJWhoCamQaAmpmGgJpchoCb2oaAmpxGgJuYRoCb3MaAm93GgJqchoCaXcaAmpjGgJwehoCcHkaAmpzGgJweBoCb3YaAmppGgJpYRoCaWMaAnBs\n",
      "22/05/28 13:04:59 INFO BigQueryClient: Submitted job LoadJobConfiguration{type=LOAD, destinationTable=GenericData{classInfo=[datasetId, projectId, tableId], {datasetId=dataproc, projectId=statmike-demo3, tableId=myjob_output}}, decimalTargetTypes=null, destinationEncryptionConfiguration=null, createDisposition=CREATE_IF_NEEDED, writeDisposition=WRITE_TRUNCATE, formatOptions=FormatOptions{format=PARQUET}, nullMarker=null, maxBadRecords=null, schema=null, ignoreUnknownValue=null, sourceUris=[gs://statmike-demo3/demos/dataproc/.spark-bigquery-app-20220528130428-0000-bf0bbc3a-23fe-4836-b5bf-a4602f6e6187/part-00000-d431d888-b367-460a-b794-b675760f8ba6-c000.snappy.parquet], schemaUpdateOptions=null, autodetect=true, timePartitioning=null, clustering=null, useAvroLogicalTypes=null, labels=null, jobTimeoutMs=null, rangePartitioning=null, hivePartitioningOptions=null}. jobId: JobId{project=statmike-demo3, job=a19c1c11-71fe-4a25-85ad-e19146e37ecb, location=US}\n",
      "22/05/28 13:05:02 INFO BigQueryClient: Done loading to statmike-demo3.dataproc.myjob_output. jobId: JobId{project=statmike-demo3, job=a19c1c11-71fe-4a25-85ad-e19146e37ecb, location=US}\n",
      "Batch [55de12091ced4183b5f62195999fa0bd] finished.\n",
      "metadata:\n",
      "  '@type': type.googleapis.com/google.cloud.dataproc.v1.BatchOperationMetadata\n",
      "  batch: projects/statmike-demo3/locations/us-central1/batches/55de12091ced4183b5f62195999fa0bd\n",
      "  batchUuid: 1e378212-be7e-4f71-8130-ea9eac086eef\n",
      "  createTime: '2022-05-28T13:03:35.818731Z'\n",
      "  description: Batch\n",
      "  operationType: BATCH\n",
      "name: projects/statmike-demo3/regions/us-central1/operations/aa4ff188-be9c-36ae-9ad3-6089d1be10e5\n"
     ]
    }
   ],
   "source": [
    "!gcloud dataproc batches submit pyspark {DIR}/myjob.py \\\n",
    "--project={PROJECT_ID} \\\n",
    "--region={REGION} \\\n",
    "--deps-bucket={GCS_BUCKET} \\\n",
    "--jars=gs://spark-lib/bigquery/spark-bigquery-with-dependencies_2.12-0.24.2.jar \\\n",
    "-- {GCS_BUCKET}/{GCS_FOLDER} \\\n",
    "    {PROJECT_ID}:{BQ_DATASET}.myjob_output"
   ]
  },
  {
   "cell_type": "code",
   "execution_count": 21,
   "id": "dbb1723c-873c-4e37-8cce-4745089136a5",
   "metadata": {
    "colab": {
     "base_uri": "https://localhost:8080/",
     "height": 206
    },
    "id": "dbb1723c-873c-4e37-8cce-4745089136a5",
    "outputId": "bbbf1817-bb6e-4ae6-aa46-52ac30784465"
   },
   "outputs": [
    {
     "data": {
      "text/html": [
       "<div>\n",
       "<style scoped>\n",
       "    .dataframe tbody tr th:only-of-type {\n",
       "        vertical-align: middle;\n",
       "    }\n",
       "\n",
       "    .dataframe tbody tr th {\n",
       "        vertical-align: top;\n",
       "    }\n",
       "\n",
       "    .dataframe thead th {\n",
       "        text-align: right;\n",
       "    }\n",
       "</style>\n",
       "<table border=\"1\" class=\"dataframe\">\n",
       "  <thead>\n",
       "    <tr style=\"text-align: right;\">\n",
       "      <th></th>\n",
       "      <th>word</th>\n",
       "      <th>word_count</th>\n",
       "    </tr>\n",
       "  </thead>\n",
       "  <tbody>\n",
       "    <tr>\n",
       "      <th>0</th>\n",
       "      <td>the</td>\n",
       "      <td>25568</td>\n",
       "    </tr>\n",
       "    <tr>\n",
       "      <th>1</th>\n",
       "      <td>I</td>\n",
       "      <td>21028</td>\n",
       "    </tr>\n",
       "    <tr>\n",
       "      <th>2</th>\n",
       "      <td>and</td>\n",
       "      <td>19649</td>\n",
       "    </tr>\n",
       "    <tr>\n",
       "      <th>3</th>\n",
       "      <td>to</td>\n",
       "      <td>17361</td>\n",
       "    </tr>\n",
       "    <tr>\n",
       "      <th>4</th>\n",
       "      <td>of</td>\n",
       "      <td>16438</td>\n",
       "    </tr>\n",
       "  </tbody>\n",
       "</table>\n",
       "</div>"
      ],
      "text/plain": [
       "  word  word_count\n",
       "0  the       25568\n",
       "1    I       21028\n",
       "2  and       19649\n",
       "3   to       17361\n",
       "4   of       16438"
      ]
     },
     "execution_count": 21,
     "metadata": {},
     "output_type": "execute_result"
    }
   ],
   "source": [
    "bq.query(query = f\"SELECT * FROM {PROJECT_ID}.{NOTEBOOK}.myjob_output ORDER BY word_count DESC LIMIT 5\").to_dataframe()"
   ]
  },
  {
   "cell_type": "code",
   "execution_count": null,
   "id": "19cf9593-9b8f-48ae-b6bf-9a20ed911a3a",
   "metadata": {
    "id": "19cf9593-9b8f-48ae-b6bf-9a20ed911a3a"
   },
   "outputs": [],
   "source": []
  }
 ],
 "metadata": {
  "colab": {
   "collapsed_sections": [],
   "include_colab_link": true,
   "name": "Dataproc Serverless.ipynb",
   "provenance": []
  },
  "environment": {
   "kernel": "python3",
   "name": "tf2-gpu.2-3.m91",
   "type": "gcloud",
   "uri": "gcr.io/deeplearning-platform-release/tf2-gpu.2-3:m91"
  },
  "kernelspec": {
   "display_name": "Python 3",
   "language": "python",
   "name": "python3"
  },
  "language_info": {
   "codemirror_mode": {
    "name": "ipython",
    "version": 3
   },
   "file_extension": ".py",
   "mimetype": "text/x-python",
   "name": "python",
   "nbconvert_exporter": "python",
   "pygments_lexer": "ipython3",
   "version": "3.7.12"
  }
 },
 "nbformat": 4,
 "nbformat_minor": 5
}
