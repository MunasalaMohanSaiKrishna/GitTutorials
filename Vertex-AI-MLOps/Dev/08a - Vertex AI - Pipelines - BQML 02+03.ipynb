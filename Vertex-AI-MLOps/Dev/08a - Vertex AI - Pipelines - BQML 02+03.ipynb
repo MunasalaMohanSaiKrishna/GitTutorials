{
 "cells": [
  {
   "cell_type": "markdown",
   "id": "d49a6f41",
   "metadata": {},
   "source": [
    "# BigQuery - Pipelines with KFP for BQML + Online Predictions\n",
    "https://source.cloud.google.com/aburdenko-project/idexx/+/master:training_pipeline.py\n",
    "This notebook uses a Kubeflow Pipeline (KFP) to create a BQML model, export it, and deploy it to an Vertex AI Endpoint for online predictions.\n",
    "\n",
    "**Prerequisites**\n",
    "- `00 - Initial Setup`\n",
    "- `01 - BigQuery - Data`\n",
    "- Review Only\n",
    "    - `02 - BigQuery - BQML`\n",
    "    - `03 - BigQuery - BQML Online Predictions`\n",
    "\n",
    "**Overview**\n",
    "\n",
    "<img src=\"architectures/statmike-mlops-08.png\">"
   ]
  },
  {
   "cell_type": "markdown",
   "id": "5c1ea093",
   "metadata": {},
   "source": [
    "---\n",
    "## Setup"
   ]
  },
  {
   "cell_type": "markdown",
   "id": "0f3d9c17",
   "metadata": {},
   "source": [
    "Parameters:"
   ]
  },
  {
   "cell_type": "code",
   "execution_count": null,
   "id": "01c4c783",
   "metadata": {},
   "outputs": [],
   "source": []
  },
  {
   "cell_type": "markdown",
   "id": "8dc7ca0d",
   "metadata": {},
   "source": [
    "Python Packages:"
   ]
  },
  {
   "cell_type": "code",
   "execution_count": null,
   "id": "8284cd74",
   "metadata": {},
   "outputs": [],
   "source": [
    "from kfp import dsl\n",
    "from kfp.v2 import compiler\n",
    "from kfp.v2.dsl import component\n",
    "from kfp.v2.google.client import AIPlatformClient"
   ]
  },
  {
   "cell_type": "markdown",
   "id": "3c5f7142",
   "metadata": {},
   "source": [
    "---\n",
    "## Create Kubeflow Pipeline"
   ]
  },
  {
   "cell_type": "markdown",
   "id": "57a8b88b",
   "metadata": {},
   "source": [
    "---\n",
    "### Train Model With BQML"
   ]
  },
  {
   "cell_type": "code",
   "execution_count": null,
   "id": "10abe9f0",
   "metadata": {},
   "outputs": [],
   "source": [
    "@component(base_image=\"python:3.9\", packages_to_install=[\"google-cloud-bigquery\",\"pandas\",\"pyarrow\"])    \n",
    "def build_model(species: str, test_code: str):   \n",
    "    sql = f\"CREATE OR REPLACE MODEL `idexx.{species}_{test_code}_autoencoder` \\\n",
    "            OPTIONS( \\\n",
    "                model_type='autoencoder', \\\n",
    "                activation_fn='relu', \\\n",
    "                batch_size=8, \\\n",
    "                dropout=0.2, \\\n",
    "                hidden_units=[32, 16, 4, 16, 32], \\\n",
    "                learn_rate=0.001, \\\n",
    "                l1_reg_activation=0.0001, \\\n",
    "                max_iterations=10, \\\n",
    "                optimizer='adam' \\\n",
    "            )  \\\n",
    "            AS \\\n",
    "            select testcode, species, cast ( result as numeric) result from idexx.src_table\"\n",
    "\n",
    "    print(sql)\n",
    "    GCP_PROJECT_NAME=\"aburdenko-project\"\n",
    "    from google.cloud import bigquery    \n",
    "    bq = bigquery.Client(project=GCP_PROJECT_NAME)\n",
    "    job = bq.query(sql)\n",
    "    job.result()"
   ]
  },
  {
   "cell_type": "markdown",
   "id": "2f89da9b",
   "metadata": {},
   "source": [
    "---\n",
    "### Evaluate Model With BQML"
   ]
  },
  {
   "cell_type": "code",
   "execution_count": null,
   "id": "e0295aff",
   "metadata": {},
   "outputs": [],
   "source": []
  },
  {
   "cell_type": "markdown",
   "id": "4b0cfef0",
   "metadata": {},
   "source": [
    "---\n",
    "### Export BQML Model"
   ]
  },
  {
   "cell_type": "code",
   "execution_count": null,
   "id": "dacd9da6",
   "metadata": {},
   "outputs": [],
   "source": []
  },
  {
   "cell_type": "markdown",
   "id": "2697e5d6",
   "metadata": {},
   "source": [
    "---\n",
    "### Upload BQML Model To Vertex AI"
   ]
  },
  {
   "cell_type": "code",
   "execution_count": null,
   "id": "a592ba8c",
   "metadata": {},
   "outputs": [],
   "source": []
  },
  {
   "cell_type": "markdown",
   "id": "cbdfa010",
   "metadata": {},
   "source": [
    "---\n",
    "### Create Vertex AI Endpoint"
   ]
  },
  {
   "cell_type": "code",
   "execution_count": null,
   "id": "2670b677",
   "metadata": {},
   "outputs": [],
   "source": []
  },
  {
   "cell_type": "markdown",
   "id": "c4b4c660",
   "metadata": {},
   "source": [
    "---\n",
    "### Deploy BQML Model to Vertex AI Endpoint"
   ]
  },
  {
   "cell_type": "code",
   "execution_count": null,
   "id": "0e244768",
   "metadata": {},
   "outputs": [],
   "source": []
  },
  {
   "cell_type": "markdown",
   "id": "e72bf96e",
   "metadata": {},
   "source": [
    "---\n",
    "### Build KFP Pipeline "
   ]
  },
  {
   "cell_type": "code",
   "execution_count": null,
   "id": "0f7dd96a",
   "metadata": {},
   "outputs": [],
   "source": [
    "@dsl.pipeline(\n",
    "    name=\"bqml-machine-drift-pipeline\",\n",
    "    description=\"A simple intro pipeline\",\n",
    "    pipeline_root=PIPELINE_ROOT,\n",
    ")\n",
    "def bqml_training_pipeline(query: str =  \"select Species, TestCode from `aburdenko-project.idexx.SOURCE` where species = 'C' group by Species, TestCode\"):    \n",
    "    # GCP_PROJECT_NAME=\"aburdenko-project\"\n",
    "    # from google.cloud import bigquery    \n",
    "    # bq = bigquery.Client(project=GCP_PROJECT_NAME)\n",
    "    # df = bq.query(query).to_dataframe()  \n",
    "    # for _, row in df.iterrows():        \n",
    "    #     species = row['Species']\n",
    "    #     test_code = row['TestCode']\n",
    "    \n",
    "        species = \"C\"\n",
    "        test_code = \"HC02\"\n",
    "        load_src_table_task = load_src_table(species, test_code)\n",
    "        load_test_table_task = load_test_table(species, test_code).after( load_src_table_task )        \n",
    "        train_bqml_model_task = build_model( species, test_code ).after( load_test_table_task )        \n",
    "        export_bqml_model_task = export_model( species, test_code ).after( train_bqml_model_task )        \n",
    "        deploy_model_to_vertex_task = deploy_model_to_vertex_endpoint().after( export_bqml_model_task )        \n",
    "        predict_task = predict( species, test_code ).after( deploy_model_to_vertex_task )   "
   ]
  },
  {
   "cell_type": "markdown",
   "id": "ae46f41c",
   "metadata": {},
   "source": [
    "---\n",
    "### Compile Pipeline"
   ]
  },
  {
   "cell_type": "code",
   "execution_count": null,
   "id": "280d1dc7",
   "metadata": {},
   "outputs": [],
   "source": [
    "compiler.Compiler().compile(pipeline_func = bqml_training_pipeline, package_path = \"bqml_training_pipeline_job.json\")"
   ]
  },
  {
   "cell_type": "markdown",
   "id": "75578c2e",
   "metadata": {},
   "source": [
    "---\n",
    "## Run Pipeline Job"
   ]
  },
  {
   "cell_type": "code",
   "execution_count": null,
   "id": "8fdcc2a3",
   "metadata": {},
   "outputs": [],
   "source": [
    "response = api_client.create_run_from_job_spec(\n",
    "    job_spec_path=\"bqml_training_pipeline_job.json\",  # <--- CHANGE THIS IF YOU WANT TO RUN OTHER PIPELINES\n",
    "    pipeline_root=PIPELINE_ROOT,\n",
    "service_account=SERVICE_ACCOUNT)"
   ]
  },
  {
   "cell_type": "markdown",
   "id": "bf670b64",
   "metadata": {},
   "source": [
    "---\n",
    "## Predictions"
   ]
  },
  {
   "cell_type": "code",
   "execution_count": null,
   "id": "420f4f96",
   "metadata": {},
   "outputs": [],
   "source": []
  }
 ],
 "metadata": {
  "environment": {
   "name": "tf2-gpu.2-5.m76",
   "type": "gcloud",
   "uri": "gcr.io/deeplearning-platform-release/tf2-gpu.2-5:m76"
  },
  "kernelspec": {
   "display_name": "Python 3",
   "language": "python",
   "name": "python3"
  },
  "language_info": {
   "codemirror_mode": {
    "name": "ipython",
    "version": 3
   },
   "file_extension": ".py",
   "mimetype": "text/x-python",
   "name": "python",
   "nbconvert_exporter": "python",
   "pygments_lexer": "ipython3",
   "version": "3.7.10"
  },
  "toc-autonumbering": true,
  "toc-showmarkdowntxt": false
 },
 "nbformat": 4,
 "nbformat_minor": 5
}
