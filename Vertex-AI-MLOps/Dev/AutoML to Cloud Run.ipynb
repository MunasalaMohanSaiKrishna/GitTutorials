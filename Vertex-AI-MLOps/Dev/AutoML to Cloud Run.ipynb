{
 "cells": [
  {
   "cell_type": "markdown",
   "id": "2f0f92f2-2c75-4302-bd08-f767ebdc798b",
   "metadata": {},
   "source": [
    "Export Tabular Model:\n",
    "- https://cloud.google.com/vertex-ai/docs/export/export-model-tabular\n",
    "- https://github.com/GoogleCloudPlatform/vertex-ai-samples/blob/main/notebooks/community/gapic/automl/showcase_automl_tabular_classification_export_cloud.ipynb\n",
    "\n",
    "Note: the correct serving container is listed in the environment.json file in the export\n",
    "\n",
    "Next step: Host on Cloud Run\n",
    "Ideation:\n",
    "- https://medium.com/google-cloud/portable-prediction-with-tensorflow-and-cloud-run-669c1c73ebd1\n",
    "- https://blog.verta.ai/how-to-deploy-ml-models-with-google-cloud-run\n",
    "\n",
    "\n",
    "Resource: Python Vertex API\n",
    "https://googleapis.dev/python/aiplatform/latest/aiplatform_v1/types.html#google.cloud.aiplatform_v1.types.ExportModelRequest.OutputConfig\n"
   ]
  },
  {
   "cell_type": "code",
   "execution_count": 169,
   "id": "771a02f4-90e3-4dfd-8aed-ace862f21d89",
   "metadata": {},
   "outputs": [],
   "source": [
    "PROJECT_ID = 'statmike-demo3'\n",
    "REGION = 'us-central1'\n",
    "DATANAME = 'fraud'\n",
    "NOTEBOOK = 'automl_export'\n",
    "DOCKER = \"us-docker.pkg.dev/vertex-ai/automl-tabular/prediction-server-v1\""
   ]
  },
  {
   "cell_type": "code",
   "execution_count": 108,
   "id": "217b4555-f48e-4151-b922-5ec68889f4b9",
   "metadata": {},
   "outputs": [],
   "source": [
    "PARENT = f\"projects/{PROJECT_ID}/locations/{REGION}\"\n",
    "URI = f\"gs://{PROJECT_ID}/{DATANAME}/{NOTEBOOK}/models\"\n",
    "DIR = f\"temp/{NOTEBOOK}\""
   ]
  },
  {
   "cell_type": "code",
   "execution_count": 82,
   "id": "ccba3332-f5c4-4e29-b6a0-f4d5b9f67156",
   "metadata": {},
   "outputs": [],
   "source": [
    "import google.cloud.aiplatform_v1 as vertex\n",
    "from google.cloud import bigquery"
   ]
  },
  {
   "cell_type": "code",
   "execution_count": 109,
   "id": "f37c93c1-bf89-4cd0-9976-278349290ba3",
   "metadata": {},
   "outputs": [
    {
     "name": "stderr",
     "output_type": "stream",
     "text": [
      "E0413 18:34:00.911505557    7868 fork_posix.cc:70]           Fork support is only compatible with the epoll1 and poll polling strategies\n",
      "E0413 18:34:01.049796719    7868 fork_posix.cc:70]           Fork support is only compatible with the epoll1 and poll polling strategies\n"
     ]
    }
   ],
   "source": [
    "!rm -rf {DIR}\n",
    "!mkdir -p {DIR}"
   ]
  },
  {
   "cell_type": "code",
   "execution_count": 83,
   "id": "8008bda9-cd90-4716-bd5c-11757138bb5b",
   "metadata": {},
   "outputs": [],
   "source": [
    "client_options = {\"api_endpoint\": f\"{REGION}-aiplatform.googleapis.com\"}\n",
    "\n",
    "bigquery = bigquery.Client()"
   ]
  },
  {
   "cell_type": "code",
   "execution_count": 84,
   "id": "b345e2a9-ba13-453d-9522-44468faf2abc",
   "metadata": {},
   "outputs": [],
   "source": [
    "modelName = '02a_202215193614' # '04g_tournament_automl_28'  # '02a_202215193614'\n",
    "request = vertex.ListModelsRequest(parent = PARENT, filter = f\"display_name={modelName}\")"
   ]
  },
  {
   "cell_type": "code",
   "execution_count": 85,
   "id": "0ef462ee-0e8c-4f6a-9db5-2582bfeb9bbe",
   "metadata": {},
   "outputs": [],
   "source": [
    "client_models = vertex.ModelServiceClient(client_options = client_options)\n",
    "models = client_models.list_models(request = request)"
   ]
  },
  {
   "cell_type": "code",
   "execution_count": 86,
   "id": "c7e006ac-04e6-4ec5-a942-06850b02fe1a",
   "metadata": {},
   "outputs": [],
   "source": [
    "for model in models:\n",
    "    model_id = model.name"
   ]
  },
  {
   "cell_type": "code",
   "execution_count": 87,
   "id": "db06148c-098f-4144-9cbd-8d4f9e88eeb0",
   "metadata": {},
   "outputs": [
    {
     "data": {
      "text/plain": [
       "'projects/715288179162/locations/us-central1/models/5979693987659776000'"
      ]
     },
     "execution_count": 87,
     "metadata": {},
     "output_type": "execute_result"
    }
   ],
   "source": [
    "model_id"
   ]
  },
  {
   "cell_type": "code",
   "execution_count": 88,
   "id": "945ec851-b02a-47b3-a12a-5ea74eb37136",
   "metadata": {},
   "outputs": [],
   "source": [
    "gcs_destination = {\"output_uri_prefix\" : URI}\n",
    "output_config = {\n",
    "    \"artifact_destination\" : gcs_destination,\n",
    "    \"export_format_id\" : \"tf-saved-model\"\n",
    "}"
   ]
  },
  {
   "cell_type": "code",
   "execution_count": 90,
   "id": "b21b2cde-0f27-401f-a3ee-d5ce5f058d56",
   "metadata": {},
   "outputs": [],
   "source": [
    "response = client_models.export_model(name = model_id, output_config = output_config)"
   ]
  },
  {
   "cell_type": "code",
   "execution_count": 93,
   "id": "84c09f2e-66f2-4f07-9f08-3f0e8351e841",
   "metadata": {},
   "outputs": [
    {
     "data": {
      "text/plain": []
     },
     "execution_count": 93,
     "metadata": {},
     "output_type": "execute_result"
    }
   ],
   "source": [
    "response.result(timeout = 100)"
   ]
  },
  {
   "cell_type": "code",
   "execution_count": 145,
   "id": "bf1df197-414a-457c-a234-9e611593454e",
   "metadata": {},
   "outputs": [
    {
     "data": {
      "text/plain": [
       "type_url: \"type.googleapis.com/google.cloud.aiplatform.v1.ExportModelOperationMetadata\"\n",
       "value: \"\\n\\034\\022\\014\\010\\225\\230\\334\\222\\006\\020\\370\\331\\237\\210\\003\\032\\014\\010\\234\\230\\334\\222\\006\\020\\260\\261\\302\\301\\001\\022u\\022sgs://statmike-demo3/fraud/automl_export/models/model-5979693987659776000/tf-saved-model/2022-04-13T17:44:53.737907Z\""
      ]
     },
     "execution_count": 145,
     "metadata": {},
     "output_type": "execute_result"
    }
   ],
   "source": [
    "result = response.operation.metadata\n",
    "result"
   ]
  },
  {
   "cell_type": "code",
   "execution_count": 150,
   "id": "ec42957c-4fac-46d5-84a3-8d6149c4ceb7",
   "metadata": {},
   "outputs": [
    {
     "data": {
      "text/plain": [
       "'gs://statmike-demo3/fraud/automl_export/models/model-5979693987659776000/tf-saved-model/2022-04-13T17:44:53.737907Z'"
      ]
     },
     "execution_count": 150,
     "metadata": {},
     "output_type": "execute_result"
    }
   ],
   "source": [
    "str(result.value).split('\\\\')[-1][4:-1]"
   ]
  },
  {
   "cell_type": "code",
   "execution_count": 142,
   "id": "be44648b-2989-43a6-a94e-3a8ec346ad64",
   "metadata": {},
   "outputs": [
    {
     "data": {
      "text/plain": [
       "'projects/715288179162/locations/us-central1/models/5979693987659776000/operations/8238062902284648448'"
      ]
     },
     "execution_count": 142,
     "metadata": {},
     "output_type": "execute_result"
    }
   ],
   "source": [
    "response.operation.name"
   ]
  },
  {
   "cell_type": "code",
   "execution_count": 151,
   "id": "02ee4597-1165-45bb-ac5f-eaad1da43ff3",
   "metadata": {},
   "outputs": [
    {
     "data": {
      "text/plain": [
       "'gs://statmike-demo3/fraud/automl_export/models'"
      ]
     },
     "execution_count": 151,
     "metadata": {},
     "output_type": "execute_result"
    }
   ],
   "source": [
    "URI"
   ]
  },
  {
   "cell_type": "code",
   "execution_count": 156,
   "id": "b8d498e4-87e3-4211-b531-737dab92bbaa",
   "metadata": {},
   "outputs": [
    {
     "data": {
      "text/plain": [
       "'gs://statmike-demo3/fraud/automl_export/models/model-5979693987659776000/tf-saved-model/2022-04-13T17:44:53.737907Z'"
      ]
     },
     "execution_count": 156,
     "metadata": {},
     "output_type": "execute_result"
    }
   ],
   "source": [
    "URI_MODEL = str(result.value).split('\\\\')[-1][4:-1]\n",
    "URI_MODEL"
   ]
  },
  {
   "cell_type": "code",
   "execution_count": 157,
   "id": "fe88c40e-896c-41bf-9ae8-48e51bf9728e",
   "metadata": {},
   "outputs": [
    {
     "name": "stdout",
     "output_type": "stream",
     "text": [
      "'08a - Vertex AI - Pipelines - BQML 02+03.ipynb'  'forecasting master.ipynb'\n",
      "'AutoML to Cloud Run.ipynb'\t\t\t   models\n",
      "'Custom Managed Notebook.ipynb'\t\t\t   pyspark_ml_lr_dataproc.ipynb\n",
      "'Notes - Just Notes.ipynb'\t\t\t   sample_kmeans_data.txt\n",
      "'aa - TFX on Vertex AI - Interactive.ipynb'\t  'sparkml gmm test.ipynb'\n",
      " dataproc_gmm.ipynb\t\t\t\t   temp\n",
      " dataproc_lr.ipynb\n"
     ]
    },
    {
     "name": "stderr",
     "output_type": "stream",
     "text": [
      "E0414 09:56:01.305501086    7868 fork_posix.cc:70]           Fork support is only compatible with the epoll1 and poll polling strategies\n"
     ]
    }
   ],
   "source": [
    "!ls"
   ]
  },
  {
   "cell_type": "code",
   "execution_count": 158,
   "id": "9acca381-c801-42ba-a5e6-3935226f047d",
   "metadata": {},
   "outputs": [
    {
     "name": "stderr",
     "output_type": "stream",
     "text": [
      "E0414 09:56:04.558637516    7868 fork_posix.cc:70]           Fork support is only compatible with the epoll1 and poll polling strategies\n"
     ]
    }
   ],
   "source": [
    "!rm -r models"
   ]
  },
  {
   "cell_type": "code",
   "execution_count": 159,
   "id": "da7951ad-1c3f-4134-9abd-0eed1a499a5b",
   "metadata": {},
   "outputs": [
    {
     "name": "stderr",
     "output_type": "stream",
     "text": [
      "E0414 09:56:56.495273682    7868 fork_posix.cc:70]           Fork support is only compatible with the epoll1 and poll polling strategies\n"
     ]
    },
    {
     "name": "stdout",
     "output_type": "stream",
     "text": [
      "Copying gs://statmike-demo3/fraud/automl_export/models/model-5979693987659776000/tf-saved-model/2022-04-13T17:44:53.737907Z/environment.json...\n",
      "Copying gs://statmike-demo3/fraud/automl_export/models/model-5979693987659776000/tf-saved-model/2022-04-13T17:44:53.737907Z/feature_attributions.yaml...\n",
      "Copying gs://statmike-demo3/fraud/automl_export/models/model-5979693987659776000/tf-saved-model/2022-04-13T17:44:53.737907Z/final_model_structure.pb...\n",
      "Copying gs://statmike-demo3/fraud/automl_export/models/model-5979693987659776000/tf-saved-model/2022-04-13T17:44:53.737907Z/instance.yaml...\n",
      "/ [4 files][  8.4 KiB/  8.4 KiB]                                                \n",
      "==> NOTE: You are performing a sequence of gsutil operations that may\n",
      "run significantly faster if you instead use gsutil -m cp ... Please\n",
      "see the -m section under \"gsutil help options\" for further information\n",
      "about when gsutil -m can be advantageous.\n",
      "\n",
      "Copying gs://statmike-demo3/fraud/automl_export/models/model-5979693987659776000/tf-saved-model/2022-04-13T17:44:53.737907Z/predict/001/assets.extra/tf_serving_warmup_requests...\n",
      "Copying gs://statmike-demo3/fraud/automl_export/models/model-5979693987659776000/tf-saved-model/2022-04-13T17:44:53.737907Z/predict/001/assets/Class_vocab...\n",
      "Copying gs://statmike-demo3/fraud/automl_export/models/model-5979693987659776000/tf-saved-model/2022-04-13T17:44:53.737907Z/predict/001/saved_model.pb...\n",
      "Copying gs://statmike-demo3/fraud/automl_export/models/model-5979693987659776000/tf-saved-model/2022-04-13T17:44:53.737907Z/predict/001/variables/variables.data-00000-of-00001...\n",
      "Copying gs://statmike-demo3/fraud/automl_export/models/model-5979693987659776000/tf-saved-model/2022-04-13T17:44:53.737907Z/predict/001/variables/variables.index...\n",
      "Copying gs://statmike-demo3/fraud/automl_export/models/model-5979693987659776000/tf-saved-model/2022-04-13T17:44:53.737907Z/prediction_schema.yaml...\n",
      "Copying gs://statmike-demo3/fraud/automl_export/models/model-5979693987659776000/tf-saved-model/2022-04-13T17:44:53.737907Z/tables_server_metadata.pb...\n",
      "Copying gs://statmike-demo3/fraud/automl_export/models/model-5979693987659776000/tf-saved-model/2022-04-13T17:44:53.737907Z/transformations.pb...\n",
      "\\ [12 files][ 61.2 MiB/ 61.2 MiB]                                               \n",
      "Operation completed over 12 objects/61.2 MiB.                                    \n"
     ]
    }
   ],
   "source": [
    "!gsutil cp -r {URI_MODEL} ."
   ]
  },
  {
   "cell_type": "code",
   "execution_count": 160,
   "id": "6a741fe9-a9d1-450e-9867-22db4460c6e5",
   "metadata": {},
   "outputs": [
    {
     "name": "stdout",
     "output_type": "stream",
     "text": [
      "'08a - Vertex AI - Pipelines - BQML 02+03.ipynb'   dataproc_lr.ipynb\n",
      " 2022-04-13T17:44:53.737907Z\t\t\t  'forecasting master.ipynb'\n",
      "'AutoML to Cloud Run.ipynb'\t\t\t   pyspark_ml_lr_dataproc.ipynb\n",
      "'Custom Managed Notebook.ipynb'\t\t\t   sample_kmeans_data.txt\n",
      "'Notes - Just Notes.ipynb'\t\t\t  'sparkml gmm test.ipynb'\n",
      "'aa - TFX on Vertex AI - Interactive.ipynb'\t   temp\n",
      " dataproc_gmm.ipynb\n"
     ]
    },
    {
     "name": "stderr",
     "output_type": "stream",
     "text": [
      "E0414 09:57:04.189815472    7868 fork_posix.cc:70]           Fork support is only compatible with the epoll1 and poll polling strategies\n"
     ]
    }
   ],
   "source": [
    "!ls"
   ]
  },
  {
   "cell_type": "code",
   "execution_count": 163,
   "id": "3872a884-73d5-4a35-bfad-c7cc4019c164",
   "metadata": {},
   "outputs": [
    {
     "data": {
      "text/plain": [
       "'2022-04-13T17:44:53.737907Z'"
      ]
     },
     "execution_count": 163,
     "metadata": {},
     "output_type": "execute_result"
    }
   ],
   "source": [
    "ts = URI_MODEL.split(\"/\")[-1]\n",
    "ts"
   ]
  },
  {
   "cell_type": "code",
   "execution_count": 164,
   "id": "9adf5b00-5b37-4125-a7d1-f919f5c0d67f",
   "metadata": {},
   "outputs": [
    {
     "name": "stderr",
     "output_type": "stream",
     "text": [
      "E0414 09:58:26.035975557    7868 fork_posix.cc:70]           Fork support is only compatible with the epoll1 and poll polling strategies\n"
     ]
    }
   ],
   "source": [
    "!mv $ts model"
   ]
  },
  {
   "cell_type": "code",
   "execution_count": 166,
   "id": "ffc04ff2-23d2-48d1-9b5f-127a30efe995",
   "metadata": {},
   "outputs": [
    {
     "name": "stdout",
     "output_type": "stream",
     "text": [
      "'08a - Vertex AI - Pipelines - BQML 02+03.ipynb'  'forecasting master.ipynb'\n",
      "'AutoML to Cloud Run.ipynb'\t\t\t   model\n",
      "'Custom Managed Notebook.ipynb'\t\t\t   pyspark_ml_lr_dataproc.ipynb\n",
      "'Notes - Just Notes.ipynb'\t\t\t   sample_kmeans_data.txt\n",
      "'aa - TFX on Vertex AI - Interactive.ipynb'\t  'sparkml gmm test.ipynb'\n",
      " dataproc_gmm.ipynb\t\t\t\t   temp\n",
      " dataproc_lr.ipynb\n"
     ]
    },
    {
     "name": "stderr",
     "output_type": "stream",
     "text": [
      "E0414 09:58:36.200449198    7868 fork_posix.cc:70]           Fork support is only compatible with the epoll1 and poll polling strategies\n"
     ]
    }
   ],
   "source": [
    "!ls"
   ]
  },
  {
   "cell_type": "code",
   "execution_count": 167,
   "id": "5625b173-250f-4f0b-9702-c3c2def56229",
   "metadata": {},
   "outputs": [
    {
     "name": "stdout",
     "output_type": "stream",
     "text": [
      "environment.json\t   instance.yaml\t   tables_server_metadata.pb\n",
      "feature_attributions.yaml  predict\t\t   transformations.pb\n",
      "final_model_structure.pb   prediction_schema.yaml\n"
     ]
    },
    {
     "name": "stderr",
     "output_type": "stream",
     "text": [
      "E0414 09:58:47.064078712    7868 fork_posix.cc:70]           Fork support is only compatible with the epoll1 and poll polling strategies\n"
     ]
    }
   ],
   "source": [
    "!ls model"
   ]
  },
  {
   "cell_type": "code",
   "execution_count": 170,
   "id": "f8b483a0-752c-4f25-9f75-1238ec36b28b",
   "metadata": {},
   "outputs": [
    {
     "name": "stdout",
     "output_type": "stream",
     "text": [
      "Using default tag: latest\n",
      "latest: Pulling from vertex-ai/automl-tabular/prediction-server-v1\n",
      "Digest: sha256:9d83d303f8d2414c070490d16144ef68e0d8b1385ea067dbe145804087b36e9b\n",
      "Status: Image is up to date for us-docker.pkg.dev/vertex-ai/automl-tabular/prediction-server-v1:latest\n",
      "us-docker.pkg.dev/vertex-ai/automl-tabular/prediction-server-v1:latest\n"
     ]
    },
    {
     "name": "stderr",
     "output_type": "stream",
     "text": [
      "E0414 10:03:06.750039686    7868 fork_posix.cc:70]           Fork support is only compatible with the epoll1 and poll polling strategies\n"
     ]
    }
   ],
   "source": [
    "!docker pull {DOCKER}"
   ]
  },
  {
   "cell_type": "markdown",
   "id": "311b222f-4b32-4e27-8d29-4e0115c0ec70",
   "metadata": {},
   "source": [
    "---"
   ]
  },
  {
   "cell_type": "code",
   "execution_count": 227,
   "id": "60121194-6c9a-4b59-a6ec-1810b211933d",
   "metadata": {},
   "outputs": [
    {
     "data": {
      "text/plain": [
       "'us-docker.pkg.dev/vertex-ai/automl-tabular/prediction-server:20211210_1325_RC00'"
      ]
     },
     "execution_count": 227,
     "metadata": {},
     "output_type": "execute_result"
    }
   ],
   "source": [
    "env = open('model/environment.json')\n",
    "env_data = json.load(env)\n",
    "env_data['container_uri']"
   ]
  },
  {
   "cell_type": "code",
   "execution_count": 228,
   "id": "665d93c6-92f0-47f1-8ac8-a35cb1673699",
   "metadata": {},
   "outputs": [
    {
     "name": "stderr",
     "output_type": "stream",
     "text": [
      "E0414 11:55:02.489696211    7868 fork_posix.cc:70]           Fork support is only compatible with the epoll1 and poll polling strategies\n"
     ]
    },
    {
     "name": "stdout",
     "output_type": "stream",
     "text": [
      "20211210_1325_RC00: Pulling from vertex-ai/automl-tabular/prediction-server\n",
      "Digest: sha256:1cbce3e92fbef4043e8fcf22766abfef841ed5ba30878e7fb8fffc68936e54c7\n",
      "Status: Image is up to date for us-docker.pkg.dev/vertex-ai/automl-tabular/prediction-server:20211210_1325_RC00\n",
      "us-docker.pkg.dev/vertex-ai/automl-tabular/prediction-server:20211210_1325_RC00\n"
     ]
    }
   ],
   "source": [
    "# test environment.json image\n",
    "!docker pull {env_data['container_uri']}"
   ]
  },
  {
   "cell_type": "code",
   "execution_count": 209,
   "id": "8a6b979a-8940-447e-b0c0-3226c25ee0f3",
   "metadata": {},
   "outputs": [
    {
     "name": "stderr",
     "output_type": "stream",
     "text": [
      "E0414 11:29:31.169608053    7868 fork_posix.cc:70]           Fork support is only compatible with the epoll1 and poll polling strategies\n"
     ]
    }
   ],
   "source": [
    "# run old image\n",
    "docker_container_id = ! docker run -d -v `pwd`/model:/models/default -p 8081:8080 -it {env_data['container_uri']}"
   ]
  },
  {
   "cell_type": "markdown",
   "id": "0ab3745f-aa31-4f7d-8c8a-d27ed0222fb3",
   "metadata": {},
   "source": [
    "---"
   ]
  },
  {
   "cell_type": "code",
   "execution_count": 171,
   "id": "9e820967-ae34-40ab-a4c4-ebe509046d8c",
   "metadata": {},
   "outputs": [
    {
     "name": "stderr",
     "output_type": "stream",
     "text": [
      "E0414 10:03:54.476292168    7868 fork_posix.cc:70]           Fork support is only compatible with the epoll1 and poll polling strategies\n"
     ]
    }
   ],
   "source": [
    "docker_container_id = ! docker run -d -v `pwd`/model:/models/default -p 8081:8080 -it {DOCKER}"
   ]
  },
  {
   "cell_type": "markdown",
   "id": "756645e8-7f89-43f3-99a6-066de195808d",
   "metadata": {},
   "source": [
    "---"
   ]
  },
  {
   "cell_type": "markdown",
   "id": "a4cbb90a-6228-42b0-9ef9-7d1941c585a7",
   "metadata": {},
   "source": [
    "empty health check means good"
   ]
  },
  {
   "cell_type": "code",
   "execution_count": 211,
   "id": "cc782fa8-62db-44dd-8c55-ab93d994e341",
   "metadata": {},
   "outputs": [
    {
     "name": "stderr",
     "output_type": "stream",
     "text": [
      "E0414 11:29:47.113749205    7868 fork_posix.cc:70]           Fork support is only compatible with the epoll1 and poll polling strategies\n"
     ]
    }
   ],
   "source": [
    "!curl -X GET http://localhost:8081/health"
   ]
  },
  {
   "cell_type": "code",
   "execution_count": 212,
   "id": "bf943de9-217e-481f-9b6a-5389030d3993",
   "metadata": {},
   "outputs": [
    {
     "name": "stdout",
     "output_type": "stream",
     "text": [
      "CONTAINER ID   IMAGE                                                                             COMMAND                  CREATED          STATUS          PORTS                    NAMES\n",
      "082865c58699   us-docker.pkg.dev/vertex-ai/automl-tabular/prediction-server:20211210_1325_RC00   \"python3 -m google3.…\"   18 seconds ago   Up 12 seconds   0.0.0.0:8081->8080/tcp   laughing_mahavira\n"
     ]
    },
    {
     "name": "stderr",
     "output_type": "stream",
     "text": [
      "E0414 11:29:49.355510840    7868 fork_posix.cc:70]           Fork support is only compatible with the epoll1 and poll polling strategies\n"
     ]
    }
   ],
   "source": [
    "!docker container ls --latest"
   ]
  },
  {
   "cell_type": "code",
   "execution_count": 213,
   "id": "f706ba80-a064-40a5-9431-236721fff72e",
   "metadata": {},
   "outputs": [
    {
     "data": {
      "text/plain": [
       "{'instances': [{'Time': '35271',\n",
       "   'V1': 1.05515950969377,\n",
       "   'V2': -0.0239651057105096,\n",
       "   'V3': 1.57533166546303,\n",
       "   'V4': 2.85974528092561,\n",
       "   'V5': -0.997167571777128,\n",
       "   'V6': 0.561406984887084,\n",
       "   'V7': -0.808138197636819,\n",
       "   'V8': 0.423217410023693,\n",
       "   'V9': 0.41247329364736296,\n",
       "   'V10': 0.596773097767931,\n",
       "   'V11': 0.266905042003122,\n",
       "   'V12': 0.287455425475823,\n",
       "   'V13': -1.74122657483201,\n",
       "   'V14': -0.217416020840106,\n",
       "   'V15': -2.03782438994774,\n",
       "   'V16': 0.237223007701601,\n",
       "   'V17': -0.0874920123721036,\n",
       "   'V18': 0.30262016786209,\n",
       "   'V19': -0.34309649976518297,\n",
       "   'V20': -0.27971192424531,\n",
       "   'V21': 0.0685928085837315,\n",
       "   'V22': 0.449717577749804,\n",
       "   'V23': -0.0978070799273023,\n",
       "   'V24': 0.5504948912296079,\n",
       "   'V25': 0.509526617338925,\n",
       "   'V26': 0.187886484081211,\n",
       "   'V27': 0.0354154015648864,\n",
       "   'V28': 0.0156355109900566,\n",
       "   'Amount': 0.0}]}"
      ]
     },
     "execution_count": 213,
     "metadata": {},
     "output_type": "execute_result"
    }
   ],
   "source": [
    "pred = bigquery.query(query = f\"SELECT * FROM {DATANAME}.{DATANAME}_prepped WHERE splits='TEST' LIMIT 10\").to_dataframe()\n",
    "newob = pred[pred.columns[~pred.columns.isin(['Class','transaction_id', 'splits'])]].to_dict(orient='records')[0]\n",
    "newob['Time'] = str(newob['Time'])\n",
    "newob = {'instances': [newob]}\n",
    "newob"
   ]
  },
  {
   "cell_type": "code",
   "execution_count": 214,
   "id": "84c9b5c2-e349-418d-aba0-1dd223fbee41",
   "metadata": {},
   "outputs": [],
   "source": [
    "import json\n",
    "with open(f'{DIR}/request.json', 'w') as f:\n",
    "    data = json.dumps(newob)\n",
    "    f.write(data)"
   ]
  },
  {
   "cell_type": "code",
   "execution_count": 218,
   "id": "e702e0a4-de36-4844-a186-b10d9a8a4a88",
   "metadata": {},
   "outputs": [
    {
     "name": "stdout",
     "output_type": "stream",
     "text": [
      "{\"predictions\": [{\"classes\": [\"0\", \"1\"], \"scores\": [0.9177474975585938, 0.08225249499082565]}]}"
     ]
    },
    {
     "name": "stderr",
     "output_type": "stream",
     "text": [
      "E0414 11:50:06.189549124    7868 fork_posix.cc:70]           Fork support is only compatible with the epoll1 and poll polling strategies\n"
     ]
    }
   ],
   "source": [
    "!curl -X POST --data @{DIR}/request.json http://localhost:8081/predict"
   ]
  },
  {
   "cell_type": "code",
   "execution_count": 219,
   "id": "0f5524e9-fab6-4dbc-a0db-d9adf7e1b7c3",
   "metadata": {},
   "outputs": [
    {
     "data": {
      "text/plain": [
       "['082865c5869980fa753389c04b1a4caae610a9312d2715751cd0e2b691531848']"
      ]
     },
     "execution_count": 219,
     "metadata": {},
     "output_type": "execute_result"
    }
   ],
   "source": [
    "docker_container_id"
   ]
  },
  {
   "cell_type": "code",
   "execution_count": 220,
   "id": "75b2f82d-b00f-4d46-8f75-ec94ae82c354",
   "metadata": {},
   "outputs": [
    {
     "name": "stdout",
     "output_type": "stream",
     "text": [
      "CONTAINER ID   IMAGE                                                                             COMMAND                  CREATED          STATUS          PORTS                    NAMES\n",
      "082865c58699   us-docker.pkg.dev/vertex-ai/automl-tabular/prediction-server:20211210_1325_RC00   \"python3 -m google3.…\"   21 minutes ago   Up 20 minutes   0.0.0.0:8081->8080/tcp   laughing_mahavira\n",
      "3c99c43d5344   gcr.io/inverting-proxy/agent                                                      \"/bin/sh -c '/opt/bi…\"   2 weeks ago      Up 2 weeks                               proxy-agent\n"
     ]
    },
    {
     "name": "stderr",
     "output_type": "stream",
     "text": [
      "E0414 11:50:33.547059923    7868 fork_posix.cc:70]           Fork support is only compatible with the epoll1 and poll polling strategies\n"
     ]
    }
   ],
   "source": [
    "!docker container ls"
   ]
  },
  {
   "cell_type": "code",
   "execution_count": 221,
   "id": "d1e6e612-f9d0-4797-b398-fbb02a611fba",
   "metadata": {},
   "outputs": [
    {
     "data": {
      "text/plain": [
       "'082865c58699'"
      ]
     },
     "execution_count": 221,
     "metadata": {},
     "output_type": "execute_result"
    }
   ],
   "source": [
    "docker_container_id[0][0:12]"
   ]
  },
  {
   "cell_type": "code",
   "execution_count": 222,
   "id": "5198df97-3276-4239-937e-66184ca37800",
   "metadata": {},
   "outputs": [
    {
     "name": "stderr",
     "output_type": "stream",
     "text": [
      "E0414 11:50:43.650495772    7868 fork_posix.cc:70]           Fork support is only compatible with the epoll1 and poll polling strategies\n"
     ]
    },
    {
     "name": "stdout",
     "output_type": "stream",
     "text": [
      "082865c58699\n"
     ]
    }
   ],
   "source": [
    "!docker kill {docker_container_id[0][0:12]}"
   ]
  },
  {
   "cell_type": "code",
   "execution_count": 223,
   "id": "a0a62143-edc2-4853-b18a-2fef4fa813b1",
   "metadata": {},
   "outputs": [
    {
     "name": "stdout",
     "output_type": "stream",
     "text": [
      "CONTAINER ID   IMAGE                          COMMAND                  CREATED       STATUS       PORTS     NAMES\n",
      "3c99c43d5344   gcr.io/inverting-proxy/agent   \"/bin/sh -c '/opt/bi…\"   2 weeks ago   Up 2 weeks             proxy-agent\n"
     ]
    },
    {
     "name": "stderr",
     "output_type": "stream",
     "text": [
      "E0414 11:50:45.698976669    7868 fork_posix.cc:70]           Fork support is only compatible with the epoll1 and poll polling strategies\n"
     ]
    }
   ],
   "source": [
    "!docker container ls"
   ]
  },
  {
   "cell_type": "code",
   "execution_count": null,
   "id": "4d2bd745-0908-47fd-af88-71c8106963d2",
   "metadata": {},
   "outputs": [],
   "source": []
  }
 ],
 "metadata": {
  "environment": {
   "kernel": "python3",
   "name": "tf2-gpu.2-3.m91",
   "type": "gcloud",
   "uri": "gcr.io/deeplearning-platform-release/tf2-gpu.2-3:m91"
  },
  "kernelspec": {
   "display_name": "Python 3",
   "language": "python",
   "name": "python3"
  },
  "language_info": {
   "codemirror_mode": {
    "name": "ipython",
    "version": 3
   },
   "file_extension": ".py",
   "mimetype": "text/x-python",
   "name": "python",
   "nbconvert_exporter": "python",
   "pygments_lexer": "ipython3",
   "version": "3.7.12"
  }
 },
 "nbformat": 4,
 "nbformat_minor": 5
}
